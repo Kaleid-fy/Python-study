{
 "cells": [
  {
   "cell_type": "markdown",
   "metadata": {
    "collapsed": true
   },
   "source": [
    "NetworkX使用手册:https://blog.csdn.net/qq_31192383/article/details/53748129\n",
    "\n",
    "http://blog.sciencenet.cn/blog-404069-337511.html"
   ]
  },
  {
   "cell_type": "code",
   "execution_count": 1,
   "metadata": {
    "collapsed": true
   },
   "outputs": [],
   "source": [
    "import os\n",
    "import networkx as nx\n",
    "import matplotlib.pyplot as plt"
   ]
  },
  {
   "cell_type": "markdown",
   "metadata": {},
   "source": [
    "无权重图"
   ]
  },
  {
   "cell_type": "code",
   "execution_count": 48,
   "metadata": {},
   "outputs": [
    {
     "data": {
      "image/png": "[encoded data removed]",
      "text/plain": [
       "<matplotlib.figure.Figure at 0x27fa9840f98>"
      ]
     },
     "metadata": {},
     "output_type": "display_data"
    }
   ],
   "source": [
    "G = nx.Graph()\n",
    "G.add_edges_from([(1,2),(1,3),(1,4)])\n",
    "G.add_node(\"spam\")\n",
    "G.add_node(\"alone\")\n",
    "nx.draw(G,with_labels=True)\n",
    "plt.show()"
   ]
  },
  {
   "cell_type": "code",
   "execution_count": 63,
   "metadata": {},
   "outputs": [
    {
     "name": "stdout",
     "output_type": "stream",
     "text": [
      "相互连接的节点有 [{1, 2, 3, 4}, {'spam'}, {'alone'}]\n",
      "节点的个数为 6\n",
      "边的条数为 3\n",
      "图中有这些节点 [1, 2, 3, 4, 'spam', 'alone']\n",
      "图中有这些边 [(1, 2), (1, 3), (1, 4)]\n",
      "节点1的邻居节点为 [2, 3, 4]\n",
      "各节点的度为 [(1, 3), (2, 1), (3, 1), (4, 1), ('spam', 0), ('alone', 0)]\n",
      "节点1的度为 3\n",
      "节点alone的度为 0\n"
     ]
    }
   ],
   "source": [
    "print(\"相互连接的节点有\",list(nx.connected_components(G)))\n",
    "print(\"节点的个数为\",G.number_of_nodes())\n",
    "print(\"边的条数为\",G.number_of_edges())\n",
    "print(\"图中有这些节点\",G.nodes())\n",
    "print(\"图中有这些边\",G.edges())\n",
    "print(\"节点1的邻居节点为\",list(G.neighbors(1)))\n",
    "print(\"各节点的度为\",list(nx.degree(G)) )\n",
    "print(\"节点1的度为\",nx.degree(G)[1])\n",
    "print(\"节点alone的度为\",nx.degree(G)['alone'])"
   ]
  },
  {
   "cell_type": "code",
   "execution_count": 60,
   "metadata": {},
   "outputs": [
    {
     "data": {
      "text/plain": [
       "[(1, 3), (2, 1), (3, 1), (4, 1), ('spam', 0), ('alone', 0)]"
      ]
     },
     "execution_count": 60,
     "metadata": {},
     "output_type": "execute_result"
    }
   ],
   "source": []
  },
  {
   "cell_type": "markdown",
   "metadata": {},
   "source": [
    "有权重图"
   ]
  },
  {
   "cell_type": "code",
   "execution_count": 26,
   "metadata": {},
   "outputs": [
    {
     "data": {
      "image/png": "[encoded data removed]",
      "text/plain": [
       "<matplotlib.figure.Figure at 0x27fa9784ba8>"
      ]
     },
     "metadata": {},
     "output_type": "display_data"
    }
   ],
   "source": [
    "G = nx.Graph()\n",
    "G.add_weighted_edges_from([(1,2,0.5),(1,3,0.1),(1,4,0.2)])\n",
    "G.add_node(\"spam\")\n",
    "G.add_node(\"alone\")\n",
    "nx.draw(G,with_labels=True)\n",
    "plt.show()"
   ]
  },
  {
   "cell_type": "code",
   "execution_count": 36,
   "metadata": {},
   "outputs": [
    {
     "name": "stdout",
     "output_type": "stream",
     "text": [
      "相互连接的节点有 [{1, 2, 3, 4}, {'spam'}, {'alone'}]\n",
      "节点的个数为 6\n",
      "边的条数为 3\n",
      "图中有这些节点 [1, 2, 3, 4, 'spam', 'alone']\n",
      "图中有这些边 [(1, 2), (1, 3), (1, 4)]\n",
      "节点1的邻居节点为 [2, 3, 4]\n",
      "节点1与邻居节点的具体情况为 {2: {'weight': 0.5}, 3: {'weight': 0.1}, 4: {'weight': 0.2}}\n"
     ]
    }
   ],
   "source": [
    "print(\"相互连接的节点有\",list(nx.connected_components(G)))\n",
    "print(\"节点的个数为\",G.number_of_nodes())\n",
    "print(\"边的条数为\",G.number_of_edges())\n",
    "print(\"图中有这些节点\",G.nodes())\n",
    "print(\"图中有这些边\",G.edges())\n",
    "print(\"节点1的邻居节点为\",list(G.neighbors(1)))\n",
    "print(\"节点1与邻居节点的具体情况为\",G.adj[1])"
   ]
  },
  {
   "cell_type": "code",
   "execution_count": 38,
   "metadata": {},
   "outputs": [
    {
     "name": "stdout",
     "output_type": "stream",
     "text": [
      "1 3 0.100\n",
      "1 4 0.200\n",
      "3 1 0.100\n",
      "4 1 0.200\n"
     ]
    }
   ],
   "source": [
    "for n,nbrs in G.adjacency():\n",
    "    for nbr,eattr in nbrs.items():\n",
    "        data = eattr['weight']\n",
    "        if data < 0.5:\n",
    "            print (\"%d %d %.3f\" % ( n,nbr,data))"
   ]
  },
  {
   "cell_type": "code",
   "execution_count": null,
   "metadata": {},
   "outputs": [],
   "source": []
  },
  {
   "cell_type": "code",
   "execution_count": 2,
   "metadata": {},
   "outputs": [
    {
     "name": "stdout",
     "output_type": "stream",
     "text": [
      "['facebook_combined.txt']\n"
     ]
    }
   ],
   "source": [
    "os.chdir(r'F:\\00\\研一\\非结构化数据\\孙怡帆\\facebook_combined.txt') \n",
    "print(os.listdir())\n",
    "G = nx.read_edgelist('facebook_combined.txt', nodetype=int)"
   ]
  },
  {
   "cell_type": "markdown",
   "metadata": {
    "collapsed": true
   },
   "source": [
    "查看当前图的基本情况"
   ]
  },
  {
   "cell_type": "code",
   "execution_count": null,
   "metadata": {
    "collapsed": true
   },
   "outputs": [],
   "source": []
  },
  {
   "cell_type": "code",
   "execution_count": null,
   "metadata": {
    "collapsed": true
   },
   "outputs": [],
   "source": []
  },
  {
   "cell_type": "code",
   "execution_count": null,
   "metadata": {
    "collapsed": true
   },
   "outputs": [],
   "source": []
  },
  {
   "cell_type": "code",
   "execution_count": null,
   "metadata": {
    "collapsed": true
   },
   "outputs": [],
   "source": []
  },
  {
   "cell_type": "code",
   "execution_count": null,
   "metadata": {
    "collapsed": true
   },
   "outputs": [],
   "source": []
  },
  {
   "cell_type": "code",
   "execution_count": null,
   "metadata": {
    "collapsed": true
   },
   "outputs": [],
   "source": []
  },
  {
   "cell_type": "code",
   "execution_count": null,
   "metadata": {
    "collapsed": true
   },
   "outputs": [],
   "source": []
  },
  {
   "cell_type": "code",
   "execution_count": null,
   "metadata": {
    "collapsed": true
   },
   "outputs": [],
   "source": []
  }
 ],
 "metadata": {
  "kernelspec": {
   "display_name": "Python 3",
   "language": "python",
   "name": "python3"
  },
  "language_info": {
   "codemirror_mode": {
    "name": "ipython",
    "version": 3
   },
   "file_extension": ".py",
   "mimetype": "text/x-python",
   "name": "python",
   "nbconvert_exporter": "python",
   "pygments_lexer": "ipython3",
   "version": "3.6.3"
  }
 },
 "nbformat": 4,
 "nbformat_minor": 2
}
