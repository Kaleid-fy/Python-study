{
 "cells": [
  {
   "cell_type": "code",
   "execution_count": 1,
   "metadata": {
    "collapsed": true
   },
   "outputs": [],
   "source": [
    "import sys\n",
    "import matplotlib.pyplot as plt\n",
    "import networkx as nx"
   ]
  },
  {
   "cell_type": "code",
   "execution_count": 2,
   "metadata": {},
   "outputs": [
    {
     "name": "stdout",
     "output_type": "stream",
     "text": [
      "#C:\\Users\\dell\\Anaconda3\\lib\\site-packages\\ipykernel_launcher.py -f C:\\Users\\dell\\AppData\\Roaming\\jupyter\\runtime\\kernel-00422228-cf89-4c5f-b5d7-c554735dd810.json\n",
      "# GMT Wed May  9 06:15:43 2018\n",
      "# \n",
      "(0, 0) (1, 0) (0, 1)\n",
      "(0, 1) (1, 1) (0, 2)\n",
      "(0, 2) (1, 2) (0, 3)\n",
      "(0, 3) (1, 3) (0, 4)\n",
      "(0, 4) (1, 4)\n",
      "(1, 0) (2, 0) (1, 1)\n",
      "(1, 1) (2, 1) (1, 2)\n",
      "(1, 2) (2, 2) (1, 3)\n",
      "(1, 3) (2, 3) (1, 4)\n",
      "(1, 4) (2, 4)\n",
      "(2, 0) (3, 0) (2, 1)\n",
      "(2, 1) (3, 1) (2, 2)\n",
      "(2, 2) (3, 2) (2, 3)\n",
      "(2, 3) (3, 3) (2, 4)\n",
      "(2, 4) (3, 4)\n",
      "(3, 0) (4, 0) (3, 1)\n",
      "(3, 1) (4, 1) (3, 2)\n",
      "(3, 2) (4, 2) (3, 3)\n",
      "(3, 3) (4, 3) (3, 4)\n",
      "(3, 4) (4, 4)\n",
      "(4, 0) (4, 1)\n",
      "(4, 1) (4, 2)\n",
      "(4, 2) (4, 3)\n",
      "(4, 3) (4, 4)\n",
      "(4, 4)\n"
     ]
    },
    {
     "data": {
      "image/png": "[encoded data removed]",
      "text/plain": [
       "<matplotlib.figure.Figure at 0x24158b3af98>"
      ]
     },
     "metadata": {},
     "output_type": "display_data"
    }
   ],
   "source": [
    "G = nx.grid_2d_graph(5, 5)  # 5x5 grid\n",
    "try:  # Python 2.6+\n",
    "    nx.write_adjlist(G, sys.stdout)  # write adjacency list to screen\n",
    "except TypeError:  # Python 3.x\n",
    "    nx.write_adjlist(G, sys.stdout.buffer)  # write adjacency list to screen\n",
    "# write edgelist to grid.edgelist\n",
    "nx. write_edgelist(G, path=\"grid.edgelist\", delimiter=\":\")\n",
    "# read edgelist from grid.edgelist\n",
    "H = nx.read_edgelist(path=\"grid.edgelist\", delimiter=\":\")\n",
    "\n",
    "nx.draw(H)\n",
    "plt.show()"
   ]
  },
  {
   "cell_type": "code",
   "execution_count": null,
   "metadata": {
    "collapsed": true
   },
   "outputs": [],
   "source": []
  },
  {
   "cell_type": "code",
   "execution_count": null,
   "metadata": {
    "collapsed": true
   },
   "outputs": [],
   "source": []
  },
  {
   "cell_type": "code",
   "execution_count": null,
   "metadata": {
    "collapsed": true
   },
   "outputs": [],
   "source": []
  },
  {
   "cell_type": "code",
   "execution_count": null,
   "metadata": {
    "collapsed": true
   },
   "outputs": [],
   "source": []
  },
  {
   "cell_type": "code",
   "execution_count": null,
   "metadata": {
    "collapsed": true
   },
   "outputs": [],
   "source": []
  },
  {
   "cell_type": "code",
   "execution_count": null,
   "metadata": {
    "collapsed": true
   },
   "outputs": [],
   "source": []
  },
  {
   "cell_type": "code",
   "execution_count": null,
   "metadata": {
    "collapsed": true
   },
   "outputs": [],
   "source": []
  },
  {
   "cell_type": "code",
   "execution_count": null,
   "metadata": {
    "collapsed": true
   },
   "outputs": [],
   "source": []
  },
  {
   "cell_type": "code",
   "execution_count": null,
   "metadata": {
    "collapsed": true
   },
   "outputs": [],
   "source": []
  }
 ],
 "metadata": {
  "kernelspec": {
   "display_name": "Python 3",
   "language": "python",
   "name": "python3"
  },
  "language_info": {
   "codemirror_mode": {
    "name": "ipython",
    "version": 3
   },
   "file_extension": ".py",
   "mimetype": "text/x-python",
   "name": "python",
   "nbconvert_exporter": "python",
   "pygments_lexer": "ipython3",
   "version": "3.6.3"
  }
 },
 "nbformat": 4,
 "nbformat_minor": 2
}
