{
 "cells": [
  {
   "cell_type": "markdown",
   "metadata": {},
   "source": [
    "# 爬取投资人数据"
   ]
  },
  {
   "cell_type": "code",
   "execution_count": null,
   "metadata": {
    "collapsed": true
   },
   "outputs": [],
   "source": [
    "browser = webdriver.Firefox()\n",
    "browser.maximize_window()\n",
    "\n",
    "browser.get('https://passport.36kr.com/pages/?ok_url=https%3A%2F%2Frong.36kr.com%2Forg%2Flist%26%3Fpage%3D3#/login')\n",
    "time.sleep(20)   # 可能由于网速问题，网页没有完全加载出来，所以后续可能会报‘没有找到元素’的错误\n",
    "# print(browser.page_source)\n",
    "account = browser.find_element_by_id('kr-shield-username')\n",
    "account.send_keys('13260280335')\n",
    "password = browser.find_element_by_id('kr-shield-password')\n",
    "password.send_keys('7254xzh136')\n",
    "elem=browser.find_element_by_id(\"kr-shield-submit\")\n",
    "elem.click()\n",
    "time.sleep(10)\n",
    "inv_page = browser.find_element_by_xpath(\"//span[contains(text(),'创业项目')]\").click()\n",
    "time.sleep(2)\n",
    "inv_page = browser.find_element_by_xpath(\"//span[contains(text(),'投资机构')]\").click()\n",
    "time.sleep(10)\n",
    "\n",
    "# 改变浏览器句柄，回到当前页面\n",
    "windows = browser.window_handles\n",
    "browser.switch_to.window(windows[-1])\n",
    "time.sleep(3)\n",
    "\n",
    "\n"
   ]
  },
  {
   "cell_type": "code",
   "execution_count": null,
   "metadata": {
    "collapsed": true
   },
   "outputs": [],
   "source": [
    "# 爬虫和selenium方式下拉滚动条获取简书作者目录并且生成Markdown格式目录\n",
    "# https://www.cnblogs.com/carol2000/p/6737355.html\n",
    "\n",
    "# 拉到底部\n",
    "def scroll_foot(driver):\n",
    "    if driver.name == \"chrome\": \n",
    "        js = \"var q=document.body.scrollTop=100000\"        \n",
    "    else:\n",
    "        js = \"var q=document.documentElement.scrollTop=100000\"\n",
    "    return driver.execute_script(js)\n",
    "\n",
    "def sroll_multi(driver,times=1000,loopsleep=2):\n",
    "    #40 titles about 3 times\n",
    "    for i in range(times):\n",
    "        time.sleep(loopsleep)\n",
    "        print(\"Scroll foot %s time...\" % i)\n",
    "        scroll_foot(driver)\n",
    "    time.sleep(loopsleep)"
   ]
  },
  {
   "cell_type": "code",
   "execution_count": null,
   "metadata": {
    "collapsed": true
   },
   "outputs": [],
   "source": [
    "sroll_multi(browser)"
   ]
  },
  {
   "cell_type": "code",
   "execution_count": null,
   "metadata": {
    "collapsed": true
   },
   "outputs": [],
   "source": [
    "from bs4 import BeautifulSoup\n",
    "soup = BeautifulSoup(browser.page_source, 'html.parser')"
   ]
  },
  {
   "cell_type": "code",
   "execution_count": null,
   "metadata": {
    "collapsed": true
   },
   "outputs": [],
   "source": [
    "len(soup.select('.company-name'))\n",
    "soup.select('.company-name')"
   ]
  },
  {
   "cell_type": "code",
   "execution_count": null,
   "metadata": {
    "collapsed": true
   },
   "outputs": [],
   "source": [
    "for tabb in  soup.findAll('table'):\n",
    "    for trr in tabb.findAll('tr'):\n",
    "        print('=============')\n",
    "        for tdd in trr.findAll('td')[0:4]:\n",
    "            print(tdd.text)"
   ]
  },
  {
   "cell_type": "code",
   "execution_count": null,
   "metadata": {
    "collapsed": true
   },
   "outputs": [],
   "source": [
    "text = str(browser.page_source.encode('utf-8'))\n",
    "f1 = open('page_source.txt','w')\n",
    "f1.write(text)\n",
    "f1.close()"
   ]
  },
  {
   "cell_type": "code",
   "execution_count": null,
   "metadata": {
    "collapsed": true
   },
   "outputs": [],
   "source": []
  }
 ],
 "metadata": {
  "kernelspec": {
   "display_name": "Python 3",
   "language": "python",
   "name": "python3"
  },
  "language_info": {
   "codemirror_mode": {
    "name": "ipython",
    "version": 3
   },
   "file_extension": ".py",
   "mimetype": "text/x-python",
   "name": "python",
   "nbconvert_exporter": "python",
   "pygments_lexer": "ipython3",
   "version": "3.6.3"
  }
 },
 "nbformat": 4,
 "nbformat_minor": 2
}
