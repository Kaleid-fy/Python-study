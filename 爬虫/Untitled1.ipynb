{
 "cells": [
  {
   "cell_type": "code",
   "execution_count": 1,
   "metadata": {
    "collapsed": true
   },
   "outputs": [],
   "source": [
    "import requests\n",
    "res = requests.get('http://roll.news.sina.com.cn/interface/rollnews_ch_out_interface.php?col=89&spec=&type=&ch=01&k=&offset_page=0&offset_num=0&num=60&asc=&page=1&r=0.12477385291262777')"
   ]
  },
  {
   "cell_type": "code",
   "execution_count": 19,
   "metadata": {
    "collapsed": true
   },
   "outputs": [],
   "source": [
    "res.encoding='gbk' #将乱码变成中文编码"
   ]
  },
  {
   "cell_type": "code",
   "execution_count": null,
   "metadata": {
    "collapsed": true
   },
   "outputs": [],
   "source": []
  },
  {
   "cell_type": "code",
   "execution_count": 68,
   "metadata": {
    "collapsed": true
   },
   "outputs": [],
   "source": [
    "jd = jd[166:len(jd)]"
   ]
  },
  {
   "cell_type": "code",
   "execution_count": 62,
   "metadata": {
    "collapsed": true
   },
   "outputs": [],
   "source": [
    "import json\n",
    "jd = res.text.lstrip('var jsonData = ').rstrip(';')"
   ]
  },
  {
   "cell_type": "code",
   "execution_count": 105,
   "metadata": {},
   "outputs": [
    {
     "name": "stdout",
     "output_type": "stream",
     "text": [
      "list:[{channel:{title:\"体育\",id:\"94\",cType:\"col\",url:\"\"},title:\"足协加强青训体系建设严厉打击经纪人违规行为\",url:\"http://sports.sina.com.cn/china/j/2017-12-22/doc-ifypvuqe9977212.shtml\",type:'1',pic:'',time:1513911218},{channel:{title:\"体育\",id:\"94\",cType:\"col\",url:\"\"},title:\"美巡凯业必达赛球星云集老米拉姆等构成强大阵容\",url:\"http://sports.sina.com.cn/golf/pgatour/2017-12-22/doc-ifypxrpp3312721.shtml\",type:'1',pic:'',time:1513911178},{channel:{title:\"体育\",id:\"94\",cType:\"col\",url:\"\"},title:\"詹皇又要做全美直播?这次联盟不同意他这么干\",url:\"http://sports.sina.com.cn/basketball/nba/2017-12-22/doc-ifypxrpp3312446.shtml\",type:'1',pic:'',time:1513911110},{channel:{title:\"体育\",id:\"94\",cType:\"col\",url:\"\"},title:\"2017中国-东盟国际汽车拉力赛抵达柬埔寨\",url:\"http://sports.sina.com.cn/motorracing/internf/qt/2017-12-22/doc-ifypvuqe9959699.shtml\",type:'1',pic:'',time:1513910967},{channel:{title:\"体育\",id:\"94\",cType:\"col\",url:\"\"},title:\"巴托丽：我的年龄不算太大无法与小克相提并论\",url:\"http://sports.sina.com.cn/tennis/wta/2017-12-22/doc-ifypxrpp3311651.shtml\",type:'1',pic:'',time:1513910901},{channel:{title:\"体育\",id:\"94\",cType:\"col\",url:\"\"},title:\"告别佛系发胖老阿姨！5个动作打造S型曲线\",url:\"http://sports.sina.com.cn/others/fitness/2017-12-22/doc-ifypvuqe9954483.shtml\",type:'1',pic:'',time:1513910890},{channel:{title:\"体育\",id:\"94\",cType:\"col\",url:\"\"},title:\"辽粤战郭士强再次提篮板赵继伟腹泻已康复\",url:\"http://sports.sina.com.cn/cba/2017-12-22/doc-ifypvuqe9953673.shtml\",type:'1',pic:'',time:1513910864},{channel:{title:\"财经\",id:\"97\",cType:\"col\",url:\"\"},title:\"李良策:黄金慢牛推涨现货黄金走势分析\",url:\"http://finance.sina.com.cn/money/forex/forexfxyc/2017-12-22/doc-ifypvuqe9953618.shtml\",type:'1',pic:'',time:1513910863},{channel:{title:\"体育\",id:\"94\",cType:\"col\",url:\"\"},title:\"足协将加大处罚罚款力度继续实施引援调节费\",url:\"http://sports.sina.com.cn/china/j/2017-12-22/doc-ifypvuqe9952964.shtml\",type:'1',pic:'',time:1513910847},{channel:{title:\"体育\",id:\"94\",cType:\"col\",url:\"\"},title:\"曼城续约丁丁合同曝光1000万签字费+47万周薪\",url:\"http://sports.sina.com.cn/g/pl/2017-12-22/doc-ifypxrpp3311410.shtml\",type:'1',pic:'',time:1513910837},{channel:{title:\"体育\",id:\"94\",cType:\"col\",url:\"\"},title:\"被威少耽误?最火新星不这么看他学到最重要的\",url:\"http://sports.sina.com.cn/basketball/nba/2017-12-22/doc-ifypvuqe9952217.shtml\",type:'1',pic:'',time:1513910832},{channel:{title:\"体育\",id:\"94\",cType:\"col\",url:\"\"},title:\"最神秘定律遭柯洁打破冠军也求过他“毒奶”对手\",url:\"http://sports.sina.com.cn/go/2017-12-22/doc-ifypxrpp3311275.shtml\",type:'1',pic:'',time:1513910806},{channel:{title:\"科技\",id:\"96\",cType:\"col\",url:\"\"},title:\"百合佳缘与玖富设立合资公司进军婚恋金融\",url:\"http://tech.sina.com.cn/i/2017-12-22/doc-ifypxrpp3311224.shtml\",type:'1',pic:'',time:1513910793},{channel:{title:\"国内\",id:\"90\",cType:\"col\",url:\"\"},title:\"英烈保护法草案：侮辱诽谤英烈构成犯罪追究刑责\",url:\"http://news.sina.com.cn/o/2017-12-22/doc-ifypwzxq5280259.shtml\",type:'1',pic:'',time:1513910761},{channel:{title:\"体育\",id:\"94\",cType:\"col\",url:\"\"},title:\"骚到爆!韦德超乔丹成历史最强这样戏耍老队友\",url:\"http://sports.sina.com.cn/basketball/nba/2017-12-22/doc-ifypvuqe9938457.shtml\",type:'1',pic:'',time:1513910645},{channel:{title:\"财经\",id:\"97\",cType:\"col\",url:\"\"},title:\"GTHFX金钻集团:美政府暂无停摆忧虑澳洲前景向好\",url:\"http://finance.sina.com.cn/money/forex/forexfxyc/2017-12-22/doc-ifypxrpp3310547.shtml\",type:'1',pic:'',time:1513910622},{channel:{title:\"体育\",id:\"94\",cType:\"col\",url:\"\"},title:\"足协:用3年逐渐实现俱乐部名称中性化和非企业化\",url:\"http://sports.sina.com.cn/china/j/2017-12-22/doc-ifypxrpp3310457.shtml\",type:'1',pic:'',time:1513910606},{channel:{title:\"体育\",id:\"94\",cType:\"col\",url:\"\"},title:\"劳达：梅赛德斯选择博塔斯是正确的\",url:\"http://sports.sina.com.cn/motorracing/f1/newsall/2017-12-22/doc-ifypxrpp3310136.shtml\",type:'1',pic:'',time:1513910530},{channel:{title:\"国际\",id:\"91\",cType:\"col\",url:\"\"},title:\"古巴领导人卡斯特罗将卸任其家人继任可能性小\",url:\"http://news.sina.com.cn/w/sy/2017-12-22/doc-ifypwzxq5278708.shtml\",type:'1',pic:'',time:1513910489},{channel:{title:\"国内\",id:\"90\",cType:\"col\",url:\"\"},title:\"今年最后一次人大常委会会议28项议程你关注哪个\",url:\"http://news.sina.com.cn/c/nd/2017-12-22/doc-ifypxrpp3309632.shtml\",type:'1',pic:'',time:1513910392},{channel:{title:\"股市\",id:\"98\",cType:\"col\",url:\"\"},title:\"大摩：中国消费者不怕价格高对iPhoneX热情高涨\",url:\"http://tech.sina.com.cn/t/2017-12-22/doc-ifypxrpp3309593.shtml\",type:'1',pic:'',time:1513910381},{channel:{title:\"财经\",id:\"97\",cType:\"col\",url:\"\"},title:\"牛汇:15家国际顶级机构最新市场点评一览\",url:\"http://finance.sina.com.cn/money/forex/forexfxyc/2017-12-22/doc-ifypxrpp3309442.shtml\",type:'1',pic:'',time:1513910348},{channel:{title:\"体育\",id:\"94\",cType:\"col\",url:\"\"},title:\"饮食+运动可瘦腰？这25个方法让你练就小蛮腰\",url:\"http://sports.sina.com.cn/others/fitness/2017-12-22/doc-ifypvuqe9919431.shtml\",type:'1',pic:'',time:1513910328},{channel:{title:\"体育\",id:\"94\",cType:\"col\",url:\"\"},title:\"双枪齐爆发德罗赞43分猛龙22分大逆转克76人\",url:\"http://sports.sina.com.cn/basketball/nba/2017-12-22/doc-ifypxrpp3309294.shtml\",type:'1',pic:'',time:1513910320},{channel:{title:\"财经\",id:\"97\",cType:\"col\",url:\"\"},title:\"A8新媒体12月21日回购488万股耗资221万港币\",url:\"http://finance.sina.com.cn/stock/hkstock/ggscyd/2017-12-22/doc-ifypxrpp3309154.shtml\",type:'1',pic:'',time:1513910281},{channel:{title:\"科技\",id:\"96\",cType:\"col\",url:\"\"},title:\"《科学》评选2017年度科学突破：观测到双中子星合并\",url:\"http://tech.sina.com.cn/d/i/2017-12-22/doc-ifypxrpp3309150.shtml\",type:'1',pic:'',time:1513910280},{channel:{title:\"军事\",id:\"93\",cType:\"col\",url:\"\"},title:\"官媒：2017中国南海岛礁面积明显扩大新增29万平米\",url:\"http://mil.news.sina.com.cn/jssd/2017-12-22/doc-ifypxrpp3309079.shtml\",type:'1',pic:'',time:1513910258},{channel:{title:\"财经\",id:\"97\",cType:\"col\",url:\"\"},title:\"华地国际控股12月21日回购50万股耗资89万港币\",url:\"http://finance.sina.com.cn/stock/hkstock/ggscyd/2017-12-22/doc-ifypvuqe9914236.shtml\",type:'1',pic:'',time:1513910238},{channel:{title:\"国内\",id:\"90\",cType:\"col\",url:\"\"},title:\"人民陪审员法一审：选任学历降至高中\",url:\"http://news.sina.com.cn/c/2017-12-22/doc-ifypwzxq5276268.shtml\",type:'1',pic:'',time:1513910200},{channel:{title:\"体育\",id:\"94\",cType:\"col\",url:\"\"},title:\"海南国象公开赛赛程过半温阳等三人领跑A组\",url:\"http://sports.sina.com.cn/go/2017-12-22/doc-ifypvuqe9911905.shtml\",type:'1',pic:'',time:1513910199},{channel:{title:\"财经\",id:\"97\",cType:\"col\",url:\"\"},title:\"网龙12月21日回购35万股耗资701万港币\",url:\"http://finance.sina.com.cn/stock/hkstock/ggscyd/2017-12-22/doc-ifypxrpp3308819.shtml\",type:'1',pic:'',time:1513910195},{channel:{title:\"财经\",id:\"97\",cType:\"col\",url:\"\"},title:\"博雅互动12月21日回购10万股耗资33万港币\",url:\"http://finance.sina.com.cn/stock/hkstock/ggscyd/2017-12-22/doc-ifypvuqe9908821.shtml\",type:'1',pic:'',time:1513910155},{channel:{title:\"美股\",id:\"99\",cType:\"col\",url:\"\"},title:\"比特币价格持续下挫逼近14000美元关口\",url:\"http://finance.sina.com.cn/stock/usstock/c/2017-12-22/doc-ifypvuqe9908072.shtml\",type:'1',pic:'',time:1513910138},{channel:{title:\"财经\",id:\"97\",cType:\"col\",url:\"\"},title:\"思捷环球12月21日回购20万股耗资87万港币\",url:\"http://finance.sina.com.cn/stock/hkstock/ggscyd/2017-12-22/doc-ifypxrpp3308497.shtml\",type:'1',pic:'',time:1513910115},{channel:{title:\"财经\",id:\"97\",cType:\"col\",url:\"\"},title:\"彩星集团12月21日回购34万股耗资36万港币\",url:\"http://finance.sina.com.cn/stock/hkstock/ggscyd/2017-12-22/doc-ifypvuqe9904214.shtml\",type:'1',pic:'',time:1513910078},{channel:{title:\"国内\",id:\"90\",cType:\"col\",url:\"\"},title:\"王炳忠“搜索票”缺法官签名新党律师:这也可以?\",url:\"http://news.sina.com.cn/c/2017-12-22/doc-ifypwzxq5275457.shtml\",type:'1',pic:'',time:1513910067},{channel:{title:\"财经\",id:\"97\",cType:\"col\",url:\"\"},title:\"新鸿基公司12月21日回购0.1万股耗资0.488万…\",url:\"http://finance.sina.com.cn/stock/hkstock/ggscyd/2017-12-22/doc-ifypxrpp3308092.shtml\",type:'1',pic:'',time:1513910030},{channel:{title:\"体育\",id:\"94\",cType:\"col\",url:\"\"},title:\"飞讯-富力加入博阿基耶争夺战土超队欲签迪亚涅\",url:\"http://sports.sina.com.cn/china/j/2017-12-22/doc-ifypxrpp3308015.shtml\",type:'1',pic:'',time:1513910011},{channel:{title:\"体育\",id:\"94\",cType:\"col\",url:\"\"},title:\"下棋的工作互不干涉赵宗辕打比赛一举多得\",url:\"http://sports.sina.com.cn/go/2017-12-22/doc-ifypxrpp3307903.shtml\",type:'1',pic:'',time:1513909995},{channel:{title:\"财经\",id:\"97\",cType:\"col\",url:\"\"},title:\"金鹰商贸集团12月21日回购1万股耗资12万港币\",url:\"http://finance.sina.com.cn/stock/hkstock/ggscyd/2017-12-22/doc-ifypxrpp3307818.shtml\",type:'1',pic:'',time:1513909981},{channel:{title:\"财经\",id:\"97\",cType:\"col\",url:\"\"},title:\"同方泰德12月21日回购10万股耗资23万港币\",url:\"http://finance.sina.com.cn/stock/hkstock/ggscyd/2017-12-22/doc-ifypxrpp3307436.shtml\",type:'1',pic:'',time:1513909887},{channel:{title:\"体育\",id:\"94\",cType:\"col\",url:\"\"},title:\"18赛季中超全面引进视频裁判中甲实行底线裁判\",url:\"http://sports.sina.com.cn/china/j/2017-12-22/doc-ifypxrpp3307419.shtml\",type:'1',pic:'',time:1513909880},{channel:{title:\"国内\",id:\"90\",cType:\"col\",url:\"\"},title:\"监察法草案二审：监察委副主任由本级人大任免\",url:\"http://news.sina.com.cn/o/2017-12-22/doc-ifypwzxq5272995.shtml\",type:'1',pic:'',time:1513909874},{channel:{title:\"体育\",id:\"94\",cType:\"col\",url:\"\"},title:\"34分!无解詹姆斯掌控第4节各种碾压打哭对手\",url:\"http://sports.sina.com.cn/basketball/nba/2017-12-22/doc-ifypxrpp3307365.shtml\",type:'1',pic:'',time:1513909863},{channel:{title:\"财经\",id:\"97\",cType:\"col\",url:\"\"},title:\"沪港联合12月21日回购4万股耗资3万港币\",url:\"http://finance.sina.com.cn/stock/hkstock/ggscyd/2017-12-22/doc-ifypxrpp3307291.shtml\",type:'1',pic:'',time:1513909848},{channel:{title:\"科技\",id:\"96\",cType:\"col\",url:\"\"},title:\"工信部：到2025年民用无人机产值达到1800亿元\",url:\"http://tech.sina.com.cn/it/2017-12-22/doc-ifypxrpp3307177.shtml\",type:'1',pic:'',time:1513909827},{channel:{title:\"财经\",id:\"97\",cType:\"col\",url:\"\"},title:\"彩星玩具12月21日回购57万股耗资67万港币\",url:\"http://finance.sina.com.cn/stock/hkstock/ggscyd/2017-12-22/doc-ifypvuqe9884481.shtml\",type:'1',pic:'',time:1513909807},{channel:{title:\"科技\",id:\"96\",cType:\"col\",url:\"\"},title:\"美国税改法案利好苹果但海外专利所得将受不利影响\",url:\"http://tech.sina.com.cn/it/2017-12-22/doc-ifypvuqe9882109.shtml\",type:'1',pic:'',time:1513909772},{channel:{title:\"科技\",id:\"96\",cType:\"col\",url:\"\"},title:\"支付宝微信在公共领域“对战”为何都盯上了交通？\",url:\"http://tech.sina.com.cn/i/2017-12-22/doc-ifypxrpp3306939.shtml\",type:'1',pic:'',time:1513909763},{channel:{title:\"财经\",id:\"97\",cType:\"col\",url:\"\"},title:\"英皇证券：留意个股盈喜晨讯科技拟派特别息\",url:\"http://finance.sina.com.cn/stock/hkstock/marketalerts/2017-12-22/doc-ifypxrpp3306871.shtml\",type:'1',pic:'',time:1513909720},{channel:{title:\"社会\",id:\"92\",cType:\"col\",url:\"\"},title:\"男子走路看手机摔落4米高墙:四肢瘫痪无法大小便\",url:\"http://news.sina.com.cn/s/wh/2017-12-22/doc-ifypvuqe9874846.shtml\",type:'1',pic:'',time:1513909675},{channel:{title:\"财经\",id:\"97\",cType:\"col\",url:\"\"},title:\"耀才证券植耀辉:美股小幅反弹港股假期料变化不大\",url:\"http://finance.sina.com.cn/stock/hkstock/marketalerts/2017-12-22/doc-ifypvuqe9874678.shtml\",type:'1',pic:'',time:1513909672},{channel:{title:\"财经\",id:\"97\",cType:\"col\",url:\"\"},title:\"贵人资本:料港股近期高位盘整可留意零售\",url:\"http://finance.sina.com.cn/stock/hkstock/marketalerts/2017-12-22/doc-ifypvuqe9869824.shtml\",type:'1',pic:'',time:1513909600},{channel:{title:\"国内\",id:\"90\",cType:\"col\",url:\"\"},title:\"环保部:长江经济带饮用水水源地483个问题已整治\",url:\"http://news.sina.com.cn/o/2017-12-22/doc-ifypxmsq9248959.shtml\",type:'1',pic:'',time:1513909587},{channel:{title:\"体育\",id:\"94\",cType:\"col\",url:\"\"},title:\"里卡多：红牛很可能是2018F1世界冠军的夺冠大热\",url:\"http://sports.sina.com.cn/motorracing/f1/newsall/2017-12-22/doc-ifypxrpp3306640.shtml\",type:'1',pic:'',time:1513909578},{channel:{title:\"财经\",id:\"97\",cType:\"col\",url:\"\"},title:\"耀才证券陈伟聪﹕恒指有望上试29600点\",url:\"http://finance.sina.com.cn/stock/hkstock/marketalerts/2017-12-22/doc-ifypxrpp3306515.shtml\",type:'1',pic:'',time:1513909546},{channel:{title:\"体育\",id:\"94\",cType:\"col\",url:\"\"},title:\"53球！C罗梅西开辟新战场谁才是2017射手王\",url:\"http://sports.sina.com.cn/g/laliga/2017-12-22/doc-ifypvuqe9864351.shtml\",type:'1',pic:'',time:1513909526},{channel:{title:\"财经\",id:\"97\",cType:\"col\",url:\"\"},title:\"苹果期货上市首日行情火爆涨幅超5%\",url:\"http://finance.sina.com.cn/money/future/fmnews/2017-12-22/doc-ifypvuqe9863312.shtml\",type:'1',pic:'',time:1513909514},{channel:{title:\"财经\",id:\"97\",cType:\"col\",url:\"\"},title:\"AETOS艾拓思:宏观数据抢镜加元强势上涨\",url:\"http://finance.sina.com.cn/money/forex/forexfxyc/2017-12-22/doc-ifypxrpp3306311.shtml\",type:'1',pic:'',time:1513909509},{channel:{title:\"国际\",id:\"91\",cType:\"col\",url:\"\"},title:\"普京发布竞选“开幕词”：俄想重当世界领导者\",url:\"http://news.sina.com.cn/o/2017-12-22/doc-ifypxmsq9247990.shtml\",type:'1',pic:'',time:1513909509}]}\n"
     ]
    }
   ],
   "source": [
    "jd = jd.replace(\"\\t\",'').replace(\"\\n\",\"\").replace(\" \",\"\")#去除换行和tab\n",
    "print(jd)"
   ]
  },
  {
   "cell_type": "code",
   "execution_count": 109,
   "metadata": {},
   "outputs": [
    {
     "data": {
      "text/plain": [
       "'{\"channel\":{\"title\":\"体育\",\"id\":\"94\",\"cType\":\"col\",\"url\":\"\"},\"title\":\"足协加强青训体系建设严厉打击经纪人违规行为\",\"url\":\"http://sports.sina.com.cn/china/j/2017-12-22/doc-ifypvuqe9977212.shtml\",\"type\":\\'1\\',\"pic\":\\'\\',\"time\":1513911218},{\"channel\":{\"title\":\"体育\",\"id\":\"94\",\"cType\":\"col\",\"url\":\"\"},\"title\":\"美巡凯业必达赛球星云集老米拉姆等构成强大阵容\",\"url\":\"http://sports.sina.com.cn/golf/pgatour/2017-12-22/doc-ifypxrpp3312721.shtml\",\"type\":\\'1\\',\"pic\":\\'\\',\"time\":1513911178},{\"channel\":{\"title\":\"体育\",\"id\":\"94\",\"cType\":\"col\",\"url\":\"\"},\"title\":\"詹皇又要做全美直播?这次联盟不同意他这么干\",\"url\":\"http://sports.sina.com.cn/basketball/nba/2017-12-22/doc-ifypxrpp3312446.shtml\",\"type\":\\'1\\',\"pic\":\\'\\',\"time\":1513911110},{\"channel\":{\"title\":\"体育\",\"id\":\"94\",\"cType\":\"col\",\"url\":\"\"},\"title\":\"2017中国-东盟国际汽车拉力赛抵达柬埔寨\",\"url\":\"http://sports.sina.com.cn/motorracing/internf/qt/2017-12-22/doc-ifypvuqe9959699.shtml\",\"type\":\\'1\\',\"pic\":\\'\\',\"time\":1513910967},{\"channel\":{\"title\":\"体育\",\"id\":\"94\",\"cType\":\"col\",\"url\":\"\"},\"title\":\"巴托丽：我的年龄不算太大无法与小克相提并论\",\"url\":\"http://sports.sina.com.cn/tennis/wta/2017-12-22/doc-ifypxrpp3311651.shtml\",\"type\":\\'1\\',\"pic\":\\'\\',\"time\":1513910901},{\"channel\":{\"title\":\"体育\",\"id\":\"94\",\"cType\":\"col\",\"url\":\"\"},\"title\":\"告别佛系发胖老阿姨！5个动作打造S型曲线\",\"url\":\"http://sports.sina.com.cn/others/fitness/2017-12-22/doc-ifypvuqe9954483.shtml\",\"type\":\\'1\\',\"pic\":\\'\\',\"time\":1513910890},{\"channel\":{\"title\":\"体育\",\"id\":\"94\",\"cType\":\"col\",\"url\":\"\"},\"title\":\"辽粤战郭士强再次提篮板赵继伟腹泻已康复\",\"url\":\"http://sports.sina.com.cn/cba/2017-12-22/doc-ifypvuqe9953673.shtml\",\"type\":\\'1\\',\"pic\":\\'\\',\"time\":1513910864},{\"channel\":{\"title\":\"财经\",\"id\":\"97\",\"cType\":\"col\",\"url\":\"\"},\"title\":\"李良策:黄金慢牛推涨现货黄金走势分析\",\"url\":\"http://finance.sina.com.cn/money/forex/forexfxyc/2017-12-22/doc-ifypvuqe9953618.shtml\",\"type\":\\'1\\',\"pic\":\\'\\',\"time\":1513910863},{\"channel\":{\"title\":\"体育\",\"id\":\"94\",\"cType\":\"col\",\"url\":\"\"},\"title\":\"足协将加大处罚罚款力度继续实施引援调节费\",\"url\":\"http://sports.sina.com.cn/china/j/2017-12-22/doc-ifypvuqe9952964.shtml\",\"type\":\\'1\\',\"pic\":\\'\\',\"time\":1513910847},{\"channel\":{\"title\":\"体育\",\"id\":\"94\",\"cType\":\"col\",\"url\":\"\"},\"title\":\"曼城续约丁丁合同曝光1000万签字费+47万周薪\",\"url\":\"http://sports.sina.com.cn/g/pl/2017-12-22/doc-ifypxrpp3311410.shtml\",\"type\":\\'1\\',\"pic\":\\'\\',\"time\":1513910837},{\"channel\":{\"title\":\"体育\",\"id\":\"94\",\"cType\":\"col\",\"url\":\"\"},\"title\":\"被威少耽误?最火新星不这么看他学到最重要的\",\"url\":\"http://sports.sina.com.cn/basketball/nba/2017-12-22/doc-ifypvuqe9952217.shtml\",\"type\":\\'1\\',\"pic\":\\'\\',\"time\":1513910832},{\"channel\":{\"title\":\"体育\",\"id\":\"94\",\"cType\":\"col\",\"url\":\"\"},\"title\":\"最神秘定律遭柯洁打破冠军也求过他“毒奶”对手\",\"url\":\"http://sports.sina.com.cn/go/2017-12-22/doc-ifypxrpp3311275.shtml\",\"type\":\\'1\\',\"pic\":\\'\\',\"time\":1513910806},{\"channel\":{\"title\":\"科技\",\"id\":\"96\",\"cType\":\"col\",\"url\":\"\"},\"title\":\"百合佳缘与玖富设立合资公司进军婚恋金融\",\"url\":\"http://tech.sina.com.cn/i/2017-12-22/doc-ifypxrpp3311224.shtml\",\"type\":\\'1\\',\"pic\":\\'\\',\"time\":1513910793},{\"channel\":{\"title\":\"国内\",\"id\":\"90\",\"cType\":\"col\",\"url\":\"\"},\"title\":\"英烈保护法草案：侮辱诽谤英烈构成犯罪追究刑责\",\"url\":\"http://news.sina.com.cn/o/2017-12-22/doc-ifypwzxq5280259.shtml\",\"type\":\\'1\\',\"pic\":\\'\\',\"time\":1513910761},{\"channel\":{\"title\":\"体育\",\"id\":\"94\",\"cType\":\"col\",\"url\":\"\"},\"title\":\"骚到爆!韦德超乔丹成历史最强这样戏耍老队友\",\"url\":\"http://sports.sina.com.cn/basketball/nba/2017-12-22/doc-ifypvuqe9938457.shtml\",\"type\":\\'1\\',\"pic\":\\'\\',\"time\":1513910645},{\"channel\":{\"title\":\"财经\",\"id\":\"97\",\"cType\":\"col\",\"url\":\"\"},\"title\":\"GTHFX金钻集团:美政府暂无停摆忧虑澳洲前景向好\",\"url\":\"http://finance.sina.com.cn/money/forex/forexfxyc/2017-12-22/doc-ifypxrpp3310547.shtml\",\"type\":\\'1\\',\"pic\":\\'\\',\"time\":1513910622},{\"channel\":{\"title\":\"体育\",\"id\":\"94\",\"cType\":\"col\",\"url\":\"\"},\"title\":\"足协:用3年逐渐实现俱乐部名称中性化和非企业化\",\"url\":\"http://sports.sina.com.cn/china/j/2017-12-22/doc-ifypxrpp3310457.shtml\",\"type\":\\'1\\',\"pic\":\\'\\',\"time\":1513910606},{\"channel\":{\"title\":\"体育\",\"id\":\"94\",\"cType\":\"col\",\"url\":\"\"},\"title\":\"劳达：梅赛德斯选择博塔斯是正确的\",\"url\":\"http://sports.sina.com.cn/motorracing/f1/newsall/2017-12-22/doc-ifypxrpp3310136.shtml\",\"type\":\\'1\\',\"pic\":\\'\\',\"time\":1513910530},{\"channel\":{\"title\":\"国际\",\"id\":\"91\",\"cType\":\"col\",\"url\":\"\"},\"title\":\"古巴领导人卡斯特罗将卸任其家人继任可能性小\",\"url\":\"http://news.sina.com.cn/w/sy/2017-12-22/doc-ifypwzxq5278708.shtml\",\"type\":\\'1\\',\"pic\":\\'\\',\"time\":1513910489},{\"channel\":{\"title\":\"国内\",\"id\":\"90\",\"cType\":\"col\",\"url\":\"\"},\"title\":\"今年最后一次人大常委会会议28项议程你关注哪个\",\"url\":\"http://news.sina.com.cn/c/nd/2017-12-22/doc-ifypxrpp3309632.shtml\",\"type\":\\'1\\',\"pic\":\\'\\',\"time\":1513910392},{\"channel\":{\"title\":\"股市\",\"id\":\"98\",\"cType\":\"col\",\"url\":\"\"},\"title\":\"大摩：中国消费者不怕价格高对iPhoneX热情高涨\",\"url\":\"http://tech.sina.com.cn/t/2017-12-22/doc-ifypxrpp3309593.shtml\",\"type\":\\'1\\',\"pic\":\\'\\',\"time\":1513910381},{\"channel\":{\"title\":\"财经\",\"id\":\"97\",\"cType\":\"col\",\"url\":\"\"},\"title\":\"牛汇:15家国际顶级机构最新市场点评一览\",\"url\":\"http://finance.sina.com.cn/money/forex/forexfxyc/2017-12-22/doc-ifypxrpp3309442.shtml\",\"type\":\\'1\\',\"pic\":\\'\\',\"time\":1513910348},{\"channel\":{\"title\":\"体育\",\"id\":\"94\",\"cType\":\"col\",\"url\":\"\"},\"title\":\"饮食+运动可瘦腰？这25个方法让你练就小蛮腰\",\"url\":\"http://sports.sina.com.cn/others/fitness/2017-12-22/doc-ifypvuqe9919431.shtml\",\"type\":\\'1\\',\"pic\":\\'\\',\"time\":1513910328},{\"channel\":{\"title\":\"体育\",\"id\":\"94\",\"cType\":\"col\",\"url\":\"\"},\"title\":\"双枪齐爆发德罗赞43分猛龙22分大逆转克76人\",\"url\":\"http://sports.sina.com.cn/basketball/nba/2017-12-22/doc-ifypxrpp3309294.shtml\",\"type\":\\'1\\',\"pic\":\\'\\',\"time\":1513910320},{\"channel\":{\"title\":\"财经\",\"id\":\"97\",\"cType\":\"col\",\"url\":\"\"},\"title\":\"A8新媒体12月21日回购488万股耗资221万港币\",\"url\":\"http://finance.sina.com.cn/stock/hkstock/ggscyd/2017-12-22/doc-ifypxrpp3309154.shtml\",\"type\":\\'1\\',\"pic\":\\'\\',\"time\":1513910281},{\"channel\":{\"title\":\"科技\",\"id\":\"96\",\"cType\":\"col\",\"url\":\"\"},\"title\":\"《科学》评选2017年度科学突破：观测到双中子星合并\",\"url\":\"http://tech.sina.com.cn/d/i/2017-12-22/doc-ifypxrpp3309150.shtml\",\"type\":\\'1\\',\"pic\":\\'\\',\"time\":1513910280},{\"channel\":{\"title\":\"军事\",\"id\":\"93\",\"cType\":\"col\",\"url\":\"\"},\"title\":\"官媒：2017中国南海岛礁面积明显扩大新增29万平米\",\"url\":\"http://mil.news.sina.com.cn/jssd/2017-12-22/doc-ifypxrpp3309079.shtml\",\"type\":\\'1\\',\"pic\":\\'\\',\"time\":1513910258},{\"channel\":{\"title\":\"财经\",\"id\":\"97\",\"cType\":\"col\",\"url\":\"\"},\"title\":\"华地国际控股12月21日回购50万股耗资89万港币\",\"url\":\"http://finance.sina.com.cn/stock/hkstock/ggscyd/2017-12-22/doc-ifypvuqe9914236.shtml\",\"type\":\\'1\\',\"pic\":\\'\\',\"time\":1513910238},{\"channel\":{\"title\":\"国内\",\"id\":\"90\",\"cType\":\"col\",\"url\":\"\"},\"title\":\"人民陪审员法一审：选任学历降至高中\",\"url\":\"http://news.sina.com.cn/c/2017-12-22/doc-ifypwzxq5276268.shtml\",\"type\":\\'1\\',\"pic\":\\'\\',\"time\":1513910200},{\"channel\":{\"title\":\"体育\",\"id\":\"94\",\"cType\":\"col\",\"url\":\"\"},\"title\":\"海南国象公开赛赛程过半温阳等三人领跑A组\",\"url\":\"http://sports.sina.com.cn/go/2017-12-22/doc-ifypvuqe9911905.shtml\",\"type\":\\'1\\',\"pic\":\\'\\',\"time\":1513910199},{\"channel\":{\"title\":\"财经\",\"id\":\"97\",\"cType\":\"col\",\"url\":\"\"},\"title\":\"网龙12月21日回购35万股耗资701万港币\",\"url\":\"http://finance.sina.com.cn/stock/hkstock/ggscyd/2017-12-22/doc-ifypxrpp3308819.shtml\",\"type\":\\'1\\',\"pic\":\\'\\',\"time\":1513910195},{\"channel\":{\"title\":\"财经\",\"id\":\"97\",\"cType\":\"col\",\"url\":\"\"},\"title\":\"博雅互动12月21日回购10万股耗资33万港币\",\"url\":\"http://finance.sina.com.cn/stock/hkstock/ggscyd/2017-12-22/doc-ifypvuqe9908821.shtml\",\"type\":\\'1\\',\"pic\":\\'\\',\"time\":1513910155},{\"channel\":{\"title\":\"美股\",\"id\":\"99\",\"cType\":\"col\",\"url\":\"\"},\"title\":\"比特币价格持续下挫逼近14000美元关口\",\"url\":\"http://finance.sina.com.cn/stock/usstock/c/2017-12-22/doc-ifypvuqe9908072.shtml\",\"type\":\\'1\\',\"pic\":\\'\\',\"time\":1513910138},{\"channel\":{\"title\":\"财经\",\"id\":\"97\",\"cType\":\"col\",\"url\":\"\"},\"title\":\"思捷环球12月21日回购20万股耗资87万港币\",\"url\":\"http://finance.sina.com.cn/stock/hkstock/ggscyd/2017-12-22/doc-ifypxrpp3308497.shtml\",\"type\":\\'1\\',\"pic\":\\'\\',\"time\":1513910115},{\"channel\":{\"title\":\"财经\",\"id\":\"97\",\"cType\":\"col\",\"url\":\"\"},\"title\":\"彩星集团12月21日回购34万股耗资36万港币\",\"url\":\"http://finance.sina.com.cn/stock/hkstock/ggscyd/2017-12-22/doc-ifypvuqe9904214.shtml\",\"type\":\\'1\\',\"pic\":\\'\\',\"time\":1513910078},{\"channel\":{\"title\":\"国内\",\"id\":\"90\",\"cType\":\"col\",\"url\":\"\"},\"title\":\"王炳忠“搜索票”缺法官签名新党律师:这也可以?\",\"url\":\"http://news.sina.com.cn/c/2017-12-22/doc-ifypwzxq5275457.shtml\",\"type\":\\'1\\',\"pic\":\\'\\',\"time\":1513910067},{\"channel\":{\"title\":\"财经\",\"id\":\"97\",\"cType\":\"col\",\"url\":\"\"},\"title\":\"新鸿基公司12月21日回购0.1万股耗资0.488万…\",\"url\":\"http://finance.sina.com.cn/stock/hkstock/ggscyd/2017-12-22/doc-ifypxrpp3308092.shtml\",\"type\":\\'1\\',\"pic\":\\'\\',\"time\":1513910030},{\"channel\":{\"title\":\"体育\",\"id\":\"94\",\"cType\":\"col\",\"url\":\"\"},\"title\":\"飞讯-富力加入博阿基耶争夺战土超队欲签迪亚涅\",\"url\":\"http://sports.sina.com.cn/china/j/2017-12-22/doc-ifypxrpp3308015.shtml\",\"type\":\\'1\\',\"pic\":\\'\\',\"time\":1513910011},{\"channel\":{\"title\":\"体育\",\"id\":\"94\",\"cType\":\"col\",\"url\":\"\"},\"title\":\"下棋的工作互不干涉赵宗辕打比赛一举多得\",\"url\":\"http://sports.sina.com.cn/go/2017-12-22/doc-ifypxrpp3307903.shtml\",\"type\":\\'1\\',\"pic\":\\'\\',\"time\":1513909995},{\"channel\":{\"title\":\"财经\",\"id\":\"97\",\"cType\":\"col\",\"url\":\"\"},\"title\":\"金鹰商贸集团12月21日回购1万股耗资12万港币\",\"url\":\"http://finance.sina.com.cn/stock/hkstock/ggscyd/2017-12-22/doc-ifypxrpp3307818.shtml\",\"type\":\\'1\\',\"pic\":\\'\\',\"time\":1513909981},{\"channel\":{\"title\":\"财经\",\"id\":\"97\",\"cType\":\"col\",\"url\":\"\"},\"title\":\"同方泰德12月21日回购10万股耗资23万港币\",\"url\":\"http://finance.sina.com.cn/stock/hkstock/ggscyd/2017-12-22/doc-ifypxrpp3307436.shtml\",\"type\":\\'1\\',\"pic\":\\'\\',\"time\":1513909887},{\"channel\":{\"title\":\"体育\",\"id\":\"94\",\"cType\":\"col\",\"url\":\"\"},\"title\":\"18赛季中超全面引进视频裁判中甲实行底线裁判\",\"url\":\"http://sports.sina.com.cn/china/j/2017-12-22/doc-ifypxrpp3307419.shtml\",\"type\":\\'1\\',\"pic\":\\'\\',\"time\":1513909880},{\"channel\":{\"title\":\"国内\",\"id\":\"90\",\"cType\":\"col\",\"url\":\"\"},\"title\":\"监察法草案二审：监察委副主任由本级人大任免\",\"url\":\"http://news.sina.com.cn/o/2017-12-22/doc-ifypwzxq5272995.shtml\",\"type\":\\'1\\',\"pic\":\\'\\',\"time\":1513909874},{\"channel\":{\"title\":\"体育\",\"id\":\"94\",\"cType\":\"col\",\"url\":\"\"},\"title\":\"34分!无解詹姆斯掌控第4节各种碾压打哭对手\",\"url\":\"http://sports.sina.com.cn/basketball/nba/2017-12-22/doc-ifypxrpp3307365.shtml\",\"type\":\\'1\\',\"pic\":\\'\\',\"time\":1513909863},{\"channel\":{\"title\":\"财经\",\"id\":\"97\",\"cType\":\"col\",\"url\":\"\"},\"title\":\"沪港联合12月21日回购4万股耗资3万港币\",\"url\":\"http://finance.sina.com.cn/stock/hkstock/ggscyd/2017-12-22/doc-ifypxrpp3307291.shtml\",\"type\":\\'1\\',\"pic\":\\'\\',\"time\":1513909848},{\"channel\":{\"title\":\"科技\",\"id\":\"96\",\"cType\":\"col\",\"url\":\"\"},\"title\":\"工信部：到2025年民用无人机产值达到1800亿元\",\"url\":\"http://tech.sina.com.cn/it/2017-12-22/doc-ifypxrpp3307177.shtml\",\"type\":\\'1\\',\"pic\":\\'\\',\"time\":1513909827},{\"channel\":{\"title\":\"财经\",\"id\":\"97\",\"cType\":\"col\",\"url\":\"\"},\"title\":\"彩星玩具12月21日回购57万股耗资67万港币\",\"url\":\"http://finance.sina.com.cn/stock/hkstock/ggscyd/2017-12-22/doc-ifypvuqe9884481.shtml\",\"type\":\\'1\\',\"pic\":\\'\\',\"time\":1513909807},{\"channel\":{\"title\":\"科技\",\"id\":\"96\",\"cType\":\"col\",\"url\":\"\"},\"title\":\"美国税改法案利好苹果但海外专利所得将受不利影响\",\"url\":\"http://tech.sina.com.cn/it/2017-12-22/doc-ifypvuqe9882109.shtml\",\"type\":\\'1\\',\"pic\":\\'\\',\"time\":1513909772},{\"channel\":{\"title\":\"科技\",\"id\":\"96\",\"cType\":\"col\",\"url\":\"\"},\"title\":\"支付宝微信在公共领域“对战”为何都盯上了交通？\",\"url\":\"http://tech.sina.com.cn/i/2017-12-22/doc-ifypxrpp3306939.shtml\",\"type\":\\'1\\',\"pic\":\\'\\',\"time\":1513909763},{\"channel\":{\"title\":\"财经\",\"id\":\"97\",\"cType\":\"col\",\"url\":\"\"},\"title\":\"英皇证券：留意个股盈喜晨讯科技拟派特别息\",\"url\":\"http://finance.sina.com.cn/stock/hkstock/marketalerts/2017-12-22/doc-ifypxrpp3306871.shtml\",\"type\":\\'1\\',\"pic\":\\'\\',\"time\":1513909720},{\"channel\":{\"title\":\"社会\",\"id\":\"92\",\"cType\":\"col\",\"url\":\"\"},\"title\":\"男子走路看手机摔落4米高墙:四肢瘫痪无法大小便\",\"url\":\"http://news.sina.com.cn/s/wh/2017-12-22/doc-ifypvuqe9874846.shtml\",\"type\":\\'1\\',\"pic\":\\'\\',\"time\":1513909675},{\"channel\":{\"title\":\"财经\",\"id\":\"97\",\"cType\":\"col\",\"url\":\"\"},\"title\":\"耀才证券植耀辉:美股小幅反弹港股假期料变化不大\",\"url\":\"http://finance.sina.com.cn/stock/hkstock/marketalerts/2017-12-22/doc-ifypvuqe9874678.shtml\",\"type\":\\'1\\',\"pic\":\\'\\',\"time\":1513909672},{\"channel\":{\"title\":\"财经\",\"id\":\"97\",\"cType\":\"col\",\"url\":\"\"},\"title\":\"贵人资本:料港股近期高位盘整可留意零售\",\"url\":\"http://finance.sina.com.cn/stock/hkstock/marketalerts/2017-12-22/doc-ifypvuqe9869824.shtml\",\"type\":\\'1\\',\"pic\":\\'\\',\"time\":1513909600},{\"channel\":{\"title\":\"国内\",\"id\":\"90\",\"cType\":\"col\",\"url\":\"\"},\"title\":\"环保部:长江经济带饮用水水源地483个问题已整治\",\"url\":\"http://news.sina.com.cn/o/2017-12-22/doc-ifypxmsq9248959.shtml\",\"type\":\\'1\\',\"pic\":\\'\\',\"time\":1513909587},{\"channel\":{\"title\":\"体育\",\"id\":\"94\",\"cType\":\"col\",\"url\":\"\"},\"title\":\"里卡多：红牛很可能是2018F1世界冠军的夺冠大热\",\"url\":\"http://sports.sina.com.cn/motorracing/f1/newsall/2017-12-22/doc-ifypxrpp3306640.shtml\",\"type\":\\'1\\',\"pic\":\\'\\',\"time\":1513909578},{\"channel\":{\"title\":\"财经\",\"id\":\"97\",\"cType\":\"col\",\"url\":\"\"},\"title\":\"耀才证券陈伟聪﹕恒指有望上试29600点\",\"url\":\"http://finance.sina.com.cn/stock/hkstock/marketalerts/2017-12-22/doc-ifypxrpp3306515.shtml\",\"type\":\\'1\\',\"pic\":\\'\\',\"time\":1513909546},{\"channel\":{\"title\":\"体育\",\"id\":\"94\",\"cType\":\"col\",\"url\":\"\"},\"title\":\"53球！C罗梅西开辟新战场谁才是2017射手王\",\"url\":\"http://sports.sina.com.cn/g/laliga/2017-12-22/doc-ifypvuqe9864351.shtml\",\"type\":\\'1\\',\"pic\":\\'\\',\"time\":1513909526},{\"channel\":{\"title\":\"财经\",\"id\":\"97\",\"cType\":\"col\",\"url\":\"\"},\"title\":\"苹果期货上市首日行情火爆涨幅超5%\",\"url\":\"http://finance.sina.com.cn/money/future/fmnews/2017-12-22/doc-ifypvuqe9863312.shtml\",\"type\":\\'1\\',\"pic\":\\'\\',\"time\":1513909514},{\"channel\":{\"title\":\"财经\",\"id\":\"97\",\"cType\":\"col\",\"url\":\"\"},\"title\":\"AETOS艾拓思:宏观数据抢镜加元强势上涨\",\"url\":\"http://finance.sina.com.cn/money/forex/forexfxyc/2017-12-22/doc-ifypxrpp3306311.shtml\",\"type\":\\'1\\',\"pic\":\\'\\',\"time\":1513909509},{\"channel\":{\"title\":\"国际\",\"id\":\"91\",\"cType\":\"col\",\"url\":\"\"},\"title\":\"普京发布竞选“开幕词”：俄想重当世界领导者\",\"url\":\"http://news.sina.com.cn/o/2017-12-22/doc-ifypxmsq9247990.shtml\",\"type\":\\'1\\',\"pic\":\\'\\',\"time\":1513909509}}}'"
      ]
     },
     "execution_count": 109,
     "metadata": {},
     "output_type": "execute_result"
    }
   ],
   "source": [
    "import re\n",
    "s = re.sub('([{,])([^{:\\s\"]*):', lambda m: '%s\"%s\":'%(m.group(1),m.group(2)),jd)\n",
    "s = s.lstrip('list:[').rstrip(']}')\n",
    "s = s+'}}}'\n",
    "s"
   ]
  },
  {
   "cell_type": "code",
   "execution_count": 108,
   "metadata": {},
   "outputs": [
    {
     "ename": "JSONDecodeError",
     "evalue": "Expecting value: line 1 column 178 (char 177)",
     "output_type": "error",
     "traceback": [
      "\u001b[1;31m---------------------------------------------------------------------------\u001b[0m",
      "\u001b[1;31mJSONDecodeError\u001b[0m                           Traceback (most recent call last)",
      "\u001b[1;32m<ipython-input-108-bcdb8db1170a>\u001b[0m in \u001b[0;36m<module>\u001b[1;34m()\u001b[0m\n\u001b[1;32m----> 1\u001b[1;33m \u001b[0mdata\u001b[0m \u001b[1;33m=\u001b[0m \u001b[0mjson\u001b[0m\u001b[1;33m.\u001b[0m\u001b[0mloads\u001b[0m\u001b[1;33m(\u001b[0m\u001b[0ms\u001b[0m\u001b[1;33m)\u001b[0m\u001b[1;33m\u001b[0m\u001b[0m\n\u001b[0m",
      "\u001b[1;32mC:\\Users\\dell\\Anaconda3\\lib\\json\\__init__.py\u001b[0m in \u001b[0;36mloads\u001b[1;34m(s, encoding, cls, object_hook, parse_float, parse_int, parse_constant, object_pairs_hook, **kw)\u001b[0m\n\u001b[0;32m    352\u001b[0m             \u001b[0mparse_int\u001b[0m \u001b[1;32mis\u001b[0m \u001b[1;32mNone\u001b[0m \u001b[1;32mand\u001b[0m \u001b[0mparse_float\u001b[0m \u001b[1;32mis\u001b[0m \u001b[1;32mNone\u001b[0m \u001b[1;32mand\u001b[0m\u001b[1;33m\u001b[0m\u001b[0m\n\u001b[0;32m    353\u001b[0m             parse_constant is None and object_pairs_hook is None and not kw):\n\u001b[1;32m--> 354\u001b[1;33m         \u001b[1;32mreturn\u001b[0m \u001b[0m_default_decoder\u001b[0m\u001b[1;33m.\u001b[0m\u001b[0mdecode\u001b[0m\u001b[1;33m(\u001b[0m\u001b[0ms\u001b[0m\u001b[1;33m)\u001b[0m\u001b[1;33m\u001b[0m\u001b[0m\n\u001b[0m\u001b[0;32m    355\u001b[0m     \u001b[1;32mif\u001b[0m \u001b[0mcls\u001b[0m \u001b[1;32mis\u001b[0m \u001b[1;32mNone\u001b[0m\u001b[1;33m:\u001b[0m\u001b[1;33m\u001b[0m\u001b[0m\n\u001b[0;32m    356\u001b[0m         \u001b[0mcls\u001b[0m \u001b[1;33m=\u001b[0m \u001b[0mJSONDecoder\u001b[0m\u001b[1;33m\u001b[0m\u001b[0m\n",
      "\u001b[1;32mC:\\Users\\dell\\Anaconda3\\lib\\json\\decoder.py\u001b[0m in \u001b[0;36mdecode\u001b[1;34m(self, s, _w)\u001b[0m\n\u001b[0;32m    337\u001b[0m \u001b[1;33m\u001b[0m\u001b[0m\n\u001b[0;32m    338\u001b[0m         \"\"\"\n\u001b[1;32m--> 339\u001b[1;33m         \u001b[0mobj\u001b[0m\u001b[1;33m,\u001b[0m \u001b[0mend\u001b[0m \u001b[1;33m=\u001b[0m \u001b[0mself\u001b[0m\u001b[1;33m.\u001b[0m\u001b[0mraw_decode\u001b[0m\u001b[1;33m(\u001b[0m\u001b[0ms\u001b[0m\u001b[1;33m,\u001b[0m \u001b[0midx\u001b[0m\u001b[1;33m=\u001b[0m\u001b[0m_w\u001b[0m\u001b[1;33m(\u001b[0m\u001b[0ms\u001b[0m\u001b[1;33m,\u001b[0m \u001b[1;36m0\u001b[0m\u001b[1;33m)\u001b[0m\u001b[1;33m.\u001b[0m\u001b[0mend\u001b[0m\u001b[1;33m(\u001b[0m\u001b[1;33m)\u001b[0m\u001b[1;33m)\u001b[0m\u001b[1;33m\u001b[0m\u001b[0m\n\u001b[0m\u001b[0;32m    340\u001b[0m         \u001b[0mend\u001b[0m \u001b[1;33m=\u001b[0m \u001b[0m_w\u001b[0m\u001b[1;33m(\u001b[0m\u001b[0ms\u001b[0m\u001b[1;33m,\u001b[0m \u001b[0mend\u001b[0m\u001b[1;33m)\u001b[0m\u001b[1;33m.\u001b[0m\u001b[0mend\u001b[0m\u001b[1;33m(\u001b[0m\u001b[1;33m)\u001b[0m\u001b[1;33m\u001b[0m\u001b[0m\n\u001b[0;32m    341\u001b[0m         \u001b[1;32mif\u001b[0m \u001b[0mend\u001b[0m \u001b[1;33m!=\u001b[0m \u001b[0mlen\u001b[0m\u001b[1;33m(\u001b[0m\u001b[0ms\u001b[0m\u001b[1;33m)\u001b[0m\u001b[1;33m:\u001b[0m\u001b[1;33m\u001b[0m\u001b[0m\n",
      "\u001b[1;32mC:\\Users\\dell\\Anaconda3\\lib\\json\\decoder.py\u001b[0m in \u001b[0;36mraw_decode\u001b[1;34m(self, s, idx)\u001b[0m\n\u001b[0;32m    355\u001b[0m             \u001b[0mobj\u001b[0m\u001b[1;33m,\u001b[0m \u001b[0mend\u001b[0m \u001b[1;33m=\u001b[0m \u001b[0mself\u001b[0m\u001b[1;33m.\u001b[0m\u001b[0mscan_once\u001b[0m\u001b[1;33m(\u001b[0m\u001b[0ms\u001b[0m\u001b[1;33m,\u001b[0m \u001b[0midx\u001b[0m\u001b[1;33m)\u001b[0m\u001b[1;33m\u001b[0m\u001b[0m\n\u001b[0;32m    356\u001b[0m         \u001b[1;32mexcept\u001b[0m \u001b[0mStopIteration\u001b[0m \u001b[1;32mas\u001b[0m \u001b[0merr\u001b[0m\u001b[1;33m:\u001b[0m\u001b[1;33m\u001b[0m\u001b[0m\n\u001b[1;32m--> 357\u001b[1;33m             \u001b[1;32mraise\u001b[0m \u001b[0mJSONDecodeError\u001b[0m\u001b[1;33m(\u001b[0m\u001b[1;34m\"Expecting value\"\u001b[0m\u001b[1;33m,\u001b[0m \u001b[0ms\u001b[0m\u001b[1;33m,\u001b[0m \u001b[0merr\u001b[0m\u001b[1;33m.\u001b[0m\u001b[0mvalue\u001b[0m\u001b[1;33m)\u001b[0m \u001b[1;32mfrom\u001b[0m \u001b[1;32mNone\u001b[0m\u001b[1;33m\u001b[0m\u001b[0m\n\u001b[0m\u001b[0;32m    358\u001b[0m         \u001b[1;32mreturn\u001b[0m \u001b[0mobj\u001b[0m\u001b[1;33m,\u001b[0m \u001b[0mend\u001b[0m\u001b[1;33m\u001b[0m\u001b[0m\n",
      "\u001b[1;31mJSONDecodeError\u001b[0m: Expecting value: line 1 column 178 (char 177)"
     ]
    }
   ],
   "source": [
    "data = json.loads(s)"
   ]
  },
  {
   "cell_type": "code",
   "execution_count": 81,
   "metadata": {
    "collapsed": true
   },
   "outputs": [],
   "source": [
    "re.match('(%w+):$',ss)"
   ]
  },
  {
   "cell_type": "code",
   "execution_count": 76,
   "metadata": {},
   "outputs": [
    {
     "data": {
      "text/plain": [
       "'list : [{channel'"
      ]
     },
     "execution_count": 76,
     "metadata": {},
     "output_type": "execute_result"
    }
   ],
   "source": [
    "ss = re.sub('%w$:',lambda m: '%s\"%s\":'%(m.group(1),m.group(2)),ss)\n",
    "ss"
   ]
  },
  {
   "cell_type": "code",
   "execution_count": null,
   "metadata": {
    "collapsed": true
   },
   "outputs": [],
   "source": []
  },
  {
   "cell_type": "code",
   "execution_count": 2,
   "metadata": {
    "collapsed": true
   },
   "outputs": [],
   "source": [
    "from bs4 import BeautifulSoup\n",
    "import numpy as np\n",
    "import pandas as pd"
   ]
  },
  {
   "cell_type": "code",
   "execution_count": 3,
   "metadata": {
    "collapsed": true
   },
   "outputs": [],
   "source": [
    "soup = BeautifulSoup(res.text, 'html.parser')"
   ]
  },
  {
   "cell_type": "code",
   "execution_count": null,
   "metadata": {
    "collapsed": true
   },
   "outputs": [],
   "source": [
    "import requests\n",
    "import json\n",
    "res = requests.get('http://roll.news.sina.com.cn/interface/rollnews_ch_out_interface.php?col=89&spec=&type=&ch=01&k=&offset_page=0&offset_num=0&num=60&asc=&page=1&r=0.12477385291262777')\n",
    "#res.text\n",
    "jd = res.text.lstrip('  newsloadercallback(').rstrip(');')\n",
    "data = json.loads(jd)"
   ]
  }
 ],
 "metadata": {
  "kernelspec": {
   "display_name": "Python 3",
   "language": "python",
   "name": "python3"
  },
  "language_info": {
   "codemirror_mode": {
    "name": "ipython",
    "version": 3
   },
   "file_extension": ".py",
   "mimetype": "text/x-python",
   "name": "python",
   "nbconvert_exporter": "python",
   "pygments_lexer": "ipython3",
   "version": "3.6.3"
  }
 },
 "nbformat": 4,
 "nbformat_minor": 2
}
