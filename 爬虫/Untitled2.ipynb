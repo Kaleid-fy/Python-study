{
 "cells": [
  {
   "cell_type": "code",
   "execution_count": 1,
   "metadata": {
    "collapsed": true
   },
   "outputs": [],
   "source": [
    "import requests\n",
    "res = requests.get('http://roll.news.sina.com.cn/interface/rollnews_ch_out_interface.php?col=89&spec=&type=&ch=01&k=&offset_page=0&offset_num=0&num=60&asc=&page=1&r=0.12477385291262777')"
   ]
  },
  {
   "cell_type": "code",
   "execution_count": 2,
   "metadata": {
    "collapsed": true
   },
   "outputs": [],
   "source": [
    "res.encoding='gbk' #将乱码变成中文编码"
   ]
  },
  {
   "cell_type": "code",
   "execution_count": 23,
   "metadata": {},
   "outputs": [
    {
     "data": {
      "text/plain": [
       "'{serverSeconds : 1513947365,last_time : 1513947345,path : [{title : \"全部\", id : \"89\", cType : \"col\"}],count : 15664,    offset_page : 0,    offset_num : 0,list : [{channel : {title : \"体育\",id : \"94\",cType : \"col\",url : \"\"},title : \"女排土耳其杯朱婷夺10分 瓦基弗零封升班马进4强\",url : \"http://sports.sina.com.cn/others/volleyball/2017-12-22/doc-ifypxrpp3418869.shtml\",type : \\'1\\',pic : \\'\\',time : 1513947345},{channel : {title : \"美股\",id : \"99\",cType : \"col\",url : \"\"},title : \"华尔街日报：小米筹谋上市，估值或超千亿美元\",url : \"http://finance.sina.com.cn/stock/usstock/c/2017-12-22/doc-ifypxrpp3417227.shtml\",type : \\'1\\',pic : \\'\\',time : 1513946982},{channel : {title : \"体育\",id : \"94\",cType : \"col\",url : \"\"},title : \"太惨！霍尔曼右腿膝盖重伤 这表情痛苦又无助\",url : \"http://sports.sina.com.cn/cba/2017-12-22/doc-ifypxrpp3416560.shtml\",type : \\'1\\',pic : \\'\\',time : 1513946794},{channel : {title : \"体育\",id : \"94\",cType : \"col\",url : \"\"},title : \"CBA外援重伤被送医院！中断14分钟 没合适担架\",url : \"http://sports.sina.com.cn/cba/2017-12-22/doc-ifypvuqf1914556.shtml\",type : \\'1\\',pic : \\'\\',time : 1513946582},{channel : {title : \"美股\",id : \"99\",cType : \"col\",url : \"\"},title : \"罗氏将以17亿美元收购美国抗癌药生产商Ignyta\",url : \"http://finance.sina.com.cn/stock/usstock/c/2017-12-22/doc-ifypvuqf1878042.shtml\",type : \\'1\\',pic : \\'\\',time : 1513945707},{channel : {title : \"科技\",id : \"96\",cType : \"col\",url : \"\"},title : \"互撕再起！阿里王帅集中答问回应“反阿里联盟”的事\",url : \"http://tech.sina.com.cn/i/2017-12-22/doc-ifypxrpp3411126.shtml\",type : \\'1\\',pic : \\'\\',time : 1513945622},{channel : {title : \"体育\",id : \"94\",cType : \"col\",url : \"\"},title : \"河北华夏幸福青训9级梯队简介 青训计划将辐射全国\",url : \"http://sports.sina.com.cn/china/j/2017-12-22/doc-ifypxrpp3410916.shtml\",type : \\'1\\',pic : \\'\\',time : 1513945584},{channel : {title : \"体育\",id : \"94\",cType : \"col\",url : \"\"},title : \"史上最快+奖池新低!双色球9亿大派奖亮点频出\",url : \"http://sports.sina.com.cn/l/2017-12-22/doc-ifypxrpp3409387.shtml\",type : \\'1\\',pic : \\'\\',time : 1513945264},{channel : {title : \"体育\",id : \"94\",cType : \"col\",url : \"\"},title : \"今日数据趣谈:波神很尴尬 小詹皇历史第二人\",url : \"http://sports.sina.com.cn/basketball/nba/2017-12-22/doc-ifypvuqf1836189.shtml\",type : \\'1\\',pic : \\'\\',time : 1513944537},{channel : {title : \"国内\",id : \"90\",cType : \"col\",url : \"\"},title : \"京沈高速30多辆车连环相撞 造成近十几公里拥堵\",url : \"http://news.sina.com.cn/c/nd/2017-12-22/doc-ifypvuqf1833309.shtml\",type : \\'1\\',pic : \\'\\',time : 1513944452},{channel : {title : \"科技\",id : \"96\",cType : \"col\",url : \"\"},title : \"75后叶蓁蓁任人民网总裁 创新闻网站纪录\",url : \"http://tech.sina.com.cn/i/2017-12-22/doc-ifypxrpp3406297.shtml\",type : \\'1\\',pic : \\'\\',time : 1513944431},{channel : {title : \"美股\",id : \"99\",cType : \"col\",url : \"\"},title : \"英三季度GDP年增率上修 家庭支出同比增幅创5年最低\",url : \"http://finance.sina.com.cn/stock/usstock/c/2017-12-22/doc-ifypxrpp3406189.shtml\",type : \\'1\\',pic : \\'\\',time : 1513944371},{channel : {title : \"美股\",id : \"99\",cType : \"col\",url : \"\"},title : \"英国《金融时报》：为什么欧洲不应向中国磕头？\",url : \"http://finance.sina.com.cn/stock/usstock/c/2017-12-22/doc-ifypvuqf1820524.shtml\",type : \\'1\\',pic : \\'\\',time : 1513944101},{channel : {title : \"国内\",id : \"90\",cType : \"col\",url : \"\"},title : \"台艺人拿五星红旗拍照:活不耐烦 蔡当局敢来抓我?\",url : \"http://news.sina.com.cn/c/gat/2017-12-22/doc-ifypxmsq9502216.shtml\",type : \\'1\\',pic : \\'\\',time : 1513944030},{channel : {title : \"国际\",id : \"91\",cType : \"col\",url : \"\"},title : \"中国孕妇扎堆赴塞班岛产子 人数比当地孕妇还多\",url : \"http://news.sina.com.cn/w/sy/2017-12-22/doc-ifypxmsq9501858.shtml\",type : \\'1\\',pic : \\'\\',time : 1513943974},{channel : {title : \"体育\",id : \"94\",cType : \"col\",url : \"\"},title : \"东京奥运开幕式导演团队公布 不设总导演8人统筹\",url : \"http://sports.sina.com.cn/others/others/2017-12-22/doc-ifypxrpp3404317.shtml\",type : \\'1\\',pic : \\'\\',time : 1513943425},{channel : {title : \"国内\",id : \"90\",cType : \"col\",url : \"\"},title : \"85岁的老诗人“登上”中纪委网站 说了什么？\",url : \"http://news.sina.com.cn/c/2017-12-22/doc-ifypwzxq5518640.shtml\",type : \\'1\\',pic : \\'\\',time : 1513943277},{channel : {title : \"科技\",id : \"96\",cType : \"col\",url : \"\"},title : \"阿里王帅：中国是水军最多的国家 水军横行乌烟瘴气\",url : \"http://tech.sina.com.cn/i/2017-12-22/doc-ifypxrpp3403436.shtml\",type : \\'1\\',pic : \\'\\',time : 1513943090},{channel : {title : \"国内\",id : \"90\",cType : \"col\",url : \"\"},title : \"印度学者扬言:加强同台湾政治往来 别听大陆指挥\",url : \"http://news.sina.com.cn/c/gat/2017-12-22/doc-ifypwzxq5514388.shtml\",type : \\'1\\',pic : \\'\\',time : 1513942528},{channel : {title : \"国内\",id : \"90\",cType : \"col\",url : \"\"},title : \"国家监察法进入二审 最受关注的留置有何变化？\",url : \"http://news.sina.com.cn/c/nd/2017-12-22/doc-ifypwzxq5513879.shtml\",type : \\'1\\',pic : \\'\\',time : 1513942450},{channel : {title : \"社会\",id : \"92\",cType : \"col\",url : \"\"},title : \"整形大师主刀致富婆成植物人 丈夫许愿醒来捐千万\",url : \"http://news.sina.com.cn/s/wh/2017-12-22/doc-ifypxmsq9492803.shtml\",type : \\'1\\',pic : \\'\\',time : 1513942250},{channel : {title : \"社会\",id : \"92\",cType : \"col\",url : \"\"},title : \"男人被性侵很普遍？美疾控中心:近七成作案为女人\",url : \"http://news.sina.com.cn/s/wh/2017-12-22/doc-ifypxmsq9492588.shtml\",type : \\'1\\',pic : \\'\\',time : 1513942229},{channel : {title : \"国际\",id : \"91\",cType : \"col\",url : \"\"},title : \"英国疑似校园贷致学生上吊自杀 年利率高达1200%\",url : \"http://news.sina.com.cn/w/sy/2017-12-22/doc-ifypxmsq9492576.shtml\",type : \\'1\\',pic : \\'\\',time : 1513942228},{channel : {title : \"国内\",id : \"90\",cType : \"col\",url : \"\"},title : \"保姆纵火案若被告执意不换辩护人 案子如何进行？\",url : \"http://news.sina.com.cn/c/nd/2017-12-22/doc-ifypwzxq5512251.shtml\",type : \\'1\\',pic : \\'\\',time : 1513942224},{channel : {title : \"国际\",id : \"91\",cType : \"col\",url : \"\"},title : \"班农欲参选总统？曾称特朗普“像个11岁的小孩”\",url : \"http://news.sina.com.cn/o/2017-12-22/doc-ifypxmsq9490043.shtml\",type : \\'1\\',pic : \\'\\',time : 1513941722},{channel : {title : \"体育\",id : \"94\",cType : \"col\",url : \"\"},title : \"小丁：难忘NBA夏季联赛 为梦想豁出一切太爽！\",url : \"http://sports.sina.com.cn/cba/2017-12-22/doc-ifypxrpp3400556.shtml\",type : \\'1\\',pic : \\'\\',time : 1513941622},{channel : {title : \"美股\",id : \"99\",cType : \"col\",url : \"\"},title : \"特朗普“税改”到底掉改了些什么？\",url : \"http://finance.sina.com.cn/stock/usstock/c/2017-12-22/doc-ifypxrpp3399150.shtml\",type : \\'1\\',pic : \\'\\',time : 1513940962},{channel : {title : \"体育\",id : \"94\",cType : \"col\",url : \"\"},title : \"女足门神王飞转会至拜仁女足 身披1号签约1年半\",url : \"http://sports.sina.com.cn/china/womenfootballs/2017-12-22/doc-ifypxrpp3399110.shtml\",type : \\'1\\',pic : \\'\\',time : 1513940947},{channel : {title : \"国内\",id : \"90\",cType : \"col\",url : \"\"},title : \"台统派青年代表被查 专家“反独促统”能被打压？\",url : \"http://news.sina.com.cn/c/2017-12-22/doc-ifypwzxq5505585.shtml\",type : \\'1\\',pic : \\'\\',time : 1513940923},{channel : {title : \"科技\",id : \"96\",cType : \"col\",url : \"\"},title : \"方兴东回怼阿里王帅：马云下属目中无人 不懂得尊重\",url : \"http://tech.sina.com.cn/i/2017-12-22/doc-ifypxrpp3398961.shtml\",type : \\'1\\',pic : \\'\\',time : 1513940885},{channel : {title : \"社会\",id : \"92\",cType : \"col\",url : \"\"},title : \"16岁女孩求职模特被骗入夜总会 1个月挨打20多次\",url : \"http://news.sina.com.cn/s/wh/2017-12-22/doc-ifypxmsq9485436.shtml\",type : \\'1\\',pic : \\'\\',time : 1513940881},{channel : {title : \"体育\",id : \"94\",cType : \"col\",url : \"\"},title : \"德甲155球神锋转会获官方宣布 拜仁名将回母队\",url : \"http://sports.sina.com.cn/global/germany/2017-12-22/doc-ifypvuqf1700985.shtml\",type : \\'1\\',pic : \\'\\',time : 1513940752},{channel : {title : \"体育\",id : \"94\",cType : \"col\",url : \"\"},title : \"2018年第三届日本围棋大会暨第6届大阪围棋夏令营\",url : \"http://sports.sina.com.cn/go/2017-12-22/doc-ifypxrpp3398664.shtml\",type : \\'1\\',pic : \\'\\',time : 1513940730},{channel : {title : \"社会\",id : \"92\",cType : \"col\",url : \"\"},title : \"所有医生最想怼回去的10大问题 看看你问过吗\",url : \"http://news.sina.com.cn/o/2017-12-22/doc-ifypwzxq5503713.shtml\",type : \\'1\\',pic : \\'\\',time : 1513940650},{channel : {title : \"国内\",id : \"90\",cType : \"col\",url : \"\"},title : \"60后候补中委最新任命公布 出任河北省委宣传部长\",url : \"http://news.sina.com.cn/c/nd/2017-12-22/doc-ifypwzxq5502449.shtml\",type : \\'1\\',pic : \\'\\',time : 1513940413},{channel : {title : \"国内\",id : \"90\",cType : \"col\",url : \"\"},title : \"发改委:保障民生需求前提下推进北方清洁供暖工程\",url : \"http://news.sina.com.cn/o/2017-12-22/doc-ifypwzxq5502103.shtml\",type : \\'1\\',pic : \\'\\',time : 1513940346},{channel : {title : \"科技\",id : \"96\",cType : \"col\",url : \"\"},title : \"陈刚上任去哪儿CEO后首亮相 与酒店打通会员制\",url : \"http://tech.sina.com.cn/i/2017-12-22/doc-ifypxrpp3398018.shtml\",type : \\'1\\',pic : \\'\\',time : 1513940316},{channel : {title : \"体育\",id : \"94\",cType : \"col\",url : \"\"},title : \"叶琳娜空砍29分19篮板 四川主场不敌强敌新疆\",url : \"http://sports.sina.com.cn/cba/2017-12-22/doc-ifypvuqf1678949.shtml\",type : \\'1\\',pic : \\'\\',time : 1513940211},{channel : {title : \"体育\",id : \"94\",cType : \"col\",url : \"\"},title : \"广东女篮2分惜败山西 吴迪关键三分杀死比赛\",url : \"http://sports.sina.com.cn/cba/2017-12-22/doc-ifypxrpp3397415.shtml\",type : \\'1\\',pic : \\'\\',time : 1513940073},{channel : {title : \"国内\",id : \"90\",cType : \"col\",url : \"\"},title : \"蔡当局搜查新党青年惹众怒 遭怼：绿色恐怖(图)\",url : \"http://news.sina.com.cn/c/gat/2017-12-22/doc-ifypxmsq9479015.shtml\",type : \\'2\\',pic : \\'\\',time : 1513939772},{channel : {title : \"科技\",id : \"96\",cType : \"col\",url : \"\"},title : \"朋友圈都撕起来了！腾讯、京东、方兴东回怼阿里王帅\",url : \"http://tech.sina.com.cn/i/2017-12-22/doc-ifypvuqf1659011.shtml\",type : \\'1\\',pic : \\'\\',time : 1513939703},{channel : {title : \"体育\",id : \"94\",cType : \"col\",url : \"\"},title : \"中国青少年大师赛收官 梁恩旗吕田分获男女冠军\",url : \"http://sports.sina.com.cn/golf/chinareport/2017-12-22/doc-ifypvuqf1655534.shtml\",type : \\'1\\',pic : \\'\\',time : 1513939619},{channel : {title : \"体育\",id : \"94\",cType : \"col\",url : \"\"},title : \"城围联决赛前瞻：景德镇双保险 衢州强者运强\",url : \"http://sports.sina.com.cn/go/2017-12-22/doc-ifypxrpp3396248.shtml\",type : \\'1\\',pic : \\'\\',time : 1513939426},{channel : {title : \"国内\",id : \"90\",cType : \"col\",url : \"\"},title : \"网友被外交部发言人华春莹大笑圈粉:可爱又迷人\",url : \"http://news.sina.com.cn/c/nd/2017-12-22/doc-ifypxmsq9477246.shtml\",type : \\'3\\',pic : \\'\\',time : 1513939298},{channel : {title : \"财经\",id : \"97\",cType : \"col\",url : \"\"},title : \"牛汇:澳洲汽车撞人与恐袭并无瓜葛 澳元趁势上涨\",url : \"http://finance.sina.com.cn/money/forex/forexfxyc/2017-12-22/doc-ifypxrpp3395326.shtml\",type : \\'1\\',pic : \\'\\',time : 1513939029},{channel : {title : \"财经\",id : \"97\",cType : \"col\",url : \"\"},title : \"牛汇:美储副主席悬念尚待解开 前理事林赛呼声最高\",url : \"http://finance.sina.com.cn/money/forex/forexfxyc/2017-12-22/doc-ifypvuqf1621156.shtml\",type : \\'1\\',pic : \\'\\',time : 1513938943},{channel : {title : \"国际\",id : \"91\",cType : \"col\",url : \"\"},title : \"这个印度穷小子外号劈柴哥 靠读书逆袭成谷歌CEO\",url : \"http://news.sina.com.cn/w/sy/2017-12-22/doc-ifypxmsq9474908.shtml\",type : \\'1\\',pic : \\'\\',time : 1513938888},{channel : {title : \"国际\",id : \"91\",cType : \"col\",url : \"\"},title : \"印“大师”与执法部门勾结 性侵少女信徒屡屡得手\",url : \"http://news.sina.com.cn/w/sy/2017-12-22/doc-ifypwzxq5494644.shtml\",type : \\'1\\',pic : \\'\\',time : 1513938875},{channel : {title : \"国内\",id : \"90\",cType : \"col\",url : \"\"},title : \"台绿营名嘴：新党青年拿大陆500万 要建军事组织\",url : \"http://news.sina.com.cn/o/2017-12-22/doc-ifypwzxq5494641.shtml\",type : \\'1\\',pic : \\'\\',time : 1513938875},{channel : {title : \"体育\",id : \"94\",cType : \"col\",url : \"\"},title : \"特写|戴卿尧回到赛场的首秀 上海冲冠怎能少了他\",url : \"http://sports.sina.com.cn/others/volleyball/2017-12-22/doc-ifypxrpp3394263.shtml\",type : \\'1\\',pic : \\'\\',time : 1513938740},{channel : {title : \"社会\",id : \"92\",cType : \"col\",url : \"\"},title : \"孙女拍照记爷爷最后7年:这装着我和爷爷全部的爱\",url : \"http://news.sina.com.cn/s/wh/2017-12-22/doc-ifypwzxq5491734.shtml\",type : \\'1\\',pic : \\'\\',time : 1513938560},{channel : {title : \"财经\",id : \"97\",cType : \"col\",url : \"\"},title : \"N220炭黑市场报价上涨至历史高位 明年1月涨势将减缓\",url : \"http://finance.sina.com.cn/money/future/fmnews/2017-12-22/doc-ifypvuqf1597726.shtml\",type : \\'1\\',pic : \\'\\',time : 1513938508},{channel : {title : \"社会\",id : \"92\",cType : \"col\",url : \"\"},title : \"鸡蛋壳可以解决这些问题 看了保准你大吃一惊(图)\",url : \"http://news.sina.com.cn/o/2017-12-22/doc-ifypxmsq9471657.shtml\",type : \\'2\\',pic : \\'\\',time : 1513938473},{channel : {title : \"财经\",id : \"97\",cType : \"col\",url : \"\"},title : \"XCOQ爱客:美日开始筑顶 黄金可继续做多\",url : \"http://finance.sina.com.cn/money/forex/forexfxyc/2017-12-22/doc-ifypvuqf1595105.shtml\",type : \\'1\\',pic : \\'\\',time : 1513938447},{channel : {title : \"国际\",id : \"91\",cType : \"col\",url : \"\"},title : \"巴勒斯坦总统：巴人不会接受美国任何的和平计划\",url : \"http://news.sina.com.cn/w/2017-12-22/doc-ifypwzxq5490170.shtml\",type : \\'1\\',pic : \\'\\',time : 1513938153},{channel : {title : \"国内\",id : \"90\",cType : \"col\",url : \"\"},title : \"中国药出口腹背受敌:高端难敌欧美 低端不如印度\",url : \"http://news.sina.com.cn/c/nd/2017-12-22/doc-ifypxmsq9469756.shtml\",type : \\'1\\',pic : \\'\\',time : 1513938079},{channel : {title : \"国内\",id : \"90\",cType : \"col\",url : \"\"},title : \"陕西周至路灯一盏5.5万元?官方:工作人员表述不当\",url : \"http://news.sina.com.cn/o/2017-12-22/doc-ifypxmsq9469012.shtml\",type : \\'1\\',pic : \\'\\',time : 1513938016},{channel : {title : \"科技\",id : \"96\",cType : \"col\",url : \"\"},title : \"暴走CEO再回应王尼玛离职事件:王尼玛从来就是一个人\",url : \"http://tech.sina.com.cn/i/2017-12-22/doc-ifypxrpp3392012.shtml\",type : \\'1\\',pic : \\'\\',time : 1513937909},{channel : {title : \"国际\",id : \"91\",cType : \"col\",url : \"\"},title : \"巴基斯坦中部发生重大交通事故 至少造成11死20伤\",url : \"http://news.sina.com.cn/o/2017-12-22/doc-ifypwzxq5487806.shtml\",type : \\'1\\',pic : \\'\\',time : 1513937859},{channel : {title : \"国内\",id : \"90\",cType : \"col\",url : \"\"},title : \"“中国教授炮轰法国”视频火了 真相却令国人愤怒\",url : \"http://news.sina.com.cn/c/nd/2017-12-22/doc-ifypwzxq5486227.shtml\",type : \\'1\\',pic : \\'\\',time : 1513937532}]}'"
      ]
     },
     "execution_count": 23,
     "metadata": {},
     "output_type": "execute_result"
    }
   ],
   "source": [
    "jd= res.text.lstrip('var jsonData = ').rstrip(';').replace('\\t',\"\").replace('\\n',\"\")\n",
    "jd\n",
    "#print(jd)"
   ]
  },
  {
   "cell_type": "code",
   "execution_count": 9,
   "metadata": {
    "collapsed": true
   },
   "outputs": [],
   "source": [
    "import re"
   ]
  },
  {
   "cell_type": "code",
   "execution_count": 25,
   "metadata": {
    "collapsed": true
   },
   "outputs": [],
   "source": [
    "mm = '{serverSeconds : 1513947365,last_time : 1513947345,path : [{title : \"全部\", id : \"89\", cType : \"col\"}],count : 15664,    offset_page : 0,    offset_num : 0,list : [{channel : {title : \"体育\",id : \"94\",cType : \"col\",url : \"\"},title : \"女排土耳其杯朱婷夺10分 瓦基弗零封升班马进4强\",url : \"http://sports.sina.com.cn/others/volleyball/2017-12-22/doc-ifypxrpp3418869.shtml\",type : \\'1\\',pic : \\'\\',time : 1513947345}'"
   ]
  },
  {
   "cell_type": "code",
   "execution_count": 26,
   "metadata": {},
   "outputs": [
    {
     "data": {
      "text/plain": [
       "'{serverSeconds : 1513947365,last_time : 1513947345,path : [{title : \"全部\", id : \"89\", cType : \"col\"}],count : 15664,    offset_page : 0,    offset_num : 0,list : [{channel : {title : \"体育\",id : \"94\",cType : \"col\",url : \"\"},title : \"女排土耳其杯朱婷夺10分 瓦基弗零封升班马进4强\",url : \"http://sports.sina.com.cn/others/volleyball/2017-12-22/doc-ifypxrpp3418869.shtml\",type : \\'1\\',pic : \\'\\',time : 1513947345}'"
      ]
     },
     "execution_count": 26,
     "metadata": {},
     "output_type": "execute_result"
    }
   ],
   "source": [
    "mm"
   ]
  },
  {
   "cell_type": "code",
   "execution_count": 38,
   "metadata": {},
   "outputs": [
    {
     "data": {
      "text/plain": [
       "<_sre.SRE_Match object; span=(0, 16), match='{serverSeconds :'>"
      ]
     },
     "execution_count": 38,
     "metadata": {},
     "output_type": "execute_result"
    }
   ],
   "source": [
    "re.search('([{,])([^{:\\s+\"]*.):',mm)"
   ]
  },
  {
   "cell_type": "code",
   "execution_count": 53,
   "metadata": {},
   "outputs": [
    {
     "data": {
      "text/plain": [
       "'{\"serverSeconds \": 1513947365,\"last_time \": 1513947345,\"path \": [{\"title \": \"全部\",\"id \": \"89\",\"cType \": \"col\"}],\"count \": 15664,\"offset_page \": 0,\"offset_num \": 0,\"list \": [{\"channel \": {\"title \": \"体育\",\"id \": \"94\",\"cType \": \"col\",\"url \": \"\"},\"title \": \"女排土耳其杯朱婷夺10分 瓦基弗零封升班马进4强\",\"url \": \"http://sports.sina.com.cn/others/volleyball/2017-12-22/doc-ifypxrpp3418869.shtml\",\"type \": \\'1\\',\"pic \": \\'\\',\"time \": 1513947345}'"
      ]
     },
     "execution_count": 53,
     "metadata": {},
     "output_type": "execute_result"
    }
   ],
   "source": [
    "#([{,])匹配以{或,开头的\n",
    "#\\s*中间有0个或多个空格\n",
    "#\n",
    "s = re.sub('([{,])\\s*([^{:\\s+\"]*.):', lambda m: '%s\"%s\":'%(m.group(1),m.group(2)),mm)\n",
    "s"
   ]
  },
  {
   "cell_type": "code",
   "execution_count": 42,
   "metadata": {
    "collapsed": true
   },
   "outputs": [],
   "source": [
    "ss = ',    offset_page : 0'"
   ]
  },
  {
   "cell_type": "code",
   "execution_count": 54,
   "metadata": {
    "collapsed": true
   },
   "outputs": [],
   "source": [
    "kk=re.match('([{,]+)\\s+(\\w+).+:',ss)"
   ]
  },
  {
   "cell_type": "code",
   "execution_count": 55,
   "metadata": {},
   "outputs": [
    {
     "data": {
      "text/plain": [
       "(',', 'offset_page ')"
      ]
     },
     "execution_count": 55,
     "metadata": {},
     "output_type": "execute_result"
    }
   ],
   "source": [
    "kk.groups()"
   ]
  },
  {
   "cell_type": "code",
   "execution_count": 3,
   "metadata": {
    "collapsed": true
   },
   "outputs": [],
   "source": [
    "jd= res.text.lstrip('var jsonData = ').rstrip(';')"
   ]
  },
  {
   "cell_type": "code",
   "execution_count": 24,
   "metadata": {
    "collapsed": true
   },
   "outputs": [],
   "source": [
    "jd = jd.replace(\"\\t\",'').replace(\"\\n\",\"\")#去除换行和tab\n",
    "jd = jd.replace(\"    offset_page \",\"offset_page \").replace(\"    offset_num \",\"offset_num \").replace(\" id \",\"id \").replace(\" cType \",\"cType \")"
   ]
  },
  {
   "cell_type": "code",
   "execution_count": 25,
   "metadata": {},
   "outputs": [
    {
     "data": {
      "text/plain": [
       "'{serverSeconds : 1513929248,last_time : 1513929113,path : [{title : \"全部\",id : \"89\",cType : \"col\"}],count : 15485,offset_page : 0,offset_num : 0,list : [{channel : {title : \"体育\",id : \"94\",cType : \"col\",url : \"\"},title : \"足协批苏宁因tfboys推迟中超:说延就延 备用场呢\",url : \"http://sports.sina.com.cn/china/j/2017-12-22/doc-ifypxrpp3362313.shtml\",type : \\'1\\',pic : \\'\\',time : 1513929113},{channel : {title : \"国内\",id : \"90\",cType : \"col\",url : \"\"},title : \"北京政府网站将从千家减至80余家 会剩哪些？\",url : \"http://news.sina.com.cn/c/nd/2017-12-22/doc-ifypwzxq5412619.shtml\",type : \\'1\\',pic : \\'\\',time : 1513929075},{channel : {title : \"科技\",id : \"96\",cType : \"col\",url : \"\"},title : \"阿里王帅谈乌镇饭局：给中国互联网企业整体抹黑了\",url : \"http://tech.sina.com.cn/i/2017-12-22/doc-ifypvuqf1090343.shtml\",type : \\'1\\',pic : \\'\\',time : 1513929058},{channel : {title : \"体育\",id : \"94\",cType : \"col\",url : \"\"},title : \"北控单节输19-43！让CBA最强之人一节24分打蒙\",url : \"http://sports.sina.com.cn/cba/2017-12-22/doc-ifypvuqf1090232.shtml\",type : \\'1\\',pic : \\'\\',time : 1513929055},{channel : {title : \"体育\",id : \"94\",cType : \"col\",url : \"\"},title : \"人物|有的人注定伟大 再不会有科比这样的球员\",url : \"http://sports.sina.com.cn/basketball/nba/2017-12-22/doc-ifypxrpp3361665.shtml\",type : \\'1\\',pic : \\'\\',time : 1513928947},{channel : {title : \"科技\",id : \"96\",cType : \"col\",url : \"\"},title : \"优酷、爱奇艺账号注册容易注销难 多平台或面临问责\",url : \"http://tech.sina.com.cn/i/2017-12-22/doc-ifypxrpp3361530.shtml\",type : \\'1\\',pic : \\'\\',time : 1513928883},{channel : {title : \"国内\",id : \"90\",cType : \"col\",url : \"\"},title : \"国家核安全局:批准秦山核电基地7台机组续证申请\",url : \"http://news.sina.com.cn/c/nd/2017-12-22/doc-ifypwzxq5410113.shtml\",type : \\'1\\',pic : \\'\\',time : 1513928774},{channel : {title : \"体育\",id : \"94\",cType : \"col\",url : \"\"},title : \"京媒：北京半程第7值得肯定 没出现惨败的情况\",url : \"http://sports.sina.com.cn/cba/2017-12-22/doc-ifypvuqf1065035.shtml\",type : \\'1\\',pic : \\'\\',time : 1513928599},{channel : {title : \"科技\",id : \"96\",cType : \"col\",url : \"\"},title : \"Uber欧洲失意 佐证了欧盟和美国对科技态度不同\",url : \"http://tech.sina.com.cn/i/2017-12-22/doc-ifypxrpp3360197.shtml\",type : \\'1\\',pic : \\'\\',time : 1513928515},{channel : {title : \"美股\",id : \"99\",cType : \"col\",url : \"\"},title : \"韩财长：韩国明年人均收入有望破3万美元\",url : \"http://finance.sina.com.cn/stock/usstock/c/2017-12-22/doc-ifypvuqf1045325.shtml\",type : \\'1\\',pic : \\'\\',time : 1513928207},{channel : {title : \"国内\",id : \"90\",cType : \"col\",url : \"\"},title : \"我驻泰大使馆:要求泰方妥善保管被大象踩死者遗体\",url : \"http://news.sina.com.cn/o/2017-12-22/doc-ifypxmsq9384180.shtml\",type : \\'1\\',pic : \\'\\',time : 1513928043},{channel : {title : \"体育\",id : \"94\",cType : \"col\",url : \"\"},title : \"美女子体操奥运冠军遭性侵 体操队:我给钱你保密\",url : \"http://sports.sina.com.cn/others/ticao/2017-12-22/doc-ifypvuqf1026537.shtml\",type : \\'1\\',pic : \\'\\',time : 1513927850},{channel : {title : \"体育\",id : \"94\",cType : \"col\",url : \"\"},title : \"关小刀任九：阿森纳主场赢球 马竞作客奏凯\",url : \"http://sports.sina.com.cn/l/2017-12-22/doc-ifypxrpp3355582.shtml\",type : \\'1\\',pic : \\'\\',time : 1513927411},{channel : {title : \"军事\",id : \"93\",cType : \"col\",url : \"\"},title : \"中国L15B加力型飞机成功首飞 或将成歼20教练机(图…\",url : \"http://mil.news.sina.com.cn/china/2017-12-22/doc-ifypxrpp3355317.shtml\",type : \\'2\\',pic : \\'\\',time : 1513927367},{channel : {title : \"体育\",id : \"94\",cType : \"col\",url : \"\"},title : \"2018中国足协杯资格赛决赛C组巡礼 四劲旅藏龙卧虎\",url : \"http://sports.sina.com.cn/china/cfacup/2017-12-22/doc-ifypvuqf0996574.shtml\",type : \\'1\\',pic : \\'\\',time : 1513927276},{channel : {title : \"国际\",id : \"91\",cType : \"col\",url : \"\"},title : \"韩媒称堤川大火系人祸:自动门打不开紧急通道被堵\",url : \"http://news.sina.com.cn/w/2017-12-22/doc-ifypwzxq5397029.shtml\",type : \\'1\\',pic : \\'\\',time : 1513927233},{channel : {title : \"国际\",id : \"91\",cType : \"col\",url : \"\"},title : \"中国游客超接纳能力 泰花数十亿美元升级基础设施\",url : \"http://news.sina.com.cn/o/2017-12-22/doc-ifypwzxq5396509.shtml\",type : \\'1\\',pic : \\'\\',time : 1513927209},{channel : {title : \"科技\",id : \"96\",cType : \"col\",url : \"\"},title : \"途牛回应裁员：正调整研发组织结构 将确保员工权益\",url : \"http://tech.sina.com.cn/i/2017-12-22/doc-ifypxrpp3354150.shtml\",type : \\'1\\',pic : \\'\\',time : 1513927095},{channel : {title : \"美股\",id : \"99\",cType : \"col\",url : \"\"},title : \"比特币跌破13000美元关口 日内跌17%\",url : \"http://finance.sina.com.cn/stock/usstock/c/2017-12-22/doc-ifypvuqf0985073.shtml\",type : \\'1\\',pic : \\'\\',time : 1513927062},{channel : {title : \"体育\",id : \"94\",cType : \"col\",url : \"\"},title : \"小炮跟单:西甲英超胜率超80% 皇马巴萨等你来战\",url : \"http://sports.sina.com.cn/l/2017-12-22/doc-ifypxrpp3354110.shtml\",type : \\'1\\',pic : \\'\\',time : 1513927055},{channel : {title : \"社会\",id : \"92\",cType : \"col\",url : \"\"},title : \"重庆旅发委回应旅游领队遭大象踩死:家属已赴泰\",url : \"http://news.sina.com.cn/s/wh/2017-12-22/doc-ifypwzxq5394659.shtml\",type : \\'1\\',pic : \\'\\',time : 1513926974},{channel : {title : \"社会\",id : \"92\",cType : \"col\",url : \"\"},title : \"外卖员交通违法被查后扔罚单 纠集20余人暴力抗法\",url : \"http://news.sina.com.cn/o/2017-12-22/doc-ifypwzxq5394660.shtml\",type : \\'1\\',pic : \\'\\',time : 1513926974},{channel : {title : \"体育\",id : \"94\",cType : \"col\",url : \"\"},title : \"为何有人怎么吃都不胖？ 3招让你练出易瘦体质\",url : \"http://sports.sina.com.cn/others/fitness/2017-12-22/doc-ifypvuqf0977724.shtml\",type : \\'1\\',pic : \\'\\',time : 1513926939},{channel : {title : \"体育\",id : \"94\",cType : \"col\",url : \"\"},title : \"林丹罢赛现场还原 难道是被赞助商操控所致？\",url : \"http://sports.sina.com.cn/others/badmin/2017-12-22/doc-ifypxrpp3353952.shtml\",type : \\'1\\',pic : \\'\\',time : 1513926917},{channel : {title : \"体育\",id : \"94\",cType : \"col\",url : \"\"},title : \"WSOP中国赛主赛三亚战罢 周云鹏获夺得金手链\",url : \"http://sports.sina.com.cn/go/2017-12-22/doc-ifypvuqf0964232.shtml\",type : \\'1\\',pic : \\'\\',time : 1513926722},{channel : {title : \"国内\",id : \"90\",cType : \"col\",url : \"\"},title : \"圆明园考古获重要成果:发现半圆码头 历史无记载\",url : \"http://news.sina.com.cn/c/nd/2017-12-22/doc-ifypxmsq9371814.shtml\",type : \\'1\\',pic : \\'\\',time : 1513926674},{channel : {title : \"国内\",id : \"90\",cType : \"col\",url : \"\"},title : \"法官法拟修改:法官非因法定情形不被调离审判岗位\",url : \"http://news.sina.com.cn/o/2017-12-22/doc-ifypwzxq5391140.shtml\",type : \\'1\\',pic : \\'\\',time : 1513926629},{channel : {title : \"体育\",id : \"94\",cType : \"col\",url : \"\"},title : \"曼联大将：曼联需要接受输球 要争取欧冠足总杯\",url : \"http://sports.sina.com.cn/g/pl/2017-12-22/doc-ifypvuqf0956635.shtml\",type : \\'1\\',pic : \\'\\',time : 1513926580},{channel : {title : \"国内\",id : \"90\",cType : \"col\",url : \"\"},title : \"共有产权房养老？新京报:对养老服务不平衡的补充\",url : \"http://news.sina.com.cn/c/2017-12-22/doc-ifypxmsq9369619.shtml\",type : \\'1\\',pic : \\'\\',time : 1513926520},{channel : {title : \"财经\",id : \"97\",cType : \"col\",url : \"\"},title : \"新浪期货：午后有所反弹 苹果期货收涨4%\",url : \"http://finance.sina.com.cn/money/future/fmnews/2017-12-22/doc-ifypxrpp3352809.shtml\",type : \\'1\\',pic : \\'\\',time : 1513926458},{channel : {title : \"国际\",id : \"91\",cType : \"col\",url : \"\"},title : \"美国防开支增加或致全球军费创“冷战”后新高\",url : \"http://news.sina.com.cn/w/2017-12-22/doc-ifypwzxq5388744.shtml\",type : \\'1\\',pic : \\'\\',time : 1513926455},{channel : {title : \"社会\",id : \"92\",cType : \"col\",url : \"\"},title : \"小学生坐危船渡河上学 官方:村干部护送 加速修桥\",url : \"http://news.sina.com.cn/o/2017-12-22/doc-ifypwzxq5388449.shtml\",type : \\'1\\',pic : \\'\\',time : 1513926437},{channel : {title : \"国际\",id : \"91\",cType : \"col\",url : \"\"},title : \"日本天皇退位花费高达2亿元 日政府：必不可少\",url : \"http://news.sina.com.cn/w/zx/2017-12-22/doc-ifypxrpp3352654.shtml\",type : \\'1\\',pic : \\'\\',time : 1513926414},{channel : {title : \"美股\",id : \"99\",cType : \"col\",url : \"\"},title : \"年度世界品牌500强:谷歌苹果前二,中国37个品牌上榜\",url : \"http://finance.sina.com.cn/stock/usstock/c/2017-12-22/doc-ifypvuqf0942012.shtml\",type : \\'1\\',pic : \\'\\',time : 1513926313},{channel : {title : \"国内\",id : \"90\",cType : \"col\",url : \"\"},title : \"中央气象台：中东部回暖 新一股冷空气周末将至\",url : \"http://news.sina.com.cn/s/2017-12-22/doc-ifypxmsq9367117.shtml\",type : \\'1\\',pic : \\'\\',time : 1513926292},{channel : {title : \"军事\",id : \"93\",cType : \"col\",url : \"\"},title : \"澳大利亚首艘潜艇失踪百年后终寻获 村民:被海怪击沉\",url : \"http://mil.news.sina.com.cn/2017-12-22/doc-ifypwzxq5386978.shtml\",type : \\'1\\',pic : \\'\\',time : 1513926276},{channel : {title : \"美股\",id : \"99\",cType : \"col\",url : \"\"},title : \"日本神户制钢撤换3名执行董事 指其早知存在违规\",url : \"http://finance.sina.com.cn/world/gjcj/2017-12-22/doc-ifypvuqf0939677.shtml\",type : \\'1\\',pic : \\'\\',time : 1513926269},{channel : {title : \"国际\",id : \"91\",cType : \"col\",url : \"\"},title : \"日本通过2018年度预算案 国防预算6连涨创新高\",url : \"http://news.sina.com.cn/w/2017-12-22/doc-ifypwzxq5386038.shtml\",type : \\'1\\',pic : \\'\\',time : 1513926155},{channel : {title : \"国内\",id : \"90\",cType : \"col\",url : \"\"},title : \"工信部公布今年10件大事:取消手机国内漫游费\",url : \"http://news.sina.com.cn/o/2017-12-22/doc-ifypwzxq5385959.shtml\",type : \\'1\\',pic : \\'\\',time : 1513926148},{channel : {title : \"体育\",id : \"94\",cType : \"col\",url : \"\"},title : \"梅西C罗回归地球？逆天进球数据不只他俩有了\",url : \"http://sports.sina.com.cn/g/laliga/2017-12-22/doc-ifypxrpp3351607.shtml\",type : \\'1\\',pic : \\'\\',time : 1513926120},{channel : {title : \"科技\",id : \"96\",cType : \"col\",url : \"\"},title : \"阿里王帅：“阿里公关很厉害”的说法就是公关的失败\",url : \"http://tech.sina.com.cn/i/2017-12-22/doc-ifypxrpp3351564.shtml\",type : \\'1\\',pic : \\'\\',time : 1513926106},{channel : {title : \"体育\",id : \"94\",cType : \"col\",url : \"\"},title : \"格斗圈2017年大事件:徐雷PK 格斗孤儿事件引深思\",url : \"http://sports.sina.com.cn/others/freefight/2017-12-22/doc-ifypvuqf0928766.shtml\",type : \\'1\\',pic : \\'\\',time : 1513926069},{channel : {title : \"体育\",id : \"94\",cType : \"col\",url : \"\"},title : \"宫里优作明年全球征战忙 对大师赛邀请函翘首以盼\",url : \"http://sports.sina.com.cn/golf/jgto/2017-12-22/doc-ifypxrpp3351312.shtml\",type : \\'1\\',pic : \\'\\',time : 1513926052},{channel : {title : \"社会\",id : \"92\",cType : \"col\",url : \"\"},title : \"专业坑弟20年:男子每次作案都带弟弟 哥俩2次服刑\",url : \"http://news.sina.com.cn/s/wh/2017-12-22/doc-ifypxrpp3350607.shtml\",type : \\'1\\',pic : \\'\\',time : 1513925874},{channel : {title : \"国际\",id : \"91\",cType : \"col\",url : \"\"},title : \"日本神户制钢撤换3名执行董事 指其早知存在违规\",url : \"http://news.sina.com.cn/o/2017-12-22/doc-ifypwzxq5381624.shtml\",type : \\'1\\',pic : \\'\\',time : 1513925724},{channel : {title : \"美股\",id : \"99\",cType : \"col\",url : \"\"},title : \"乐天集团会长辛东彬一审获刑1年8个月 缓刑2年\",url : \"http://finance.sina.com.cn/world/gjcj/2017-12-22/doc-ifypvuqf0905969.shtml\",type : \\'1\\',pic : \\'\\',time : 1513925692},{channel : {title : \"科技\",id : \"96\",cType : \"col\",url : \"\"},title : \"河北将在雄安新区建设农业科技创新基地\",url : \"http://tech.sina.com.cn/it/2017-12-22/doc-ifypvuqf0898781.shtml\",type : \\'1\\',pic : \\'\\',time : 1513925582},{channel : {title : \"社会\",id : \"92\",cType : \"col\",url : \"\"},title : \"个人信息贩卖每条不足两毛 年底冲业绩还有打包价\",url : \"http://news.sina.com.cn/s/wh/2017-12-22/doc-ifypwzxq5379731.shtml\",type : \\'1\\',pic : \\'\\',time : 1513925472},{channel : {title : \"科技\",id : \"96\",cType : \"col\",url : \"\"},title : \"路透：奇虎360修改30亿美元等值贷款还款计划\",url : \"http://tech.sina.com.cn/i/2017-12-22/doc-ifypvuqf0890920.shtml\",type : \\'1\\',pic : \\'\\',time : 1513925456},{channel : {title : \"国际\",id : \"91\",cType : \"col\",url : \"\"},title : \"乐天集团会长辛东彬一审获刑1年8个月 缓刑2年\",url : \"http://news.sina.com.cn/w/sy/2017-12-22/doc-ifypxrpp3349143.shtml\",type : \\'1\\',pic : \\'\\',time : 1513925454},{channel : {title : \"体育\",id : \"94\",cType : \"col\",url : \"\"},title : \"上半程广厦惹不起！李春江看淡：日子还早呢\",url : \"http://sports.sina.com.cn/cba/2017-12-22/doc-ifypvuqf0889724.shtml\",type : \\'1\\',pic : \\'\\',time : 1513925435},{channel : {title : \"美股\",id : \"99\",cType : \"col\",url : \"\"},title : \"日本央行行长：经济好转也将维持货币宽松\",url : \"http://finance.sina.com.cn/stock/usstock/c/2017-12-22/doc-ifypvuqf0887387.shtml\",type : \\'1\\',pic : \\'\\',time : 1513925396},{channel : {title : \"国际\",id : \"91\",cType : \"col\",url : \"\"},title : \"马克龙政府首个预算案终通过 多项新规将生效\",url : \"http://news.sina.com.cn/w/2017-12-22/doc-ifypwzxq5378611.shtml\",type : \\'1\\',pic : \\'\\',time : 1513925375},{channel : {title : \"国际\",id : \"91\",cType : \"col\",url : \"\"},title : \"文在寅:特朗普承诺力保平昌安全 不用为冬奥担心\",url : \"http://news.sina.com.cn/w/2017-12-22/doc-ifypxmsq9358880.shtml\",type : \\'1\\',pic : \\'\\',time : 1513925374},{channel : {title : \"体育\",id : \"94\",cType : \"col\",url : \"\"},title : \"曼城还要恐怖升级！曝瓜帅要继续革命 再买3巨星\",url : \"http://sports.sina.com.cn/g/pl/2017-12-22/doc-ifypxrpp3348015.shtml\",type : \\'1\\',pic : \\'\\',time : 1513925181},{channel : {title : \"体育\",id : \"94\",cType : \"col\",url : \"\"},title : \"半程第7名！北京主帅：伤病太多 我们防守不错\",url : \"http://sports.sina.com.cn/cba/2017-12-22/doc-ifypvuqf0874401.shtml\",type : \\'1\\',pic : \\'\\',time : 1513925173},{channel : {title : \"社会\",id : \"92\",cType : \"col\",url : \"\"},title : \"女子腋下现鸡蛋大小脓肿 医生：和“吸猫”有关\",url : \"http://news.sina.com.cn/s/wh/2017-12-22/doc-ifypvuqf0870880.shtml\",type : \\'1\\',pic : \\'\\',time : 1513925096},{channel : {title : \"国内\",id : \"90\",cType : \"col\",url : \"\"},title : \"开国中将郑维山之女郑明民车祸去世 被撞后遭碾过\",url : \"http://news.sina.com.cn/c/nd/2017-12-22/doc-ifypvuqf0870575.shtml\",type : \\'1\\',pic : \\'\\',time : 1513925088},{channel : {title : \"国际\",id : \"91\",cType : \"col\",url : \"\"},title : \"卡斯特罗:古巴对美外交官所谓“声波攻击”没责任\",url : \"http://news.sina.com.cn/w/2017-12-22/doc-ifypxmsq9356811.shtml\",type : \\'1\\',pic : \\'\\',time : 1513925015},{channel : {title : \"国内\",id : \"90\",cType : \"col\",url : \"\"},title : \"中央环保督察通报四川问题：长江支流水环境严峻\",url : \"http://news.sina.com.cn/o/2017-12-22/doc-ifypxmsq9356493.shtml\",type : \\'1\\',pic : \\'\\',time : 1513924948}]}'"
      ]
     },
     "execution_count": 25,
     "metadata": {},
     "output_type": "execute_result"
    }
   ],
   "source": [
    "jd"
   ]
  },
  {
   "cell_type": "code",
   "execution_count": 12,
   "metadata": {
    "collapsed": true
   },
   "outputs": [],
   "source": [
    "tt = '{title : \"全部\", id : \"89\", cType : \"col\"}'"
   ]
  },
  {
   "cell_type": "code",
   "execution_count": 18,
   "metadata": {
    "collapsed": true
   },
   "outputs": [],
   "source": [
    "d = re.search('^,[\\w]*:$',tt)"
   ]
  },
  {
   "cell_type": "code",
   "execution_count": 23,
   "metadata": {},
   "outputs": [
    {
     "data": {
      "text/plain": [
       "'{title : \"全部\", id : \"89\", cType : \"col\"}'"
      ]
     },
     "execution_count": 23,
     "metadata": {},
     "output_type": "execute_result"
    }
   ],
   "source": [
    "re.sub('^, [\\w]*:$',\"xx\",tt)"
   ]
  },
  {
   "cell_type": "code",
   "execution_count": 56,
   "metadata": {},
   "outputs": [
    {
     "data": {
      "text/plain": [
       "'{\"serverSeconds \": 1513947365,\"last_time \": 1513947345,\"path \": [{\"title \": \"全部\",\"id \": \"89\",\"cType \": \"col\"}],\"count \": 15664,\"offset_page \": 0,\"offset_num \": 0,\"list \": [{\"channel \": {\"title \": \"体育\",\"id \": \"94\",\"cType \": \"col\",\"url \": \"\"},\"title \": \"女排土耳其杯朱婷夺10分 瓦基弗零封升班马进4强\",\"url \": \"http://sports.sina.com.cn/others/volleyball/2017-12-22/doc-ifypxrpp3418869.shtml\",\"type \": \\'1\\',\"pic \": \\'\\',\"time \": 1513947345},{\"channel \": {\"title \": \"美股\",\"id \": \"99\",\"cType \": \"col\",\"url \": \"\"},\"title \": \"华尔街日报：小米筹谋上市，估值或超千亿美元\",\"url \": \"http://finance.sina.com.cn/stock/usstock/c/2017-12-22/doc-ifypxrpp3417227.shtml\",\"type \": \\'1\\',\"pic \": \\'\\',\"time \": 1513946982},{\"channel \": {\"title \": \"体育\",\"id \": \"94\",\"cType \": \"col\",\"url \": \"\"},\"title \": \"太惨！霍尔曼右腿膝盖重伤 这表情痛苦又无助\",\"url \": \"http://sports.sina.com.cn/cba/2017-12-22/doc-ifypxrpp3416560.shtml\",\"type \": \\'1\\',\"pic \": \\'\\',\"time \": 1513946794},{\"channel \": {\"title \": \"体育\",\"id \": \"94\",\"cType \": \"col\",\"url \": \"\"},\"title \": \"CBA外援重伤被送医院！中断14分钟 没合适担架\",\"url \": \"http://sports.sina.com.cn/cba/2017-12-22/doc-ifypvuqf1914556.shtml\",\"type \": \\'1\\',\"pic \": \\'\\',\"time \": 1513946582},{\"channel \": {\"title \": \"美股\",\"id \": \"99\",\"cType \": \"col\",\"url \": \"\"},\"title \": \"罗氏将以17亿美元收购美国抗癌药生产商Ignyta\",\"url \": \"http://finance.sina.com.cn/stock/usstock/c/2017-12-22/doc-ifypvuqf1878042.shtml\",\"type \": \\'1\\',\"pic \": \\'\\',\"time \": 1513945707},{\"channel \": {\"title \": \"科技\",\"id \": \"96\",\"cType \": \"col\",\"url \": \"\"},\"title \": \"互撕再起！阿里王帅集中答问回应“反阿里联盟”的事\",\"url \": \"http://tech.sina.com.cn/i/2017-12-22/doc-ifypxrpp3411126.shtml\",\"type \": \\'1\\',\"pic \": \\'\\',\"time \": 1513945622},{\"channel \": {\"title \": \"体育\",\"id \": \"94\",\"cType \": \"col\",\"url \": \"\"},\"title \": \"河北华夏幸福青训9级梯队简介 青训计划将辐射全国\",\"url \": \"http://sports.sina.com.cn/china/j/2017-12-22/doc-ifypxrpp3410916.shtml\",\"type \": \\'1\\',\"pic \": \\'\\',\"time \": 1513945584},{\"channel \": {\"title \": \"体育\",\"id \": \"94\",\"cType \": \"col\",\"url \": \"\"},\"title \": \"史上最快+奖池新低!双色球9亿大派奖亮点频出\",\"url \": \"http://sports.sina.com.cn/l/2017-12-22/doc-ifypxrpp3409387.shtml\",\"type \": \\'1\\',\"pic \": \\'\\',\"time \": 1513945264},{\"channel \": {\"title \": \"体育\",\"id \": \"94\",\"cType \": \"col\",\"url \": \"\"},\"title \": \"今日数据趣谈:波神很尴尬 小詹皇历史第二人\",\"url \": \"http://sports.sina.com.cn/basketball/nba/2017-12-22/doc-ifypvuqf1836189.shtml\",\"type \": \\'1\\',\"pic \": \\'\\',\"time \": 1513944537},{\"channel \": {\"title \": \"国内\",\"id \": \"90\",\"cType \": \"col\",\"url \": \"\"},\"title \": \"京沈高速30多辆车连环相撞 造成近十几公里拥堵\",\"url \": \"http://news.sina.com.cn/c/nd/2017-12-22/doc-ifypvuqf1833309.shtml\",\"type \": \\'1\\',\"pic \": \\'\\',\"time \": 1513944452},{\"channel \": {\"title \": \"科技\",\"id \": \"96\",\"cType \": \"col\",\"url \": \"\"},\"title \": \"75后叶蓁蓁任人民网总裁 创新闻网站纪录\",\"url \": \"http://tech.sina.com.cn/i/2017-12-22/doc-ifypxrpp3406297.shtml\",\"type \": \\'1\\',\"pic \": \\'\\',\"time \": 1513944431},{\"channel \": {\"title \": \"美股\",\"id \": \"99\",\"cType \": \"col\",\"url \": \"\"},\"title \": \"英三季度GDP年增率上修 家庭支出同比增幅创5年最低\",\"url \": \"http://finance.sina.com.cn/stock/usstock/c/2017-12-22/doc-ifypxrpp3406189.shtml\",\"type \": \\'1\\',\"pic \": \\'\\',\"time \": 1513944371},{\"channel \": {\"title \": \"美股\",\"id \": \"99\",\"cType \": \"col\",\"url \": \"\"},\"title \": \"英国《金融时报》：为什么欧洲不应向中国磕头？\",\"url \": \"http://finance.sina.com.cn/stock/usstock/c/2017-12-22/doc-ifypvuqf1820524.shtml\",\"type \": \\'1\\',\"pic \": \\'\\',\"time \": 1513944101},{\"channel \": {\"title \": \"国内\",\"id \": \"90\",\"cType \": \"col\",\"url \": \"\"},\"title \": \"台艺人拿五星红旗拍照:活不耐烦 蔡当局敢来抓我?\",\"url \": \"http://news.sina.com.cn/c/gat/2017-12-22/doc-ifypxmsq9502216.shtml\",\"type \": \\'1\\',\"pic \": \\'\\',\"time \": 1513944030},{\"channel \": {\"title \": \"国际\",\"id \": \"91\",\"cType \": \"col\",\"url \": \"\"},\"title \": \"中国孕妇扎堆赴塞班岛产子 人数比当地孕妇还多\",\"url \": \"http://news.sina.com.cn/w/sy/2017-12-22/doc-ifypxmsq9501858.shtml\",\"type \": \\'1\\',\"pic \": \\'\\',\"time \": 1513943974},{\"channel \": {\"title \": \"体育\",\"id \": \"94\",\"cType \": \"col\",\"url \": \"\"},\"title \": \"东京奥运开幕式导演团队公布 不设总导演8人统筹\",\"url \": \"http://sports.sina.com.cn/others/others/2017-12-22/doc-ifypxrpp3404317.shtml\",\"type \": \\'1\\',\"pic \": \\'\\',\"time \": 1513943425},{\"channel \": {\"title \": \"国内\",\"id \": \"90\",\"cType \": \"col\",\"url \": \"\"},\"title \": \"85岁的老诗人“登上”中纪委网站 说了什么？\",\"url \": \"http://news.sina.com.cn/c/2017-12-22/doc-ifypwzxq5518640.shtml\",\"type \": \\'1\\',\"pic \": \\'\\',\"time \": 1513943277},{\"channel \": {\"title \": \"科技\",\"id \": \"96\",\"cType \": \"col\",\"url \": \"\"},\"title \": \"阿里王帅：中国是水军最多的国家 水军横行乌烟瘴气\",\"url \": \"http://tech.sina.com.cn/i/2017-12-22/doc-ifypxrpp3403436.shtml\",\"type \": \\'1\\',\"pic \": \\'\\',\"time \": 1513943090},{\"channel \": {\"title \": \"国内\",\"id \": \"90\",\"cType \": \"col\",\"url \": \"\"},\"title \": \"印度学者扬言:加强同台湾政治往来 别听大陆指挥\",\"url \": \"http://news.sina.com.cn/c/gat/2017-12-22/doc-ifypwzxq5514388.shtml\",\"type \": \\'1\\',\"pic \": \\'\\',\"time \": 1513942528},{\"channel \": {\"title \": \"国内\",\"id \": \"90\",\"cType \": \"col\",\"url \": \"\"},\"title \": \"国家监察法进入二审 最受关注的留置有何变化？\",\"url \": \"http://news.sina.com.cn/c/nd/2017-12-22/doc-ifypwzxq5513879.shtml\",\"type \": \\'1\\',\"pic \": \\'\\',\"time \": 1513942450},{\"channel \": {\"title \": \"社会\",\"id \": \"92\",\"cType \": \"col\",\"url \": \"\"},\"title \": \"整形大师主刀致富婆成植物人 丈夫许愿醒来捐千万\",\"url \": \"http://news.sina.com.cn/s/wh/2017-12-22/doc-ifypxmsq9492803.shtml\",\"type \": \\'1\\',\"pic \": \\'\\',\"time \": 1513942250},{\"channel \": {\"title \": \"社会\",\"id \": \"92\",\"cType \": \"col\",\"url \": \"\"},\"title \": \"男人被性侵很普遍？美疾控中心:近七成作案为女人\",\"url \": \"http://news.sina.com.cn/s/wh/2017-12-22/doc-ifypxmsq9492588.shtml\",\"type \": \\'1\\',\"pic \": \\'\\',\"time \": 1513942229},{\"channel \": {\"title \": \"国际\",\"id \": \"91\",\"cType \": \"col\",\"url \": \"\"},\"title \": \"英国疑似校园贷致学生上吊自杀 年利率高达1200%\",\"url \": \"http://news.sina.com.cn/w/sy/2017-12-22/doc-ifypxmsq9492576.shtml\",\"type \": \\'1\\',\"pic \": \\'\\',\"time \": 1513942228},{\"channel \": {\"title \": \"国内\",\"id \": \"90\",\"cType \": \"col\",\"url \": \"\"},\"title \": \"保姆纵火案若被告执意不换辩护人 案子如何进行？\",\"url \": \"http://news.sina.com.cn/c/nd/2017-12-22/doc-ifypwzxq5512251.shtml\",\"type \": \\'1\\',\"pic \": \\'\\',\"time \": 1513942224},{\"channel \": {\"title \": \"国际\",\"id \": \"91\",\"cType \": \"col\",\"url \": \"\"},\"title \": \"班农欲参选总统？曾称特朗普“像个11岁的小孩”\",\"url \": \"http://news.sina.com.cn/o/2017-12-22/doc-ifypxmsq9490043.shtml\",\"type \": \\'1\\',\"pic \": \\'\\',\"time \": 1513941722},{\"channel \": {\"title \": \"体育\",\"id \": \"94\",\"cType \": \"col\",\"url \": \"\"},\"title \": \"小丁：难忘NBA夏季联赛 为梦想豁出一切太爽！\",\"url \": \"http://sports.sina.com.cn/cba/2017-12-22/doc-ifypxrpp3400556.shtml\",\"type \": \\'1\\',\"pic \": \\'\\',\"time \": 1513941622},{\"channel \": {\"title \": \"美股\",\"id \": \"99\",\"cType \": \"col\",\"url \": \"\"},\"title \": \"特朗普“税改”到底掉改了些什么？\",\"url \": \"http://finance.sina.com.cn/stock/usstock/c/2017-12-22/doc-ifypxrpp3399150.shtml\",\"type \": \\'1\\',\"pic \": \\'\\',\"time \": 1513940962},{\"channel \": {\"title \": \"体育\",\"id \": \"94\",\"cType \": \"col\",\"url \": \"\"},\"title \": \"女足门神王飞转会至拜仁女足 身披1号签约1年半\",\"url \": \"http://sports.sina.com.cn/china/womenfootballs/2017-12-22/doc-ifypxrpp3399110.shtml\",\"type \": \\'1\\',\"pic \": \\'\\',\"time \": 1513940947},{\"channel \": {\"title \": \"国内\",\"id \": \"90\",\"cType \": \"col\",\"url \": \"\"},\"title \": \"台统派青年代表被查 专家“反独促统”能被打压？\",\"url \": \"http://news.sina.com.cn/c/2017-12-22/doc-ifypwzxq5505585.shtml\",\"type \": \\'1\\',\"pic \": \\'\\',\"time \": 1513940923},{\"channel \": {\"title \": \"科技\",\"id \": \"96\",\"cType \": \"col\",\"url \": \"\"},\"title \": \"方兴东回怼阿里王帅：马云下属目中无人 不懂得尊重\",\"url \": \"http://tech.sina.com.cn/i/2017-12-22/doc-ifypxrpp3398961.shtml\",\"type \": \\'1\\',\"pic \": \\'\\',\"time \": 1513940885},{\"channel \": {\"title \": \"社会\",\"id \": \"92\",\"cType \": \"col\",\"url \": \"\"},\"title \": \"16岁女孩求职模特被骗入夜总会 1个月挨打20多次\",\"url \": \"http://news.sina.com.cn/s/wh/2017-12-22/doc-ifypxmsq9485436.shtml\",\"type \": \\'1\\',\"pic \": \\'\\',\"time \": 1513940881},{\"channel \": {\"title \": \"体育\",\"id \": \"94\",\"cType \": \"col\",\"url \": \"\"},\"title \": \"德甲155球神锋转会获官方宣布 拜仁名将回母队\",\"url \": \"http://sports.sina.com.cn/global/germany/2017-12-22/doc-ifypvuqf1700985.shtml\",\"type \": \\'1\\',\"pic \": \\'\\',\"time \": 1513940752},{\"channel \": {\"title \": \"体育\",\"id \": \"94\",\"cType \": \"col\",\"url \": \"\"},\"title \": \"2018年第三届日本围棋大会暨第6届大阪围棋夏令营\",\"url \": \"http://sports.sina.com.cn/go/2017-12-22/doc-ifypxrpp3398664.shtml\",\"type \": \\'1\\',\"pic \": \\'\\',\"time \": 1513940730},{\"channel \": {\"title \": \"社会\",\"id \": \"92\",\"cType \": \"col\",\"url \": \"\"},\"title \": \"所有医生最想怼回去的10大问题 看看你问过吗\",\"url \": \"http://news.sina.com.cn/o/2017-12-22/doc-ifypwzxq5503713.shtml\",\"type \": \\'1\\',\"pic \": \\'\\',\"time \": 1513940650},{\"channel \": {\"title \": \"国内\",\"id \": \"90\",\"cType \": \"col\",\"url \": \"\"},\"title \": \"60后候补中委最新任命公布 出任河北省委宣传部长\",\"url \": \"http://news.sina.com.cn/c/nd/2017-12-22/doc-ifypwzxq5502449.shtml\",\"type \": \\'1\\',\"pic \": \\'\\',\"time \": 1513940413},{\"channel \": {\"title \": \"国内\",\"id \": \"90\",\"cType \": \"col\",\"url \": \"\"},\"title \": \"发改委:保障民生需求前提下推进北方清洁供暖工程\",\"url \": \"http://news.sina.com.cn/o/2017-12-22/doc-ifypwzxq5502103.shtml\",\"type \": \\'1\\',\"pic \": \\'\\',\"time \": 1513940346},{\"channel \": {\"title \": \"科技\",\"id \": \"96\",\"cType \": \"col\",\"url \": \"\"},\"title \": \"陈刚上任去哪儿CEO后首亮相 与酒店打通会员制\",\"url \": \"http://tech.sina.com.cn/i/2017-12-22/doc-ifypxrpp3398018.shtml\",\"type \": \\'1\\',\"pic \": \\'\\',\"time \": 1513940316},{\"channel \": {\"title \": \"体育\",\"id \": \"94\",\"cType \": \"col\",\"url \": \"\"},\"title \": \"叶琳娜空砍29分19篮板 四川主场不敌强敌新疆\",\"url \": \"http://sports.sina.com.cn/cba/2017-12-22/doc-ifypvuqf1678949.shtml\",\"type \": \\'1\\',\"pic \": \\'\\',\"time \": 1513940211},{\"channel \": {\"title \": \"体育\",\"id \": \"94\",\"cType \": \"col\",\"url \": \"\"},\"title \": \"广东女篮2分惜败山西 吴迪关键三分杀死比赛\",\"url \": \"http://sports.sina.com.cn/cba/2017-12-22/doc-ifypxrpp3397415.shtml\",\"type \": \\'1\\',\"pic \": \\'\\',\"time \": 1513940073},{\"channel \": {\"title \": \"国内\",\"id \": \"90\",\"cType \": \"col\",\"url \": \"\"},\"title \": \"蔡当局搜查新党青年惹众怒 遭怼：绿色恐怖(图)\",\"url \": \"http://news.sina.com.cn/c/gat/2017-12-22/doc-ifypxmsq9479015.shtml\",\"type \": \\'2\\',\"pic \": \\'\\',\"time \": 1513939772},{\"channel \": {\"title \": \"科技\",\"id \": \"96\",\"cType \": \"col\",\"url \": \"\"},\"title \": \"朋友圈都撕起来了！腾讯、京东、方兴东回怼阿里王帅\",\"url \": \"http://tech.sina.com.cn/i/2017-12-22/doc-ifypvuqf1659011.shtml\",\"type \": \\'1\\',\"pic \": \\'\\',\"time \": 1513939703},{\"channel \": {\"title \": \"体育\",\"id \": \"94\",\"cType \": \"col\",\"url \": \"\"},\"title \": \"中国青少年大师赛收官 梁恩旗吕田分获男女冠军\",\"url \": \"http://sports.sina.com.cn/golf/chinareport/2017-12-22/doc-ifypvuqf1655534.shtml\",\"type \": \\'1\\',\"pic \": \\'\\',\"time \": 1513939619},{\"channel \": {\"title \": \"体育\",\"id \": \"94\",\"cType \": \"col\",\"url \": \"\"},\"title \": \"城围联决赛前瞻：景德镇双保险 衢州强者运强\",\"url \": \"http://sports.sina.com.cn/go/2017-12-22/doc-ifypxrpp3396248.shtml\",\"type \": \\'1\\',\"pic \": \\'\\',\"time \": 1513939426},{\"channel \": {\"title \": \"国内\",\"id \": \"90\",\"cType \": \"col\",\"url \": \"\"},\"title \": \"网友被外交部发言人华春莹大笑圈粉:可爱又迷人\",\"url \": \"http://news.sina.com.cn/c/nd/2017-12-22/doc-ifypxmsq9477246.shtml\",\"type \": \\'3\\',\"pic \": \\'\\',\"time \": 1513939298},{\"channel \": {\"title \": \"财经\",\"id \": \"97\",\"cType \": \"col\",\"url \": \"\"},\"title \": \"牛汇:澳洲汽车撞人与恐袭并无瓜葛 澳元趁势上涨\",\"url \": \"http://finance.sina.com.cn/money/forex/forexfxyc/2017-12-22/doc-ifypxrpp3395326.shtml\",\"type \": \\'1\\',\"pic \": \\'\\',\"time \": 1513939029},{\"channel \": {\"title \": \"财经\",\"id \": \"97\",\"cType \": \"col\",\"url \": \"\"},\"title \": \"牛汇:美储副主席悬念尚待解开 前理事林赛呼声最高\",\"url \": \"http://finance.sina.com.cn/money/forex/forexfxyc/2017-12-22/doc-ifypvuqf1621156.shtml\",\"type \": \\'1\\',\"pic \": \\'\\',\"time \": 1513938943},{\"channel \": {\"title \": \"国际\",\"id \": \"91\",\"cType \": \"col\",\"url \": \"\"},\"title \": \"这个印度穷小子外号劈柴哥 靠读书逆袭成谷歌CEO\",\"url \": \"http://news.sina.com.cn/w/sy/2017-12-22/doc-ifypxmsq9474908.shtml\",\"type \": \\'1\\',\"pic \": \\'\\',\"time \": 1513938888},{\"channel \": {\"title \": \"国际\",\"id \": \"91\",\"cType \": \"col\",\"url \": \"\"},\"title \": \"印“大师”与执法部门勾结 性侵少女信徒屡屡得手\",\"url \": \"http://news.sina.com.cn/w/sy/2017-12-22/doc-ifypwzxq5494644.shtml\",\"type \": \\'1\\',\"pic \": \\'\\',\"time \": 1513938875},{\"channel \": {\"title \": \"国内\",\"id \": \"90\",\"cType \": \"col\",\"url \": \"\"},\"title \": \"台绿营名嘴：新党青年拿大陆500万 要建军事组织\",\"url \": \"http://news.sina.com.cn/o/2017-12-22/doc-ifypwzxq5494641.shtml\",\"type \": \\'1\\',\"pic \": \\'\\',\"time \": 1513938875},{\"channel \": {\"title \": \"体育\",\"id \": \"94\",\"cType \": \"col\",\"url \": \"\"},\"title \": \"特写|戴卿尧回到赛场的首秀 上海冲冠怎能少了他\",\"url \": \"http://sports.sina.com.cn/others/volleyball/2017-12-22/doc-ifypxrpp3394263.shtml\",\"type \": \\'1\\',\"pic \": \\'\\',\"time \": 1513938740},{\"channel \": {\"title \": \"社会\",\"id \": \"92\",\"cType \": \"col\",\"url \": \"\"},\"title \": \"孙女拍照记爷爷最后7年:这装着我和爷爷全部的爱\",\"url \": \"http://news.sina.com.cn/s/wh/2017-12-22/doc-ifypwzxq5491734.shtml\",\"type \": \\'1\\',\"pic \": \\'\\',\"time \": 1513938560},{\"channel \": {\"title \": \"财经\",\"id \": \"97\",\"cType \": \"col\",\"url \": \"\"},\"title \": \"N220炭黑市场报价上涨至历史高位 明年1月涨势将减缓\",\"url \": \"http://finance.sina.com.cn/money/future/fmnews/2017-12-22/doc-ifypvuqf1597726.shtml\",\"type \": \\'1\\',\"pic \": \\'\\',\"time \": 1513938508},{\"channel \": {\"title \": \"社会\",\"id \": \"92\",\"cType \": \"col\",\"url \": \"\"},\"title \": \"鸡蛋壳可以解决这些问题 看了保准你大吃一惊(图)\",\"url \": \"http://news.sina.com.cn/o/2017-12-22/doc-ifypxmsq9471657.shtml\",\"type \": \\'2\\',\"pic \": \\'\\',\"time \": 1513938473},{\"channel \": {\"title \": \"财经\",\"id \": \"97\",\"cType \": \"col\",\"url \": \"\"},\"title \": \"XCOQ爱客:美日开始筑顶 黄金可继续做多\",\"url \": \"http://finance.sina.com.cn/money/forex/forexfxyc/2017-12-22/doc-ifypvuqf1595105.shtml\",\"type \": \\'1\\',\"pic \": \\'\\',\"time \": 1513938447},{\"channel \": {\"title \": \"国际\",\"id \": \"91\",\"cType \": \"col\",\"url \": \"\"},\"title \": \"巴勒斯坦总统：巴人不会接受美国任何的和平计划\",\"url \": \"http://news.sina.com.cn/w/2017-12-22/doc-ifypwzxq5490170.shtml\",\"type \": \\'1\\',\"pic \": \\'\\',\"time \": 1513938153},{\"channel \": {\"title \": \"国内\",\"id \": \"90\",\"cType \": \"col\",\"url \": \"\"},\"title \": \"中国药出口腹背受敌:高端难敌欧美 低端不如印度\",\"url \": \"http://news.sina.com.cn/c/nd/2017-12-22/doc-ifypxmsq9469756.shtml\",\"type \": \\'1\\',\"pic \": \\'\\',\"time \": 1513938079},{\"channel \": {\"title \": \"国内\",\"id \": \"90\",\"cType \": \"col\",\"url \": \"\"},\"title \": \"陕西周至路灯一盏5.5万元?官方:工作人员表述不当\",\"url \": \"http://news.sina.com.cn/o/2017-12-22/doc-ifypxmsq9469012.shtml\",\"type \": \\'1\\',\"pic \": \\'\\',\"time \": 1513938016},{\"channel \": {\"title \": \"科技\",\"id \": \"96\",\"cType \": \"col\",\"url \": \"\"},\"title \": \"暴走CEO再回应王尼玛离职事件:王尼玛从来就是一个人\",\"url \": \"http://tech.sina.com.cn/i/2017-12-22/doc-ifypxrpp3392012.shtml\",\"type \": \\'1\\',\"pic \": \\'\\',\"time \": 1513937909},{\"channel \": {\"title \": \"国际\",\"id \": \"91\",\"cType \": \"col\",\"url \": \"\"},\"title \": \"巴基斯坦中部发生重大交通事故 至少造成11死20伤\",\"url \": \"http://news.sina.com.cn/o/2017-12-22/doc-ifypwzxq5487806.shtml\",\"type \": \\'1\\',\"pic \": \\'\\',\"time \": 1513937859},{\"channel \": {\"title \": \"国内\",\"id \": \"90\",\"cType \": \"col\",\"url \": \"\"},\"title \": \"“中国教授炮轰法国”视频火了 真相却令国人愤怒\",\"url \": \"http://news.sina.com.cn/c/nd/2017-12-22/doc-ifypwzxq5486227.shtml\",\"type \": \\'1\\',\"pic \": \\'\\',\"time \": 1513937532}]}'"
      ]
     },
     "execution_count": 56,
     "metadata": {},
     "output_type": "execute_result"
    }
   ],
   "source": [
    "import re\n",
    "s = re.sub('([{,])\\s*([^{:\\s+\"]*.):', lambda m: '%s\"%s\":'%(m.group(1),m.group(2)),jd)\n",
    "s"
   ]
  },
  {
   "cell_type": "code",
   "execution_count": 57,
   "metadata": {},
   "outputs": [
    {
     "ename": "JSONDecodeError",
     "evalue": "Expecting value: line 1 column 379 (char 378)",
     "output_type": "error",
     "traceback": [
      "\u001b[1;31m---------------------------------------------------------------------------\u001b[0m",
      "\u001b[1;31mJSONDecodeError\u001b[0m                           Traceback (most recent call last)",
      "\u001b[1;32m<ipython-input-57-040102d73cc7>\u001b[0m in \u001b[0;36m<module>\u001b[1;34m()\u001b[0m\n\u001b[0;32m      2\u001b[0m \u001b[1;31m#因为字典的key要加引号\u001b[0m\u001b[1;33m\u001b[0m\u001b[1;33m\u001b[0m\u001b[0m\n\u001b[0;32m      3\u001b[0m \u001b[1;32mimport\u001b[0m \u001b[0mjson\u001b[0m\u001b[1;33m\u001b[0m\u001b[0m\n\u001b[1;32m----> 4\u001b[1;33m \u001b[0mdata\u001b[0m \u001b[1;33m=\u001b[0m \u001b[0mjson\u001b[0m\u001b[1;33m.\u001b[0m\u001b[0mloads\u001b[0m\u001b[1;33m(\u001b[0m\u001b[0ms\u001b[0m\u001b[1;33m)\u001b[0m\u001b[1;33m\u001b[0m\u001b[0m\n\u001b[0m",
      "\u001b[1;32mC:\\Users\\dell\\Anaconda3\\lib\\json\\__init__.py\u001b[0m in \u001b[0;36mloads\u001b[1;34m(s, encoding, cls, object_hook, parse_float, parse_int, parse_constant, object_pairs_hook, **kw)\u001b[0m\n\u001b[0;32m    352\u001b[0m             \u001b[0mparse_int\u001b[0m \u001b[1;32mis\u001b[0m \u001b[1;32mNone\u001b[0m \u001b[1;32mand\u001b[0m \u001b[0mparse_float\u001b[0m \u001b[1;32mis\u001b[0m \u001b[1;32mNone\u001b[0m \u001b[1;32mand\u001b[0m\u001b[1;33m\u001b[0m\u001b[0m\n\u001b[0;32m    353\u001b[0m             parse_constant is None and object_pairs_hook is None and not kw):\n\u001b[1;32m--> 354\u001b[1;33m         \u001b[1;32mreturn\u001b[0m \u001b[0m_default_decoder\u001b[0m\u001b[1;33m.\u001b[0m\u001b[0mdecode\u001b[0m\u001b[1;33m(\u001b[0m\u001b[0ms\u001b[0m\u001b[1;33m)\u001b[0m\u001b[1;33m\u001b[0m\u001b[0m\n\u001b[0m\u001b[0;32m    355\u001b[0m     \u001b[1;32mif\u001b[0m \u001b[0mcls\u001b[0m \u001b[1;32mis\u001b[0m \u001b[1;32mNone\u001b[0m\u001b[1;33m:\u001b[0m\u001b[1;33m\u001b[0m\u001b[0m\n\u001b[0;32m    356\u001b[0m         \u001b[0mcls\u001b[0m \u001b[1;33m=\u001b[0m \u001b[0mJSONDecoder\u001b[0m\u001b[1;33m\u001b[0m\u001b[0m\n",
      "\u001b[1;32mC:\\Users\\dell\\Anaconda3\\lib\\json\\decoder.py\u001b[0m in \u001b[0;36mdecode\u001b[1;34m(self, s, _w)\u001b[0m\n\u001b[0;32m    337\u001b[0m \u001b[1;33m\u001b[0m\u001b[0m\n\u001b[0;32m    338\u001b[0m         \"\"\"\n\u001b[1;32m--> 339\u001b[1;33m         \u001b[0mobj\u001b[0m\u001b[1;33m,\u001b[0m \u001b[0mend\u001b[0m \u001b[1;33m=\u001b[0m \u001b[0mself\u001b[0m\u001b[1;33m.\u001b[0m\u001b[0mraw_decode\u001b[0m\u001b[1;33m(\u001b[0m\u001b[0ms\u001b[0m\u001b[1;33m,\u001b[0m \u001b[0midx\u001b[0m\u001b[1;33m=\u001b[0m\u001b[0m_w\u001b[0m\u001b[1;33m(\u001b[0m\u001b[0ms\u001b[0m\u001b[1;33m,\u001b[0m \u001b[1;36m0\u001b[0m\u001b[1;33m)\u001b[0m\u001b[1;33m.\u001b[0m\u001b[0mend\u001b[0m\u001b[1;33m(\u001b[0m\u001b[1;33m)\u001b[0m\u001b[1;33m)\u001b[0m\u001b[1;33m\u001b[0m\u001b[0m\n\u001b[0m\u001b[0;32m    340\u001b[0m         \u001b[0mend\u001b[0m \u001b[1;33m=\u001b[0m \u001b[0m_w\u001b[0m\u001b[1;33m(\u001b[0m\u001b[0ms\u001b[0m\u001b[1;33m,\u001b[0m \u001b[0mend\u001b[0m\u001b[1;33m)\u001b[0m\u001b[1;33m.\u001b[0m\u001b[0mend\u001b[0m\u001b[1;33m(\u001b[0m\u001b[1;33m)\u001b[0m\u001b[1;33m\u001b[0m\u001b[0m\n\u001b[0;32m    341\u001b[0m         \u001b[1;32mif\u001b[0m \u001b[0mend\u001b[0m \u001b[1;33m!=\u001b[0m \u001b[0mlen\u001b[0m\u001b[1;33m(\u001b[0m\u001b[0ms\u001b[0m\u001b[1;33m)\u001b[0m\u001b[1;33m:\u001b[0m\u001b[1;33m\u001b[0m\u001b[0m\n",
      "\u001b[1;32mC:\\Users\\dell\\Anaconda3\\lib\\json\\decoder.py\u001b[0m in \u001b[0;36mraw_decode\u001b[1;34m(self, s, idx)\u001b[0m\n\u001b[0;32m    355\u001b[0m             \u001b[0mobj\u001b[0m\u001b[1;33m,\u001b[0m \u001b[0mend\u001b[0m \u001b[1;33m=\u001b[0m \u001b[0mself\u001b[0m\u001b[1;33m.\u001b[0m\u001b[0mscan_once\u001b[0m\u001b[1;33m(\u001b[0m\u001b[0ms\u001b[0m\u001b[1;33m,\u001b[0m \u001b[0midx\u001b[0m\u001b[1;33m)\u001b[0m\u001b[1;33m\u001b[0m\u001b[0m\n\u001b[0;32m    356\u001b[0m         \u001b[1;32mexcept\u001b[0m \u001b[0mStopIteration\u001b[0m \u001b[1;32mas\u001b[0m \u001b[0merr\u001b[0m\u001b[1;33m:\u001b[0m\u001b[1;33m\u001b[0m\u001b[0m\n\u001b[1;32m--> 357\u001b[1;33m             \u001b[1;32mraise\u001b[0m \u001b[0mJSONDecodeError\u001b[0m\u001b[1;33m(\u001b[0m\u001b[1;34m\"Expecting value\"\u001b[0m\u001b[1;33m,\u001b[0m \u001b[0ms\u001b[0m\u001b[1;33m,\u001b[0m \u001b[0merr\u001b[0m\u001b[1;33m.\u001b[0m\u001b[0mvalue\u001b[0m\u001b[1;33m)\u001b[0m \u001b[1;32mfrom\u001b[0m \u001b[1;32mNone\u001b[0m\u001b[1;33m\u001b[0m\u001b[0m\n\u001b[0m\u001b[0;32m    358\u001b[0m         \u001b[1;32mreturn\u001b[0m \u001b[0mobj\u001b[0m\u001b[1;33m,\u001b[0m \u001b[0mend\u001b[0m\u001b[1;33m\u001b[0m\u001b[0m\n",
      "\u001b[1;31mJSONDecodeError\u001b[0m: Expecting value: line 1 column 379 (char 378)"
     ]
    }
   ],
   "source": [
    "#报错JSONDecodeError: Expecting property name enclosed in double quotes: line 2 column 2 (char 3)\n",
    "#因为字典的key要加引号\n",
    "import json\n",
    "data = json.loads(s)"
   ]
  },
  {
   "cell_type": "code",
   "execution_count": 61,
   "metadata": {},
   "outputs": [
    {
     "data": {
      "text/plain": [
       "'9.shtml\",\"type \": \\'1\\',\"pi'"
      ]
     },
     "execution_count": 61,
     "metadata": {},
     "output_type": "execute_result"
    }
   ],
   "source": [
    "s[360:385]"
   ]
  },
  {
   "cell_type": "code",
   "execution_count": 65,
   "metadata": {},
   "outputs": [
    {
     "data": {
      "text/plain": [
       "{'type ': 0}"
      ]
     },
     "execution_count": 65,
     "metadata": {},
     "output_type": "execute_result"
    }
   ],
   "source": [
    "json.loads('{\"type \": \\'1\\'}')"
   ]
  },
  {
   "cell_type": "code",
   "execution_count": null,
   "metadata": {
    "collapsed": true
   },
   "outputs": [],
   "source": [
    "#爬取新浪网新闻信息\n",
    "#设置爬取show_num=1000条新闻\n",
    "import requests\n",
    "import json\n",
    "url = 'http://api.roll.news.sina.com.cn/zt_list?channel=news&cat_1=gjxw&level==1||=2&show_ext=1 \\\n",
    "       &show_all=1&show_num=1000&tag=1&format=json&page=1&callback=newsloadercallback&_=1496538497721'\n",
    "res = requests.get(url)\n",
    "#res.text\n",
    "jd = res.text.lstrip('  newsloadercallback(').rstrip(');')\n",
    "data = json.loads(jd)\n",
    "\n",
    "\n",
    "#定义函数抓取新闻内容\n",
    "from bs4 import BeautifulSoup\n",
    "def getArticle(url):\n",
    "    res = requests.get(url)\n",
    "    res.encoding = 'utf-8'\n",
    "    soup = BeautifulSoup(res.text, 'html.parser')\n",
    "    return ' '.join([p.text.strip() for p in soup.select('#article p')])\n",
    "\n",
    "#抓取新闻资料\n",
    "ary = []\n",
    "for rec in data['result']['data']:\n",
    "    try:\n",
    "        ary.append({'title':rec['title'], 'url':rec['url'], 'content': getArticle(rec['url'])})\n",
    "    except:\n",
    "        print(rec['title'])\n",
    "\n",
    "#储存新闻数据\n",
    "import pandas\n",
    "df = pandas.DataFrame(ary)\n",
    "df.to_excel('news.xlsx')\n",
    "\n",
    "#读取中文停用词\n",
    "stop_words = pandas.read_excel('Chinese_stop_words.xlsx',header=None) \n",
    "\n",
    "#将DataFrame转化为list，首先使用np.array()函数把DataFrame转化为np.ndarray()，再利用tolist()函数把np.ndarray()转为list\n",
    "import numpy as np\n",
    "stop_words = np.array(stop_words).tolist()\n",
    "\n",
    "#利用jieba进行分词\n",
    "import jieba\n",
    "\n",
    "##定义函数进行分词并同时去除停用词\n",
    "def cut_withNo_stopWords(ss):\n",
    "    tem = jieba.cut(ss)              #jieba分词\n",
    "    outstr=''\n",
    "    for i in tem:\n",
    "        if i not in stop_words[0]:   #去除停用词\n",
    "            outstr += i\n",
    "            outstr += ' '\n",
    "    return outstr\n",
    "\n",
    "##分词并存放入list\n",
    "titles   = []\n",
    "articles = [] \n",
    "for rec in df.iterrows():\n",
    "    #print(rec[1].content)\n",
    "    articles.append(''.join(cut_withNo_stopWords(rec[1].content)))\n",
    "    titles.append(rec[1].title)\n",
    "    \n",
    "#建立词频矩阵\n",
    "from sklearn.feature_extraction.text import CountVectorizer\n",
    "vectorizer = CountVectorizer() \n",
    "X = vectorizer.fit_transform(articles)\n",
    "\n",
    "#保存词频矩阵\n",
    "matr = X.toarray()\n",
    "pandas.DataFrame(matr).to_csv(\"word_matrix.csv\")        "
   ]
  },
  {
   "cell_type": "code",
   "execution_count": null,
   "metadata": {
    "collapsed": true
   },
   "outputs": [],
   "source": []
  },
  {
   "cell_type": "code",
   "execution_count": null,
   "metadata": {
    "collapsed": true
   },
   "outputs": [],
   "source": []
  }
 ],
 "metadata": {
  "kernelspec": {
   "display_name": "Python 3",
   "language": "python",
   "name": "python3"
  },
  "language_info": {
   "codemirror_mode": {
    "name": "ipython",
    "version": 3
   },
   "file_extension": ".py",
   "mimetype": "text/x-python",
   "name": "python",
   "nbconvert_exporter": "python",
   "pygments_lexer": "ipython3",
   "version": "3.6.3"
  }
 },
 "nbformat": 4,
 "nbformat_minor": 2
}
