{
 "cells": [
  {
   "cell_type": "markdown",
   "metadata": {},
   "source": [
    "# 爬虫练习一"
   ]
  },
  {
   "cell_type": "markdown",
   "metadata": {},
   "source": [
    "PANDAS 数据合并与重塑（concat篇）http://blog.csdn.net/stevenkwong/article/details/52528616"
   ]
  },
  {
   "cell_type": "code",
   "execution_count": 1,
   "metadata": {
    "collapsed": true
   },
   "outputs": [],
   "source": [
    "import requests\n",
    "res = requests.get('https://market.douban.com/book/?utm_campaign=book_nav_freyr&utm_source=douban&utm_medium=pc_web')"
   ]
  },
  {
   "cell_type": "code",
   "execution_count": 3,
   "metadata": {
    "collapsed": true
   },
   "outputs": [],
   "source": [
    "from bs4 import BeautifulSoup"
   ]
  },
  {
   "cell_type": "code",
   "execution_count": 39,
   "metadata": {
    "collapsed": true
   },
   "outputs": [],
   "source": [
    "import numpy as np\n",
    "import pandas as pd"
   ]
  },
  {
   "cell_type": "code",
   "execution_count": 4,
   "metadata": {
    "collapsed": true
   },
   "outputs": [],
   "source": [
    "soup = BeautifulSoup(res.text, 'html.parser')"
   ]
  },
  {
   "cell_type": "code",
   "execution_count": 48,
   "metadata": {
    "collapsed": true
   },
   "outputs": [],
   "source": [
    "#soup.select('h3')[0].text\n",
    "#soup.select('.book-price')[0].text\n",
    "#soup.select('.book-quote')[0].text.strip('\\n')\n",
    "titleh = []\n",
    "priceh = []\n",
    "quoteh = []\n",
    "for title in soup.select('h3'):\n",
    "    titleh.append(title.text) \n",
    "\n",
    "for price in soup.select('.book-price'):\n",
    "    priceh.append(price.text) \n",
    "    \n",
    "for quote in soup.select('.book-quote'):\n",
    "    quoteh.append(quote.text.strip('\\n')) "
   ]
  },
  {
   "cell_type": "code",
   "execution_count": 46,
   "metadata": {},
   "outputs": [
    {
     "data": {
      "text/plain": [
       "numpy.ndarray"
      ]
     },
     "execution_count": 46,
     "metadata": {},
     "output_type": "execute_result"
    }
   ],
   "source": [
    "type(np.vstack((titleh,priceh,quoteh))) "
   ]
  },
  {
   "cell_type": "code",
   "execution_count": 51,
   "metadata": {
    "collapsed": true
   },
   "outputs": [],
   "source": [
    "data = pd.DataFrame(np.vstack((titleh,priceh,quoteh))).T"
   ]
  },
  {
   "cell_type": "code",
   "execution_count": 52,
   "metadata": {
    "collapsed": true
   },
   "outputs": [],
   "source": [
    "data.columns = ['title', 'price', 'quote']"
   ]
  },
  {
   "cell_type": "code",
   "execution_count": 53,
   "metadata": {},
   "outputs": [
    {
     "data": {
      "text/html": [
       "<div>\n",
       "<style>\n",
       "    .dataframe thead tr:only-child th {\n",
       "        text-align: right;\n",
       "    }\n",
       "\n",
       "    .dataframe thead th {\n",
       "        text-align: left;\n",
       "    }\n",
       "\n",
       "    .dataframe tbody tr th {\n",
       "        vertical-align: top;\n",
       "    }\n",
       "</style>\n",
       "<table border=\"1\" class=\"dataframe\">\n",
       "  <thead>\n",
       "    <tr style=\"text-align: right;\">\n",
       "      <th></th>\n",
       "      <th>title</th>\n",
       "      <th>price</th>\n",
       "      <th>quote</th>\n",
       "    </tr>\n",
       "  </thead>\n",
       "  <tbody>\n",
       "    <tr>\n",
       "      <th>0</th>\n",
       "      <td>丰子恺艺术四书</td>\n",
       "      <td>¥269.00</td>\n",
       "      <td>跟随一代艺术大家认识美与慈悲</td>\n",
       "    </tr>\n",
       "    <tr>\n",
       "      <th>1</th>\n",
       "      <td>世界电影地图 三部曲</td>\n",
       "      <td>¥299.00</td>\n",
       "      <td>1000部电影的时空旅行</td>\n",
       "    </tr>\n",
       "    <tr>\n",
       "      <th>2</th>\n",
       "      <td>寂然的狂喜</td>\n",
       "      <td>¥78.40</td>\n",
       "      <td>迄今最美的叶芝诗集，天才诗歌与艺术相遇的纸上美术馆</td>\n",
       "    </tr>\n",
       "    <tr>\n",
       "      <th>3</th>\n",
       "      <td>造房子</td>\n",
       "      <td>¥62.40</td>\n",
       "      <td>世界建筑最高奖首位中国得主王澍，获奖后的第一本建筑文化随笔集。</td>\n",
       "    </tr>\n",
       "    <tr>\n",
       "      <th>4</th>\n",
       "      <td>悲观主义三部曲</td>\n",
       "      <td>¥131.20</td>\n",
       "      <td>从《恋爱的犀牛》到《柔软》，和廖一梅谈谈爱和生命</td>\n",
       "    </tr>\n",
       "    <tr>\n",
       "      <th>5</th>\n",
       "      <td>自由与爱之地</td>\n",
       "      <td>¥39.20</td>\n",
       "      <td>应许之地的爱与自由，一场31天以色列非典型旅行</td>\n",
       "    </tr>\n",
       "    <tr>\n",
       "      <th>6</th>\n",
       "      <td>梳毛、八卦及语言的进化</td>\n",
       "      <td>¥45.00</td>\n",
       "      <td>我们为什么拥有语言，它从哪里来，它何时产生？</td>\n",
       "    </tr>\n",
       "    <tr>\n",
       "      <th>7</th>\n",
       "      <td>未知大学</td>\n",
       "      <td>¥134.40</td>\n",
       "      <td>“最终诗人像孩子和诗人的孩子”，波拉尼奥一生的文学病例</td>\n",
       "    </tr>\n",
       "    <tr>\n",
       "      <th>8</th>\n",
       "      <td>奈良手记</td>\n",
       "      <td>¥54.40</td>\n",
       "      <td>独家日记大公开，还原一个最真实的奈良美智</td>\n",
       "    </tr>\n",
       "    <tr>\n",
       "      <th>9</th>\n",
       "      <td>不思议图书馆</td>\n",
       "      <td>¥38.40</td>\n",
       "      <td>让寺山修司为脑洞充值，欢迎来到冷知识图书馆</td>\n",
       "    </tr>\n",
       "    <tr>\n",
       "      <th>10</th>\n",
       "      <td>如花在野</td>\n",
       "      <td>¥54.40</td>\n",
       "      <td>日本花道大师插花物语，千里家茶道教授张南揽翻译</td>\n",
       "    </tr>\n",
       "    <tr>\n",
       "      <th>11</th>\n",
       "      <td>与火同行</td>\n",
       "      <td>¥39.80</td>\n",
       "      <td>从《穆赫兰道》到《双峰镇》，和大卫·林奇谈电影</td>\n",
       "    </tr>\n",
       "    <tr>\n",
       "      <th>12</th>\n",
       "      <td>被仰望与被遗忘的</td>\n",
       "      <td>¥52.00</td>\n",
       "      <td>20世纪最伟大的非虚构书写，全世界特稿写作者的典范</td>\n",
       "    </tr>\n",
       "    <tr>\n",
       "      <th>13</th>\n",
       "      <td>百鬼夜行 阳</td>\n",
       "      <td>¥39.20</td>\n",
       "      <td>“世上没有不可思议的事”，京极夏彦的妖怪十夜谈</td>\n",
       "    </tr>\n",
       "    <tr>\n",
       "      <th>14</th>\n",
       "      <td>造物</td>\n",
       "      <td>¥54.40</td>\n",
       "      <td>改变世界的万物图典，3000幅图里的发明与冒险</td>\n",
       "    </tr>\n",
       "    <tr>\n",
       "      <th>15</th>\n",
       "      <td>山之四季</td>\n",
       "      <td>¥25.60</td>\n",
       "      <td>一个人在山里住七年，日本桂冠诗人山居笔记</td>\n",
       "    </tr>\n",
       "    <tr>\n",
       "      <th>16</th>\n",
       "      <td>现世</td>\n",
       "      <td>¥31.20</td>\n",
       "      <td>时间和世界的秘密，普利策奖得主的万物之书</td>\n",
       "    </tr>\n",
       "    <tr>\n",
       "      <th>17</th>\n",
       "      <td>我在天堂那五年</td>\n",
       "      <td>¥38.40</td>\n",
       "      <td>不可思议的友谊奇迹，人生路上柔软的智慧之光</td>\n",
       "    </tr>\n",
       "  </tbody>\n",
       "</table>\n",
       "</div>"
      ],
      "text/plain": [
       "          title    price                            quote\n",
       "0       丰子恺艺术四书  ¥269.00                   跟随一代艺术大家认识美与慈悲\n",
       "1    世界电影地图 三部曲  ¥299.00                     1000部电影的时空旅行\n",
       "2         寂然的狂喜   ¥78.40        迄今最美的叶芝诗集，天才诗歌与艺术相遇的纸上美术馆\n",
       "3           造房子   ¥62.40  世界建筑最高奖首位中国得主王澍，获奖后的第一本建筑文化随笔集。\n",
       "4      悲观主义三部曲   ¥131.20         从《恋爱的犀牛》到《柔软》，和廖一梅谈谈爱和生命\n",
       "5        自由与爱之地   ¥39.20          应许之地的爱与自由，一场31天以色列非典型旅行\n",
       "6   梳毛、八卦及语言的进化   ¥45.00           我们为什么拥有语言，它从哪里来，它何时产生？\n",
       "7          未知大学  ¥134.40      “最终诗人像孩子和诗人的孩子”，波拉尼奥一生的文学病例\n",
       "8          奈良手记   ¥54.40             独家日记大公开，还原一个最真实的奈良美智\n",
       "9        不思议图书馆   ¥38.40            让寺山修司为脑洞充值，欢迎来到冷知识图书馆\n",
       "10         如花在野   ¥54.40          日本花道大师插花物语，千里家茶道教授张南揽翻译\n",
       "11         与火同行   ¥39.80          从《穆赫兰道》到《双峰镇》，和大卫·林奇谈电影\n",
       "12     被仰望与被遗忘的   ¥52.00        20世纪最伟大的非虚构书写，全世界特稿写作者的典范\n",
       "13       百鬼夜行 阳   ¥39.20          “世上没有不可思议的事”，京极夏彦的妖怪十夜谈\n",
       "14           造物   ¥54.40          改变世界的万物图典，3000幅图里的发明与冒险\n",
       "15         山之四季   ¥25.60             一个人在山里住七年，日本桂冠诗人山居笔记\n",
       "16           现世   ¥31.20             时间和世界的秘密，普利策奖得主的万物之书\n",
       "17      我在天堂那五年   ¥38.40            不可思议的友谊奇迹，人生路上柔软的智慧之光"
      ]
     },
     "execution_count": 53,
     "metadata": {},
     "output_type": "execute_result"
    }
   ],
   "source": [
    "data"
   ]
  },
  {
   "cell_type": "code",
   "execution_count": 37,
   "metadata": {},
   "outputs": [
    {
     "data": {
      "text/plain": [
       "list"
      ]
     },
     "execution_count": 37,
     "metadata": {},
     "output_type": "execute_result"
    }
   ],
   "source": [
    "type(aa)"
   ]
  },
  {
   "cell_type": "code",
   "execution_count": 55,
   "metadata": {},
   "outputs": [
    {
     "name": "stdout",
     "output_type": "stream",
     "text": [
      "['https://market.douban.com/book/?utm_campaign=book_nav_freyr&utm_source=douban&utm_medium=pc_web&page=1&page_num=18&', 'https://market.douban.com/book/?utm_campaign=book_nav_freyr&utm_source=douban&utm_medium=pc_web&page=2&page_num=18&']\n"
     ]
    }
   ],
   "source": [
    "urls = ['https://market.douban.com/book/?utm_campaign=book_nav_freyr&utm_source=douban&utm_medium=pc_web&page={}&page_num=18&'.format(str(i)) for i in range(1,3)]\n",
    "print(urls)"
   ]
  },
  {
   "cell_type": "code",
   "execution_count": 68,
   "metadata": {
    "collapsed": true
   },
   "outputs": [],
   "source": [
    "#获取内容的函数\n",
    "def getcontent(url):\n",
    "    titleh = []\n",
    "    priceh = []\n",
    "    quoteh = []\n",
    "    for title in soup.select('h3'):\n",
    "        titleh.append(title.text) \n",
    "\n",
    "    for price in soup.select('.book-price'):\n",
    "        priceh.append(price.text) \n",
    "\n",
    "    for quote in soup.select('.book-quote'):\n",
    "        quoteh.append(quote.text.strip('\\n')) \n",
    "    \n",
    "    data = pd.DataFrame(np.vstack((titleh,priceh,quoteh))).T\n",
    "    return data\n"
   ]
  },
  {
   "cell_type": "code",
   "execution_count": 72,
   "metadata": {
    "collapsed": true
   },
   "outputs": [],
   "source": [
    "frames = []\n",
    "for url in urls:\n",
    "    res = requests.get(url)\n",
    "    soup = BeautifulSoup(res.text, 'html.parser')\n",
    "    frames.append(getcontent(url)) #先将表构成list，然后在作为concat的输入\n",
    "\n",
    "result = pd.concat(frames)    "
   ]
  },
  {
   "cell_type": "code",
   "execution_count": 73,
   "metadata": {},
   "outputs": [
    {
     "data": {
      "text/html": [
       "<div>\n",
       "<style>\n",
       "    .dataframe thead tr:only-child th {\n",
       "        text-align: right;\n",
       "    }\n",
       "\n",
       "    .dataframe thead th {\n",
       "        text-align: left;\n",
       "    }\n",
       "\n",
       "    .dataframe tbody tr th {\n",
       "        vertical-align: top;\n",
       "    }\n",
       "</style>\n",
       "<table border=\"1\" class=\"dataframe\">\n",
       "  <thead>\n",
       "    <tr style=\"text-align: right;\">\n",
       "      <th></th>\n",
       "      <th>0</th>\n",
       "      <th>1</th>\n",
       "      <th>2</th>\n",
       "    </tr>\n",
       "  </thead>\n",
       "  <tbody>\n",
       "    <tr>\n",
       "      <th>0</th>\n",
       "      <td>丰子恺艺术四书</td>\n",
       "      <td>¥269.00</td>\n",
       "      <td>跟随一代艺术大家认识美与慈悲</td>\n",
       "    </tr>\n",
       "    <tr>\n",
       "      <th>1</th>\n",
       "      <td>世界电影地图 三部曲</td>\n",
       "      <td>¥299.00</td>\n",
       "      <td>1000部电影的时空旅行</td>\n",
       "    </tr>\n",
       "    <tr>\n",
       "      <th>2</th>\n",
       "      <td>寂然的狂喜</td>\n",
       "      <td>¥78.40</td>\n",
       "      <td>迄今最美的叶芝诗集，天才诗歌与艺术相遇的纸上美术馆</td>\n",
       "    </tr>\n",
       "    <tr>\n",
       "      <th>3</th>\n",
       "      <td>造房子</td>\n",
       "      <td>¥62.40</td>\n",
       "      <td>世界建筑最高奖首位中国得主王澍，获奖后的第一本建筑文化随笔集。</td>\n",
       "    </tr>\n",
       "    <tr>\n",
       "      <th>4</th>\n",
       "      <td>悲观主义三部曲</td>\n",
       "      <td>¥131.20</td>\n",
       "      <td>从《恋爱的犀牛》到《柔软》，和廖一梅谈谈爱和生命</td>\n",
       "    </tr>\n",
       "    <tr>\n",
       "      <th>5</th>\n",
       "      <td>自由与爱之地</td>\n",
       "      <td>¥39.20</td>\n",
       "      <td>应许之地的爱与自由，一场31天以色列非典型旅行</td>\n",
       "    </tr>\n",
       "    <tr>\n",
       "      <th>6</th>\n",
       "      <td>梳毛、八卦及语言的进化</td>\n",
       "      <td>¥45.00</td>\n",
       "      <td>我们为什么拥有语言，它从哪里来，它何时产生？</td>\n",
       "    </tr>\n",
       "    <tr>\n",
       "      <th>7</th>\n",
       "      <td>未知大学</td>\n",
       "      <td>¥134.40</td>\n",
       "      <td>“最终诗人像孩子和诗人的孩子”，波拉尼奥一生的文学病例</td>\n",
       "    </tr>\n",
       "    <tr>\n",
       "      <th>8</th>\n",
       "      <td>奈良手记</td>\n",
       "      <td>¥54.40</td>\n",
       "      <td>独家日记大公开，还原一个最真实的奈良美智</td>\n",
       "    </tr>\n",
       "    <tr>\n",
       "      <th>9</th>\n",
       "      <td>不思议图书馆</td>\n",
       "      <td>¥38.40</td>\n",
       "      <td>让寺山修司为脑洞充值，欢迎来到冷知识图书馆</td>\n",
       "    </tr>\n",
       "    <tr>\n",
       "      <th>10</th>\n",
       "      <td>如花在野</td>\n",
       "      <td>¥54.40</td>\n",
       "      <td>日本花道大师插花物语，千里家茶道教授张南揽翻译</td>\n",
       "    </tr>\n",
       "    <tr>\n",
       "      <th>11</th>\n",
       "      <td>与火同行</td>\n",
       "      <td>¥39.80</td>\n",
       "      <td>从《穆赫兰道》到《双峰镇》，和大卫·林奇谈电影</td>\n",
       "    </tr>\n",
       "    <tr>\n",
       "      <th>12</th>\n",
       "      <td>被仰望与被遗忘的</td>\n",
       "      <td>¥52.00</td>\n",
       "      <td>20世纪最伟大的非虚构书写，全世界特稿写作者的典范</td>\n",
       "    </tr>\n",
       "    <tr>\n",
       "      <th>13</th>\n",
       "      <td>百鬼夜行 阳</td>\n",
       "      <td>¥39.20</td>\n",
       "      <td>“世上没有不可思议的事”，京极夏彦的妖怪十夜谈</td>\n",
       "    </tr>\n",
       "    <tr>\n",
       "      <th>14</th>\n",
       "      <td>造物</td>\n",
       "      <td>¥54.40</td>\n",
       "      <td>改变世界的万物图典，3000幅图里的发明与冒险</td>\n",
       "    </tr>\n",
       "    <tr>\n",
       "      <th>15</th>\n",
       "      <td>山之四季</td>\n",
       "      <td>¥25.60</td>\n",
       "      <td>一个人在山里住七年，日本桂冠诗人山居笔记</td>\n",
       "    </tr>\n",
       "    <tr>\n",
       "      <th>16</th>\n",
       "      <td>现世</td>\n",
       "      <td>¥31.20</td>\n",
       "      <td>时间和世界的秘密，普利策奖得主的万物之书</td>\n",
       "    </tr>\n",
       "    <tr>\n",
       "      <th>17</th>\n",
       "      <td>我在天堂那五年</td>\n",
       "      <td>¥38.40</td>\n",
       "      <td>不可思议的友谊奇迹，人生路上柔软的智慧之光</td>\n",
       "    </tr>\n",
       "    <tr>\n",
       "      <th>0</th>\n",
       "      <td>时光列车</td>\n",
       "      <td>¥46.40</td>\n",
       "      <td>帕蒂·史密斯《只是孩子》姊妹篇，如何面对人生的不断失去？</td>\n",
       "    </tr>\n",
       "    <tr>\n",
       "      <th>1</th>\n",
       "      <td>日本料理神髓</td>\n",
       "      <td>¥36.00</td>\n",
       "      <td>日本料理之神的美味心经，和他45年厨房里的人生修行</td>\n",
       "    </tr>\n",
       "    <tr>\n",
       "      <th>2</th>\n",
       "      <td>画框里的男人装</td>\n",
       "      <td>¥30.40</td>\n",
       "      <td>最受欢迎的艺术史作家中野京子，解密名画中的时尚史</td>\n",
       "    </tr>\n",
       "    <tr>\n",
       "      <th>3</th>\n",
       "      <td>伍迪·艾伦谈话录</td>\n",
       "      <td>¥54.40</td>\n",
       "      <td>伍迪·艾伦目前为止最全面详尽的访谈全纪录</td>\n",
       "    </tr>\n",
       "    <tr>\n",
       "      <th>4</th>\n",
       "      <td>画在人心的苦闷上</td>\n",
       "      <td>¥46.40</td>\n",
       "      <td>李宗陶深度对话当代现象级艺术家，非虚构写作、人物访谈精心之作</td>\n",
       "    </tr>\n",
       "    <tr>\n",
       "      <th>5</th>\n",
       "      <td>一幅画开启的世界</td>\n",
       "      <td>¥55.20</td>\n",
       "      <td>吉卜力动画大师高畑勋带你逛美术馆</td>\n",
       "    </tr>\n",
       "    <tr>\n",
       "      <th>6</th>\n",
       "      <td>传奇在路上</td>\n",
       "      <td>¥34.20</td>\n",
       "      <td>一切传奇都发生在路上，和张公子佳玮一起逛世界</td>\n",
       "    </tr>\n",
       "    <tr>\n",
       "      <th>7</th>\n",
       "      <td>未完成的梦</td>\n",
       "      <td>¥33.60</td>\n",
       "      <td>摄影教父阮义忠的画家梦，和一个关于艺术的童话故事</td>\n",
       "    </tr>\n",
       "    <tr>\n",
       "      <th>8</th>\n",
       "      <td>第九区·漫游虚拟现实奇境</td>\n",
       "      <td>¥38.40</td>\n",
       "      <td>KK带你漫游虚拟现实</td>\n",
       "    </tr>\n",
       "    <tr>\n",
       "      <th>9</th>\n",
       "      <td>民主的不满</td>\n",
       "      <td>¥54.40</td>\n",
       "      <td>风靡世界的明星教授迈克尔·桑德尔，回顾民主的历程，澄清自由的真意。</td>\n",
       "    </tr>\n",
       "    <tr>\n",
       "      <th>10</th>\n",
       "      <td>我的衣橱故事</td>\n",
       "      <td>¥54.40</td>\n",
       "      <td>设计师眼里的21个国外中档品牌</td>\n",
       "    </tr>\n",
       "    <tr>\n",
       "      <th>11</th>\n",
       "      <td>正解：从写作文到写作</td>\n",
       "      <td>¥28.00</td>\n",
       "      <td>从写作文到写作，送一本书给有天赋的孩子</td>\n",
       "    </tr>\n",
       "    <tr>\n",
       "      <th>12</th>\n",
       "      <td>隐形军队：游击队的历史</td>\n",
       "      <td>¥94.40</td>\n",
       "      <td>一本由优秀的军事历史学家精心打造的著作，解密人类战争以弱制胜的秘诀</td>\n",
       "    </tr>\n",
       "    <tr>\n",
       "      <th>13</th>\n",
       "      <td>巨魔</td>\n",
       "      <td>¥38.40</td>\n",
       "      <td>最恐怖、最好玩儿的怪兽故事“涂”画书。</td>\n",
       "    </tr>\n",
       "  </tbody>\n",
       "</table>\n",
       "</div>"
      ],
      "text/plain": [
       "               0        1                                  2\n",
       "0        丰子恺艺术四书  ¥269.00                     跟随一代艺术大家认识美与慈悲\n",
       "1     世界电影地图 三部曲  ¥299.00                       1000部电影的时空旅行\n",
       "2          寂然的狂喜   ¥78.40          迄今最美的叶芝诗集，天才诗歌与艺术相遇的纸上美术馆\n",
       "3            造房子   ¥62.40    世界建筑最高奖首位中国得主王澍，获奖后的第一本建筑文化随笔集。\n",
       "4       悲观主义三部曲   ¥131.20           从《恋爱的犀牛》到《柔软》，和廖一梅谈谈爱和生命\n",
       "5         自由与爱之地   ¥39.20            应许之地的爱与自由，一场31天以色列非典型旅行\n",
       "6    梳毛、八卦及语言的进化   ¥45.00             我们为什么拥有语言，它从哪里来，它何时产生？\n",
       "7           未知大学  ¥134.40        “最终诗人像孩子和诗人的孩子”，波拉尼奥一生的文学病例\n",
       "8           奈良手记   ¥54.40               独家日记大公开，还原一个最真实的奈良美智\n",
       "9         不思议图书馆   ¥38.40              让寺山修司为脑洞充值，欢迎来到冷知识图书馆\n",
       "10          如花在野   ¥54.40            日本花道大师插花物语，千里家茶道教授张南揽翻译\n",
       "11          与火同行   ¥39.80            从《穆赫兰道》到《双峰镇》，和大卫·林奇谈电影\n",
       "12      被仰望与被遗忘的   ¥52.00          20世纪最伟大的非虚构书写，全世界特稿写作者的典范\n",
       "13        百鬼夜行 阳   ¥39.20            “世上没有不可思议的事”，京极夏彦的妖怪十夜谈\n",
       "14            造物   ¥54.40            改变世界的万物图典，3000幅图里的发明与冒险\n",
       "15          山之四季   ¥25.60               一个人在山里住七年，日本桂冠诗人山居笔记\n",
       "16            现世   ¥31.20               时间和世界的秘密，普利策奖得主的万物之书\n",
       "17       我在天堂那五年   ¥38.40              不可思议的友谊奇迹，人生路上柔软的智慧之光\n",
       "0           时光列车   ¥46.40       帕蒂·史密斯《只是孩子》姊妹篇，如何面对人生的不断失去？\n",
       "1         日本料理神髓   ¥36.00          日本料理之神的美味心经，和他45年厨房里的人生修行\n",
       "2        画框里的男人装   ¥30.40           最受欢迎的艺术史作家中野京子，解密名画中的时尚史\n",
       "3       伍迪·艾伦谈话录   ¥54.40               伍迪·艾伦目前为止最全面详尽的访谈全纪录\n",
       "4       画在人心的苦闷上   ¥46.40     李宗陶深度对话当代现象级艺术家，非虚构写作、人物访谈精心之作\n",
       "5       一幅画开启的世界   ¥55.20                   吉卜力动画大师高畑勋带你逛美术馆\n",
       "6          传奇在路上   ¥34.20             一切传奇都发生在路上，和张公子佳玮一起逛世界\n",
       "7          未完成的梦   ¥33.60           摄影教父阮义忠的画家梦，和一个关于艺术的童话故事\n",
       "8   第九区·漫游虚拟现实奇境   ¥38.40                         KK带你漫游虚拟现实\n",
       "9          民主的不满   ¥54.40  风靡世界的明星教授迈克尔·桑德尔，回顾民主的历程，澄清自由的真意。\n",
       "10        我的衣橱故事   ¥54.40                    设计师眼里的21个国外中档品牌\n",
       "11    正解：从写作文到写作   ¥28.00                从写作文到写作，送一本书给有天赋的孩子\n",
       "12   隐形军队：游击队的历史   ¥94.40  一本由优秀的军事历史学家精心打造的著作，解密人类战争以弱制胜的秘诀\n",
       "13            巨魔   ¥38.40                最恐怖、最好玩儿的怪兽故事“涂”画书。"
      ]
     },
     "execution_count": 73,
     "metadata": {},
     "output_type": "execute_result"
    }
   ],
   "source": [
    "result"
   ]
  },
  {
   "cell_type": "code",
   "execution_count": null,
   "metadata": {
    "collapsed": true
   },
   "outputs": [],
   "source": []
  },
  {
   "cell_type": "code",
   "execution_count": null,
   "metadata": {
    "collapsed": true
   },
   "outputs": [],
   "source": []
  },
  {
   "cell_type": "code",
   "execution_count": null,
   "metadata": {
    "collapsed": true
   },
   "outputs": [],
   "source": []
  }
 ],
 "metadata": {
  "kernelspec": {
   "display_name": "Python 3",
   "language": "python",
   "name": "python3"
  },
  "language_info": {
   "codemirror_mode": {
    "name": "ipython",
    "version": 3
   },
   "file_extension": ".py",
   "mimetype": "text/x-python",
   "name": "python",
   "nbconvert_exporter": "python",
   "pygments_lexer": "ipython3",
   "version": "3.6.3"
  }
 },
 "nbformat": 4,
 "nbformat_minor": 2
}
