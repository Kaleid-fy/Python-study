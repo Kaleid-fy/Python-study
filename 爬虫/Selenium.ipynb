{
 "cells": [
  {
   "cell_type": "markdown",
   "metadata": {},
   "source": [
    "报错 ： WebDriverException: Message: 'geckodriver' executable needs to be in PATH. \n",
    "        解决方法：https://www.cnblogs.com/lvzuwen/p/7309341.html"
   ]
  },
  {
   "cell_type": "markdown",
   "metadata": {
    "collapsed": true
   },
   "source": [
    "# 声明浏览器对象"
   ]
  },
  {
   "cell_type": "code",
   "execution_count": 5,
   "metadata": {
    "collapsed": true
   },
   "outputs": [],
   "source": [
    "from selenium import webdriver"
   ]
  },
  {
   "cell_type": "code",
   "execution_count": 14,
   "metadata": {},
   "outputs": [
    {
     "name": "stdout",
     "output_type": "stream",
     "text": [
      "<html class=\"ks-gecko58 ks-gecko ks-firefox58 ks-firefox\" lang=\"zh-CN\"><head><script src=\"https://ecpm.tanx.com/ex?i=mm_12852562_1778064_48868196&amp;cb=jsonp_callback_43342&amp;r=&amp;cg=a00cdf6ccf172fe7883acff59344fdeb&amp;pvid=a9684cfee1ac09b3f103bbbdd3f7a8bc&amp;u=https%3A%2F%2Fwww.taobao.com%2F&amp;psl=1&amp;nk=&amp;sk=&amp;refpid=&amp;fp=1.G5JblQd7Ff-ru52IHrH5vczsGO-4tR9PDktAE0MrGtcYuVgE9X4p0U.UTF-8.hu2lztSK_gBAtByID_hEI0DmqgiayA.Q.1u76kkr\" async=\"\"></script><script>/*! 2018-02-01 21:30:22 v8.1.1 */\n",
      "!function(e){function i(n){if(o[n])return o[n].exports;var r=o[n]={exports:{},id:n,loaded:!1};return e[n].call(r.exports,r,r.exports,i),r.loaded=!0,r.exports}var o={};return i.m=e,i.c=o,i.p=\"\",i(0)}([function(e,i){\"use strict\";var o=window,n=document;!function(){var e=2,r=\"ali_analytics\";if(o[r]&&o[r].ua&&e<=o[r].ua.version)return void(i.info=o[r].ua);var t,a,d,s,c,u,h,l,m,b,f,v,p,w,g,x,z,O=o.navigator,k=O.appVersion,T=O&&O.userAgent||\"\",y=function(e){var i=0;return parseFloat(e.replace(/\\./g,function(){return 0===i++?\".\":\"\"}))},_=function(e,i){var o,n;i[o=\"trident\"]=.1,(n=e.match(/Trident\\/([\\d.]*)/))&&n[1]&&(i[o]=y(n[1])),i.core=o},N=function(e){var i,o;return(i=e.match(/MSIE ([^;]*)|Trident.*; rv(?:\\s|:)?([0-9.]+)/))&&(o=i[1]||i[2])?y(o):0},P=function(e){return e||\"other\"},M=function(e){function i(){for(var i=[[\"Windows NT 5.1\",\"winXP\"],[\"Windows NT 6.1\",\"win7\"],[\"Windows NT 6.0\",\"winVista\"],[\"Windows NT 6.2\",\"win8\"],[\"Windows NT 10.0\",\"win10\"],[\"iPad\",\"ios\"],[\"iPhone;\",\"ios\"],[\"iPod\",\"ios\"],[\"Macintosh\",\"mac\"],[\"Android\",\"android\"],[\"Ubuntu\",\"ubuntu\"],[\"Linux\",\"linux\"],[\"Windows NT 5.2\",\"win2003\"],[\"Windows NT 5.0\",\"win2000\"],[\"Windows\",\"winOther\"],[\"rhino\",\"rhino\"]],o=0,n=i.length;o<n;++o)if(e.indexOf(i[o][0])!==-1)return i[o][1];return\"other\"}function r(e,i,n,r){var t,a=o.navigator.mimeTypes;try{for(t in a)if(a.hasOwnProperty(t)&&a[t][e]==i){if(void 0!==n&&r.test(a[t][n]))return!0;if(void 0===n)return!0}return!1}catch(e){return!1}}var t,a,d,s,c,u,h,l=\"\",m=l,b=l,f=[6,9],v=\"{{version}}\",p=\"<!--[if IE \"+v+\"]><s></s><![endif]-->\",w=n&&n.createElement(\"div\"),g=[],x={webkit:void 0,edge:void 0,trident:void 0,gecko:void 0,presto:void 0,chrome:void 0,safari:void 0,firefox:void 0,ie:void 0,ieMode:void 0,opera:void 0,mobile:void 0,core:void 0,shell:void 0,phantomjs:void 0,os:void 0,ipad:void 0,iphone:void 0,ipod:void 0,ios:void 0,android:void 0,nodejs:void 0,extraName:void 0,extraVersion:void 0};if(w&&w.getElementsByTagName&&(w.innerHTML=p.replace(v,\"\"),g=w.getElementsByTagName(\"s\")),g.length>0){for(_(e,x),s=f[0],c=f[1];s<=c;s++)if(w.innerHTML=p.replace(v,s),g.length>0){x[b=\"ie\"]=s;break}!x.ie&&(d=N(e))&&(x[b=\"ie\"]=d)}else((a=e.match(/AppleWebKit\\/*\\s*([\\d.]*)/i))||(a=e.match(/Safari\\/([\\d.]*)/)))&&a[1]?(x[m=\"webkit\"]=y(a[1]),(a=e.match(/OPR\\/(\\d+\\.\\d+)/))&&a[1]?x[b=\"opera\"]=y(a[1]):(a=e.match(/Chrome\\/([\\d.]*)/))&&a[1]?x[b=\"chrome\"]=y(a[1]):(a=e.match(/\\/([\\d.]*) Safari/))&&a[1]?x[b=\"safari\"]=y(a[1]):x.safari=x.webkit,(a=e.match(/Edge\\/([\\d.]*)/))&&a[1]&&(m=b=\"edge\",x[m]=y(a[1])),/ Mobile\\//.test(e)&&e.match(/iPad|iPod|iPhone/)?(x.mobile=\"apple\",a=e.match(/OS ([^\\s]*)/),a&&a[1]&&(x.ios=y(a[1].replace(\"_\",\".\"))),t=\"ios\",a=e.match(/iPad|iPod|iPhone/),a&&a[0]&&(x[a[0].toLowerCase()]=x.ios)):/ Android/i.test(e)?(/Mobile/.test(e)&&(t=x.mobile=\"android\"),a=e.match(/Android ([^\\s]*);/),a&&a[1]&&(x.android=y(a[1]))):(a=e.match(/NokiaN[^\\/]*|Android \\d\\.\\d|webOS\\/\\d\\.\\d/))&&(x.mobile=a[0].toLowerCase()),(a=e.match(/PhantomJS\\/([^\\s]*)/))&&a[1]&&(x.phantomjs=y(a[1]))):(a=e.match(/Presto\\/([\\d.]*)/))&&a[1]?(x[m=\"presto\"]=y(a[1]),(a=e.match(/Opera\\/([\\d.]*)/))&&a[1]&&(x[b=\"opera\"]=y(a[1]),(a=e.match(/Opera\\/.* Version\\/([\\d.]*)/))&&a[1]&&(x[b]=y(a[1])),(a=e.match(/Opera Mini[^;]*/))&&a?x.mobile=a[0].toLowerCase():(a=e.match(/Opera Mobi[^;]*/))&&a&&(x.mobile=a[0]))):(d=N(e))?(x[b=\"ie\"]=d,_(e,x)):(a=e.match(/Gecko/))&&(x[m=\"gecko\"]=.1,(a=e.match(/rv:([\\d.]*)/))&&a[1]&&(x[m]=y(a[1]),/Mobile|Tablet/.test(e)&&(x.mobile=\"firefox\")),(a=e.match(/Firefox\\/([\\d.]*)/))&&a[1]&&(x[b=\"firefox\"]=y(a[1])));t||(t=i());var z,O,T;if(!r(\"type\",\"application/vnd.chromium.remoting-viewer\")){z=\"scoped\"in n.createElement(\"style\"),T=\"v8Locale\"in o;try{O=o.external||void 0}catch(e){}if(a=e.match(/360SE/))u=\"360\";else if((a=e.match(/SE\\s([\\d.]*)/))||O&&\"SEVersion\"in O)u=\"sougou\",h=y(a[1])||.1;else if((a=e.match(/Maxthon(?:\\/)+([\\d.]*)/))&&O){u=\"maxthon\";try{h=y(O.max_version||a[1])}catch(e){h=.1}}else z&&T?u=\"360se\":z||T||!/Gecko\\)\\s+Chrome/.test(k)||x.opera||x.edge||(u=\"360ee\")}(a=e.match(/TencentTraveler\\s([\\d.]*)|QQBrowser\\/([\\d.]*)/))?(u=\"tt\",h=y(a[2])||.1):(a=e.match(/LBBROWSER/))||O&&\"LiebaoGetVersion\"in O?u=\"liebao\":(a=e.match(/TheWorld/))?(u=\"theworld\",h=3):(a=e.match(/TaoBrowser\\/([\\d.]*)/))?(u=\"taobao\",h=y(a[1])||.1):(a=e.match(/UCBrowser\\/([\\d.]*)/))&&(u=\"uc\",h=y(a[1])||.1),x.os=t,x.core=x.core||m,x.shell=b,x.ieMode=x.ie&&n.documentMode||x.ie,x.extraName=u,x.extraVersion=h;var P=o.screen.width,M=o.screen.height;return x.resolution=P+\"x\"+M,x},S=function(e){function i(e){return Object.prototype.toString.call(e)}function o(e,o,n){if(\"[object Function]\"==i(o)&&(o=o(n)),!o)return null;var r={name:e,version:\"\"},t=i(o);if(o===!0)return r;if(\"[object String]\"===t){if(n.indexOf(o)!==-1)return r}else if(o.exec){var a=o.exec(n);if(a)return a.length>=2&&a[1]?r.version=a[1].replace(/_/g,\".\"):r.version=\"\",r}}var n={name:\"other\",version:\"\"};e=(e||\"\").toLowerCase();for(var r=[[\"nokia\",function(e){return e.indexOf(\"nokia \")!==-1?/\\bnokia ([0-9]+)?/:/\\bnokia([a-z0-9]+)?/}],[\"samsung\",function(e){return e.indexOf(\"samsung\")!==-1?/\\bsamsung(?:[ \\-](?:sgh|gt|sm))?-([a-z0-9]+)/:/\\b(?:sgh|sch|gt|sm)-([a-z0-9]+)/}],[\"wp\",function(e){return e.indexOf(\"windows phone \")!==-1||e.indexOf(\"xblwp\")!==-1||e.indexOf(\"zunewp\")!==-1||e.indexOf(\"windows ce\")!==-1}],[\"pc\",\"windows\"],[\"ipad\",\"ipad\"],[\"ipod\",\"ipod\"],[\"iphone\",/\\biphone\\b|\\biph(\\d)/],[\"mac\",\"macintosh\"],[\"mi\",/\\bmi[ \\-]?([a-z0-9 ]+(?= build|\\)))/],[\"hongmi\",/\\bhm[ \\-]?([a-z0-9]+)/],[\"aliyun\",/\\baliyunos\\b(?:[\\-](\\d+))?/],[\"meizu\",function(e){return e.indexOf(\"meizu\")>=0?/\\bmeizu[\\/ ]([a-z0-9]+)\\b/:/\\bm([0-9x]{1,3})\\b/}],[\"nexus\",/\\bnexus ([0-9s.]+)/],[\"huawei\",function(e){var i=/\\bmediapad (.+?)(?= build\\/huaweimediapad\\b)/;return e.indexOf(\"huawei-huawei\")!==-1?/\\bhuawei\\-huawei\\-([a-z0-9\\-]+)/:i.test(e)?i:/\\bhuawei[ _\\-]?([a-z0-9]+)/}],[\"lenovo\",function(e){return e.indexOf(\"lenovo-lenovo\")!==-1?/\\blenovo\\-lenovo[ \\-]([a-z0-9]+)/:/\\blenovo[ \\-]?([a-z0-9]+)/}],[\"zte\",function(e){return/\\bzte\\-[tu]/.test(e)?/\\bzte-[tu][ _\\-]?([a-su-z0-9\\+]+)/:/\\bzte[ _\\-]?([a-su-z0-9\\+]+)/}],[\"vivo\",/\\bvivo(?: ([a-z0-9]+))?/],[\"htc\",function(e){return/\\bhtc[a-z0-9 _\\-]+(?= build\\b)/.test(e)?/\\bhtc[ _\\-]?([a-z0-9 ]+(?= build))/:/\\bhtc[ _\\-]?([a-z0-9 ]+)/}],[\"oppo\",/\\boppo[_]([a-z0-9]+)/],[\"konka\",/\\bkonka[_\\-]([a-z0-9]+)/],[\"sonyericsson\",/\\bmt([a-z0-9]+)/],[\"coolpad\",/\\bcoolpad[_ ]?([a-z0-9]+)/],[\"lg\",/\\blg[\\-]([a-z0-9]+)/],[\"android\",/\\bandroid\\b|\\badr\\b/],[\"blackberry\",function(e){return e.indexOf(\"blackberry\")>=0?/\\bblackberry\\s?(\\d+)/:\"bb10\"}]],t=0;t<r.length;t++){var a=r[t][0],d=r[t][1],s=o(a,d,e);if(s){n=s;break}}return n},E=1;try{t=M(T),a=S(T),d=t.os,s=t.shell,c=t.core,u=t.resolution,h=t.extraName,l=t.extraVersion,m=a.name,b=a.version,v=d?d+(t[d]?t[d]:\"\"):\"\",p=s?s+parseInt(t[s]):\"\",w=c,g=u,x=h?h+(l?parseInt(l):\"\"):\"\",z=m+b}catch(e){}f={p:E,o:P(v),b:P(p),w:P(w),s:g,mx:x,ism:z},o[r]||(o[r]={}),o[r].ua||(o[r].ua={}),o.goldlog||(o.goldlog={}),i.info=o[r].ua=goldlog._aplus_client={version:e,ua_info:f}}()}]);/*! 2017-10-31 20:15:15 v0.2.4 */\n",
      "!function(t){function e(o){if(n[o])return n[o].exports;var i=n[o]={exports:{},id:o,loaded:!1};return t[o].call(i.exports,i,i.exports,e),i.loaded=!0,i.exports}var n={};return e.m=t,e.c=n,e.p=\"\",e(0)}([function(t,e,n){\"use strict\";!function(){var t=window.goldlog||(window.goldlog={});t._aplus_cplugin_utilkit||(t._aplus_cplugin_utilkit={status:\"init\"},n(1).init(t),t._aplus_cplugin_utilkit.status=\"complete\")}()},function(t,e,n){\"use strict\";var o=n(2),i=n(4);e.init=function(t){t.setCookie=o.setCookie,t.getCookie=o.getCookie,t.on=i.on}},function(t,e,n){\"use strict\";var o=document,i=n(3),a=function(t){var e=new RegExp(\"(?:^|;)\\\\s*\"+t+\"=([^;]+)\"),n=o.cookie.match(e);return n?n[1]:\"\"};e.getCookie=a;var r=function(t,e,n){n||(n={});var i=new Date;return n.expires&&(\"number\"==typeof n.expires||n.expires.toUTCString)?(\"number\"==typeof n.expires?i.setTime(i.getTime()+24*n.expires*60*60*1e3):i=n.expires,e+=\"; expires=\"+i.toUTCString()):\"session\"!==n.expires&&(i.setTime(i.getTime()+63072e7),e+=\"; expires=\"+i.toUTCString()),e+=\"; path=\"+(n.path?n.path:\"/\"),e+=\"; domain=\"+n.domain,o.cookie=t+\"=\"+e,a(t)};e.setCookie=function(t,e,n){try{if(n||(n={}),n.domain)r(t,e,n);else for(var o=i.getDomains(),a=0;a<o.length;)n.domain=o[a],r(t,e,n)?a=o.length:a++}catch(t){}}},function(t,e){\"use strict\";e.getDomains=function(){var t=[];try{for(var e=location.hostname,n=e.split(\".\"),o=2;o<=n.length;)t.push(n.slice(n.length-o).join(\".\")),o++}catch(t){}return t}},function(t,e){\"use strict\";var n=window,o=document,i=!!o.attachEvent,a=\"attachEvent\",r=\"addEventListener\",c=i?a:r,u=function(t,e){var n=goldlog._$||{},o=n.meta_info||{},i=o.aplus_ctap||{};if(i&&\"function\"==typeof i.on)i.on(t,e);else{var a=\"ontouchend\"in document.createElement(\"div\"),r=a?\"touchstart\":\"mousedown\";s(t,r,e)}},s=function(t,e,o){return\"tap\"===e?void u(t,o):void t[c]((i?\"on\":\"\")+e,function(t){t=t||n.event;var e=t.target||t.srcElement;\"function\"==typeof o&&o(t,e)},!1)};e.on=s;var d=function(t){try{o.documentElement.doScroll(\"left\")}catch(e){return void setTimeout(function(){d(t)},1)}t()},l=function(t){var e=0,n=function(){0===e&&t(),e++};\"complete\"===o.readyState&&n();var i;if(o.addEventListener)i=function(){o.removeEventListener(\"DOMContentLoaded\",i,!1),n()},o.addEventListener(\"DOMContentLoaded\",i,!1),window.addEventListener(\"load\",n,!1);else if(o.attachEvent){i=function(){\"complete\"===o.readyState&&(o.detachEvent(\"onreadystatechange\",i),n())},o.attachEvent(\"onreadystatechange\",i),window.attachEvent(\"onload\",n);var a=!1;try{a=null===window.frameElement}catch(t){}o.documentElement.doScroll&&a&&d(n)}};e.DOMReady=function(t){l(t)},e.onload=function(t){\"complete\"===o.readyState?t():s(n,\"load\",t)}}]);/*! 2017-12-19 12:10:24 v0.2.9 */\n",
      "!function(o){function t(r){if(e[r])return e[r].exports;var a=e[r]={exports:{},id:r,loaded:!1};return o[r].call(a.exports,a,a.exports,t),a.loaded=!0,a.exports}var e={};return t.m=o,t.c=e,t.p=\"\",t(0)}([function(o,t,e){\"use strict\";!function(){var o=window.goldlog||(window.goldlog={});o._aplus_cplugin_m||(o._aplus_cplugin_m=e(1).run())}()},function(o,t,e){\"use strict\";var r=e(2),a=e(3),n=e(4),s=navigator.sendBeacon?\"post\":\"get\";e(5).run(),t.run=function(){return{status:\"complete\",do_tracker_jserror:function(o){try{var t=new n({logkey:o?o.logkey:\"\",ratio:o&&\"number\"==typeof o.ratio&&o.ratio>0?o.ratio:r.jsErrorRecordRatio}),e=[\"Message: \"+o.message,\"Error object: \"+o.error].join(\" - \"),c=goldlog.spm_ab||[],i=location.hostname+location.pathname;t.run({code:110,page:i,msg:\"record_jserror_by\"+s+\"_\"+o.message,spm_a:c[0],spm_b:c[1],c1:e,c2:o.filename,c3:location.protocol+\"//\"+i})}catch(o){a.logger({msg:o})}},do_tracker_lostpv:function(o){var t=!1;try{if(o&&o.page){var e=o.spm_ab?o.spm_ab.split(\".\"):[],c=\"record_lostpv_by\"+s+\"_\"+o.msg,i=new n({ratio:o.ratio||r.lostPvRecordRatio});i.run({code:102,page:o.page,msg:c,spm_a:e[0],spm_b:e[1],c1:o.duration,c2:o.page_url}),t=!0}}catch(o){a.logger({msg:o})}return t},do_tracker_obsolete_inter:function(o){var t=!1;try{if(o&&o.page){var e=o.spm_ab?o.spm_ab.split(\".\"):[],c=\"record_obsolete interface be called by\"+s,i=new n({ratio:o.ratio||r.obsoleteInterRecordRatio});i.run({code:109,page:o.page,msg:c,spm_a:e[0],spm_b:e[1],c1:o.interface_name,c2:o.interface_params}),t=!0}}catch(o){a.logger({msg:o})}return t},do_tracker_browser_support:function(o){var t=!1;try{if(o&&o.page){var e=o.spm_ab?o.spm_ab.split(\".\"):[],c=new n({ratio:o.ratio||r.browserSupportRatio}),i=goldlog._aplus_client||{},g=i.ua_info||{};c.run({code:111,page:o.page,msg:o.msg+\"_by\"+s,spm_a:e[0],spm_b:e[1],c1:[g.o,g.b,g.w].join(\"_\"),c2:o.etag||\"\",c3:o.cna||\"\"}),t=!0}}catch(o){a.logger({msg:o})}return t}}}},function(o,t){\"use strict\";t.lostPvRecordRatio=\"0.01\",t.obsoleteInterRecordRatio=\"0.01\",t.jsErrorRecordRatio=\"0.01\",t.browserSupportRatio=\"0.01\",t.goldlogQueueRatio=\"0.01\"},function(o,t){\"use strict\";var e=function(o){var t=o.level||\"warn\";window.console&&window.console[t]&&window.console[t](o.msg)};t.logger=e,t.assign=function(o,t){if(\"function\"!=typeof Object.assign){var e=function(o){if(null===o)throw new TypeError(\"Cannot convert undefined or null to object\");for(var t=Object(o),e=1;e<arguments.length;e++){var r=arguments[e];if(null!==r)for(var a in r)Object.prototype.hasOwnProperty.call(r,a)&&(t[a]=r[a])}return t};return e(o,t)}return Object.assign({},o,t)},t.makeCacheNum=function(){return Math.floor(268435456*Math.random()).toString(16)},t.obj2param=function(o){var t,e,r=[];for(t in o)o.hasOwnProperty(t)&&(e=\"\"+o[t],r.push(t+\"=\"+encodeURIComponent(e)));return r.join(\"&\")}},function(o,t,e){var r=e(3),a={ratio:1,logkey:\"fsp.1.1\",gmkey:\"\",chksum:\"H46747615\"},n=function(o){o&&\"object\"==typeof o||(o=a),this.opts=o,this.opts.ratio=o.ratio||a.ratio,this.opts.logkey=o.logkey||a.logkey,this.opts.gmkey=o.gmkey||a.gmkey,this.opts.chksum=o.chksum||a.chksum},s=n.prototype;s.getRandom=function(){return Math.floor(100*Math.random())+1},s.run=function(o){var t,e,a={pid:\"aplus\",code:101,msg:\"异常内容\"},n=\"\";try{var s=window.goldlog||{},c=s._$||{},i=c.meta_info||{},g=parseFloat(i[\"aplus-tracker-rate\"]);if(t=this.opts||{},\"number\"==typeof g&&g+\"\"!=\"NaN\"||(g=t.ratio),e=this.getRandom(),e<=100*g){n=\"//gm.mmstat.com/\"+t.logkey,o.rel=c.script_name+\"@\"+s.lver,o.type=o.code,o.uid=encodeURIComponent(s.getCookie(\"cna\")),o=r.assign(a,o);var l=r.obj2param(o);s.tracker=s.send(n,{cache:r.makeCacheNum(),gokey:l,logtype:\"2\"},\"POST\")}}catch(o){r.logger({msg:\"tracker.run() exec error: \"+o})}},o.exports=n},function(o,t,e){\"use strict\";var r=e(6),a=function(o){var t=window.goldlog||{},e=t._$=t._$||{},r=t.spm_ab?t.spm_ab.join(\".\"):\"0.0\",a=e.send_pv_count||0;if(a<1&&navigator&&navigator.sendBeacon){var n=window.goldlog_queue||(window.goldlog_queue=[]),s=location.hostname+location.pathname;n.push({action:[\"goldlog\",\"_aplus_cplugin_m\",\"do_tracker_lostpv\"].join(\".\"),arguments:[{page:s,page_url:location.protocol+\"//\"+s,duration:o,spm_ab:r,msg:\"dom_state=\"+document.readyState}]})}};t.run=function(){var o=new Date;r.on(window,\"beforeunload\",function(){var t=new Date,e=t.getTime()-o.getTime();a(e)})}},function(o,t){\"use strict\";var e=window,r=document,a=!!r.attachEvent,n=\"attachEvent\",s=\"addEventListener\",c=a?n:s;t.getIframeUrl=function(o){var t,e=\"//g.alicdn.com\";return t=goldlog&&\"function\"==typeof goldlog.getCdnPath?goldlog.getCdnPath()||e:e,(o||\"https\")+\":\"+t+\"/alilog/aplus_cplugin/@@APLUS_CPLUGIN_VER/ls.html\"},t.on=function(o,t,r){o[c]((a?\"on\":\"\")+t,function(o){o=o||e.event;var t=o.target||o.srcElement;\"function\"==typeof r&&r(o,t)},!1)},t.checkLs=function(){var o;try{window.localStorage&&(localStorage.setItem(\"test_log_cna\",\"1\"),\"1\"===localStorage.getItem(\"test_log_cna\")&&(localStorage.removeItem(\"test_log_cna\"),o=!0))}catch(t){o=!1}return o},t.tracker_iframe_status=function(o,t){var e=window.goldlog_queue||(window.goldlog_queue=[]),r=goldlog.spm_ab?goldlog.spm_ab.join(\".\"):\"\",a=\"createIframe_\"+t.status+\"_id=\"+o;t.msg&&(a+=\"_\"+t.msg),e.push({action:\"goldlog._aplus_cplugin_m.do_tracker_browser_support\",arguments:[{page:location.hostname+location.pathname,msg:a,browser_attr:navigator.userAgent,spm_ab:r,cna:t.duration||\"\",ratio:.01}]})},t.tracker_ls_failed=function(){var o=window.goldlog_queue||(window.goldlog_queue=[]),t=goldlog.spm_ab?goldlog.spm_ab.join(\".\"):\"\";o.push({action:\"goldlog._aplus_cplugin_m.do_tracker_browser_support\",arguments:[{page:location.hostname+location.pathname,msg:\"donot support localStorage\",browser_attr:navigator.userAgent,spm_ab:t}]})},t.processMsgData=function(o){var t={};try{t=\"string\"==typeof o?JSON.parse(o):o,t||(t={})}catch(o){t={}}return t},t.do_pub_fn=function(o,t){var e=window.goldlog_queue||(window.goldlog_queue=[]);e.push({action:\"goldlog.aplus_pubsub.publish\",arguments:[o,t]}),e.push({action:\"goldlog.aplus_pubsub.cachePubs\",arguments:[o,t]})}}]);/*! 2018-02-01 21:30:05 v8.1.1 */\n",
      "!function(t){function e(o){if(n[o])return n[o].exports;var a=n[o]={exports:{},id:o,loaded:!1};return t[o].call(a.exports,a,a.exports,e),a.loaded=!0,a.exports}var n={};return e.m=t,e.c=n,e.p=\"\",e(0)}([function(t,e,n){t.exports=n(1)},function(t,e,n){\"use strict\";!function(){var t=function(){n(2);var e=n(5);if(e.doPubMsg([\"goldlogReady\",\"running\"]),document.getElementsByTagName(\"body\").length){var o=window,a=\"g_tb_aplus_loaded\";if(o[a])return;o[a]=1,n(6).initGoldlog(),n(85).init()}else setTimeout(function(){t()},50)};t()}()},function(t,e,n){\"use strict\";!function(){var t=window.goldlog||(window.goldlog={}),e=n(3);t.aplus_pubsub||(t.aplus_pubsub=e.create())}()},function(t,e,n){\"use strict\";function o(t){if(\"function\"!=typeof t)throw new TypeError(t+\" is not a function\");return t}var a=n(4),r=function(t){for(var e=t.length,n=new Array(e-1),o=1;o<e;o++)n[o-1]=t[o];return n},i=a.extend({create:function(t){var e=new this;for(var n in t)e[n]=t[n];return e.handlers=[],e.pubs={},e},setHandlers:function(t){this.handlers=t},subscribe:function(t,e){o(e);var n=this,a=n.pubs||{};if(a[t]){var r=a[t]();e.apply(n,r)}var i=n.handlers;return t in i||(i[t]=[]),i[t].push(e),n.setHandlers(i),n},subscribeOnce:function(t,e){o(e);var n,a=this;return this.subscribe.call(this,t,n=function(){a.unsubscribe.call(a,t,n);var o=Array.prototype.slice.call(arguments);e.apply(a,o)}),this},unsubscribe:function(t,e){o(e);var n=this.handlers[t];if(!n)return this;if(\"object\"==typeof n&&n.length>0){for(var a=0;a<n.length;a++){var r=e.toString(),i=n[a].toString();r===i&&n.splice(a,1)}this.handlers[t]=n}else delete this.handlers[t];return this},publish:function(t){var e=r(arguments),n=this.handlers,o=n[t]?n[t].length:0;if(o>0)for(var a=0;a<o;a++)n[t][a].apply(this,e);return this},cachePubs:function(t){var e=this.pubs||{},n=r(arguments);e[t]=function(){return n}}});t.exports=i},function(t,e){\"use strict\";function n(){}n.prototype.extend=function(){},n.prototype.create=function(){},n.extend=function(t){return this.prototype.extend.call(this,t)},n.prototype.create=function(t){var e=new this;for(var n in t)e[n]=t[n];return e},n.prototype.extend=function(t){var e=function(){};try{\"function\"!=typeof Object.create&&(Object.create=function(t){function e(){}return e.prototype=t,new e}),e.prototype=Object.create(this.prototype);for(var n in t)e.prototype[n]=t[n];e.prototype.constructor=e,e.extend=e.prototype.extend,e.create=e.prototype.create}catch(t){console.log(t)}finally{return e}},t.exports=n},function(t,e){\"use strict\";var n=function(){var t=window.goldlog||{},e=t.aplus_pubsub||{},n=\"function\"==typeof e.publish;return n?e:\"\"};e.doPubMsg=function(t){var e=n();e&&e.publish.apply(e,t)},e.doCachePubs=function(t){var e=n();e&&\"function\"==typeof e.cachePubs&&e.cachePubs.apply(e,t)},e.doSubMsg=function(t,e){var o=n();o&&\"function\"==typeof o.subscribe&&o.subscribe(t,e)}},function(t,e,n){\"use strict\";var o=n(7),a=n(5),r=n(8),i=n(34),s=i.getInfo(),u=\"complete\";e.initGoldlog=function(){var t=window.goldlog||(window.goldlog={}),e=r.goldlog_path.run.create();for(var n in e)t[n]=e[n];var i=/TB\\-PD/i.test(navigator.userAgent),c=t._$=t._$||{};return c.meta_info=s,c.is_terminal=\"aplus_wap\"===r.script_name||i||\"1\"==s[\"aplus-terminal\"],c.send_pv_count=0,c.status=u,c.script_name=r.script_name,t.lver=r.lver,t.nameStorage=o.nameStorage,a.doPubMsg([\"goldlogReady\",u]),a.doCachePubs([\"goldlogReady\",u]),t}},function(t,e){\"use strict\";var n=function(){function t(){var t,e=[],r=!0;for(var l in p)p.hasOwnProperty(l)&&(r=!1,t=p[l]||\"\",e.push(c(l)+s+c(t)));n.name=r?o:a+c(o)+i+e.join(u)}function e(t,e,n){t&&(t.addEventListener?t.addEventListener(e,n,!1):t.attachEvent&&t.attachEvent(\"on\"+e,function(e){n.call(t,e)}))}var n=window;if(n.nameStorage)return n.nameStorage;var o,a=\"nameStorage:\",r=/^([^=]+)(?:=(.*))?$/,i=\"?\",s=\"=\",u=\"&\",c=encodeURIComponent,l=decodeURIComponent,p={},g={};return function(t){if(t&&0===t.indexOf(a)){var e=t.split(/[:?]/);e.shift(),o=l(e.shift())||\"\";for(var n,i,s,c=e.join(\"\"),g=c.split(u),f=0,d=g.length;f<d;f++)n=g[f].match(r),n&&n[1]&&(i=l(n[1]),s=l(n[2])||\"\",p[i]=s)}else o=t||\"\"}(n.name),g.setItem=function(e,n){e&&\"undefined\"!=typeof n&&(p[e]=String(n),t())},g.getItem=function(t){return p.hasOwnProperty(t)?p[t]:null},g.removeItem=function(e){p.hasOwnProperty(e)&&(p[e]=null,delete p[e],t())},g.clear=function(){p={},t()},g.valueOf=function(){return p},g.toString=function(){var t=n.name;return 0===t.indexOf(a)?t:a+t},e(n,\"beforeunload\",function(){t()}),g}();e.nameStorage=n},function(t,e,n){\"use strict\";var o=n(9),a=n(10),r=n(11);e.APLUS_ENV=\"production\",e.lver=a.lver,e.toUtVersion=a.toUtVersion,e.script_name=a.script_name,e.recordTypes=o.recordTypes,e.KEY=o.KEY,e.context=r.context,e.context_prepv=r.context_prepv,e.aplus_init_plugins=n(18).aplus_init_plugins,e.plugins_pv=n(29).plugins_pv,e.plugins_prepv=n(60).plugins_prepv,e.context_hjlj=n(61),e.plugins_hjlj=n(63).plugins_hjlj,e.beforeUnload=n(70),e.initLoad=n(72),e.spmException=n(76),e.goldlog_path=n(77),e.is_auto_pv=\"true\",e.utilPvid=n(81),e.disablePvid=\"false\",e.mustSpmE=!0,e.LS_CNA_KEY=\"APLUS_CNA\"},function(t,e){\"use strict\";e.recordTypes={hjlj:\"COMMON_HJLJ\",uhjlj:\"DATACLICK_HJLJ\",pv:\"PV\",prepv:\"PREPV\"},e.KEY={NAME_STORAGE:{REFERRER:\"wm_referrer\",REFERRER_PV_ID:\"refer_pv_id\",LOST_PV_PAGE_DURATION:\"lost_pv_page_duration\",LOST_PV_PAGE_SPMAB:\"lost_pv_page_spmab\",LOST_PV_PAGE:\"lost_pv_page\",LOST_PV_PAGE_MSG:\"lost_pv_page_msg\"}}},function(t,e){\"use strict\";e.lver=\"8.1.1\",e.toUtVersion=\"v20180201\",e.script_name=\"aplus_std\"},function(t,e,n){\"use strict\";e.context=n(12),e.context_prepv=n(17)},function(t,e,n){\"use strict\";function o(){return{compose:{maxTimeout:5500},etag:{egUrl:\"//log.mmstat.com/eg.js\",cna:i.getCookie(\"cna\")}}}function a(){return r.assign(new s.initConfig,new o)}var r=n(13),i=n(14),s=n(16);t.exports=a},function(t,e){\"use strict\";function n(t,e){return\"function\"!=typeof Object.assign?function(t){if(null===t)throw new TypeError(\"Cannot convert undefined or null to object\");for(var e=Object(t),n=1;n<arguments.length;n++){var o=arguments[n];if(null!==o)for(var a in o)Object.prototype.hasOwnProperty.call(o,a)&&(e[a]=o[a])}return e}(t,e):Object.assign({},t,e)}function o(t){return\"function\"==typeof t}function a(t){return\"[object Array]\"===Object.prototype.toString.call(t)}function r(t){return\"string\"==typeof t}function i(t){return\"undefined\"==typeof t}function s(t,e){return t.indexOf(e)>-1}var u=window;e.assign=n,e.makeCacheNum=function(){return Math.floor(268435456*Math.random()).toString(16)},e.each=function(t,e){var n,o=t.length;for(n=0;n<o;n++)e(t[n])},e.isStartWith=function(t,e){return 0===t.indexOf(e)},e.isEndWith=function(t,e){var n=t.length,o=e.length;return n>=o&&t.indexOf(e)==n-o},e.any=function(t,e){var n,o=t.length;for(n=0;n<o;n++)if(e(t[n]))return!0;return!1},e.isFunction=o,e.isArray=a,e.isString=r,e.isNumber=function(t){return\"number\"==typeof t},e.isUnDefined=i,e.isContain=s;var c=function(t){var e,n=t.constructor===Array?[]:{};if(\"object\"==typeof t){if(u.JSON&&u.JSON.parse)e=JSON.stringify(t),n=JSON.parse(e);else for(var o in t)n[o]=\"object\"==typeof t[o]?c(t[o]):t[o];return n}};e.cloneObj=c,e.cloneDeep=c},function(t,e,n){\"use strict\";function o(t){var e=s.cookie.match(new RegExp(\"(?:^|;)\\\\s*\"+t+\"=([^;]+)\"));return e?e[1]:\"\"}function a(t,e,n){n||(n={});var a=new Date;return\"session\"===n.expires||(n.expires&&(\"number\"==typeof n.expires||n.expires.toUTCString)?(\"number\"==typeof n.expires?a.setTime(a.getTime()+24*n.expires*60*60*1e3):a=n.expires,e+=\"; expires=\"+a.toUTCString()):(a.setTime(a.getTime()+63072e7),e+=\"; expires=\"+a.toUTCString())),e+=\"; path=\"+(n.path?n.path:\"/\"),e+=\"; domain=\"+n.domain,s.cookie=t+\"=\"+e,o(t)}function r(t,e,n){try{if(n||(n={}),n.domain)a(t,e,n);else for(var o=c.getDomains(),r=0;r<o.length;)n.domain=o[r],a(t,e,n)?r=o.length:r++}catch(t){}}function i(){var t={};return u.each(p,function(e){t[e]=o(e)}),t.cnaui=/\\btanx\\.com$/.test(l)?o(\"cnaui\"):\"\",t}var s=document,u=n(13),c=n(15),l=location.hostname;e.getCookie=o,e.setCookie=r;var p=[\"tracknick\",\"thw\",\"cna\"];e.getData=i,e.getAda=function(){return encodeURIComponent(o(\"_a_d_a\")||\"\")}},function(t,e){\"use strict\";e.getDomains=function(){var t=[];try{for(var e=location.hostname,n=e.split(\".\"),o=2;o<=n.length;)t.push(n.slice(n.length-o).join(\".\")),o++}catch(t){}return t}},function(t,e,n){\"use strict\";function o(t,e,n){var o=window.goldlog||{},s=o.getMetaInfo(\"aplus-ifr-pv\")+\"\"==\"1\";return e?r(t)?\"yt\":\"m\":n&&!s?a.isContain(t,\"wrating.com\")?\"k\":i(t)||\"y\":i(t)||\"v\"}var a=n(13),r=function(t){for(var e=[\"youku.com\",\"soku.com\",\"tudou.com\",\"laifeng.com\"],n=0;n<e.length;n++){var o=e[n];if(a.isContain(t,o))return!0}return!1},i=function(t){for(var e=[[\"scmp.com\",\"sc\"],[\"luxehomes.com.hk\",\"sc\"],[\"ays.com.hk\",\"sc\"],[\"cpjobs.com\",\"sc\"],[\"educationpost.com.hk\",\"sc\"],[\"cosmopolitan.com.hk\",\"sc\"],[\"elle.com.hk\",\"sc\"],[\"harpersbazaar.com.hk\",\"sc\"],[\"1688.com\",\"6\"],[\"youku.com\",\"yt\"],[\"soku.com\",\"yt\"],[\"tudou.com\",\"yt\"],[\"laifeng.com\",\"yt\"]],n=0;n<e.length;n++){var o=e[n];if(a.isContain(t,o[0]))return o[1]}return\"\"};e.getBeaconSrc=o,e.initConfig=function(){return{compose:{},etag:{egUrl:\"//log.mmstat.com/eg.js\",cna:\"\",tag:\"\",stag:\"\",lstag:\"-1\",lscnastatus:\"\"},can_to_sendpv:{},userdata:{},what_to_sendpv:{pvdata:{},exparams:{}},what_to_pvhash:{hash:[]},what_to_sendpv_ut:{pvdataToUt:{}},what_to_sendpv_ut2:{isSuccess:!1,pvdataToUt:{}},when_to_sendpv:{aplusWaiting:\"\"},where_to_sendpv:{url:\"//log.mmstat.com/o.gif\",urlRule:o},where_to_sendlog_ut:{aplusToUT:{},toUTName:\"toUT\"},hjlj:{what_to_hjlj:{logdata:{}},what_to_hjlj_ut:{logdataToUT:{}}},network:{connType:\"UNKNOWN\"},is_single:!1}}},function(t,e,n){\"use strict\";function o(){return{etag:{egUrl:\"//log.mmstat.com/eg.js\",cna:a.getCookie(\"cna\"),tag:\"\",stag:\"\"},compose:{},where_to_prepv:{url:\"//log.mmstat.com/v.gif\",urlRule:r.getBeaconSrc},userdata:{},what_to_prepv:{logdata:{}},what_to_hjlj_exinfo:{EXPARAMS_FLAG:\"EXPARAMS\",exinfo:[],exparams_key_names:[\"uidaplus\",\"pc_i\",\"pu_i\"]},is_single:!1}}var a=n(14),r=n(16);t.exports=o},function(t,e,n){\"use strict\";e.aplus_init_plugins=[{name:\"etag\",enable:!0,path:n(19)}]},function(t,e,n){\"use strict\";var o=n(14),a=n(20),r=n(27),i=n(23),s=n(28);t.exports=function(){return{init:function(t){this.options=t;var e=this.options.context.etag||{};this.cna=e.cna||o.getCookie(\"cna\"),this.setTag(0),this.setStag(-1),this.setEtag(this.cna||\"\"),this.requesting=!1},setTag:function(t){this.tag=t,this.options.context.etag.tag=t},setStag:function(t){this.stag=t,this.options.context.etag.stag=t},setEtag:function(t){this.etag=t,this.options.context.etag.cna=t,o.getCookie(\"cna\")!==t&&o.setCookie(\"cna\",t)},getUrl:function(){var t=this.options.context.etag||{},e=a.filterIntUrl(t.egUrl||\"//log.mmstat.com/eg.js\");try{var n=goldlog.getMetaInfo(\"aplus-rhost-v\"),o=/[[a-z|0-9\\.]+[a-z|0-9]/,r=n.match(o);r&&r[0]&&(e=e.replace(o,r[0]))}catch(t){}return e},run:function(t,e){var n=this;if(n.cna)return void n.setTag(1);var o=null,a=this.getUrl();if(0===a.indexOf(\"//\")){var u=i.getProtocal();a=u+a}return n.requesting=!0,r.loadScript(a,function(t){if(t&&\"error\"===t.type&&n.setStag(-3),n.requesting){n.requesting=!1;var a=s.getGoldlogVal(\"Etag\");a&&n.setEtag(a);var r=s.getGoldlogVal(\"stag\");\"undefined\"!=typeof r&&n.setStag(r),clearTimeout(o),e()}}),o=setTimeout(function(){n.requesting=!1,n.setStag(-2),e()},1e3),\"pause\"}}}},function(t,e,n){\"use strict\";function o(t){t=(t||\"\").split(\"#\")[0].split(\"?\")[0];var e=t.length,n=function(t){var e,n=t.length,o=0;for(e=0;e<n;e++)o=31*o+t.charCodeAt(e);return o};return e?n(e+\"#\"+t.charCodeAt(e-1)):-1}function a(t){for(var e=t.split(\"&\"),n=0,o=e.length,a={};n<o;n++){var r=e[n],i=r.indexOf(\"=\"),s=r.substring(0,i),u=r.substring(i+1);a[s]=p.tryToDecodeURIComponent(u)}return a}function r(t){if(\"function\"!=typeof t)throw new TypeError(t+\" is not a function\");return t}function i(t){var e,n,o,a=[],r=t.length;for(o=0;o<r;o++)e=t[o][0],n=t[o][1],a.push(l.isStartWith(e,v)?n:e+\"=\"+encodeURIComponent(n));return a.join(\"&\")}function s(t){var e,n,o,a={},r=t.length;for(o=0;o<r;o++)e=t[o][0],n=t[o][1],a[e]=n;return a}function u(t,e){var n,o,a,r=[];for(n in t)t.hasOwnProperty(n)&&(o=\"\"+t[n],a=n+\"=\"+encodeURIComponent(o),e?r.push(a):r.push(l.isStartWith(n,v)?o:a));return r.join(\"&\")}function c(t,e){var n=t.indexOf(\"?\")==-1?\"?\":\"&\",o=e?l.isArray(e)?i(e):u(e):\"\";return o?t+n+o:t}var l=n(13),p=n(21),g=n(23),f=parent!==self;e.is_in_iframe=f,e.makeCacheNum=l.makeCacheNum,e.isStartWith=l.isStartWith,e.isEndWith=l.isEndWith,e.any=l.any,e.each=l.each,e.assign=l.assign,e.isFunction=l.isFunction,e.isArray=l.isArray,e.isString=l.isString,e.isNumber=l.isNumber,e.isUnDefined=l.isUnDefined,e.isContain=l.isContain,e.sleep=n(24).sleep,e.makeChkSum=o,e.tryToDecodeURIComponent=p.tryToDecodeURIComponent,e.nodeListToArray=p.nodeListToArray,e.parseSemicolonContent=p.parseSemicolonContent,e.param2obj=a;var d=n(25),h=function(t){return/^(\\/\\/){0,1}\\w+\\.\\w+\\.\\w+$/.test(t)};e.hostValidity=h;var m=function(t,e){var n=/^(\\/\\/){0,1}\\w+\\.\\w+\\.\\w+\\/\\w+\\.gif$/.test(t),o=h(t),a=\"\";return n?a=\"isGifPath\":o&&(a=\"isHostPath\"),a||d.logger({msg:e+\": \"+t+' is invalid, suggestion: \"xxx.mmstat.com\"'}),a},_=function(t){return!/^\\/\\/gj\\.mmstat/.test(t)&&goldlog.isInternational()&&(t=t.replace(/^\\/\\/\\w+\\.mmstat/,\"//gj.mmstat\")),t};e.filterIntUrl=_,e.getPvUrl=function(t){t||(t={});var e,n,o=t.metaValue&&m(t.metaValue,t.metaName),a=\"\";\"isGifPath\"===o?(e=/^\\/\\//.test(t.metaValue)?\"\":\"//\",a=e+t.metaValue):\"isHostPath\"===o&&(e=/^\\/\\//.test(t.metaValue)?\"\":\"//\",n=/\\/$/.test(t.metaValue)?\"\":\"/\",a=e+t.metaValue+n+t.gifPath);var r;return a?r=a:(e=0===t.gifPath.indexOf(\"/\")?t.gifPath:\"/\"+t.gifPath,r=t.url&&t.url.replace(/\\/\\w+\\.gif/,e)),r},e.indexof=n(26).indexof,e.callable=r;var v=\"::-plain-::\";e.mkPlainKey=function(){return v+Math.random()},e.s_plain_obj=v,e.mkPlainKeyForExparams=function(t){var e=t||v;return e+\"exparams\"},e.rndInt32=function(){return Math.round(2147483647*Math.random())},e.arr2param=i,e.arr2obj=s,e.obj2param=u,e.makeUrl=c,e.ifAdd=function(t,e){var n,o,a,r,i=e.length;for(n=0;n<i;n++)o=e[n],a=o[0],r=o[1],r&&t.push([a,r])},e.isStartWithProtocol=g.isStartWithProtocol,e.param2arr=function(t){for(var e,n=t.split(\"&\"),o=0,a=n.length,r=[];o<a;o++)e=n[o].split(\"=\"),r.push([e.shift(),e.join(\"=\")]);return r}},function(t,e,n){\"use strict\";function o(t,e){var n=e||\"\";if(t)try{n=decodeURIComponent(t)}catch(t){}return n}var a=n(22);e.tryToDecodeURIComponent=o,e.parseSemicolonContent=function(t,e,n){e=e||{};var r,i,s=t.split(\";\"),u=s.length;for(r=0;r<u;r++){i=s[r].split(\"=\");var c=a.trim(i.slice(1).join(\"=\"));e[a.trim(i[0])||\"\"]=n?c:o(c)}return e},e.nodeListToArray=function(t){var e,n;try{return e=[].slice.call(t)}catch(a){e=[],n=t.length;for(var o=0;o<n;o++)e.push(t[o]);return e}},e.nodeListToArray=function(t){var e,n;try{return e=[].slice.call(t)}catch(a){e=[],n=t.length;for(var o=0;o<n;o++)e.push(t[o]);return e}};var r={set:function(t,e){try{return localStorage.setItem(t,e),!0}catch(t){return!1}},get:function(t){return localStorage.getItem(t)},test:function(){var t=\"grey_test_key\";try{return localStorage.setItem(t,1),localStorage.removeItem(t),!0}catch(t){return!1}},remove:function(t){localStorage.removeItem(t)}};e.store=r,e.getLsCna=function(t,e){var n=\"\",o=r.get(t);if(o){var a=o.split(\"_\")||[];n=e?a.length>1&&e===a[0]?a[1]:\"\":a.length>1?a[1]:\"\"}return decodeURIComponent(n)},e.setLsCna=function(t,e,n){n&&r.set&&r.test()&&r.set(t,e+\"_\"+encodeURIComponent(n))},e.getUrl=function(t){var e=t||\"//log.mmstat.com/eg.js\";try{var n=goldlog.getMetaInfo(\"aplus-rhost-v\"),o=/[[a-z|0-9\\.]+[a-z|0-9]/,a=n.match(o);a&&a[0]&&(e=e.replace(o,a[0]))}catch(t){}return e}},function(t,e){\"use strict\";function n(t){return\"string\"==typeof t?t.replace(/^\\s+|\\s+$/g,\"\"):\"\"}e.trim=n},function(t,e,n){\"use strict\";var o=n(13),a=function(){var t=location.protocol;return\"http:\"!==t&&\"https:\"!==t&&(t=\"https:\"),t};e.getProtocal=a,e.isStartWithProtocol=function(t){for(var e=[\"javascript:\",\"tel:\",\"sms:\",\"mailto:\",\"tmall://\",\"#\"],n=0,a=e.length;n<a;n++)if(o.isStartWith(t,e[n]))return!0;return!1}},function(t,e){\"use strict\";e.sleep=function(t,e){return setTimeout(function(){e()},t)}},function(t,e){\"use strict\";var n=function(){var t=!1;return\"boolean\"==typeof goldlog.aplusDebug&&(t=goldlog.aplusDebug),t};e.isDebugAplus=n;var o=function(t){t||(t={});var e=t.level||\"warn\";window.console&&window.console[e]&&window.console[e](t.msg)};e.logger=o},function(t,e){\"use strict\";e.indexof=function(t,e){var n=-1;try{n=t.indexOf(e)}catch(a){for(var o=0;o<t.length;o++)t[o]===e&&(n=o)}finally{return n}}},function(t,e,n){\"use strict\";function o(t,e){return t&&t.getAttribute?t.getAttribute(e)||\"\":\"\"}function a(t,e,n){if(t&&t.setAttribute)try{t.setAttribute(e,n)}catch(t){}}function r(t,e){if(t&&t.removeAttribute)try{t.removeAttribute(e)}catch(n){a(t,e,\"\")}}function i(t,e,n){var o=\"script\",a=g.createElement(o);a.type=\"text/javascript\",a.async=!0;var r=\"https:\"==location.protocol?e||t:t;0===r.indexOf(\"//\")&&(r=u.getProtocal()+r),a.src=r,n&&(a.id=n);var i=g.getElementsByTagName(o)[0];s=s||g.getElementsByTagName(\"head\")[0],i?i.parentNode.insertBefore(a,i):s&&s.appendChild(a)}var s,u=n(23),c=n(22),l=n(13),p=n(25),g=document;e.tryToGetAttribute=o,e.tryToSetAttribute=a,e.tryToRemoveAttribute=r,e.addScript=i,e.loadScript=function(t,e){function n(t){o.onreadystatechange=o.onload=o.onerror=null,o=null,e(t)}var o=g.createElement(\"script\");if(s=s||g.getElementsByTagName(\"head\")[0],o.async=!0,\"onload\"in o)o.onload=n;else{var a=function(){/loaded|complete/.test(o.readyState)&&n()};o.onreadystatechange=a,a()}o.onerror=function(t){n(t)},o.src=t,s.appendChild(o)},e.isTouch=function(){return\"ontouchend\"in document.createElement(\"div\")},e.tryToGetHref=function(t){var e;try{e=c.trim(t.getAttribute(\"href\",2))}catch(t){}return e||\"\"};var f=function(){var t=goldlog&&goldlog._$?goldlog._$:{},e=t.meta_info||{};return e[\"aplus-exparams\"]||\"\"};e.getExParamsFromMeta=f,e.getExParams=function(t){var e=g.getElementById(\"beacon-aplus\")||g.getElementById(\"tb-beacon-aplus\"),n=o(e,\"exparams\"),a=d(n,f(),t)||\"\";return a&&a.replace(/&amp;/g,\"&\").replace(/\\buserid=/,\"uidaplus=\")};var d=function(t,e,n){var o=\"aplus&sidx=aplusSidex\",a=t||o;try{if(e){var r=n.param2obj(e),i=[\"aplus\",\"cna\",\"spm-cnt\",\"spm-url\",\"spm-pre\",\"logtype\",\"pre\",\"uidaplus\",\"asid\",\"sidx\",\"trid\",\"gokey\"];l.each(i,function(t){r.hasOwnProperty(t)&&(p.logger({msg:\"Can not inject keywords: \"+t}),delete r[t])}),delete r[\"\"];var s=\"\";if(t){var u=t.match(/aplus&/).index,c=u>0?n.param2obj(t.substring(0,u)):{};delete c[\"\"],s=n.obj2param(l.assign(c,r))+\"&\"+t.substring(u,t.length)}else s=n.obj2param(r)+\"&\"+o;return s}return a}catch(t){return a}};e.mergeExparams=d},function(t,e){\"use strict\";var n=function(t){var e;try{window.goldlog||(window.goldlog={}),e=window.goldlog[t]}catch(t){e=\"\"}finally{return e}};e.getGoldlogVal=n;var o=function(t,e){var n=!1;try{window.goldlog||(window.goldlog={}),t&&(window.goldlog[t]=e,n=!0)}catch(t){n=!1}finally{return n}};e.setGoldlogVal=o,e.getClientInfo=function(){return n(\"_aplus_client\")||{}}},function(t,e,n){\"use strict\";e.plugins_pv=[{name:\"etag\",enable:!0,path:n(30)},{name:\"etag_sync\",enable:!0,path:n(32)},{name:\"when_to_sendpv\",enable:!0,path:n(33)},{name:\"where_to_sendlog_ut\",enable:!0,path:n(36)},{name:\"is_single\",enable:!0,path:n(38)},{name:\"what_to_pvhash\",enable:!0,path:n(41)},{name:\"what_to_sendpv\",enable:!0,path:n(42)},{name:\"what_to_sendpv_userdata\",enable:!0,path:n(46),deps:[\"what_to_sendpv\"]},{name:\"what_to_sendpv_etag\",enable:!0,path:n(50),deps:[\"etag\",\"what_to_sendpv\"]},{name:\"what_to_sendpv_ut\",enable:!0,path:n(51),deps:[\"where_to_sendlog_ut\",\"is_single\"]},{name:\"can_to_sendpv\",enable:!0,path:n(52)},{name:\"where_to_sendpv\",enable:!0,path:n(53),deps:[\"is_single\"]},{name:\"do_sendpv\",enable:!0,path:n(54),deps:[\"is_single\",\"what_to_sendpv\",\"where_to_sendpv\"]},{name:\"do_sendpv_ut\",enable:!0,path:n(55),deps:[\"what_to_sendpv_ut\",\"where_to_sendlog_ut\"]},{name:\"cookiemapping\",enable:!0,path:n(57),deps:[\"do_sendpv\"]},{name:\"after_pv\",enable:!0,path:n(59)}]},function(t,e,n){\"use strict\";var o=n(14),a=n(27),r=n(21),i=n(31),s=n(23),u=n(28),c=n(8);t.exports=function(){return{init:function(t){this.options=t;var e=this.options.context.etag||{};this.cna=e.cna||o.getCookie(\"cna\"),this.setTag(0),this.setStag(-1),this.setLsTag(\"-1\"),this.setEtag(this.cna||\"\"),this.requesting=!1,this.today=i.getFormatDate()},setLsTag:function(t){this.lstag=t,this.options.context.etag.lstag=t},setTag:function(t){this.tag=t,this.options.context.etag.tag=t},setStag:function(t){this.stag=t,this.options.context.etag.stag=t},setEtag:function(t){this.etag=t,this.options.context.etag.cna=t,o.getCookie(\"cna\")!==t&&o.setCookie(\"cna\",t)},setLscnaStatus:function(t){this.options.context.etag.lscnastatus=t},getUrl:function(){var t=this.options.context.etag||{};return r.getUrl(t.egUrl||\"//log.mmstat.com/eg.js\")},run:function(t,e){var n=this;if(n.cna)return void n.setTag(1);var o=null,i=this.getUrl();if(0===i.indexOf(\"//\")){var l=s.getProtocal();i=l+i}n.requesting=!0;var p=function(){setTimeout(function(){e()},20),clearTimeout(o)};return a.loadScript(i,function(t){var e,o;if(t&&\"error\"===t.type?n.setStag(-3):(e=u.getGoldlogVal(\"Etag\"),e&&n.setEtag(e),o=u.getGoldlogVal(\"stag\"),\"undefined\"!=typeof o&&n.setStag(o)),n.requesting){if(2===o||4===o){var a=r.getLsCna(c.LS_CNA_KEY);a?(n.setLsTag(1),n.setEtag(a)):(n.setLsTag(0),r.setLsCna(c.LS_CNA_KEY,n.today,e))}p()}}),o=setTimeout(function(){n.requesting=!1,n.setStag(-2),e()},1500),2e3}}}},function(t,e){\"use strict\";function n(t,e,n){var o=\"\"+Math.abs(t),a=e-o.length,r=t>=0;return(r?n?\"+\":\"\":\"-\")+Math.pow(10,Math.max(0,a)).toString().substr(1)+o}e.getFormatDate=function(t){var e=new Date;try{return[e.getFullYear(),n(e.getMonth()+1,2,0),n(e.getDate(),2,0)].join(t||\"\")}catch(t){return\"\"}}},function(t,e,n){\"use strict\";var o=n(21),a=n(27),r=n(8),i=n(31),s=o.store||{};t.exports=function(){return{init:function(t){this.options=t,this.today=i.getFormatDate()},getUrl:function(){var t=this.options.context.etag||{};return o.getUrl(t.egUrl||\"//log.mmstat.com/eg.js\")},run:function(){var t=this;if(s.test()){var e=o.getLsCna(r.LS_CNA_KEY,this.today);e||setTimeout(function(){a.loadScript(t.getUrl(),function(e){e&&\"error\"!==e.type&&o.setLsCna(r.LS_CNA_KEY,t.today,goldlog.Etag)})},1e3)}}}}},function(t,e,n){\"use strict\";var o=n(28),a=n(24),r=n(34);t.exports=function(){return{init:function(t){this.options=t},getMetaInfo:function(){var t=o.getGoldlogVal(\"_$\")||{},e=t.meta_info||r.getInfo();return e},getAplusWaiting:function(){var t=this.getMetaInfo()||{};return t[\"aplus-waiting\"]},run:function(t,e){var n=this.options.config||{},o=this.getAplusWaiting();if(o&&n.is_auto)switch(o=this.getAplusWaiting()+\"\",this.options.context.when_to_sendpv={aplusWaiting:o},o){case\"MAN\":return\"done\";case\"1\":return this.options.context.when_to_sendpv.isWait=!0,a.sleep(6e3,function(){e()}),6e3;default:var r=1*o;if(r+\"\"!=\"NaN\")return this.options.context.when_to_sendpv.isWait=!0,a.sleep(r,function(){e()}),r}}}}},function(t,e,n){\"use strict\";function o(t){var e,n,o,a=t.length,r={};for(g._microscope_data=r,e=0;e<a;e++)n=t[e],\"microscope-data\"==l.tryToGetAttribute(n,\"name\")&&(o=l.tryToGetAttribute(n,\"content\"),u.parseSemicolonContent(o,r),g.is_head_has_meta_microscope_data=!0);g._microscope_data_params=u.obj2param(r),g.ms_data_page_id=r.pageId,g.ms_data_shop_id=r.shopId,g.ms_data_instance_id=r.siteInstanceId,g.ms_data_siteCategoryId=r.siteCategory,g.ms_prototype_id=r.prototypeId,g.site_instance_id_or_shop_id=g.ms_data_instance_id||g.ms_data_shop_id,g._atp_beacon_data={},g._atp_beacon_data_params=\"\"}function a(t){var e,n=function(){var e;return document.querySelector&&(e=document.querySelector(\"meta[name=data-spm]\")),c.each(t,function(t){\"data-spm\"===l.tryToGetAttribute(t,\"name\")&&(e=t)}),e},o=n();return o&&(e=l.tryToGetAttribute(o,\"data-spm-protocol\")),e}function r(t){var e=t.isonepage||\"-1\",n=e.split(\"|\"),o=n[0],a=n[1]?n[1]:\"\";t.isonepage_data={isonepage:o,urlpagename:a}}function i(){var t=p.getMetaTags();o(t),c.each(t,function(t){var e=l.tryToGetAttribute(t,\"name\");/^aplus/.test(e)&&(g[e]=p.getMetaCnt(e))}),c.each(f,function(t){g[t]=p.getMetaCnt(t)}),g.spm_protocol=a(t);var e,n,i=[\"aplus-rate-ahot\"],s=i.length;for(e=0;e<s;e++)n=i[e],g[n]=parseFloat(g[n]);return r(g),d=g||{},g}function s(){return d||i()}var u=n(20),c=n(13),l=n(27),p=n(35),g={},f=[\"ahot-aplus\",\"isonepage\",\"spm-id\",\"data-spm\",\"microscope-data\"],d={};e.setMetaInfo=function(t,e){return d||(d={}),d[t]=e,!0},e.getMetaInfo=function(t){return d||(d={}),d[t]||\"\"},e.getInfo=i,e.qGet=s},function(t,e,n){\"use strict\";function o(t){return i=i||document.getElementsByTagName(\"head\")[0],s&&!t?s:i?s=i.getElementsByTagName(\"meta\"):[]}function a(t){var e,n,a,r=o(),i=r.length;for(e=0;e<i;e++)n=r[e],u.tryToGetAttribute(n,\"name\")===t&&(a=u.tryToGetAttribute(n,\"content\"));return a||\"\"}function r(t){var e={isonepage:\"-1\",urlpagename:\"\"},n=t.qGet();if(n&&n.hasOwnProperty(\"isonepage_data\"))e.isonepage=n.isonepage_data.isonepage,e.urlpagename=n.isonepage_data.urlpagename;else{var o=a(\"isonepage\")||\"-1\",r=o.split(\"|\");e.isonepage=r[0],e.urlpagename=r[1]?r[1]:\"\"}return e}var i,s,u=n(27);e.getMetaTags=o,e.getMetaCnt=a,e.getOnePageInfo=r},function(t,e,n){\"use strict\";var o=n(37);t.exports=function(){return{init:function(t){this.options=t},getAplusToUT:function(){return{toUT2:o.getAplusToUT(\"toUT2\"),toUT:o.getAplusToUT(\"toUT\")}},run:function(){var t=this.getAplusToUT();this.options.context.where_to_sendlog_ut.aplusToUT=t}}}},function(t,e){\"use strict\";var n=navigator.userAgent,o=/WindVane/i.test(n);e.is_WindVane=o;var a=function(){var t=goldlog.getMetaInfo(\"aplus_chnl\");return!(!t||!t.isAvailable||\"function\"!=typeof t.toUT2&&\"function\"!=typeof t.toUT)&&t};e.isAplusChnl=a,e.getAplusToUT=function(t){var e={},n=a();if(\"object\"==typeof n)e.bridgeName=n.bridgeName||\"customBridge\",e.isAvailable=n.isAvailable,e.toUT2=n.toUT2||n.toUT;else{var r=window.WindVane||{};if(o&&r&&r.isAvailable&&\"function\"==typeof r.call){var i=t||\"toUT\";e={bridgeName:\"WindVane\",isAvailable:!0,toUT2:function(t,e,n,o){return r.call(\"WVTBUserTrack\",i,t,e,n,o)}}}}return e}},function(t,e,n){\"use strict\";var o=n(28),a=n(39),r=n(8);t.exports=function(){return{init:function(t){this.options=t},isSingle_pv:function(){var t=o.getGoldlogVal(\"_$\")||{};return!(!t.is_WindVane||!a.isSingleUaVersion())},isSingle_hjlj:function(t){var e=o.getGoldlogVal(\"_$\")||{};return!(!e.is_WindVane||!a.isSingleSendLog(t))},isSingle_uhjlj:function(t){var e=o.getGoldlogVal(\"_$\")||{};return(!t||!/^\\/aplus\\.99\\.(\\d)+$/.test(t.logkey))&&!!(e.is_WindVane&&t&&t.logkey&&a.isSingleUaVersion())},run:function(){var t=this.options.context||{},e=this.options.config||{},n=t.where_to_sendlog_ut.aplusToUT||{},o=n.toUT||{},a=n.toUT2||{},i=!(!o.isAvailable&&!a.isAvailable),s=t.userdata||{},u=!!t.is_single;switch(e.recordType){case r.recordTypes.uhjlj:u=this.isSingle_uhjlj(s);break;case r.recordTypes.hjlj:u=this.isSingle_hjlj(s);break;case r.recordTypes.pv:u=this.isSingle_pv(s);break;default:u=this.isSingle_pv(s)}this.options.context.is_single=i&&u}}}},function(t,e,n){\"use strict\";var o=n(40),a=function(t){var e=t.logkey.toLowerCase();0===e.indexOf(\"/\")&&(e=e.substr(1));var n=t.gmkey.toUpperCase();switch(n){case\"EXP\":return\"2201\";case\"CLK\":return\"2101\";case\"SLD\":return\"19999\";case\"OTHER\":default:return\"19999\"}},r=function(){return o.webviewIsAbove({version_ios_tb:[5,11,7],version_ios_tm:[5,24,1],version_android_tb:[5,11,7],version_android_tm:[5,24,1]})};e.isSingleUaVersion=r,e.isSingleSendLog=function(t){return(!t||!/^\\/fsp\\.1\\.1$/.test(t.logkey))&&!!(t&&t.logkey&&t.gmkey&&r()===!0)},e.getFunctypeValue=function(t){return e.isSingleSendLog(t)?a(t):\"2101\"},e.getFunctypeValue2=function(t){return a(t)}},function(t,e){\"use strict\";var n=function(t){var e=[0,0,0];try{if(t){var n=t[1],o=n.split(\".\");if(o.length>2)for(var a=0;a<o.length;)e[a]=parseInt(o[a]),a++}}catch(t){e=[0,0,0]}finally{return e}};e.parseVersion=n;var o=function(t,e){var n=!1;try{var o=t[0]>e[0],a=t[1]>e[1],r=t[2]>e[2],i=t[0]===e[0],s=t[1]===e[1],u=t[2]===e[2];n=!!o||(!(!i||!a)||(!!(i&&s&&r)||!!(i&&s&&u)))}catch(t){n=!1}finally{return n}};e.isAboveVersion=o,e.webviewIsAbove=function(t,e){var a=!1;try{e||(e=navigator.userAgent);var r=e.match(/AliApp\\(TB\\/(\\d+[._]\\d+[._]\\d+)/i),i=n(r),s=e.match(/AliApp\\(TM\\/(\\d+[._]\\d+[._]\\d+)/i),u=n(s),c=/iPhone|iPad|iPod|ios/i.test(e),l=/android/i.test(e);c?r&&i?a=o(i,t.version_ios_tb):s&&u&&(a=o(u,t.version_ios_tm)):l&&(r&&i?a=o(i,t.version_android_tb):s&&u&&(a=o(u,t.version_android_tm)))}catch(t){a=!1}return a}},function(t,e,n){\"use strict\";var o=n(28);t.exports=function(){return{init:function(t){this.options=t},run:function(){var t=this.options.context.what_to_pvhash||{},e=o.getGoldlogVal(\"_$\")||{},n=e.meta_info||{},a=n[\"aplus-pvhash\"]||\"\",r=[];\"1\"===a&&(r=[\"_aqx_uri\",encodeURIComponent(location.href)]),t.hash=r,this.options.context.what_to_pvhash=t}}}},function(t,e,n){\"use strict\";var o=n(20),a=n(13),r=n(27),i=n(28),s=n(14),u=n(43),c=n(44),l=n(45);t.exports=function(){return a.assign(l,{init:function(t){this.options=t,this.cookie_data||(this.cookie_data=s.getData()),this.client_info||(this.client_info=i.getClientInfo()||{});var e=location.hash;e&&0===e.indexOf(\"#\")&&(e=e.substr(1)),this.loc_hash=e},getExParams:function(){var t=window,e=document,n=[],i=parent!==t.self,s=e.getElementById(\"beacon-aplus\")||e.getElementById(\"tb-beacon-aplus\"),c=r.tryToGetAttribute(s,\"exparams\"),l=r.mergeExparams(c,r.getExParamsFromMeta(),o)||\"\";l=l.replace(/&amp;/g,\"&\");var p,g,f=[\"taobao.com\",\"tmall.com\",\"etao.com\",\"hitao.com\",\"taohua.com\",\"juhuasuan.com\",\"alimama.com\"];if(i){for(g=f.length,p=0;p<g;p++)if(o.isContain(location.hostname,f[p]))return n.push([o.mkPlainKeyForExparams(),l]),n;l=l.replace(/\\buserid=\\w*&?/,\"\")}l=l.replace(/\\buserid=/,\"uidaplus=\"),l&&n.push([o.mkPlainKeyForExparams(),l]);var d=a.makeCacheNum();return u.updateKey(n,\"cache\",d),n},getExtra:function(){var t=[],e=i.getGoldlogVal(\"_$\")||{},n=e.meta_info||{},a=this.cookie_data||{},r=this.getClientInfo(!0)||[];return o.ifAdd(t,r),o.ifAdd(t,[[\"thw\",a.thw],[\"bucket_id\",c.getBucketId(n)],[\"urlokey\",this.loc_hash],[\"wm_instanceid\",n.ms_data_instance_id]]),t}})}},function(t,e){\"use strict\";function n(t,e,n){r(t,\"spm-cnt\",function(t){var o=t.split(\".\");return o[0]=goldlog.spm_ab[0],o[1]=goldlog.spm_ab[1],e?o[1]=o[1].split(\"/\")[0]+\"/\"+e:o[1]=o[1].split(\"/\")[0],n&&(o[4]=n),o.join(\".\")})}function o(t,e){var n=window.g_SPM&&g_SPM._current_spm;n&&r(t,\"spm-url\",function(){return[n.a,n.b,n.c,n.d].join(\".\")+(e?\".\"+e:\"\")},\"spm-cnt\")}function a(t,e){var n,o,a,r=-1;for(n=0,o=t.length;n<o;n++)if(a=t[n],a[0]===e){r=n;break}r>=0&&t.splice(r,1)}function r(t,e,n,o){var a,r,i=t.length,s=-1,u=\"function\"==typeof n;for(a=0;a<i;a++){if(r=t[a],r[0]===e)return void(u?r[1]=n(r[1]):r[1]=n);o&&r[0]===o&&(s=a)}o&&(u&&(n=n()),s>-1?t.splice(s,0,[e,n]):t.push([e,n]))}t.exports={updateSPMCnt:n,updateSPMUrl:o,updateKey:r,removeKey:a}},function(t,e,n){\"use strict\";function o(t,e){var n,o=2146271213;for(n=0;n<t.length;n++)o=(o<<5)+o+t.charCodeAt(n);return(65535&o)%e}function a(t){var e,n=r.getCookie(\"t\");return\"3\"!=t.ms_prototype_id&&\"5\"!=t.ms_prototype_id||(e=n?o(n,20):\"\"),e}var r=n(14);e.getBucketId=a},function(t,e,n){\"use strict\";var o=n(20),a=n(13),r=n(28),i=n(37),s=n(14),u=n(8);t.exports={init:function(t){this.options=t,this.cookie_data||(this.cookie_data=s.getData())},getBasicParams:function(){var t=document,e=r.getGoldlogVal(\"_$\")||{},n=e.spm||{},i=e.meta_info||{},u=i[\"aplus-ifr-pv\"]+\"\"==\"1\",c=o.is_in_iframe&&!u?0:1,l=[[\"logtype\",c],[o.mkPlainKey(),\"title=\"+escape(t.title)],[\"pre\",e.page_referrer],[\"cache\",a.makeCacheNum()],[\"scr\",screen.width+\"x\"+screen.height]],p=this.cookie_data||{},g=this.options.context||{},f=g.etag||{},d=f.cna||p.cna||s.getCookie(\"cna\");d&&l.push([o.mkPlainKey(),\"cna=\"+d]),p.tracknick&&l.push([o.mkPlainKey(),\"nick=\"+p.tracknick]);var h=n.spm_url||\"\";if(window.g_SPM&&window.g_SPM._current_spm){var m=[];for(var _ in g_SPM._current_spm)m.push(g_SPM._current_spm[_]);m.length>0&&(h=m.join(\".\"));\n",
      "}return o.ifAdd(l,[[\"wm_pageid\",i.ms_data_page_id],[\"wm_prototypeid\",i.ms_prototype_id],[\"wm_sid\",i.ms_data_shop_id],[\"spm-url\",h],[\"spm-pre\",n.spm_pre],[\"spm-cnt\",n.spm_cnt],[\"cnaui\",p.cnaui]]),l},getExParams:function(){return[]},getExtra:function(){return[]},getClientInfo:function(t){var e=[],n=r.getGoldlogVal(\"_$\")||{},a=this.client_info||{},s=a.ua_info||{};if(t||!i.is_WindVane&&!i.isAplusChnl()){for(var c,l=[],p=[\"p\",\"o\",\"b\",\"s\",\"w\",\"wx\",\"ism\"],g=0;c=p[g++];)s[c]&&l.push([c,s[c]]);o.ifAdd(e,l)}o.ifAdd(e,[[\"lver\",goldlog.lver||u.lver],[\"jsver\",n.script_name||u.script_name]]);var f=this.options.config||{},d=f.is_auto;return d||o.ifAdd(e,[[\"mansndlog\",1]]),e},processLodashDollar:function(){var t=r.getGoldlogVal(\"_$\")||{};t.page_url!==location.href&&(t.page_referrer=t.page_url,t.page_url=location.href),r.setGoldlogVal(\"_$\",t)},getLsParams:function(){var t=r.getGoldlogVal(\"_$\")||{},e=[];return t.lsparams&&t.lsparams.spm_id&&(e.push([\"lsparams\",t.lsparams.spm_id]),e.push([\"lsparams_pre\",t.lsparams.current_url])),e},run:function(){var t=this.getBasicParams()||[],e=this.getExParams()||[],n=this.getExtra()||[];this.processLodashDollar();var o=this.getLsParams()||[],a=[].concat(t,e,n,o);this.options.context.what_to_sendpv.pvdata=a,this.options.context.what_to_sendpv.exparams=e}}},function(t,e,n){\"use strict\";var o=n(20),a=n(28),r=n(43),i=n(14),s=n(47);t.exports=function(){return{init:function(t){this.options=t},getPageId:function(){var t=this.options.config||{},e=this.options.context||{},n=e.userdata||{};return t.page_id||t.pageid||t.pageId||n.page_id},getUserdata:function(){var t=a.getGoldlogVal(\"_$\")||{},e=t.spm||{},n=this.options.context||{},r=n.userdata||{},u=this.options.config||{},c=[];if(u&&!u.is_auto){u.gokey&&c.push([o.mkPlainKey(),u.gokey]);var l=e.data.b;if(l){var p=this.getPageId();l=p?l.split(\"/\")[0]+\"/\"+p:l.split(\"/\")[0],s.setB(l)}}var g=function(t){if(\"object\"==typeof t)for(var e in t)\"object\"!=typeof t[e]&&\"function\"!=typeof t[e]&&c.push([e,t[e]])};g(goldlog.getMetaInfo(\"aplus-cpvdata\")),g(r);var f=i.getCookie(\"workno\")||i.getCookie(\"emplId\");f&&c.push([\"workno\",f]);var d=i.getAda();return d&&c.push([\"_a_d_a\",i.getAda()]),c},processLodashDollar:function(){var t=this.options.config||{},e=a.getGoldlogVal(\"_$\")||{};t&&t.referrer&&(e.page_referrer=t.referrer),a.setGoldlogVal(\"_$\",e)},updatePre:function(t){var e=a.getGoldlogVal(\"_$\")||{};return e.page_referrer&&r.updateKey(t,\"pre\",e.page_referrer),t},run:function(){var t=this.options.context.what_to_sendpv.pvdata,e=this.getUserdata();this.processLodashDollar();var n=t,o=this.options.context.what_to_pvhash.hash;o&&o.length>0&&n.push(o),n=n.concat(e),n=this.updatePre(n);var a=this.getPageId();a&&r.updateSPMCnt(n,a),this.options.context.what_to_sendpv.pvdata=n,this.options.context.userdata=e}}}},function(t,e,n){\"use strict\";function o(){if(!s.data.a||!s.data.b){var t=r._SPM_a,e=r._SPM_b;if(t&&e)return t=t.replace(/^{(\\w+\\/)}$/g,\"$1\"),e=e.replace(/^{(\\w+\\/)}$/g,\"$1\"),s.is_wh_in_page=!0,void c.setAB(t,e);var n=goldlog._$.meta_info;t=n[\"data-spm\"]||n[\"spm-id\"]||\"0\";var o=t.split(\".\");o.length>1&&(t=o[0],e=o[1]),c.setA(t),e&&c.setB(e);var a=i.getElementsByTagName(\"body\");a=a&&a.length?a[0]:null,a&&(e=l.tryToGetAttribute(a,\"data-spm\"),e?c.setB(e):1===o.length&&c.setAB(\"0\",\"0\"))}}function a(){var t=s.data.a,e=s.data.b;t&&e&&(goldlog.spm_ab=[t,e])}var r=window,i=document,s={},u={};s.data=u;var c={},l=n(27),p=n(48),g=location.href,f=n(49).getRefer(),d=n(8);c.setA=function(t){s.data.a=t,a()},c.setB=function(t){s.data.b=t,a()},c.setAB=function(t,e){s.data.a=t,s.data.b=e,a()};var h=p.getSPMFromUrl,m=function(){var t=d.utilPvid.makePVId();return d.mustSpmE?t||goldlog.pvid||\"\":t||\"\"},_=function(t,e){var n=t.goldlog||window.goldlog||{},a=n.meta_info||{};s.meta_protocol=a.spm_protocol;var r,i=n.spm_ab||[],u=i[0]||\"0\",c=i[1]||\"0\";\"0\"===u&&\"0\"===c&&(o(),u=s.data.a||\"0\",c=s.data.b||\"0\"),r=[s.data.a,s.data.b].join(\".\"),s.spm_cnt=(r||\"0.0\")+\".0.0\";var l=t.send_pv_count>0?m():n.pvid;l&&(s.spm_cnt+=\".\"+l),n._$.spm=s,\"function\"==typeof e&&e(l)};c.spaInit=function(t,e,n,o){var a=\"function\"==typeof o?o:function(){},r=s.spm_url;s.spm_pre=h(f),s.spm_url=h(location.href);var i=window.g_SPM||{},u=d.utilPvid.getPvId()||\"\",c=t._$||{},l=c.send_pv_count;_({goldlog:t,meta_info:e,send_pv_count:l},function(t){s.spm_cnt=s.data.a+\".\"+s.data.b+\".0.0\"+(t?\".\"+t:\"\");var e=i._current_spm||{},o=n.join(\".\");e&&e.a&&\"0\"!==e.a&&e.b&&\"0\"!==e.b&&(s.spm_url=[e.a,e.b,e.c,e.d,e.e].join(\".\"),s.spm_pre=r),\"0.0\"!==o&&l>0&&(s.spm_url=o+\".0.0\"+(u?\".\"+u:\"\"),s.spm_pre=r),a()})},c.init=function(t,e,n){s.spm_url=h(g),s.spm_pre=h(f),_({goldlog:t,meta_info:e},function(){\"function\"==typeof n&&n()})},c.resetSpmCntPvid=function(){var t=goldlog.spm_ab;if(t&&2===t.length){var e=t.join(\".\")+\".0.0\",n=m();n&&(e=e+\".\"+n),s.spm_cnt=e,s.spm_url=e,goldlog._$.spm=s}},t.exports=c},function(t,e){\"use strict\";function n(t,e){if(!t||!e)return\"\";var n,o=\"\";try{var a=new RegExp(t+\"=([^&|#|?|/]+)\");if(\"spm\"===t||\"scm\"===t){var r=new RegExp(\"\\\\?.*\"+t+\"=([\\\\w\\\\.\\\\-\\\\*/]+)\"),i=e.match(a),s=e.match(r),u=i&&2===i.length?i[1]:\"\",c=s&&2===s.length?s[1]:\"\";o=u>c?u:c,o=decodeURIComponent(o)}else n=e.match(a),o=n&&2===n.length?n[1]:\"\"}catch(t){}finally{return o}}e.getParamFromUrl=n,e.getSPMFromUrl=function(t){return n(\"spm\",t)}},function(t,e,n){\"use strict\";var o=null,a=n(7).nameStorage,r=n(9);e.getRefer=function(){if(null!==o)return o;var t=r.KEY||{},e=t.NAME_STORAGE||{};return o=document.referrer||a.getItem(e.REFERRER)||\"\"}},function(t,e,n){\"use strict\";var o=n(43);t.exports=function(){return{init:function(t){this.options=t},updateBasicParams:function(){var t=this.options.context.what_to_sendpv.pvdata||[],e=this.options.context.etag||{};return e.cna&&(o.updateKey(t,\"cna\",e.cna),this.options.context.what_to_sendpv.pvdata=t),t},addTagParams:function(){var t=this.options.context.what_to_sendpv.pvdata||[],e=this.options.context.etag||{},n=[];(e.tag||0===e.tag)&&n.push([\"tag\",e.tag]),(e.stag||0===e.stag)&&n.push([\"stag\",e.stag]),(e.lstag||0===e.lstag)&&n.push([\"lstag\",e.lstag]),n.length>0&&(this.options.context.what_to_sendpv.pvdata=t.concat(n))},run:function(){this.updateBasicParams(),this.addTagParams()}}}},function(t,e,n){\"use strict\";function o(t){var e,n,o,a,i=[],s={};for(e=t.length-1;e>=0;e--)n=t[e],o=n[0],o&&o.indexOf(r.s_plain_obj)==-1&&s.hasOwnProperty(o)||(a=n[1],(\"aplus\"==o||a)&&(i.unshift([o,a]),s[o]=1));return i}function a(t){var e,n,o,a,s=[],u={logtype:!0,cache:!0,scr:!0,\"spm-cnt\":!0};for(e=t.length-1;e>=0;e--)if(n=t[e],o=n[0],a=n[1],!(i.isStartWith(o,r.s_plain_obj)&&!i.isStartWith(o,r.mkPlainKeyForExparams())||u[o]))if(i.isStartWith(o,r.mkPlainKeyForExparams())){var c=r.param2arr(a);if(\"object\"==typeof c&&c.length>0)for(var l=c.length-1;l>=0;l--){var p=c[l];p&&p[1]&&s.unshift([p[0],p[1]])}}else s.unshift([o,a]);return s}var r=n(20),i=n(13),s=n(28),u=n(35),c=n(34),l=n(8),p=n(14);t.exports=function(){return{init:function(t){this.options=t},getToUtData:function(t,e){var n,i=s.getGoldlogVal(\"_$\")||{},g=i.spm||{},f=a(o(t)),d={};try{var h=r.arr2obj(f);h._toUT=1,h._bridgeName=e.bridgeName||\"\",n=JSON.stringify(h)}catch(t){n='{\"_toUT\":1}'}var m=u.getOnePageInfo(c);return d.functype=\"2001\",d.urlpagename=m.urlpagename,d.url=location.href,d.spmcnt=g.spm_cnt||\"\",d.spmpre=g.spm_pre||\"\",d.lzsid=\"\",d.cna=p.getCookie(\"cna\"),d.extendargs=n,d.isonepage=m.isonepage,d.version=l.toUtVersion,d.lver=goldlog.lver||l.lver,d.jsver=l.script_name,d},run:function(){var t=this.options.context||{},e=t.what_to_sendpv||{},n=e.pvdata||[],o=t.what_to_sendpv_ut||{},a=t.where_to_sendlog_ut||{},r=a.aplusToUT||{},i=r.toUT||{};i&&i.isAvailable&&\"function\"==typeof i.toUT2&&(o.pvdataToUt=this.getToUtData(n,i),this.options.context.what_to_sendpv_ut=o)}}}},function(t,e,n){\"use strict\";var o=n(28);t.exports=function(){return{init:function(t){this.options=t},run:function(){var t=o.getGoldlogVal(\"_$\")||{},e=t.send_pv_count||0,n=this.options.config||{};return n.is_auto&&e>0?\"done\":(t.send_pv_count=++e,void o.setGoldlogVal(\"_$\",t))}}}},function(t,e,n){\"use strict\";var o=n(20),a=n(28),r=n(34);t.exports=function(){return{init:function(t){this.options=t},getMetaInfo:function(){var t=a.getGoldlogVal(\"_$\")||{},e=t.meta_info||r.getInfo();return e},getAplusMetaByKey:function(t){var e=this.getMetaInfo()||{};return e[t]},getGifPath:function(t,e){var n,r=a.getGoldlogVal(\"_$\")||{};if(\"function\"==typeof t)n=t(location.hostname,r.is_terminal,o.is_in_iframe)+\".gif\";else if(!n&&e){var i=e.match(/\\/\\w+\\.gif/);i&&i.length>0&&(n=i[0])}return n||(n=r.is_terminal?\"m.gif\":\"v.gif\"),n},run:function(){var t=!!this.options.context.is_single;if(!t){var e=this.getAplusMetaByKey(\"aplus-rhost-v\"),n=this.options.context.where_to_sendpv||{},a=n.url||\"\",r=this.getGifPath(n.urlRule,a),i=o.getPvUrl({metaName:\"aplus-rhost-v\",metaValue:e,gifPath:r,url:o.filterIntUrl(a)});n.url=i,this.options.context.where_to_sendpv=n}}}}},function(t,e,n){\"use strict\";var o=n(28),a=n(20);t.exports=function(){return{init:function(t){this.options=t},run:function(){var t=this.options.context||{},e=!!t.is_single;if(!e){var n=t.what_to_sendpv||{},r=t.where_to_sendpv||{},i=n.pvdata||[],s=goldlog.send(r.url,a.arr2obj(i));o.setGoldlogVal(\"req\",s)}}}}},function(t,e,n){\"use strict\";var o=n(56);t.exports=function(){return{init:function(t){this.options=t},run:function(t,e){var n=this,a=this.options.context||{},r=a.what_to_sendpv_ut||{},i=a.where_to_sendlog_ut||{},s=r.pvdataToUt||{},u=i.aplusToUT||{},c=u.toUT;if(c&&\"function\"==typeof c.toUT2&&c.isAvailable)try{c.toUT2(s,function(){u.toutflag=\"toUT\",n.options.context.what_to_sendpv_ut.isSuccess=!0,e()},function(t){o.do_tracker_jserror({message:\"do_sendpv_ut error\",error:JSON.stringify(t),filename:\"do_sendpv_ut\"}),e()},5e3)}catch(t){e()}finally{return\"pause\"}}}}},function(t,e,n){\"use strict\";var o=n(25),a=function(t,e,n){try{var a=window.goldlog_queue||(window.goldlog_queue=[]);a.push({action:[\"goldlog\",\"_aplus_cplugin_m\",e].join(\".\"),arguments:[t,n]})}catch(t){o.logger({msg:t})}};e.do_tracker_jserror=function(t,e){a(t,\"do_tracker_jserror\",e)},e.do_tracker_obsolete_inter=function(t,e){a(t,\"do_tracker_obsolete_inter\",e)},e.wrap=function(t){if(\"function\"==typeof t)try{t()}catch(t){o.logger({msg:t.message||t})}finally{}}},function(t,e,n){\"use strict\";var o=n(20),a=n(28),r=n(58);t.exports=function(){return{init:function(t){this.options=t},run:function(){var t=a.getGoldlogVal(\"_$\")||{},e=t.spm||{},n=e.data||{};if(1===goldlog._$.send_pv_count){var i=n.a,s=i+\".\"+n.b;o.is_in_iframe||goldlog._$.is_terminal||\"a21bo.7724922\"!=s&&\"2013\"!=i&&\"a220o\"!=i||r.create(\"//cookiemapping.wrating.com/link.html\")}}}}},function(t,e){\"use strict\";var n=document,o={};o.create=function(t,e){var o=n.createElement(\"iframe\");o.style.width=\"1px\",o.style.height=\"1px\",o.style.position=\"absolute\",o.style.display=\"none\",o.src=t,e&&(o.name=e);var a=n.getElementsByTagName(\"body\")[0];return a.appendChild(o),o},t.exports=o},function(t,e,n){\"use strict\";var o=n(5),a=n(28);t.exports=function(){return{init:function(t){this.options=t},run:function(){var t=goldlog._$||{},e=this.options.context||{};a.setGoldlogVal(\"pv_context\",e);var n=goldlog.spm_ab||[],r=n.join(\".\"),i=t.send_pv_count,s={cna:e.etag.cna,count:i,spmab_pre:goldlog.spmab_pre};o.doPubMsg([\"sendPV\",\"complete\",r,s]),o.doCachePubs([\"sendPV\",\"complete\",r,s])}}}},function(t,e){\"use strict\";e.plugins_prepv=[]},function(t,e,n){\"use strict\";function o(){var t=i.getGoldlogVal(\"_$\")||{},e=\"//gm.mmstat.com/\";return t.is_terminal&&(e=\"//wgo.mmstat.com/\"),{where_to_hjlj:{url:e,ac_atpanel:\"//ac.mmstat.com/\",tblogUrl:\"//log.mmstat.com/\"}}}function a(){return r.assign(new s,new o)}var r=n(13),i=n(28),s=n(62);t.exports=a},function(t,e,n){\"use strict\";function o(){return{compose:{},basic_params:{cna:a.getCookie(\"cna\")},where_to_hjlj:{url:\"//gm.mmstat.com/\",ac_atpanel:\"//ac.mmstat.com/\",tblogUrl:\"//log.mmstat.com/\"},userdata:{},what_to_hjlj:{logdata:{}},what_to_pvhash:{hash:[]},what_to_hjlj_exinfo:{EXPARAMS_FLAG:\"EXPARAMS\",exinfo:[],exparams_key_names:[\"uidaplus\",\"pc_i\",\"pu_i\"]},what_to_hjlj_ut:{logdataToUT:{}},what_to_hjlj_ut2:{isSuccess:!1,logdataToUT:{}},where_to_sendlog_ut:{aplusToUT:{},toUTName:\"toUT\"},network:{connType:\"UNKNOWN\"},is_single:!1}}var a=n(14);t.exports=o},function(t,e,n){\"use strict\";e.plugins_hjlj=[{name:\"where_to_sendlog_ut\",enable:!0,path:n(36)},{name:\"is_single\",enable:!0,path:n(38)},{name:\"what_to_hjlj_exinfo\",enable:!0,path:n(64)},{name:\"what_to_pvhash\",enable:!0,path:n(41)},{name:\"what_to_hjlj\",enable:!0,path:n(65),deps:[\"what_to_hjlj_exinfo\",\"what_to_pvhash\"]},{name:\"what_to_hjlj_ut\",enable:!0,path:n(66),deps:[\"is_single\",\"what_to_hjlj_exinfo\"]},{name:\"where_to_hjlj\",enable:!0,path:n(67),deps:[\"is_single\",\"what_to_hjlj\"]},{name:\"do_sendhjlj\",enable:!0,path:n(68),deps:[\"is_single\",\"what_to_hjlj\",\"where_to_hjlj\"]},{name:\"do_sendhjlj_ut\",enable:!0,path:n(69),deps:[\"what_to_hjlj\",\"what_to_hjlj_ut\",\"where_to_sendlog_ut\"]}]},function(t,e,n){\"use strict\";var o=n(20),a=n(27),r=n(28),i=n(28),s=n(26),u=n(14);t.exports=function(){return{init:function(t){this.options=t},getCookieUserInfo:function(){var t=[],e=u.getCookie(\"workno\")||u.getCookie(\"emplId\");e&&t.push(\"workno=\"+e);var n=u.getAda();return n&&t.push(\"_a_d_a=\"+u.getAda()),t},filterExinfo:function(t){var e=\"\";try{t&&(\"string\"==typeof t?e=t.replace(/&amp;/g,\"&\").replace(/\\buserid=/,\"uidaplus=\").replace(/&aplus&/,\"&\"):\"object\"==typeof t&&(e=o.obj2param(t,!0)))}catch(t){e=t.message?t.message:\"\"}return e},getExparamsFlag:function(){var t=this.options.context||{},e=t.what_to_hjlj_exinfo||{};return e.EXPARAMS_FLAG||\"EXPARAMS\"},getCustomExParams:function(t){var e=\"\";return t!==this.getExparamsFlag()&&(e=this.filterExinfo(t)||\"\"),e?e.split(\"&\"):[]},getBeaconExparams:function(t,e){var n=[],r=a.getExParams(o)||\"\";r=r.replace(/&aplus&/,\"&\");for(var i=o.param2arr(r)||[],u=function(e){return s.indexof(t,e)>-1},c=0;c<i.length;c++){var l=i[c],p=l[0]||\"\",g=l[1]||\"\";p&&g&&(e===this.getExparamsFlag()||u(p))&&n.push(p+\"=\"+g)}return n},getExinfo:function(t){var e=this.options.context||{},n=e.what_to_hjlj_exinfo||{},o=n.exparams_key_names||[],a=this.getBeaconExparams(o,t);return a},getExData:function(t){var e=[];if(\"object\"==typeof t)for(var n in t){var o=t[n];n&&o&&\"object\"!=typeof o&&\"function\"!=typeof o&&e.push(n+\"=\"+o)}return e},doConcatArr:function(t,e){return e&&e.length>0&&(t=t.concat(e)),t},run:function(){try{var t=this.options.context.what_to_hjlj_exinfo||{},e=r.getGoldlogVal(\"_$\")||{},n=e.meta_info||{},o=n[\"aplus-exinfo\"]||\"\",a=n[\"aplus-exdata\"]||\"\",s=[];s=this.doConcatArr(s,t.exinfo||[]),s=this.doConcatArr(s,this.getExinfo(o)),s=this.doConcatArr(s,this.getCookieUserInfo()),s=this.doConcatArr(s,this.getCustomExParams(o)),s=this.doConcatArr(s,this.getExData(a)),t.exinfo=s.join(\"&\"),this.options.context.what_to_hjlj_exinfo=t}catch(t){i.logger({msg:t?t.message:\"\"})}}}}},function(t,e,n){\"use strict\";var o=n(27),a=n(20),r=n(13);t.exports=function(){return{init:function(t){this.options=t},getParams:function(){var t=this.options.context||{},e=t.userdata||{},n=t.basic_params||{},i=t.what_to_hjlj_exinfo||{},s=i.exinfo||\"\";e.gokey&&s&&0!==s.indexOf(\"&\")&&(s=\"&\"+s);var u=n.cna,c=e.gmkey,l=e.gokey+s,p=t.what_to_pvhash||{},g=p.hash||[];g.length&&(l+=\"&\"+g.join(\"=\"));var f={cache:r.makeCacheNum(),gmkey:c,gokey:l,cna:u};e[\"spm-cnt\"]&&(f[\"spm-cnt\"]=e[\"spm-cnt\"]),e[\"spm-pre\"]&&(f[\"spm-pre\"]=e[\"spm-pre\"]);try{var d=o.getExParams(a),h=a.param2obj(d).uidaplus;h&&(f._gr_uid_=h)}catch(t){}return f},run:function(){this.options.context.what_to_hjlj.logdata=this.getParams()}}}},function(t,e,n){\"use strict\";var o=n(39),a=n(14),r=n(28),i=n(8);t.exports=function(){return{init:function(t){this.options=t},getToUtData:function(t,e){var n=r.getGoldlogVal(\"_$\")||{},s=n.spm||{},u=this.options.context||{},c=u.userdata||{},l=u.what_to_hjlj_exinfo||{},p=l.exinfo||\"\";c.gokey&&p&&0!==p.indexOf(\"&\")&&(p=\"&\"+p);var g=c.gokey+p,f={gmkey:c.gmkey,gokey:g,lver:i.lver,jsver:i.script_name,version:i.toUtVersion,spm_cnt:s.spm_cnt||\"\",spm_url:s.spm_url||\"\",spm_pre:s.spm_pre||\"\"};t&&(f._is_g2u_=1),f._bridgeName=e.bridgeName||\"\",f._toUT=1;try{f=JSON.stringify(f),\"{}\"==f&&(f=\"\")}catch(t){f=\"\"}var d=n.meta_info||{},h=d.isonepage_data||{},m={};return m.functype=o.getFunctypeValue({logkey:c.logkey,gmkey:c.gmkey,spm_ab:r.getGoldlogVal(\"spm_ab\")}),m.spmcnt=s.spm_cnt||\"\",m.spmurl=s.spm_url||\"\",m.spmpre=s.spm_pre||\"\",m.logkey=c.logkey,m.logkeyargs=f,m.urlpagename=h.urlpagename,m.url=location.href,m.cna=a.getCookie(\"cna\")||\"\",m.extendargs=\"\",m.isonepage=h.isonepage,m},run:function(){var t=this.options.context||{},e=!!t.is_single,n=t.what_to_hjlj_ut||{},o=t.where_to_sendlog_ut||{},a=o.aplusToUT||{},r=a.toUT||{};n.logdataToUT=this.getToUtData(e,r),this.options.context.what_to_hjlj_ut=n}}}},function(t,e,n){\"use strict\";var o=n(20),a=n(13),r=n(28),i=n(25),s=n(34);t.exports=function(){return{init:function(t){this.options=t},getMetaInfo:function(){var t=r.getGoldlogVal(\"_$\")||{},e=t.meta_info||s.getInfo();return e},getAplusMetaByKey:function(t){var e=this.getMetaInfo()||{};return e[t]},cramUrl:function(t){var e=r.getGoldlogVal(\"_$\")||{},n=e.spm||{},o=this.options.context.where_to_hjlj||{},i=o.ac_atpanel,s=o.tblogUrl,u=this.options.context.what_to_hjlj||{},c=this.options.context.userdata||{},l=!0,p=c.logkey;if(!p)return{url:t,logkey_available:!1};if(\"ac\"==p)t=i+\"1.gif\";else if(a.isStartWith(p,\"ac-\"))t=i+p.substr(3);else if(a.isStartWith(p,\"/\")){t+=p.substr(1);var g=u.logdata||{};g[\"spm-cnt\"]=n.spm_cnt,g.logtype=2;try{u.logdata=g,this.options.context.what_to_hjlj=u}catch(t){}}else a.isEndWith(p,\".gif\")?t=s+p:l=!1;return{url:t,logkey_available:l}},can_to_sendhjlj:function(t){var e=this.options.context||{},n=e.logger||function(){},o=this.options.context.userdata||{};return!!t.logkey_available||(n({msg:\"logkey: \"+o.logkey+\" is not legal!\"}),!1)},run:function(){var t=!!this.options.context.is_single;if(!t){var e,n,a=o.filterIntUrl(this.options.context.where_to_hjlj.url),r=this.getAplusMetaByKey(\"aplus-rhost-g\"),s=r&&o.hostValidity(r);s&&(e=/^\\/\\//.test(r)?\"\":\"//\",n=/\\/$/.test(r)?\"\":\"/\",a=e+r+n),r&&!s&&i.logger({msg:\"aplus-rhost-g: \"+r+' is invalid, suggestion: \"xxx.mmstat.com\"'});var u=this.cramUrl(a);return this.can_to_sendhjlj(u)?void(this.options.context.where_to_hjlj.url=u.url):\"done\"}}}}},function(t,e,n){\"use strict\";var o=n(28);t.exports=function(){return{init:function(t){this.options=t},run:function(){var t=this.options.context||{},e=this.options.config||{},n=!!t.is_single;if(!n){var a=t.logger||{},r=t.what_to_hjlj||{},i=t.where_to_hjlj||{},s=r.logdata||{},u=i.url||\"\";u||\"function\"!=typeof a||a({msg:\"warning: where_to_hjlj.url is null, goldlog.record failed!\"});var c=goldlog.send(i.url,s,e.method||\"GET\");o.setGoldlogVal(\"req\",c)}}}}},function(t,e){\"use strict\";t.exports=function(){return{init:function(t){this.options=t},run:function(t,e){var n=this,o=this.options.context||{},a=o.what_to_hjlj_ut2.isSuccess,r=o.logger||function(){},i=!!o.is_single,s=o.where_to_sendlog_ut||{},u=o.what_to_hjlj_ut||{},c=u.logdataToUT||{},l=s.aplusToUT||{},p=l.toUT;if(!a&&p&&\"function\"==typeof p.toUT2&&p.isAvailable)try{p.toUT2(c,function(){l.toutflag=\"toUT\",n.options.context.what_to_hjlj_ut.isSuccess=!0,e()},function(){e()},5e3)}catch(t){i&&r({msg:\"warning: singleSend toUTName = \"+s.toUTName+\" errorMsg:\"+t.message})}finally{return\"pause\"}}}}},function(t,e,n){\"use strict\";function o(){var t,e,n=i.KEY||{},o=n.NAME_STORAGE||{};if(!c&&u){var a=location.href,l=u&&(a.indexOf(\"login.taobao.com\")>=0||a.indexOf(\"login.tmall.com\")>=0),p=s.getRefer();l&&p?(t=p,e=r.getItem(o.REFERRER_PV_ID)):(t=a,e=goldlog.pvid),r.setItem(o.REFERRER,t),r.setItem(o.REFERRER_PV_ID,e)}}var a=n(71),r=n(7).nameStorage,i=n(8),s=n(49),u=\"https:\"==location.protocol,c=parent!==self;e.run=function(){a.on(window,\"beforeunload\",function(){o()})}},function(t,e){\"use strict\";function n(t,e){var n=goldlog._$||{},o=n.meta_info||{},a=o.aplus_ctap||{};if(a&&\"function\"==typeof a.on)a.on(t,e);else{var r=\"ontouchend\"in document.createElement(\"div\"),s=r?\"touchstart\":\"mousedown\";i(t,s,e)}}function o(t){try{u.documentElement.doScroll(\"left\")}catch(e){return void setTimeout(function(){o(t)},1)}t()}function a(t){var e=0,n=function(){0===e&&t(),e++};\"complete\"===u.readyState&&n();var a;if(u.addEventListener)a=function(){u.removeEventListener(\"DOMContentLoaded\",a,!1),n()},u.addEventListener(\"DOMContentLoaded\",a,!1),window.addEventListener(\"load\",n,!1);else if(u.attachEvent){a=function(){\"complete\"===u.readyState&&(u.detachEvent(\"onreadystatechange\",a),n())},u.attachEvent(\"onreadystatechange\",a),window.attachEvent(\"onload\",n);var r=!1;try{r=null===window.frameElement}catch(t){}u.documentElement.doScroll&&r&&o(n)}}function r(t){\"complete\"===u.readyState?t():i(s,\"load\",t)}function i(){var t=arguments;if(2===t.length)\"DOMReady\"===t[0]&&a(t[1]),\"onload\"===t[0]&&r(t[1]);else if(3===t.length){var e=t[0],o=t[1],i=t[2];\"tap\"===o?n(e,i):e[g]((c?\"on\":\"\")+o,function(t){t=t||s.event;var e=t.target||t.srcElement;\"function\"==typeof i&&i(t,e)},!1)}}var s=window,u=document,c=!!u.attachEvent,l=\"attachEvent\",p=\"addEventListener\",g=c?l:p;e.DOMReady=a,e.onload=r,e.on=i},function(t,e,n){\"use strict\";function o(){var t,e=\"_ap\",n=r[e]=r[e]||[];n.push=t=function(){var t=\"0.0\";window.goldlog&&window.goldlog.spm_ab&&(t=window.goldlog.spm_ab.join(\".\")),f.do_tracker_obsolete_inter({ratio:d?1:.01,page:location.hostname+location.pathname,spm_ab:t,interface_name:\"win._ap\",interface_params:JSON.stringify(arguments)});for(var e,o,a=0,r=arguments.length;a<r;a++)e=arguments[a],s.isString(e)?goldlog.send(l.hjlj()+e):s.isArray(e)&&\"push\"!=(o=e[0])&&(n[o]=n[o]||[]).push(e.slice(1))};for(var o;o=n.shift();)t(o)}function a(){var t=(new Date).getTime(),e=Math.floor(t/72e5),n=i.getElementById(\"aplus-sufei\"),o=goldlog._$||{},a=goldlog.getCdnPath(),r=a+\"/alilog/aplus_plugin_xwj/index.js?t=\"+e,s=a+\"/alilog/oneplus/entry.js?t=\"+e,l=a+\"/alilog/stat/a.js?t=\"+e,p=a+\"/secdev/entry/index.js?t=\"+e,g=a+\"/alilog/mlog/wp_beacon.js?t=\"+e,f=o.meta_info,d=function(){u.addScript(l),u.addScript(g),u.addScript(r),u.addScript(s)},h=function(){Math.random()<.01&&u.addScript(l),f.ms_data_instance_id&&f.ms_prototype_id&&f.ms_prototype_id.match(/^[124]$/)&&f.ms_data_shop_id&&u.addScript(g);var t=f[\"aplus-rate-ahot\"];(Math.random()<t||f[\"ahot-aplus\"])&&u.addScript(r),u.addScript(s)},m=f[\"aplus-xplug\"];c.onload(function(){try{switch(m){case\"NONE\":break;case\"ALL\":d();break;default:h()}}catch(t){}}),\"NONE\"!==m&&setTimeout(function(){n&&\"script\"==n.tagName.toLowerCase()||u.addScript(p,\"\",\"aplus-sufei\")},10)}var r=window,i=document,s=n(13),u=n(27),c=n(71),l=n(73),p=n(25),g=n(74),f=n(56),d=p.isDebugAplus();e.run=function(){o(),a()},e.init_watchGoldlogQueue=g.init_watchGoldlogQueue},function(t,e,n){\"use strict\";var o=n(23);e.hjlj=function(){var t=window.goldlog||(window.goldlog={}),e=t._$||{},n=e.script_name,a=e.meta_info||{},r=a[\"aplus-rhost-g\"],i=\"//gm.mmstat.com/\";return(e.is_terminal||\"aplus_wap\"===n)&&(i=\"//wgo.mmstat.com/\"),\"aplus_int\"===n&&(i=\"//gj.mmstat.com/\"),r&&(i=\"//\"+r+\"/\"),o.getProtocal()+i}},function(t,e,n){\"use strict\";var o=window,a=n(13),r=n(73),i=n(25),s=n(4),u=n(75),c=n(56),l=i.isDebugAplus();e.init_aplusQueue=function(){var t,e=\"_ap\",n=o[e]=o[e]||[];n.push=t=function(){var t=\"0.0\";window.goldlog&&window.goldlog.spm_ab&&(t=window.goldlog.spm_ab.join(\".\")),c.do_tracker_obsolete_inter({ratio:l?1:.01,page:location.hostname+location.pathname,spm_ab:t,interface_name:\"win._ap\",interface_params:JSON.stringify(arguments)});for(var e,o,i=0,s=arguments.length;i<s;i++)e=arguments[i],a.isString(e)?goldlog.send(r.hjlj()+e):a.isArray(e)&&\"push\"!=(o=e[0])&&(n[o]=n[o]||[]).push(e.slice(1))};for(var i;i=n.shift();)t(i)};var p=\"goldlog_queue\",g=function(t){try{if(t&&t.action&&t.arguments&&a.isArray(t.arguments)){var e=t.action.split(\".\"),n=o,r=o;if(3===e.length)n=o[e[0]][e[1]],r=n[e[2]];else for(;e.length;)if(r=n=n[e.shift()],!n)return;\"function\"==typeof r&&r.apply(n,t.arguments)}}catch(t){}},f=function(t){function e(){var t=o[p];if(t&&a.isArray(t)&&t.length){o[p]&&a.isArray(o[p])||(o[p]=[]);for(var e={};e=t.shift();)e&&e.action&&e.arguments&&a.isArray(e.arguments)&&g(e)}}try{e()}catch(t){}finally{\"function\"==typeof t&&t()}};e.processGoldlogQueue=f;var d=s.extend({push:function(t){this.length++,g(t)}}),h=function(){o[p]=d.create({length:0})},m=function(t){for(var e=0,n=0;n<t.length;n++)t[n]||e++;return e===t.length};e.init_watchGoldlogQueue=function(){u.init_loadAplusPlugin();try{var t=o[p]||[];!t||0===t.length||m(t||[])?h():f(function(){h()})}catch(t){}}},function(t,e,n){\"use strict\";var o=n(27),a=n(35),r=n(10),i=function(t,e){var n=a.getMetaCnt(t);return!(!n&&!e)},s=function(){var t=goldlog.getCdnPath();return{aplus_ae_path:t+\"/alilog/s/\"+r.lver+\"/plugin/aplus_ae.js\",aplus_ac_path:t+\"/alilog/s/\"+r.lver+\"/plugin/aplus_ac.js\"}},u=function(t,e){var n=s(),a=i(t,e),r={\"aplus-auto-exp\":n.aplus_ae_path,\"aplus-auto-clk\":n.aplus_ac_path};a&&r[t]&&o.addScript(r[t])};e.init_loadAplusPlugin=function(){u(\"aplus-auto-exp\"),u(\"aplus-auto-clk\"),goldlog.aplus_pubsub.subscribe(\"setMetaInfo\",function(t,e){\"aplus-auto-exp\"!==t||goldlog._aplus_auto_exp||u(t,e),\"aplus-auto-clk\"!==t||goldlog._aplus_ac||u(t,e)})}},function(t,e){\"use strict\";function n(t,e){return t.indexOf(e)>-1}function o(t,e){for(var o=0,a=t.length;o<a;o++)if(n(e,t[o]))return!0;return!1}var a=location.host,r=[\"xiaobai.com\",\"admin.taobao.org\",\"aliloan.com\",\"mybank.cn\"],i=[\"tmc.admin.taobao.org\",\"tmall.admin.taobao.org\"];e.is_exception=o(r,a)&&!o(i,a)},function(t,e,n){\"use strict\";function o(){var t,e,n,o,a=u.getElementsByTagName(\"meta\");for(t=0,e=a.length;t<e;t++)if(n=a[t],o=n.getAttribute(\"name\"),\"data-spm\"===o||\"spm-id\"===o)return n}function a(){var t=u.createElement(\"meta\");t.setAttribute(\"name\",\"data-spm\");var e=u.getElementsByTagName(\"head\")[0];return e&&e.insertBefore(t,e.firstChild),t}function r(){var t=o();t||(t=a()),t.setAttribute(\"content\",goldlog.spm_ab[0]||\"\");var e=u.getElementsByTagName(\"body\")[0];e&&e.setAttribute(\"data-spm\",goldlog.spm_ab[1]||\"\")}function i(){var t,e,n,o=u.getElementsByTagName(\"*\");for(t=0,e=o.length;t<e;t++)n=o[t],n.getAttribute(\"data-spm-max-idx\")&&n.setAttribute(\"data-spm-max-idx\",\"\"),n.getAttribute(\"data-spm-anchor-id\")&&n.setAttribute(\"data-spm-anchor-id\",\"\")}var s=window,u=document,c=n(4),l=n(20),p=n(71),g=n(25),f=n(5),d=n(13),h=n(28),m=n(23),_=n(37),v=n(47),b=n(34),y=b.getInfo(),w=n(8),x=n(56),j=n(78),P=n(14),T=n(81),S=g.isDebugAplus(),A=[],k=[],E=[],C=[],U=function(t,e){var n=new Image,o=\"_img_\"+Math.random(),a=l.makeUrl(t,e);s[o]=n;var r=function(){if(s[o])try{delete s[o]}catch(t){s[o]=void 0}};return n.onload=function(){r()},n.onerror=function(){r()},setTimeout(function(){r()},1e3),n.src=a,n=null,a},I=function(t,e){if(navigator&&navigator.sendBeacon){for(var n in e)\"cna\"!==n&&(e[n]=encodeURIComponent(e[n]));navigator.sendBeacon(t,JSON.stringify(e))}else U(t,e);return t};e.run=c.extend({getCdnPath:function(){var t=u.getElementById(\"beacon-aplus\")||u.getElementById(\"tb-beacon-aplus\"),e=\"//g.alicdn.com\",n=[\"//assets.alicdn.com/g\",\"//g-assets.daily.taobao.net\"];if(t)for(var o=0;o<n.length;o++){var a=new RegExp(n[o]);if(a.test(t.src)){e=n[o];break}}return e},isInternational:function(){this.cdnPath||(this.cdnPath=this.getCdnPath());var t=\"//assets.alicdn.com/g\"===this.cdnPath||\"//laz-g-cdn.alicdn.com\"===this.cdnPath;return t||\"int\"===this.getMetaInfo(\"aplus-env\")},getCookie:function(t){return P.getCookie(t)},getParam:function(t){var e=s.WindVane||{},n=_.isAplusChnl(),o=\"\";n&&\"object\"==typeof n&&(o=n.bridgeName||\"customBridge\");var a=e.getParam?\"WindVane\":o,r=e&&\"function\"==typeof e.getParam?e.getParam(t):\"\",i=goldlog.spm_ab?goldlog.spm_ab.join(\".\"):\"0.0\",u=\"sid=\"+t+\"@valueIsEmpty=\"+!r;return a&&(u+=\"_bridgeName=\"+a),x.do_tracker_obsolete_inter({ratio:S?1:.01,page:location.hostname+location.pathname,spm_ab:i,interface_name:\"goldlog.getParam\",interface_params:u}),r},beforeSendPV:function(t){A.push(t)},afterSendPV:function(t){k.push(t)},send:function(t,e,n){var o;if(0===t.indexOf(\"//\")){var a=m.getProtocal();t=a+t}return o=\"POST\"===n&&navigator.sendBeacon?I(t,e):U(t,e)},launch:function(t,e){var n;try{e=d.assign(e,t),n=goldlog._$._sendPV(e,t);var o=goldlog.spm_ab?goldlog.spm_ab.join(\".\"):\"0.0\";x.do_tracker_obsolete_inter({page:location.hostname+location.pathname,spm_ab:o,interface_name:\"goldlog.launch\",interface_params:\"userdata = \"+JSON.stringify(t)+\", config = \"+JSON.stringify(e)})}catch(t){}finally{return g.logger({msg:\"warning: This interface is deprecated, please use goldlog.sendPV instead! API: http://log.alibaba-inc.com/log/info.htm?type=2277&id=31\"}),n}},_$:{_sendPV:function(t,e){if(t=t||{},d.any(A,function(e){return e(goldlog,t)===!1}))return!1;var o=n(83).SendPV,a=new o;return\"undefined\"==typeof t.recordType&&(t.recordType=w.recordTypes.pv),a.run(t,e,{fn_after_pv:k}),!0},_sendPseudo:function(t,e){t||(t={});var o=n(84).SendPrePV,a=new o;return\"undefined\"==typeof t.recordType&&(t.recordType=w.recordTypes.prepv),a.run(t,e,{},function(){f.doPubMsg([\"sendPrePV\",\"complete\"])}),!0}},sendPV:function(t,e){return e=e||{},goldlog._$._sendPV(t,e)},beforeRecord:function(t){E.push(t)},afterRecord:function(t){C.push(t)},record:function(t,e,n,o,a){if(!d.any(E,function(t){return t(goldlog)===!1}))return j.run({recordType:w.recordTypes.hjlj,method:\"POST\"===o?\"POST\":\"GET\"},{logkey:t,gmkey:e,gokey:n},{fn_after_record:C},function(){\"function\"==typeof a&&a()}),!0},recordUdata:function(t,e,n,o,a){var r=h.getGoldlogVal(\"_$\")||{},i=r.spm||{};j.run({ignore_chksum:!0,method:\"POST\"===o?\"POST\":\"GET\",recordType:w.recordTypes.uhjlj},{logkey:t,gmkey:e,gokey:n,\"spm-cnt\":i.spm_cnt,\"spm-pre\":i.spm_pre},{},function(){d.isFunction(a)&&a()})},setPageSPM:function(t,e,n){var o=\"function\"==typeof n?n:function(){};goldlog.spm_ab=goldlog.spm_ab||[];var a=d.cloneObj(goldlog.spm_ab);t&&(goldlog.spm_ab[0]=\"\"+t,goldlog._$.spm.data.a=\"\"+t),e&&(goldlog.spm_ab[1]=\"\"+e,goldlog._$.spm.data.b=\"\"+e),v.spaInit(goldlog,y,a);var s=a.join(\".\");goldlog.spmab_pre=s;var u=goldlog.spm_ab.join(\".\");f.doPubMsg([\"setPageSPM\",{spmab_pre:s,spmab:u}]),f.doCachePubs([\"setPageSPM\",{spmab_pre:s,spmab:u}]),r(),i(),o()},setMetaInfo:function(t,e){if(b.setMetaInfo(t,e)){var n=h.getGoldlogVal(\"_$\")||{};n.meta_info=b.qGet();var o=h.setGoldlogVal(\"_$\",n),a=T.isDisablePvid()+\"\";return\"aplus-disable-pvid\"===t&&a!==e+\"\"&&v.resetSpmCntPvid(),f.doPubMsg([\"setMetaInfo\",t,e]),f.doCachePubs([\"setMetaInfo\",t,e]),o}},appendMetaInfo:function(t,e){if(t&&e){var n,o,a,r=b.getMetaInfo(t);if(r)if(\"object\"!=typeof r)try{r=JSON.parse(r),o=!0}catch(t){}else o=!0;a=o&&r.constructor===Array;var i=e;if(\"object\"!=typeof e)try{i=JSON.parse(e)}catch(t){}o&&i.constructor===Object?n=d.assign(r,i):a&&i.constructor===Array&&(n=r.concat(i)),goldlog.setMetaInfo(t,n?n:e)}},getMetaInfo:function(t){return b.getMetaInfo(t)},on:p.on,cloneDeep:d.cloneDeep,getPvId:T.getPvId})},function(t,e,n){\"use strict\";var o=n(13),a=n(28),r=n(5),i=n(25),s=n(79),u=n(80),c=n(8);e.run=function(t,e,n,l){var p=new u;p.init({middleware:[],config:t,plugins:c.plugins_hjlj});var g=p.run(),f=new c.context_hjlj;f.userdata=e,f.logger=i.logger;var d={context:f,pubsub:a.getGoldlogVal(\"aplus_pubsub\"),pubsubType:\"hjlj\"},h=new s;h.create(d),h.wrap(g,function(){d.context.status=\"complete\",r.doPubMsg([\"mw_change_hjlj\",d.context]),n&&n.fn_after_record&&o.each(n.fn_after_record,function(t){t(window.goldlog)}),\"function\"==typeof l&&l()})()}},function(t,e,n){\"use strict\";function o(){}var a=n(26),r=n(24),i=n(25),s=n(56),u=n(14);o.prototype.create=function(t){for(var e in t)\"undefined\"==typeof this[e]&&(this[e]=t[e]);return this},o.prototype.pubsubInfo=function(t){try{t&&t.pubsub&&t.pubsub.publish(\"mw_change_\"+t.pubsubType,t.context)}catch(t){}},o.prototype.calledList=[],o.prototype.setCalledList=function(t){a.indexof(this.calledList,t)===-1&&this.calledList.push(t)},o.prototype.resetCalledList=function(){this.calledList=[]},o.prototype.wrap=function(t,e){var n=this,o=this.context||{},c=o.compose||{},l=c.maxTimeout||1e4;return function(o){var c,p=t.length,g=0,f=0,d=function(){if(n.pubsubInfo(n),\n",
      "g===p)return o=\"done\",n.resetCalledList(),\"function\"==typeof e&&e.call(n,o),void clearTimeout(c);if(a.indexof(n.calledList,g)===-1){if(n.setCalledList(g),!t[g]||\"function\"!=typeof t[g][0])return;try{o=t[g][0].call(n,o,function(){g++,f=1,clearTimeout(c),d(g)})}catch(e){s.do_tracker_jserror({message:e?e.message:\"compose middleware error\",error:encodeURIComponent(e.stack),filename:t[g][1]})}}var h=\"number\"==typeof o;if(\"pause\"===o||h){f=0;var m=h?o:l,_=t[g]?t[g][1]:\"\";c=r.sleep(m,function(){if(0===f){var t=\"jump the middleware about \"+_+\", because waiting timeout maxTimeout = \"+m+\"ms!\";i.logger({msg:t}),goldlog_queue.push({action:\"goldlog._aplus_cplugin_m.do_tracker_browser_support\",arguments:[{msg:t,spmab:goldlog.spm_ab,page:location.href,etag:n.context?JSON.stringify(n.context.etag):\"\",cna:document.cookie?u.getCookie(\"cna\"):\"\"}]}),o=null,g++,d(g)}})}else\"done\"===o?(g=p,d(g)):(g++,d(g))};return n.calledList&&n.calledList.length>0&&n.resetCalledList(),d(g)}},t.exports=o},function(t,e,n){\"use strict\";var o=n(26);t.exports=function(){return{init:function(t){this.opts=t,t&&\"object\"==typeof t.middleware&&t.middleware.length>0?this.middleware=t.middleware:this.middleware=[],this.plugins_name=[]},pubsubInfo:function(t,e){try{var n=t.pubsub;n&&n.publish(\"plugins_change_\"+t.pubsubType,e)}catch(t){}},checkPluginLoader:function(t,e){var n=!0;if(\"object\"==typeof e.enable&&\"function\"==typeof e.enable.isEnable?n=e.enable.isEnable(e.name):\"boolean\"==typeof e.enable&&(n=!!e.enable),!n)return!1;if(n&&e.deps&&e.deps.length>0)for(var a=0;a<e.deps.length;a++)if(o.indexof(this.plugins_name,e.deps[a])===-1)return!1;return!0},run:function(t){t||(t=0);var e=this,n=this.middleware,o=this.opts||{},a=o.plugins;if(a&&\"object\"==typeof a&&a.length>0){var r=a[t];if(this.checkPluginLoader(a,r)&&(this.plugins_name.push(r.name),n.push([function(t,n){e.pubsubInfo(this,r);var a=new r.path;return a.init({context:this.context,config:o.config}),a.run(t,n)},r.name])),t++,a[t])return this.run(t)}else window.console&&console.log(\"aplus plugins \"+JSON.stringify(a)+\" must be object of array!\");return n}}}},function(t,e,n){\"use strict\";function o(t){function e(t){var e=\"0123456789abcdefhijklmnopqrstuvwxyzABCDEFHIJKLMNOPQRSTUVWXYZ\",n=\"0123456789abcdefghijkmnopqrstuvwxyzABCDEFGHIJKMNOPQRSTUVWXYZ\";return 1==t?e.substr(Math.floor(60*Math.random()),1):2==t?n.substr(Math.floor(60*Math.random()),1):\"0\"}for(var n,o=\"\",a=\"0123456789abcdefghijklmnopqrstuvwxyzABCDEFGHIJKLMNOPQRSTUVWXYZ\",r=!1;o.length<t;)n=a.substr(Math.floor(62*Math.random()),1),!r&&o.length<=2&&(\"g\"==n.toLowerCase()||\"l\"==n.toLowerCase())&&(0===o.length&&\"g\"==n.toLowerCase()?Math.random()<.5&&(n=e(1),r=!0):1==o.length&&\"l\"==n.toLowerCase()&&\"g\"==o.charAt(0).toLowerCase()&&(n=e(2),r=!0)),o+=n;return o}function a(){var t=location.href+document.title;if(t){var e=i.param2obj(u.getExParams()||\"\")||{};t=s.hash(encodeURIComponent(t),s.getHashKey(e.asid||\"\"))}else t=o(8);return t}function r(){var t=goldlog.pvid;return goldlog.pvid=a()+o(6),c.doPubMsg([\"pvidChange\",{pre_pvid:t,pvid:goldlog.pvid}]),c.doCachePubs([\"pvidChange\",{pre_pvid:t,pvid:goldlog.pvid}]),p()?\"\":goldlog.pvid}var i=n(20),s=n(82),u=n(27),c=n(5),l=n(8),p=function(){var t=\"true\"===l.disablePvid;try{var e=goldlog.getMetaInfo(\"aplus-disable-pvid\")+\"\";\"true\"===e?t=!0:\"false\"===e&&(t=!1)}catch(t){}return t};e.isDisablePvid=p,e.makePVId=r,e.getPvId=function(){return p()?\"\":goldlog.pvid}},function(t,e){\"use strict\";var n=1315423911;e.hash=function(t,e){var o,a,r=e||n;for(o=t.length-1;o>=0;o--)a=t.charCodeAt(o),r^=(r<<5)+a+(r>>2);var i=(2147483647&r).toString(16);return i},e.getHashKey=function(t){try{var e=t||\"\",o=[],a=\"abcdefghijklmnopqrstuvwxyz\",r=e.length;if(r>0)for(var i=r-1;i>=0;i--){var s=e[i].toLowerCase(),u=a.indexOf(s);if(u>-1&&o.length<10&&o.push(u>-1?u%10:s),10===o.length)return parseInt(o.join(\"\"))}return o.length>0?parseInt(o.join(\"\")):n}catch(t){return n}}},function(t,e,n){\"use strict\";var o=n(13),a=n(28),r=n(5),i=n(25),s=n(79),u=n(80),c=n(8),l=function(){};l.prototype.run=function(t,e,n){var l=new u;l.init({middleware:[],config:t,plugins:c.plugins_pv});var p=l.run(),g=new c.context;g.userdata=e,g.logger=i.logger;var f={context:g,pubsub:a.getGoldlogVal(\"aplus_pubsub\"),pubsubType:\"pv\"},d=new s;d.create(f),d.wrap(p,function(){f.context.status=\"complete\",r.doPubMsg([\"mw_change_pv\",f.context]),n&&n.fn_after_record&&o.each(n.fn_after_pv,function(e){e(window.goldlog,t)})})()},e.SendPV=l},function(t,e,n){\"use strict\";var o=n(13),a=n(28),r=n(5),i=n(25),s=n(79),u=n(80),c=n(8),l=function(){};l.prototype.run=function(t,e,n,l){var p=new u;p.init({middleware:[],config:t,plugins:c.plugins_prepv});var g=p.run(),f=new c.context_prepv;f.userdata=e,f.logger=i.logger;var d={context:f,pubsub:a.getGoldlogVal(\"aplus_pubsub\"),pubsubType:\"prepv\"},h=new s;h.create(d),h.wrap(g,function(){d.context.status=\"complete\",r.doPubMsg([\"mw_change_prepv\",d.context]),n&&n.fn_after_record&&o.each(n.fn_after_pv,function(e){e(window.goldlog,t)}),a.setGoldlogVal(\"prepv_context\",f),\"function\"==typeof l&&l()})()},e.SendPrePV=l},function(t,e,n){\"use strict\";var o=n(37),a=n(8);e.init=function(){var t=n(8),e=goldlog._$,r=navigator.userAgent;r.match(/AliApp\\(([A-Z\\-]+)\\/([\\d\\.]+)\\)/i)&&(e.is_ali_app=!0),t.utilPvid.makePVId();var i=n(47);e.spm=i,e.is_WindVane=o.is_WindVane;var s=e.meta_info;e.page_url=location.href,e.page_referrer=n(49).getRefer(),i.init(goldlog,s,function(){t.initLoad.init_watchGoldlogQueue();var e=n(8).spmException,o=e.is_exception;o||n(86)}),goldlog.beforeSendPV(function(t,e){if(e.is_auto&&\"1\"===s[\"aplus-manual-pv\"])return!1}),goldlog.afterSendPV(function(){window.g_SPM&&(g_SPM._current_spm=\"\")}),a.is_auto_pv+\"\"==\"true\"&&goldlog.sendPV({is_auto:!0}),t.initLoad.run(),t.beforeUnload.run()}},function(t,e,n){\"use strict\";!function(){var t,e=n(13),o=n(28),a=n(87),r=function(){t=!0;var n=window.g_SPM||{};e.isFunction(n.getParam)||e.isFunction(n.spm)||a.run()},i=window.goldlog||(window.goldlog={});i.aplus_pubsub&&\"function\"==typeof i.aplus_pubsub.publish&&i.aplus_pubsub.subscribe(\"goldlogReady\",function(e){\"complete\"!==e||t||r()});var s=0,u=function(){if(!t){var e=o.getGoldlogVal(\"_$\")||{};\"complete\"===e.status?r():s<50&&(++s,setTimeout(function(){u()},200))}};u()}()},function(t,e,n){\"use strict\";var o=n(20),a=n(26),r=n(21),i=n(13),s=n(27),u=n(71),c=n(28),l=n(25),p=n(23);e.run=function(){function t(t){var e=bt(t,lt),n=r.parseSemicolonContent(e)||{};return n}function e(){var t=J.spm.data;return[t.a,t.b].join(\".\")}function n(t,e){var n,o,a,r,i,s,u,c,l,p=[];for(n=vt(t.getElementsByTagName(\"a\")),o=vt(t.getElementsByTagName(\"area\")),r=n.concat(o),u=0,c=r.length;u<c;u++){for(s=!1,i=a=r[u];(i=i.parentNode)&&i!=t;)if(bt(i,st)){s=!0;break}s||(l=bt(a,pt),e||\"t\"==l?e&&\"t\"==l&&p.push(a):p.push(a))}return p}function g(o,a,r,u){var c,l,p,g,f,d,h,m,_,v,b,w,j,T,S,k,E,C,U;if(a=a||o.getAttribute(st)||\"\",a&&(c=n(o,u),0!==c.length)){if(p=a.split(\".\"),E=xt(a,\"110\")&&3==p.length,E&&(C=p[2],p[2]=\"w\"+(C||\"0\"),a=p.join(\".\")),jt(j=e())&&j.match(/^[\\w\\-\\*]+(\\.[\\w\\-\\*\\/]+)?$/))if(i.isContain(a,\".\")){if(!xt(a,j)){for(g=j.split(\".\"),p=a.split(\".\"),S=0,T=g.length;S<T;S++)p[S]=g[S];a=p.join(\".\")}}else i.isContain(j,\".\")||(j+=\".0\"),a=j+\".\"+a;if(a.match&&a.match(/^[\\w\\-\\*]+\\.[\\w\\-\\*\\/]+\\.[\\w\\-\\*\\/]+$/)){var I=u?ft:gt;for(U=parseInt(bt(o,I))||0,k=0,f=U,T=c.length;k<T;k++)if(l=c[k],d=s.tryToGetHref(l),h=s.tryToGetAttribute(l,lt),u||d||h)if(E&&l.setAttribute(ht,C),m=l.getAttribute(mt),m&&A(m))y(l,m,r);else{v=P(l.parentNode),v.a_spm_ab?(w=v.a_spm_ab,b=v.ab_idx):(w=void 0,f++,b=f);var M=t(l)||{},V=M.locaid||\"\";V?_=V:(_=x(l)||b,u&&(_=\"at\"+((i.isNumber(_)?1e3:\"\")+_))),m=w?a+\"-\"+w+\".\"+_:a+\".\"+_,y(l,m,r)}o.setAttribute(I,f)}}}function f(t){for(var e=[\"mclick.simba.taobao.com\",\"click.simba.taobao.com\",\"click.tanx.com\",\"click.mz.simba.taobao.com\",\"click.tz.simba.taobao.com\",\"redirect.simba.taobao.com\",\"rdstat.tanx.com\",\"stat.simba.taobao.com\",\"s.click.taobao.com\"],n=0;n<e.length;n++)if(t.indexOf(e[n])!=-1)return!0;return!1}function d(t){return t?!!t.match(/^[^\\?]*\\balipay\\.(?:com|net)\\b/i):q}function h(t){return t?!!t.match(/^[^\\?]*\\balipay\\.(?:com|net)\\/.*\\?.*\\bsign=.*/i):q}function m(t){for(var e;(t=t.parentNode)&&t.tagName!=nt;)if(e=bt(t,ut))return e;return\"\"}function _(t,e){if(t&&/&?\\bspm=[^&#]*/.test(t)&&(t=t.replace(/&?\\bspm=[^&#]*/g,\"\").replace(/&{2,}/g,\"&\").replace(/\\?&/,\"?\").replace(/\\?$/,\"\")),!e)return t;var n,o,a,r,s,u,c,l=\"&\";if(t.indexOf(\"#\")!=-1&&(a=t.split(\"#\"),t=a.shift(),o=a.join(\"#\")),r=t.split(\"?\"),s=r.length-1,a=r[0].split(\"//\"),a=a[a.length-1].split(\"/\"),u=a.length>1?a.pop():\"\",s>0&&(n=r.pop(),t=r.join(\"?\")),n&&s>1&&n.indexOf(\"&\")==-1&&n.indexOf(\"%\")!=-1&&(l=\"%26\"),t=t+\"?spm=\"+dt+e+(n?l+n:\"\")+(o?\"#\"+o:\"\"),c=i.isContain(u,\".\")?u.split(\".\").pop().toLowerCase():\"\"){if({png:1,jpg:1,jpeg:1,gif:1,bmp:1,swf:1}.hasOwnProperty(c))return 0;!n&&s<=1&&(o||{htm:1,html:1,php:1,aspx:1}.hasOwnProperty(c)||(t+=\"&file=\"+u))}return t}function v(t){return t&&Y.split(\"#\")[0]==t.split(\"#\")[0]}function b(t){var e=s.tryToGetHref(t),n=m(t),o=bt(t,ut),a=\"i\"===(o||n||it);if(!e||f(e))return!0;var r=v(e)||p.isStartWithProtocol(e.toLowerCase())||d(e)||h(e);return!(a||!xt(e,\"#\")&&!r)||a}function y(t,n,a){if(!/^0\\.0\\.?/.test(n)){var r=s.tryToGetHref(t),i=e(),u=b(t);if(u){var c=o.param2obj(r);if(c.spm&&c.spm.split)for(var l=c.spm.split(\".\"),p=n.split(\".\"),g=0;g<3&&p[g]===l[g];g++)2===g&&l[3]&&(n=c.spm)}t.setAttribute(mt,n),Q=goldlog.getPvId(),Q&&(n+=\".\"+Q),(Q||i&&i!=Z)&&(u||a||(r=_(r,n))&&w(t,r))}}function w(t,e){var n,o=t.innerHTML;o&&o.indexOf(\"<\")==-1&&(n=W.createElement(\"b\"),n.style.display=\"none\",t.appendChild(n)),t.href=e,n&&t.removeChild(n)}function x(t){var e,n=J.spm.data;return\"0\"==n.a&&\"0\"==n.b?e=\"0\":(e=bt(t,st),e&&e.match(/^d\\w+$/)||(e=\"\")),e}function j(t){for(var e,n,o=t;t&&t.tagName!=et&&t.tagName!=nt&&t.getAttribute;){if(n=t.getAttribute(st)){e=n,o=t;break}if(!(t=t.parentNode))break}return e&&!/^[\\w\\-\\.\\/]+$/.test(e)&&(e=\"0\"),{spm_c:e,el:o}}function P(t){for(var e,n={},o=\"\";t&&t.tagName!=et&&t.tagName!=nt;){if(!o&&(o=bt(t,_t))){e=parseInt(bt(t,\"data-spm-ab-max-idx\"))||0,n.a_spm_ab=o,n.ab_idx=++e,t.setAttribute(\"data-spm-ab-max-idx\",e);break}if(bt(t,st))break;t=t.parentNode}return n}function T(t){var e;return t&&(e=t.match(/&?\\bspm=([^&#]*)/))?e[1]:\"\"}function S(t,n){var o=goldlog.getMetaInfo(\"aplus-getspmcd\")||function(){},a=e(),r=s.tryToGetHref(t),i=T(r),u=null,c=a&&2==a.split(\".\").length;if(c){var l=o(t,null,a);return u=l&&\"0\"!==l.spm_c?[a,l.spm_c,l.spm_d]:[a,0,x(t)||0],void y(t,u.join(\".\"),n)}r&&i&&(r=r.replace(/&?\\bspm=[^&#]*/g,\"\").replace(/&{2,}/g,\"&\").replace(/\\?&/,\"?\").replace(/\\?$/,\"\").replace(/\\?#/,\"#\"),w(t,r))}function A(t){var n=e(),o=t.split(\".\");return o[0]+\".\"+o[1]==n}function k(t,e){ot&&M();var n,o,a=bt(t,mt);if(a&&A(a))y(t,a,e);else{if(n=j(t.parentNode),o=n.spm_c,!o)return void S(t,e);tt&&(o=\"0\"),g(n.el,o,e),g(n.el,o,e,!0)}}function E(t){if(t&&1==t.nodeType){wt(t,gt),wt(t,ft);var e,n=vt(t.getElementsByTagName(\"a\")),o=vt(t.getElementsByTagName(\"area\")),a=n.concat(o),r=a.length;for(e=0;e<r;e++)wt(a[e],mt)}}function C(n){var o=bt(n,mt);if(!o){var a=e(),r=n.parentNode;if(!r)return\"\";var i=t(n)||{},s=i.locaid||\"\",u=n.getAttribute(st)||s,c=j(r),l=c.spm_c||0;l&&l.indexOf(\".\")!=-1&&(l=l.split(\".\"),l=l[l.length-1]),o=Tt(a+\".\"+l,u)}return o}function U(t){var e,n=t.tagName;\"A\"!=n&&\"AREA\"!=n?e=C(t):(k(t,K),e=bt(t,mt)),e||(e=\"0.0.0.0\");var o=goldlog.getPvId();return 4===e.split(\".\").length&&o&&(e+=\".\"+o),\"A\"!=n&&\"AREA\"!=n&&yt(t,mt,e),e=e.split(\".\"),{a:e[0],b:e[1],c:e[2],d:e[3],e:e[4]}}function I(t,e){if(e||(e=W),W.evaluate)return e.evaluate(t,W,null,9,null).singleNodeValue;for(var n,o=t.split(\"/\");!n&&o.length>0;)n=o.shift();var a,r=/^.+?\\[@id=\"(.+?)\"]$/i,i=/^(.+?)\\[(\\d+)]$/i;return(a=n.match(r))?e=e.getElementById(a[1]):(a=n.match(i))&&(e=e.getElementsByTagName(a[1])[parseInt(a[2])-1]),e?0===o.length?e:I(o.join(\"/\"),e):null}function M(){var t,e,n,o={};for(t in at)at.hasOwnProperty(t)&&(e=I(t),e&&(o[t]=1,n=at[t],yt(e,st,(\"A\"==e.tagName?n.spmd:n.spmc)||\"\")));for(t in o)o.hasOwnProperty(t)&&delete at[t]}function V(){if(!rt&&D.spmData){rt=K;var t,e,n,o,a=D.spmData.data;if(a&&Pt(a)){for(t=0,e=a.length;t<e;t++)n=a[t],o=n.xpath,o=o.replace(/^id\\(\"(.+?)\"\\)(.*)/g,'//*[@id=\"$1\"]$2'),at[o]={spmc:n.spmc,spmd:n.spmd};M()}}}function N(){var t,e,n,o,a=W.getElementsByTagName(\"iframe\"),r=a.length;for(e=0;e<r;e++)t=a[e],!t.src&&(n=bt(t,ct))&&(o=U(t),o?(o=[o.a,o.b,o.c,o.d,o.e].join(\".\"),t.src=_(n,o)):t.src=n)}function O(){function t(){e++,e>10&&(n=3e3),N(),setTimeout(t,n)}var e=0,n=500;t()}function G(t,e,n){var o=r.parseSemicolonContent(e,{},!0),s=o.gostr||\"\",u=o.locaid||\"\",c=o.gmkey||\"\",p=o.gokey||\"\",g=U(t),f=[g.a,g.b,g.c,u].join(\".\"),d=s+\".\"+f;0!==d.indexOf(\"/\")&&(d=\"/\"+d);var h=[],m=[\"gostr\",\"locaid\",\"gmkey\",\"gokey\",\"spm-cnt\",\"cna\"];for(var _ in o)o.hasOwnProperty(_)&&a.indexof(m,_)===-1&&h.push(_+\"=\"+o[_]);h.push(\"_g_et=\"+n),h.push(\"autosend=1\"),p&&h.length>0&&(p+=\"&\"),p+=h.length>0?h.join(\"&\"):\"\",goldlog&&i.isFunction(goldlog.recordUdata)?goldlog.recordUdata(d,c,p,\"GET\",function(){}):l.logger({msg:\"goldlog.recordUdata is not function!\"}),yt(t,mt,f)}function L(t,n){var o=n;D.g_SPM&&(g_SPM._current_spm=U(n));for(var a;n&&n.tagName!=et;){a=bt(n,lt);{if(a){G(n,a,\"mousedown\"===t.type?t.button:\"tap\");break}n=n.parentNode}}if(!a){var r=e(),i=goldlog.getMetaInfo(\"aplus-getspmcd\")||function(){};i(o,t,r)}}function R(t,e){for(var n,o=(new Date).getTime();e&&(n=e.tagName);){if(\"A\"==n||\"AREA\"==n){k(e,q);var a=window.g_SPM||(window.g_SPM={}),r=a._current_spm=U(e),i=[];try{i=[r.a,r.b,r.c,r.d];var s=r.e||goldlog.pvid||\"\";s&&i.push(s),$(e,o,i.join(\".\"))}catch(t){}break}if(n==nt||n==et)break;e=e.parentNode}}function $(t,e,n){var o=t.getAttribute(\"href\");i.isStartWith(o,\"//\")&&(o=location.protocol+o);var a={id:goldlog.pvid+\"_\"+e,timestamp:e,target_expression_type:\"href\",target_expression:o,spm_id:n,log_id:goldlog.pvid,current_url:location.href,current_referrer:goldlog._$.page_referrer,tracking_param:\"\"},r=function(t){t&&\"complete\"===t.status&&\"function\"==typeof t.setLsParams&&t.setLsParams(a)};goldlog.aplus_pubsub.subscribeOnce(\"_aplus_cplugin_lsparams\",r)}function B(t,e){var n=U(t),o=n.a+\".\"+n.b+\".\"+n.c+\".\"+n.d;return e&&(o+=\".\"+n.e),o}var D=window,W=document,F=location,K=!0,q=!1,J=c.getGoldlogVal(\"_$\")||{},H=J.meta_info,Y=F.href,z=J.is_terminal||/WindVane/i.test(navigator.userAgent),X=s.isTouch()||\"1\"===H[\"aplus-touch\"];D.g_SPM||(D.g_SPM={}),D.g_SPM.spm_d_for_ad={};var Q,Z=\"0.0\",tt=!1,et=\"HTML\",nt=\"BODY\",ot=q,at={},rt=q,it=H.spm_protocol,st=\"data-spm\",ut=\"data-spm-protocol\",ct=\"data-spm-src\",lt=\"data-spm-click\",pt=\"data-auto-spmd\",gt=\"data-spm-max-idx\",ft=\"data-auto-spmd-max-idx\",dt=\"\",ht=\"data-spm-wangpu-module-id\",mt=\"data-spm-anchor-id\",_t=\"data-spm-ab\",vt=r.nodeListToArray,bt=s.tryToGetAttribute,yt=s.tryToSetAttribute,wt=s.tryToRemoveAttribute,xt=i.isStartWith,jt=i.isString,Pt=i.isArray,Tt=function(t,e){if(t&&e)return t+\".i\"+e;var n=D.g_SPM||(D.g_SPM={}),o=n.spm_d_for_ad||{};return\"number\"==typeof o[t]?o[t]++:o[t]=0,n.spm_d_for_ad=o,t+\".i\"+o[t]};u.DOMReady(function(){V()}),z||O(),X?u.on(W,\"tap\",L):u.on(W,\"mousedown\",L),X?u.on(W,\"tap\",R):(u.on(W,\"mousedown\",R),u.on(W,\"keydown\",R)),D.g_SPM={resetModule:E,anchorBeacon:k,getParam:U,spm:B}}}]);/*! 2017-10-31 20:46:31 v0.2.4 */\n",
      "!function(o){function n(i){if(t[i])return t[i].exports;var e=t[i]={exports:{},id:i,loaded:!1};return o[i].call(e.exports,e,e.exports,n),e.loaded=!0,e.exports}var t={};return n.m=o,n.c=t,n.p=\"\",n(0)}([function(o,n,t){\"use strict\";!function(){var o=window.goldlog||(window.goldlog={});if(!o._aplus_plugin_aol){o._aplus_plugin_aol={status:\"complete\"};var n=t(1),i=window.goldlog_queue||(window.goldlog_queue=[]);i.push({action:\"goldlog.aplus_pubsub.subscribeOnce\",arguments:[\"goldlogReady\",function(o){\"complete\"===o&&n.run()}]})}}()},function(o,n,t){\"use strict\";var i=t(2),e=t(3);n.run=function(){var o,n=function(){!o&&i.bingo()&&(o=\"1\",e.init())},t=(location.hostname+location.pathname).match(/^www.taobao.com\\/$/);\"1\"===goldlog.getMetaInfo(\"aplus-aol\")||t?n():goldlog.aplus_pubsub.subscribe(\"setMetaInfo\",function(o,i){(\"aplus-aol\"===o&&\"1\"===i||t)&&n()})}},function(o,n){\"use strict\";function t(o,n){return o+Math.floor(Math.random()*(n-o+1))}var i=13,e=1;n.bingo=function(){var o=t(1,i);return o===e}},function(o,n){\"use strict\";var t,i=document,e=window,u=!1,l=function(){var o=goldlog.getMetaInfo(\"aplus-aol-ext\")||\"\";return\"function\"==typeof o&&(o=o()),o},a=function(o){var n=l()||\"\",t=goldlog.spm_ab?goldlog.spm_ab.join(\".\"):\"\";goldlog.send(o,{sk:t+(n?\".\"+n:\"\"),cna:goldlog.getCookie(\"cna\"),t:(new Date).getTime()},\"POST\")},c=function(){a(\"//ol.mmstat.com/aol.r.i\")},g=function(){a(\"//ol.mmstat.com/aol.r.o\")},s=function(){t=setTimeout(function(){u&&c(),s()},5e3)},r=function(){clearTimeout(t),g(),c(),s()},d=function(){var o=function(){u=!1,g()};goldlog.on(e,\"beforeunload\",function(){o()}),i.addEventListener&&i.addEventListener(\"WV.Event.APP.Background\",function(n){o()},!1),\"hidden\"in i&&goldlog.on(e,\"visibilitychange\",function(){\"hidden\"===i.visibilityState&&o()}),goldlog.on(e,\"blur\",function(){o()})},f=function(){var o=e.goldlog_queue||(e.goldlog_queue=[]);o.push({action:\"goldlog.aplus_pubsub.subscribe\",arguments:[\"setPageSPM\",function(o){r()}]})},p=function(){var o=function(){u=!0,c()};i.addEventListener&&i.addEventListener(\"WV.Event.APP.Active\",function(n){o()},!1),\"hidden\"in i&&goldlog.on(e,\"visibilitychange\",function(){\"visible\"===i.visibilityState&&o()}),goldlog.on(e,\"focus\",function(){o()})};n.init=function(){c(),u=!0,s(),d(),f(),p()}}]);/*! 2018-02-01 21:30:21 v8.1.1 */\n",
      "!function(t){function e(n){if(r[n])return r[n].exports;var a=r[n]={exports:{},id:n,loaded:!1};return t[n].call(a.exports,a,a.exports,e),a.loaded=!0,a.exports}var r={};return e.m=t,e.c=r,e.p=\"\",e(0)}([function(t,e){\"use strict\";!function(){function t(t,e,r){t[w]((b?\"on\":\"\")+e,function(t){t=t||f.event;var e=t.target||t.srcElement;r(t,e)},!1)}function e(){return/&?\\bspm=[^&#]*/.test(location.href)?location.href.match(/&?\\bspm=[^&#]*/gi)[0].split(\"=\")[1]:\"\"}function r(t,e){if(t&&/&?\\bspm=[^&#]*/.test(t)&&(t=t.replace(/&?\\bspm=[^&#]*/g,\"\").replace(/&{2,}/g,\"&\").replace(/\\?&/,\"?\").replace(/\\?$/,\"\")),!e)return t;var r,n,a,i,o,c,p,f=\"&\";if(t.indexOf(\"#\")!=-1&&(a=t.split(\"#\"),t=a.shift(),n=a.join(\"#\")),i=t.split(\"?\"),o=i.length-1,a=i[0].split(\"//\"),a=a[a.length-1].split(\"/\"),c=a.length>1?a.pop():\"\",o>0&&(r=i.pop(),t=i.join(\"?\")),r&&o>1&&r.indexOf(\"&\")==-1&&r.indexOf(\"%\")!=-1&&(f=\"%26\"),t=t+\"?spm=\"+e+(r?f+r:\"\")+(n?\"#\"+n:\"\"),p=c.indexOf(\".\")>-1?c.split(\".\").pop().toLowerCase():\"\"){if({png:1,jpg:1,jpeg:1,gif:1,bmp:1,swf:1}.hasOwnProperty(p))return 0;!r&&o<=1&&(n||{htm:1,html:1,php:1}.hasOwnProperty(p)||(t+=\"&file=\"+c))}return t}function n(t){function e(t){return t=t.replace(/refpos[=(%3D)]\\w*/gi,c).replace(i,\"%3D\"+n+\"%26\"+a.replace(\"=\",\"%3D\")).replace(o,n),a.length>0&&(t+=\"&\"+a),t}var r=window.location.href,n=r.match(/mm_\\d{0,24}_\\d{0,24}_\\d{0,24}/i),a=r.match(/[&\\?](pvid=[^&]*)/i),i=new RegExp(\"%3Dmm_\\\\d+_\\\\d+_\\\\d+\",\"ig\"),o=new RegExp(\"mm_\\\\d+_\\\\d+_\\\\d+\",\"ig\");a=a&&a[1]?a[1]:\"\";var c=r.match(/(refpos=(\\d{0,24}_\\d{0,24}_\\d{0,24})?(,[a-z]+)?)(,[a-z]+)?/i);return c=c&&c[0]?c[0]:\"\",n?(n=n[0],e(t)):t}function a(e){var r=f.KISSY;r?r.ready(e):f.jQuery?jQuery(m).ready(e):\"complete\"===m.readyState?e():t(f,\"load\",e)}function i(t,e){return t&&t.getAttribute?t.getAttribute(e)||\"\":\"\"}function o(t){if(t){var e,r=h.length;for(e=0;e<r;e++)if(t.indexOf(h[e])>-1)return!0;return!1}}function c(t,e){if(t&&/&?\\bspm=[^&#]*/.test(t)&&(t=t.replace(/&?\\bspm=[^&#]*/g,\"\").replace(/&{2,}/g,\"&\").replace(/\\?&/,\"?\").replace(/\\?$/,\"\")),!e)return t;var r,n,a,i,o,c,p,f=\"&\";if(t.indexOf(\"#\")!=-1&&(a=t.split(\"#\"),t=a.shift(),n=a.join(\"#\")),i=t.split(\"?\"),o=i.length-1,a=i[0].split(\"//\"),a=a[a.length-1].split(\"/\"),c=a.length>1?a.pop():\"\",o>0&&(r=i.pop(),t=i.join(\"?\")),r&&o>1&&r.indexOf(\"&\")==-1&&r.indexOf(\"%\")!=-1&&(f=\"%26\"),t=t+\"?spm=\"+e+(r?f+r:\"\")+(n?\"#\"+n:\"\"),p=c.indexOf(\".\")>-1?c.split(\".\").pop().toLowerCase():\"\"){if({png:1,jpg:1,jpeg:1,gif:1,bmp:1,swf:1}.hasOwnProperty(p))return 0;!r&&o<=1&&(n||{htm:1,html:1,php:1}.hasOwnProperty(p)||(t+=\"&__file=\"+c))}return t}function p(t){if(o(t.href)){var r=i(t,g);if(!r){if(!d)return;var n=d(t),a=[n.a,n.b,n.c,n.d].join(\".\");n.e&&(n+=\".\"+n.e),u&&(a=[n.a||\"0\",n.b||\"0\",n.c||\"0\",n.d||\"0\"].join(\".\"),a=(e()||\"0.0.0.0.0\")+\"_\"+a),t.href=c(t.href,a),t.setAttribute(g,a)}}}var f=window,m=document,s=f._alimm_spmact_on_;if(\"undefined\"==typeof s&&(s=1),1==s&&(s=1),0==s&&(s=0),s){var l=function(){return{a:0,b:0,c:0,d:0,e:0}},d=f.g_SPM&&f.g_SPM.getParam?f.g_SPM.getParam:l,u=!0;try{u=self.location!=top.location}catch(t){}var g=\"data-spm-act-id\",h=[\"mclick.simba.taobao.com\",\"click.simba.taobao.com\",\"click.tanx.com\",\"click.mz.simba.taobao.com\",\"click.tz.simba.taobao.com\",\"redirect.simba.taobao.com\",\"rdstat.tanx.com\",\"stat.simba.taobao.com\",\"s.click.taobao.com\"],b=!!m.attachEvent,v=\"attachEvent\",_=\"addEventListener\",w=b?v:_;t(m,\"mousedown\",function(t,e){for(var r,n=0;e&&(r=e.tagName)&&n<5;){if(\"A\"==r||\"AREA\"==r){p(e);break}if(\"BODY\"==r||\"HTML\"==r)break;e=e.parentNode,n++}}),a(function(){for(var t,a,o=document.getElementsByTagName(\"iframe\"),c=0;c<o.length;c++){t=i(o[c],\"mmsrc\"),a=i(o[c],\"mmworked\");var p=d(o[c]),f=[p.a||\"0\",p.b||\"0\",p.c||\"0\",p.d||\"0\",p.e||\"0\"].join(\".\");t&&!a?(u&&(f=[p.a||\"0\",p.b||\"0\",p.c||\"0\",p.d||\"0\"].join(\".\"),f=e()+\"_\"+f),o[c].src=r(n(t),f),o[c].setAttribute(\"mmworked\",\"mmworked\")):o[c].setAttribute(g,f)}})}}()}]);</script><script charset=\"gbk\" src=\"//g.alicdn.com/mm/tanx-cdn/t/tanxssp.js?v=2\" async=\"\"></script><script charset=\"utf-8\" src=\"https://tce.taobao.com/api/mget.htm?callback=jsonpXctrl104&amp;tce_sid=1947787&amp;tce_vid=0&amp;tid=&amp;tab=&amp;topic=&amp;count=&amp;env=online&amp;cna=undefined\" async=\"\"></script><script src=\"https://ald.taobao.com/recommend2.htm?appId=20140506002%2C20140506001%2C201602246%2C07085%2C03014%2C201608180&amp;_ksTS=1517813554255_91&amp;callback=jsonp92\" async=\"\"></script><script src=\"https://textlink.simba.taobao.com/?name=tbhs&amp;cna&amp;nn=&amp;count=13&amp;pid=430266_1006&amp;_ksTS=1517813554221_71&amp;callback=jsonp72\" async=\"\"></script>\n",
      "<meta charset=\"utf-8\">\n",
      "<meta http-equiv=\"X-UA-Compatible\" content=\"IE=edge,chrome=1\">\n",
      "<meta name=\"renderer\" content=\"webkit\">\n",
      "<title>淘宝网 - 淘！我喜欢</title>\n",
      "<meta name=\"spm-id\" content=\"a21bo\">\n",
      "<meta name=\"description\" content=\"淘宝网 - 亚洲较大的网上交易平台，提供各类服饰、美容、家居、数码、话费/点卡充值… 数亿优质商品，同时提供担保交易(先收货后付款)等安全交易保障服务，并由商家提供退货承诺、破损补寄等消费者保障服务，让你安心享受网上购物乐趣！\">\n",
      "<meta name=\"aplus-xplug\" content=\"NONE\">\n",
      "<meta name=\"keyword\" content=\"淘宝,掏宝,网上购物,C2C,在线交易,交易市场,网上交易,交易市场,网上买,网上卖,购物网站,团购,网上贸易,安全购物,电子商务,放心买,供应,买卖信息,网店,一口价,拍卖,网上开店,网络购物,打折,免费开店,网购,频道,店铺\">\n",
      "<link rel=\"dns-prefetch\" href=\"//g.alicdn.com\">\n",
      "<link rel=\"dns-prefetch\" href=\"//img.alicdn.com\">\n",
      "<link rel=\"dns-prefetch\" href=\"//tce.alicdn.com\">\n",
      "<link rel=\"dns-prefetch\" href=\"//gm.mmstat.com\">\n",
      "<link ref=\"dns-prefetch\" href=\"//tce.taobao.com\">\n",
      "<link rel=\"dns-prefetch\" href=\"//log.mmstat.com\">\n",
      "<link rel=\"dns-prefetch\" href=\"//tui.taobao.com\">\n",
      "<link rel=\"dns-prefetch\" href=\"//ald.taobao.com\">\n",
      "<link rel=\"dns-prefetch\" href=\"//gw.alicdn.com\">\n",
      "<link rel=\"dns-prefetch\" href=\"//atanx.alicdn.com\">\n",
      "<link rel=\"dns-prefetch\" href=\"//dfhs.tanx.com\">\n",
      "<link rel=\"dns-prefetch\" href=\"//ecpm.tanx.com\">\n",
      "<link rel=\"dns-prefetch\" href=\"//res.mmstat.com\">\n",
      "<link href=\"//img.alicdn.com/tps/i3/T1OjaVFl4dXXa.JOZB-114-114.png\" rel=\"apple-touch-icon-precomposed\">\n",
      "<style>\n",
      "  blockquote,body,button,dd,dl,dt,fieldset,form,h1,h2,h3,h4,h5,h6,hr,input,legend,li,ol,p,pre,td,textarea,th,ul{margin:0;padding:0}body,button,input,select,textarea{font:12px/1.5 tahoma,arial,'Hiragino Sans GB','\\5b8b\\4f53',sans-serif}h1,h2,h3,h4,h5,h6{font-size:100%}address,cite,dfn,em,var{font-style:normal}code,kbd,pre,samp{font-family:courier new,courier,monospace}small{font-size:12px}ol,ul{list-style:none}a{text-decoration:none}a:hover{text-decoration:underline}sup{vertical-align:text-top}sub{vertical-align:text-bottom}legend{color:#000}fieldset,img{border:0}button,input,select,textarea{font-size:100%}table{border-collapse:collapse;border-spacing:0}button{border-radius:0;}.site-nav .site-nav-loading{background:url(//img.alicdn.com/tps/i3/T1b1m3XkVpXXXXXXXX-32-32.gif) no-repeat center}@font-face{font-family:global-iconfont;src:url(//at.alicdn.com/t/font_1404888168_2057645.eot);src:url(//at.alicdn.com/t/font_1404888168_2057645.eot?#iefix) format(\"embedded-opentype\"),url(//at.alicdn.com/t/font_1404888168_2057645.woff) format(\"woff\"),url(//at.alicdn.com/t/font_1404888168_2057645.ttf) format(\"truetype\"),url(//at.alicdn.com/t/font_1404888168_2057645.svg#uxiconfont) format(\"svg\")}.site-nav .site-nav-icon{font-family:global-iconfont;font-size:12px;font-style:normal;margin-top:-3px\\9;-webkit-font-smoothing:antialiased;-moz-osx-font-smoothing:grayscaleFont type;margin-right:5px;_line-height:33px;color:#9c9c9c}.site-nav .site-nav-menu-hd a:hover .site-nav-icon{color:#f40}.site-nav .site-nav-bd-r .site-nav-icon{width:12px}.site-nav .site-nav-icon-highlight{color:#f40}.site-nav .site-nav-arrow{display:block;float:left;width:12px;height:6px;line-height:6px;overflow:hidden;margin-top:16px}.site-nav .site-nav-arrow .site-nav-icon{display:block;margin-top:-4px;margin-right:20px}.site-nav{z-index:10000;width:100%;background-color:#f5f5f5;border-bottom:1px solid #eee;*zoom:1}.site-nav:after{content:\"\";display:table;clear:both}.site-nav textarea{display:none}.site-nav .site-nav-bd{margin:0 auto;width:1190px;height:35px;background:#f5f5f5;-webkit-backface-visibility:hidden;*zoom:1}.site-nav .site-nav-bd:after{content:\"\";display:table;clear:both}.site-nav .site-nav-bd a{color:#3c3c3c}.site-nav .site-nav-bd a:hover{color:#f40;text-decoration:none}.site-nav .site-nav-bd .site-nav-pipe{padding:0 5px;font-style:normal;color:#ddd}.site-nav .site-nav-bd .site-nav-bd-l{float:left;visibility:hidden}.site-nav .site-nav-bd .site-nav-bd-r{float:right}.site-nav .site-nav-bd .site-nav-bd-r .site-nav-pipe{float:left;height:35px;line-height:35px}.site-nav .site-nav-bd .h{color:#f22e00!important}.site-nav .site-nav-bd .site-nav-btn{display:inline-block;vertical-align:middle;*vertical-align:auto;*zoom:1;*display:inline;padding:0 10px;height:25px;line-height:25px;color:#fff;background:#f40;-moz-border-radius:2px;-webkit-border-radius:2px;border-radius:2px}.site-nav .site-nav-bd .site-nav-btn:hover{color:#fff;background:#f40}.site-nav-status-login .site-nav-bd .site-nav-bd-l,.site-nav-status-logout .site-nav-bd .site-nav-bd-l{visibility:visible}.ie-updator-67 .browser-updator{display:none}.site-nav .site-nav-menu{float:left}.site-nav .site-nav-menu .site-nav-menu-hd{z-index:10002;position:relative;padding:0 6px;height:35px;line-height:35px;_display:inline;_zoom:1}.site-nav .site-nav-menu .site-nav-menu-hd a{float:left;margin-right:7px;font-size:12px;color:#6C6C6C}.site-nav .site-nav-menu .site-nav-menu-hd a:hover{color:#F40}.site-nav .site-nav-menu .site-nav-menu-hd a span{float:left;cursor:pointer}.site-nav .site-nav-menu .site-nav-menu-bd{z-index:10001;position:relative;display:none;margin-top:-1px}.site-nav .site-nav-menu .site-nav-menu-bd .site-nav-menu-bd-panel{position:absolute;left:0;top:0;padding:8px;line-height:normal;border:1px solid #EEE;background:#FFF}.site-nav .site-nav-menu .site-nav-menu-bd .site-nav-menu-iframe-shim{z-index:-1;position:absolute;top:0;left:0;border:none;background:0 0;filter:alpha(Opacity=0);opacity:0}.site-nav .site-nav-menu .site-nav-menu-empty .site-nav-menu-hd i{display:none}.site-nav .site-nav-menu .site-nav-menu-list .site-nav-menu-bd-panel{padding:8px 0}.site-nav .site-nav-menu .site-nav-menu-list .site-nav-menu-bd-panel a{display:block;padding:0 5px;line-height:28px;white-space:nowrap;color:#6C6C6C}.site-nav .site-nav-menu .site-nav-menu-list .site-nav-menu-bd-panel a:hover{color:#6C6C6C;background:#F5F5F5}.site-nav .site-nav-menu .site-nav-menu-list .site-nav-menu-bd-panel a span{margin-left:5px}.site-nav .site-nav-menu .site-nav-menu-list .site-nav-menu-bd-panel .site-nav-btn{margin:5px 8px 0;color:#FFF;line-height:25px}.site-nav .site-nav-menu .site-nav-menu-list .site-nav-menu-bd-panel .site-nav-btn:hover{color:#FFF;background:#F40}.site-nav .site-nav-menu-hover{transform:translateZ(0);position:relative;z-index:10000}.site-nav .site-nav-menu-hover .site-nav-menu-hd{padding:0 5px;border-width:0 1px;border-style:solid;border-color:#EEE;background:#FFF}.site-nav .site-nav-menu-hover .site-nav-menu-bd{display:block}.site-nav-cbu-cover{background:#000;width:100%;height:3000px;opacity:.3;filter:alpha(opacity=30);position:fixed;_position:absolute;top:0;z-index:100000000}.site-nav-cbu-cover iframe{position:absolute;top:0;left:0;z-index:-1;filter:mask();width:100%;height:100%}.site-nav-cbu-iframe{width:630px;height:340px;border:0 none;z-index:100000001;position:fixed;_position:absolute;top:25%;left:25%}.site-nav .site-nav-login .site-nav-menu-hd .site-nav-login-info-nick{display:inline-block;max-width:98px;overflow:hidden;text-overflow:ellipsis;white-space:nowrap}.site-nav .site-nav-login .site-nav-menu-hd .site-nav-login-info-nick.super{color:#b6976b}.site-nav .site-nav-login .site-nav-menu-hd .site-nav-vip-icon{margin-top:12px;width:18px;height:12px;background:url(//img.alicdn.com/tfs/TB1Z_HcQFXXXXc7apXXXXXXXXXX-26-71.png) 0 0 no-repeat;background-size:17px auto}.site-nav .site-nav-login .site-nav-menu-hd .site-nav-vip-icon.ie8{background-image:url(//img.alicdn.com/tfs/TB1Rr31QVXXXXXrapXXXXXXXXXX-17-46.png)}.site-nav .site-nav-login .site-nav-menu-hd .site-nav-vip-icon.super{background-position:0 -18px}.site-nav .site-nav-login .site-nav-menu-hd .site-nav-vip-icon.apass{margin-top:11px;background-position:0 -35px}.site-nav .site-nav-login .site-nav-menu-bd .site-nav-menu-bd-panel{width:248px}.site-nav .site-nav-login .site-nav-menu-bd .site-nav-user-privilege{display:block;text-align:center;border:1px solid #FFE8DE;background:#FFF0E8;padding:4px 0}.site-nav .site-nav-login .site-nav-menu-bd .tao-score{margin-top:5px}.site-nav .site-nav-login .site-nav-menu-bd .level-info{color:#3c3c3c}.site-nav .site-nav-login .site-nav-menu-bd .level-info.super{color:#c98d46}.site-nav .site-nav-login .site-nav-menu-bd .site-nav-user-info{height:80px;overflow:hidden;*zoom:1}.site-nav .site-nav-login .site-nav-menu-bd .site-nav-user-info p{height:20px;line-height:20px;overflow:hidden;*zoom:1}.site-nav .site-nav-login .site-nav-menu-bd .site-nav-user-info .site-nav-user-operate{text-align:right}.site-nav .site-nav-login .site-nav-menu-bd .site-nav-user-wrapper{float:left;margin-right:10px;margin-left:9px;width:62px;height:62px;padding:9px;box-sizing:content-box}.site-nav .site-nav-login .site-nav-menu-bd .site-nav-user-wrapper.super{background:url(//img.alicdn.com/tfs/TB16U6nQFXXXXarXVXXXXXXXXXX-28-28.png) 48px -5px no-repeat}.site-nav .site-nav-login .site-nav-menu-bd .site-nav-user-wrapper.apass{background:url(//img.alicdn.com/tfs/TB1XKvpQFXXXXaWXVXXXXXXXXXX-28-28.png) 51px -3px no-repeat}.site-nav .site-nav-login .site-nav-menu-bd .site-nav-user-avatar{display:block;overflow:hidden;border:3px solid #fff;-moz-border-radius:50%;-webkit-border-radius:50%;border-radius:50%}.site-nav .site-nav-login .site-nav-menu-bd .site-nav-user-avatar img{display:block;width:56px;height:56px}.site-nav-status-logout .site-nav-login .site-nav-menu-bd,.site-nav-status-logout .site-nav-login .site-nav-user{display:none}.site-nav-status-login .site-nav-login .site-nav-sign{display:none}.site-nav .mini-cart .site-nav-menu-bd .site-nav-menu-bd-panel{width:296px;line-height:20px;min-height:40px;background:#fff url(//img.alicdn.com/tps/i3/T1b1m3XkVpXXXXXXXX-32-32.gif) no-repeat 50% 50%}.site-nav .mini-cart .site-nav-menu-bd .mini-cart-ready{background:#fff}.site-nav .mini-cart .site-nav-menu-bd .mini-cart-closed{background:#fff;width:105px}.site-nav .mini-cart .site-nav-menu-bd .mini-cart-hd{padding:10px 0}.site-nav .mini-cart .site-nav-menu-bd .mini-cart-bd{border-bottom:1px solid #EEE;overflow:hidden;*zoom:1}.site-nav .mini-cart .site-nav-menu-bd .mini-cart-bd li{margin-bottom:10px;height:40px;overflow:hidden;*zoom:1}.site-nav .mini-cart .site-nav-menu-bd .mini-cart-bd .mini-cart-img{float:left;margin-right:10px;width:40px;height:40px;display:inline-block;overflow:hidden;text-align:center}.site-nav .mini-cart .site-nav-menu-bd .mini-cart-bd .mini-cart-img a{display:inline;position:static;line-height:1.5}.site-nav .mini-cart .site-nav-menu-bd .mini-cart-bd .mini-cart-img a img{vertical-align:middle}.site-nav .mini-cart .site-nav-menu-bd .mini-cart-title{height:20px;overflow:hidden;*zoom:1}.site-nav .mini-cart .site-nav-menu-bd .mini-cart-title a{float:left;width:168px;white-space:nowrap;overflow:hidden;text-overflow:ellipsis}.site-nav .mini-cart .site-nav-menu-bd .mini-cart-info{height:20px;overflow:hidden;*zoom:1;color:#9C9C9C}.site-nav .mini-cart .site-nav-menu-bd .mini-cart-count{float:right}.site-nav .mini-cart .site-nav-menu-bd .mini-cart-count .mini-cart-price{margin-left:5px}.site-nav .mini-cart .site-nav-menu-bd .mini-cart-del{float:right}.site-nav .mini-cart .mini-cart-ft{text-align:right}.site-nav .mini-cart .mini-cart-ft p{margin-top:10px}.site-nav .mini-cart .menu-hd .g-icon{color:#f40}.site-nav .site-nav-sitemap .hot{background:url(//img.alicdn.com/tps/i2/T1hOy5XhNnXXXXXXXX-9-14.gif) no-repeat}.site-nav .site-nav-sitemap .new{background:url(//img.alicdn.com/tps/i3/T1lni5XhXXXXXXXXXX-9-14.gif) no-repeat}.site-nav .site-nav-sitemap .site-nav-menu-bd .site-nav-menu-panel{overflow:hidden;position:absolute;right:0;left:auto;width:988px;min-height:258px;line-height:normal;border:1px solid #eee;background:#fff}.site-nav .site-nav-sitemap .site-nav-sitemap-mod{float:left;width:25%;overflow:hidden}.site-nav .site-nav-sitemap .site-nav-sitemap-mod-wrap{padding:5px;border-right:1px solid #eee;overflow:hidden}.site-nav .site-nav-sitemap .site-nav-sitemap-mod-wrap h4{margin:5px;font-size:16px;font-weight:600;overflow:hidden}.site-nav .site-nav-sitemap .site-nav-sitemap-mod-wrap li{*position:relative;float:left;padding-top:5px;width:30%;height:25px;overflow:hidden}.site-nav .site-nav-sitemap .site-nav-sitemap-mod-wrap a{position:relative;float:left;height:25px;line-height:25px;margin:0 2px;padding:0 8px;-moz-border-radius:2px;-webkit-border-radius:2px;border-radius:2px}.site-nav .site-nav-sitemap .site-nav-sitemap-mod-wrap a:after{content:\"\";display:table;clear:both}.site-nav .site-nav-sitemap .site-nav-sitemap-mod-wrap a:hover{color:#fff;background-color:#f50}.site-nav .site-nav-sitemap .site-nav-sitemap-mod-wrap a i{position:absolute;top:-5px;right:0;display:block;width:9px;height:14px;overflow:hidden}.site-nav .site-nav-sitemap .site-nav-sitemap-mod:nth-child(1) .site-nav-sitemap-mod-wrap a:hover{background-color:#f50}.site-nav .site-nav-sitemap .site-nav-sitemap-mod:nth-child(2) .site-nav-sitemap-mod-wrap a:hover{background-color:#a0b959}.site-nav .site-nav-sitemap .site-nav-sitemap-mod:nth-child(3) .site-nav-sitemap-mod-wrap a:hover{background-color:#df61ab}.site-nav .site-nav-sitemap .site-nav-sitemap-mod:nth-child(4) .site-nav-sitemap-mod-wrap{border-right:none}.site-nav .site-nav-sitemap .site-nav-sitemap-mod:nth-child(4) .site-nav-sitemap-mod-wrap a:hover{background-color:#52a0e5}.site-nav .tmsg{float:left}.site-nav .tmsg .site-nav-menu .tmsg_icon{_padding-top:9px}.site-nav .tmsg .site-nav-menu .tmsg_loading{margin:-5px 5px 0 0;vertical-align:middle}.site-nav .tmsg .site-nav-menu .tmsg_logo_icon{line-height:0;width:8px;display:inline-block;vertical-align:middle;margin-top:0;*display:inline;_display:inline-block}.site-nav .tmsg .site-nav-menu .tmsg_light-sign,.site-nav .tmsg .site-nav-menu .tmsg_logo{display:none}.site-nav .tmsg_logo_loading{display:inline-block;width:13px}.site-nav .tmsg_logo_area{float:left}.site-nav-status-logout .site-nav-tmsg{display:none}.site-nav .site-nav-weekend img{vertical-align:bottom}.site-nav .site-nav-weekend .site-nav-menu-hd{overflow:hidden}@media (max-width:1009px){.site-nav .site-nav-weekend{display:none!important}}.tb-global-pad-notice{width:100%;height:60px;overflow:hidden;position:relative}.tb-global-pad-notice span{position:absolute;top:10px;right:10px;width:40px;height:40px;background-color:rgba(0,0,0,.3);display:block;line-height:40px;font-size:28px;text-align:center;color:#fff;border-radius:20px;-webkit-font-smoothing:antialiased}.site-nav-at-mobile{border-bottom:none}.site-nav-at-mobile .site-nav-bd{height:40px}.site-nav-at-mobile .site-nav-catalog,.site-nav-at-mobile .site-nav-home,.site-nav-at-mobile .site-nav-mobile,.site-nav-at-mobile .site-nav-seller{display:none}.site-nav-at-mobile .siete-nav-menu .site-nav-menu-hd{height:40px;line-height:40px}.site-nav-at-mobile .siete-nav-menu i{position:relative;-moz-transition:none;-o-transition:none;-webkit-transition:none;transition:none;position:absolute;margin:0;display:none;bottom:-1px;left:40%;width:12px;height:6px}.site-nav-at-mobile .siete-nav-menu i em,.site-nav-at-mobile .siete-nav-menu i span{position:absolute;top:0;left:0;width:0;height:0;border-color:rgba(255,255,255,0);border-color:transparent\\9;*border-color:transparent;_border-color:tomato;_filter:chroma(color=tomato);border-style:solid;overflow:hidden;*zoom:1;border-width:0 5px 5px}.site-nav-at-mobile .siete-nav-menu i em{top:-1px;border-bottom-color:#eee}.site-nav-at-mobile .siete-nav-menu i span{border-bottom-color:#fff}.site-nav-at-mobile .site-nav-menu-hover .site-nav-menu-hd i{display:block}.site-nav-at-mobile .site-nav-menu-hover .site-nav-menu-bd{display:block}.site-nav-at-mobile .site-nav-login img{cursor:pointer;margin:2px 0;-moz-border-radius:50%;-webkit-border-radius:50%;border-radius:50%;border:2px solid #fff}.site-nav-at-mobile .site-nav-bd-r .site-nav-pipe{display:none}@media (max-width:1219px){.site-nav-at-mobile .site-nav-bd{width:990px}.site-nav-at-mobile .site-nav-sitemap .mod li{width:33%}}@media (max-width:1009px){.site-nav-at-mobile .site-nav-bd{width:740px}.site-nav-at-mobile .site-nav-guide,.site-nav-at-mobile .site-nav-seller{display:none}.site-nav-at-mobile .site-nav-sitemap .site-nav-menu-bd-panel{width:722px}.site-nav-at-mobile .site-nav-sitemap .site-nav-menu-bd-panel .mod{width:50%}.site-nav-at-mobile .site-nav-sitemap .site-nav-menu-bd-panel .mod li{width:20%}.site-nav-at-mobile .site-nav-sitemap .site-nav-menu-bd-panel .mod-b .mod-wrap{border-right:none}.site-nav-at-mobile .site-nav-weekend{display:none}}.tb-ie-updater-layer{position:absolute;left:0;top:0;bottom:0;right:0;width:100%;height:100%;background-color:#000;filter:alpha(opacity=50);opacity:.5;z-index:99999999}.tb-ie-updater-box{position:absolute;left:50%;top:50%;margin-left:-292px;margin-top:-210px;width:584px;height:420px;background:url(//img.alicdn.com/tps/TB1pH4SLpXXXXXEXVXXXXXXXXXX-584-419.png) no-repeat;z-index:100000000}.tb-ie-updater-box a{position:absolute;text-decoration:none;color:#71a403;font-size:14px;width:130px;height:32px;background-color:#FFF;text-align:center;line-height:32px}.tb-ie-updater-box a:hover{font-weight:700}.tb-ie-updater-google{left:55px;top:107px}.tb-ie-updater-uc{top:107px;left:212px}.site-nav .site-nav-switch .site-nav-region{float:left;margin-right:7px}.site-nav .site-nav-region-list{padding-top:8px;max-height:270px;overflow-y:scroll;border:1px solid #f4f4f4}.site-nav .site-nav-region-list .site-nav-region-item{width:242px;height:29px;line-height:29px;padding-left:8px;cursor:pointer}.site-nav .site-nav-region-list .site-nav-region-item.active,.site-nav .site-nav-region-list .site-nav-region-item:hover{background-color:#f4f4f4}.tmsg_panel_apps,.tmsg_panel_detail,.tmsg_panel_history,.tmsg_panel_setting{width:288px;border-top:0;position:absolute;background:#FFF;box-shadow:1px 1px 2px #ddd;z-index:10000000000}.tmsg_panel_head{height:37px;line-height:37px;position:relative;text-align:center;border-bottom:1px solid #EEE}.tmsg_panel_foot{height:32px;border-top:1px solid #EEE;position:relative}\n",
      "  .tb-ifont{font-family:iconfont!important;font-size:14px;font-style:normal;display:inline-block;text-decoration:none;-webkit-font-smoothing:antialiased;-moz-osx-font-smoothing:grayscale}@font-face{font-family:iconfont;src:url(//at.alicdn.com/t/font_403341_n8tj33yn5peng66r.eot);src:url(//at.alicdn.com/t/font_403341_n8tj33yn5peng66r.eot?#iefix) format('embedded-opentype'),url(//at.alicdn.com/t/font_403341_n8tj33yn5peng66r.woff) format('woff'),url(//at.alicdn.com/t/font_403341_n8tj33yn5peng66r.ttf) format('truetype'),url(//at.alicdn.com/t/font_403341_n8tj33yn5peng66r.svg#iconfont) format('svg')}.tbh-icon{background:url(https://img.alicdn.com/tfs/TB1eiXTXlTH8KJjy0FiXXcRsXXa-24-595.png) 0 0 no-repeat}.headline h3{background:url(//img.alicdn.com/tfs/TB1KbhkbUgQMeJjy0FeXXXOEVXa-129-26.png) 0 14px no-repeat}.tbh-member .tbh-icon{background-position:0 -572.5px}.tbh-member .club .tbh-icon{background-position:0 -528px}.tbh-conve .conve-item-1 .tbh-icon{background-position:0 0}.tbh-conve .conve-item-2 .tbh-icon{background-position:0 -85px}.tbh-conve .conve-item-3 .tbh-icon{background-position:0 -44px}.tbh-conve .conve-item-4 .tbh-icon{background-position:0 -132px}.tbh-conve .conve-item-5 .tbh-icon{background-position:0 -176px}.tbh-conve .conve-item-6 .tbh-icon{background-position:0 -220px}.tbh-conve .conve-item-7 .tbh-icon{background-position:0 -264px}.tbh-conve .conve-item-8 .tbh-icon{background-position:0 -308px}.tbh-conve .conve-item-9 .tbh-icon{background-position:0 -352px}.tbh-conve .conve-item-10 .tbh-icon{background-position:0 -396px}.tbh-conve .conve-item-11 .tbh-icon{background-position:0 -440px}.tbh-conve .conve-item-12 .tbh-icon{background-position:0 -484px}@media only screen and (-webkit-min-device-pixel-ratio:1.5),only screen and (min--moz-device-pixel-ratio:1.5),only screen and (-o-min-device-pixel-ratio:3/2),only screen and (min-device-pixel-ratio:1.5){.tbh-icon{background:url(https://img.alicdn.com/tfs/TB1tyFSXm_I8KJjy0FoXXaFnVXa-48-1194.png) 0 0 no-repeat;background-size:24px 597px}.headline h3{background-image:url(//img.alicdn.com/tfs/TB1x3nNX6uhSKJjSspmXXcQDpXa-258-52.png);background-size:129px 26px}}.tb-zoom .tmall .mod-6 a{width:172px}.tb-zoom .tmall .mod-12 a:nth-child(4n){width:127px}.tb-zoom .apps-nav li{margin-right:20px}.tb-zoom .service-rmd-list a{margin-right:7px}.tb-zoom .service-rmd-list a{width:109px}.tb-zoom .tmall .mod-4 a:first-child{width:129px}body,html{overflow-x:hidden}.tb-bg{background-image:-webkit-linear-gradient(left,#ff9000 0,#ff5000 100%);background-image:-o-linear-gradient(left,#ff9000 0,#ff5000 100%);background-image:linear-gradient(to right,#ff9000 0,#ff5000 100%);background-repeat:repeat-x;filter:progid:DXImageTransform.Microsoft.gradient(startColorstr='#ffff9000', endColorstr='#ffff5000', GradientType=1)}.clearfix{*zoom:1}.clearfix:after,.clearfix:before{content:\" \";display:table}.clearfix:after{height:0;line-height:0;visibility:hidden;clear:both}.clearfix:after,.clearfix:before{content:\" \";display:table}.clearfix:after{height:0;line-height:0;visibility:hidden;clear:both}body{color:#3C3C3C;-webkit-font-smoothing:antialiased;background-color:#f4f4f4}body a{color:#3C3C3C}body a:hover{color:#F40;text-decoration:none}body a:focus{outline:0}body.disable-hover{pointer-events:none}#J_Sale{min-height:962px;overflow:hidden}.hotsale-loading{display:block;height:120px;margin-top:20px}.ml6{margin-left:6px}area{outline:0}.J_Module{min-height:0;background-color:#FFF}.hide,.tb-hide{display:none}.tb-pass{background-color:transparent}.loading,.tb-loading{background-image:url(//img.alicdn.com/tfs/TB1BlobNFXXXXXyXXXXXXXXXXXX-34-34.gif);background-repeat:no-repeat;background-position:center;min-height:40px}.tb-loading{background-color:#FFF}.clearfix{*zoom:1}.clearfix:after,.clearfix:before{content:\" \";display:table}.clearfix:after{height:0;line-height:0;visibility:hidden;clear:both}.clearfix:after,.clearfix:before{content:\" \";display:table}.clearfix:after{height:0;line-height:0;visibility:hidden;clear:both}.tbh-tag::after{content:' ';width:10px;height:12px;margin-left:2px;background:url(data:image/png;base64,iVBORw0KGgoAAAANSUhEUgAAAAoAAAAMCAYAAABbayygAAAAMklEQVR42sWQsQkAQAgDs/+0bhAr8QtRUfCLgxCuCAEF7DAQ6fntjsSIjxt3P2bApAoFhBVhrbziPxwAAAAASUVORK5CYII=);display:inline-block}#J_SiteNavHome{display:none}div.wrap-fixed{padding-top:129px}.bottom,.seat,.top-wrap{width:1190px;margin:0 auto;position:relative}.col-right{position:relative}.tbh-search{-webkit-transition:width .2s;-moz-transition:width .2s;-o-transition:width .2s;transition:width .2s}.img-wrapper{background:#f4f4f4;overflow:hidden}.img-wrapper img{background:#fff;opacity:.9;filter:alpha(opacity=90);-webkit-transition:all .2s;-moz-transition:all .2s;-o-transition:all .2s;transition:all .2s}.img-wrapper:hover img{opacity:.8;filter:alpha(opacity=80)}div.tbh-nav .nav{width:1190px;margin:0 auto}.screen-outer{width:1190px;margin:0 auto;height:632px}.main{float:left;width:900px;height:100%;clear:left}.main .core{margin-left:10px;margin-top:10px;float:left;height:512px;width:520px}.sub-column{float:right;width:160px;height:512px;margin-right:10px;margin-top:10px}.tbh-promo,.tbh-tmall{width:520px}.col-right{float:right;width:290px;height:100%;margin-top:10px}.tbh-service{float:left;width:190px}div.apps{margin-top:0}.tbh-app{position:relative}.layer{width:1190px;margin:0 auto}.fl{float:left;display:inline}.seat-rect{float:left;width:890px}.seat-extra{margin-left:900px;width:290px}.top{background-color:#FFF;padding-top:24px;height:97px}.tbh-qr-wrapper{position:absolute;top:0;right:110px}.tbh-qr{position:relative}.tbh-logo{float:left;width:190px}.tbh-hotsale .hotsale-loading{height:200px}.img-wrapper{background:#4f4f4f}.img-wrapper img{opacity:.9}.layer-inner{margin-top:10px}.tbh-search{margin-left:258px;margin-right:302px}.tbh-discover-goods,.tbh-shopping{width:590px;float:left;height:658px}.tbh-qiang{height:264px}.tbh-live,.tbh-shop{width:590px;height:538px}.tbh-live li.odd,.tbh-shop li.odd{width:190px}.tbh-live,.tbh-quality.special,.tbh-shopping{margin-left:10px}.tbh-fashion{width:840px;height:290px;float:left}.tbh-quality{width:590px;height:768px;float:left}.tbh-afford{height:251px}.logo{width:190px}a{cursor:pointer}.seat{_zoom:1}.rect-wrap{position:relative}.hd-tanx{overflow:hidden;height:280px;background-color:#FFF}.hb-tanx-down{margin-top:1px;height:230px}.hb-tanx-down h5{font-size:12px;font-weight:400;background:#f1f1f1;color:#a1a1a1;line-height:24px;padding-top:6px}.tb-tanx-wrapper{float:right;width:298px;height:248px;border:1px solid #fff;overflow:hidden;padding:20px;background:#fff}.tb-tanx-wrapper:hover{border-color:#ff5000}.tb-tanx-wrapper .tbh-tanx{width:290px;height:242px;overflow:hidden}.tb-tanx-wrapper .tbh-tanx ins,.tb-tanx-wrapper .tbh-tanx ins iframe,.tb-tanx-wrapper .tbh-tanx ins img{width:290px!important;height:242px!important}.seat-rect .tbh-ald{height:70px}.seat-gg{height:70px}div.footer{border-top:2px solid #F40}div.footer .footer-ft{display:block}.a-opacity{-webkit-transition:opacity .2s;-moz-transition:opacity .2s;-o-transition:opacity .2s;transition:opacity .2s}.a-all{-webkit-transition:all .2s;-moz-transition:all .2s;-o-transition:all .2s;transition:all .2s}.s1190 .top .decorate,.wrap-fixed .top .decorate{display:none}.seat-gg{height:70px}.brand-item .mlogo,.mod-hd .mlogo{height:24px;margin-right:5px}.brand-item .qr-wrapper,.mod-hd .qr-wrapper{position:relative;float:left;width:26px;text-align:center;height:24px}.brand-item .qr-wrapper:hover .a-all,.mod-hd .qr-wrapper:hover .a-all{opacity:1;filter:alpha(opacity=100);top:26px;z-index:5}.brand-item .qr-wrapper .a-all,.mod-hd .qr-wrapper .a-all{position:absolute;left:-17px;top:20px;opacity:0;filter:alpha(opacity=0);width:66px;height:80px;padding:10px;background:#fff;z-index:-1;border:1px solid #f0f0f0}.brand-item .qr-wrapper .a-all img,.mod-hd .qr-wrapper .a-all img{width:66px;height:66px}.brand-item .qr-wrapper .a-all em,.mod-hd .qr-wrapper .a-all em{position:absolute;display:block;left:0;right:0;bottom:3px;text-align:center;color:#666;font-weight:400;font-size:12px}.brand-item .tb-ifont{font-size:20px;margin:0;color:#ccc}.brand-item .qr-wrapper{float:none;display:inline-block;zoom:1;*display:inline;letter-spacing:normal;word-spacing:normal;vertical-align:top;height:26px}.mod-hd{position:relative}.mod-hd em{display:none}.mod-hd .more .tb-ifont{float:right;width:12px;font-size:12px;text-align:center;top:1px;position:relative}.mod-hd .tb-qr{font-size:20px;margin:0;color:#ccc;position:relative;top:-1px}.mod-hd p{line-height:24px;height:24px;color:#999;font-weight:400}.mod-hd .tb-fn{position:absolute;top:0;right:20px;line-height:24px;height:24px;font-size:12px;color:#999;width:100px;text-align:right}.mod-hd .tb-fn .more,.mod-hd .tb-fn .switch{cursor:pointer;font-weight:400}.mod-hd .tb-fn .more{margin-left:14px;color:inherit}.com-hd{padding-left:20px;margin-top:20px;margin-bottom:20px}.bar-hd{position:relative;padding-left:32px;margin-top:5px;line-height:48px;font-size:20px}.bar-hd em{display:block}.bar-hd .tb-fn{top:12px}.bar-hd:before{content:'';position:absolute;width:4px;height:16px;top:16px;left:20px}.s1190 .bottom,.s1190 .screen,.s1190 .seat,.s1190 .tbh-hotsale,.s1190 .top-wrap{-webkit-transition:width .2s;-moz-transition:width .2s;-o-transition:width .2s;transition:width .2s;width:990px}.s1190 .seat-extra{margin-left:700px}.s1190 .screen-outer{width:990px}.s1190 .tbh-search{margin-left:218px;margin-right:145px}.s1190 .belt-list .last,.s1190 .nav-bd.last{display:none}.s1190 .headline-bd .mod{width:476px}.s1190 .tbh-qr-wrapper{right:0}.s1190 div.tbh-nav .nav{width:990px}.s1190 .screen-outer{width:990px}.s1190 .main{width:700px}.s1190 .main .core{width:492px;overflow:hidden}.s1190 .sub-column{display:none}.s1190 .layer{width:990px}.s1190 .tbh-headline{width:690px}.s1190 .tbh-headline .more{display:none}.s1190 .tbh-promo .promo,.s1190 .tmall{left:-14px}.s1190 .promo-ft .promo-opt .prev,.s1190 .tmall-ft .tmall-opt .prev{left:14px}.s1190 .promo-ft .promo-opt .next,.s1190 .tmall-ft .tmall-opt .next{right:14px}.s1190 .tmall-hd{width:492px;position:relative;left:14px}.s1190 .fixedtool{-webkit-transition:maring-right .2s;-moz-transition:maring-right .2s;-o-transition:maring-right .2s;transition:maring-right .2s;margin-right:-555px}.s1190 div.footer{width:990px}.s1190 .seat-rect .tbh-ald{width:687px;overflow:hidden}.s1190 .tbh-discover-goods,.s1190 .tbh-live,.s1190 .tbh-shop,.s1190 .tbh-shopping{width:490px}.s1190 .tbh-live .odd .right,.s1190 .tbh-shop .odd .right{display:none}.s1190 .tbh-quality{width:490px}.s1190 .tbh-quality .second{display:none}.s1190 .tbh-quality .subtitle{display:block;line-height:20px}.s1190 .tbh-quality .item-bd{margin-left:15px}.s1190 .tbh-discover-goods a{width:148px}.s1190 .tbh-discover-goods .img-wrapper{height:148px;margin-top:16px;margin-bottom:16px}.s1190 .tbh-discover-goods .img-wrapper img{height:148px}.s1190 .tbh-shopping .list li{width:148px}.s1190 .tbh-shopping .list li .img-wrapper{height:148px;margin-top:16px;margin-bottom:16px}.s1190 .tbh-shopping .list li .img-wrapper img{height:148px}.s1190 .tbh-qiang li{padding:0 10px 0 10px;width:310px}.s1190 .tbh-qiang .img-wrapper{width:148px;margin-top:16px;margin-bottom:16px;height:148px}.s1190 .tbh-qiang .info{margin-left:162px}.s1190 .seat-gg div,.s1190 .seat-gg ins{width:990px!important}.s1190 .tbh-superbanner{min-width:990px}.s1190 .superbanner-inner{width:990px;min-width:990px}.s1190 .superbanner-inner .item-5{display:none}.s1190 .superbanner-inner .mask{width:847px}.s1190 .tbh-tb-venues .mian-logo{width:247px}.s1190 .tbh-tb-venues ul{width:661px;border-left:1px solid #fff}.s1190 .tbh-tb-venues li{width:109px}.s1190 .tbh-tb-venues li.last{display:none}.s1190 .tbh-tb-venues li a{padding-top:5px;height:159px}.s1190 .tbh-tb-venues li .wrap-img{margin-left:5px}.s1190 .tbh-fashion{width:640px}.s1190 .tbh-fashion .img-wrapper-outer{padding-left:8px}.s1190 .tbh-fashion .img-wrapper-outer .second{margin-left:2px}.s1190 .tbh-fashion .list .item{width:254px}.s1190 .tbh-fashion .list .item.last{width:126px}.s1190 .tbh-fashion .list .item.last .img-wrapper-outer{padding-left:2px}.s1190 .tbh-fashion .list .item.last .second{display:none}.s1190 .tbh-fashion .img-wrapper{padding-left:4px}.s1190 .tbh-afford .last{display:none}.s1190 .tbh-afford .item{width:225px}.s1190 .tbh-afford .item.odd{width:226px}@media screen and (max-width:1189px){.bottom,.screen,.seat,.tbh-hotsale,.top-wrap{-webkit-transition:width .2s;-moz-transition:width .2s;-o-transition:width .2s;transition:width .2s;width:990px}.seat-extra{margin-left:700px}.screen-outer{width:990px}.tbh-search{margin-left:218px;margin-right:145px}.belt-list .last,.nav-bd.last{display:none}.headline-bd .mod{width:476px}.tbh-qr-wrapper{right:0}div.tbh-nav .nav{width:990px}.screen-outer{width:990px}.main{width:700px}.main .core{width:492px;overflow:hidden}.sub-column{display:none}.layer{width:990px}.tbh-headline{width:690px}.tbh-headline .more{display:none}.tbh-promo .promo,.tmall{left:-14px}.promo-ft .promo-opt .prev,.tmall-ft .tmall-opt .prev{left:14px}.promo-ft .promo-opt .next,.tmall-ft .tmall-opt .next{right:14px}.tmall-hd{width:492px;position:relative;left:14px}.fixedtool{-webkit-transition:maring-right .2s;-moz-transition:maring-right .2s;-o-transition:maring-right .2s;transition:maring-right .2s;margin-right:-555px}div.footer{width:990px}.seat-rect .tbh-ald{width:687px;overflow:hidden}.tbh-discover-goods,.tbh-live,.tbh-shop,.tbh-shopping{width:490px}.tbh-live .odd .right,.tbh-shop .odd .right{display:none}.tbh-quality{width:490px}.tbh-quality .second{display:none}.tbh-quality .subtitle{display:block;line-height:20px}.tbh-quality .item-bd{margin-left:15px}.tbh-discover-goods a{width:148px}.tbh-discover-goods .img-wrapper{height:148px;margin-top:16px;margin-bottom:16px}.tbh-discover-goods .img-wrapper img{height:148px}.tbh-shopping .list li{width:148px}.tbh-shopping .list li .img-wrapper{height:148px;margin-top:16px;margin-bottom:16px}.tbh-shopping .list li .img-wrapper img{height:148px}.tbh-qiang li{padding:0 10px 0 10px;width:310px}.tbh-qiang .img-wrapper{width:148px;margin-top:16px;margin-bottom:16px;height:148px}.tbh-qiang .info{margin-left:162px}.seat-gg div,.seat-gg ins{width:990px!important}.tbh-superbanner{min-width:990px}.superbanner-inner{width:990px;min-width:990px}.superbanner-inner .item-5{display:none}.superbanner-inner .mask{width:847px}.tbh-tb-venues .mian-logo{width:247px}.tbh-tb-venues ul{width:661px;border-left:1px solid #fff}.tbh-tb-venues li{width:109px}.tbh-tb-venues li.last{display:none}.tbh-tb-venues li a{padding-top:5px;height:159px}.tbh-tb-venues li .wrap-img{margin-left:5px}.tbh-fashion{width:640px}.tbh-fashion .img-wrapper-outer{padding-left:8px}.tbh-fashion .img-wrapper-outer .second{margin-left:2px}.tbh-fashion .list .item{width:254px}.tbh-fashion .list .item.last{width:126px}.tbh-fashion .list .item.last .img-wrapper-outer{padding-left:2px}.tbh-fashion .list .item.last .second{display:none}.tbh-fashion .img-wrapper{padding-left:4px}.tbh-afford .last{display:none}.tbh-afford .item{width:225px}.tbh-afford .item.odd{width:226px}}.tmall{position:relative;width:520px;height:230px;margin-top:1px;overflow:hidden}.tmall:hover .tmall-ft .tmall-opt{z-index:5;opacity:1;filter:alpha(opacity=100)}.tmall .tb-loading .mod a{border-color:transparent}.tmall .tmall-bd{height:201px}.tmall .mod{position:relative;width:520px;height:201px}.tmall .mod a{width:130px;height:201px;float:left}.tmall .mod ins{width:258px;height:200px;float:left;overflow:hidden;display:none}.tmall .mod-2 a{margin-top:6px;width:251px;height:190px;overflow:hidden;margin-left:6px}.tmall .mod-2 a img{width:100%;height:100%}.tmall .mod-4 a{width:129px;height:201px;overflow:hidden;border-left:1px solid #fff}.tmall .mod-4 a:first-child{width:130px;border-left:0}.tmall .mod-4 img{width:100%;min-height:201px}.tmall .mod-6 a{width:173px;height:100px;overflow:hidden;border-left:1px solid #ebebeb;margin-left:-1px;border-bottom:1px solid #ebebeb}.tmall .mod-6 a:nth-child(3n){margin-left:0}.tmall .mod-6 img{width:173px;min-height:100px}.tmall .mod-12 a{float:left;*display:inline;width:129px;height:57px;text-align:center;border:0;padding:5px 0;border-right:1px solid #ebebeb;border-bottom:1px solid #ebebeb;overflow:hidden}.tmall .mod-12 a img{width:84px;height:auto;margin-top:10px}.tmall .mod-loaded a{border-color:#ebebeb}.tmall .mod-first a:first-child{height:201px}.tmall .mod-first a:first-child img{height:201px}.tmall .tanx-wrapper.column-2 ins{width:250px;height:155px;margin-top:22px!important;margin-left:7px!important}.tmall .tanx-wrapper.column-2 ins a{display:block}.tmall .tanx-wrapper.column-2 ins a img{height:155px!important}.tmall-hd{font-size:14px;padding-top:11px;border-bottom:3px solid #ff1648;position:relative;background-color:#f1f1f1}.tmall-hd .inner{height:18px;line-height:18px;position:relative}.tmall-hd .hd-bg{width:136px;position:absolute;height:19px;background-repeat:no-repeat;background-position:2px 0;background-size:122px 22px}.tmall-hd em{font-size:12px;color:#666;position:relative;margin-left:136px}.tmall-hd strong{position:absolute;right:0;font-family:sans-serif;font-size:12px;font-weight:400}.tmall-hd strong i{font-style:normal;color:#ff1648}.sld-ft-opt{display:none;z-index:-1;opacity:0;filter:alpha(opacity=0)}.sld-ft-opt a{position:absolute;top:50%;background-color:rgba(0,0,0,.3);filter:progid:DXImageTransform.Microsoft.gradient( startColorstr='#4d000000', endColorstr='#4d000000', GradientType=0)}.sld-ft-opt a:hover{background-color:rgba(0,0,0,.5);filter:progid:DXImageTransform.Microsoft.gradient( startColorstr='#80000000', endColorstr='#80000000', GradientType=0)}.sld-ft-opt a.prev{-webkit-border-top-right-radius:15px;-moz-border-radius-topright:15px;border-top-right-radius:15px;-webkit-border-bottom-right-radius:15px;-webkit-background-clip:padding-box;-moz-border-radius-bottomright:15px;-moz-background-clip:padding;border-bottom-right-radius:15px;background-clip:padding-box}.sld-ft-opt a.next{-webkit-border-top-left-radius:15px;-moz-border-radius-topleft:15px;border-top-left-radius:15px;-webkit-border-bottom-left-radius:15px;-webkit-background-clip:padding-box;-moz-border-radius-bottomleft:15px;-moz-background-clip:padding;border-bottom-left-radius:15px;background-clip:padding-box}.sld-ft-opt .prev{left:0}.sld-ft-opt .next{right:0}.sld-ft-opt .next i{margin-left:6px}.sld-ft-opt a,.sld-ft-opt i{display:block;height:30px;width:20px;line-height:30px;color:#fff}.sld-ft-nav{border-radius:10px;position:absolute;bottom:15px;height:13px;text-align:center;font-size:0;left:50%;margin-left:-39px;background-color:rgba(255,255,255,.3);filter:progid:DXImageTransform.Microsoft.gradient( startColorstr='#4dffffff', endColorstr='#4dffffff', GradientType=0)}.sld-ft-nav li{display:inline-block;margin:3px}.sld-ft-nav li a{display:block;padding-top:8px;width:8px;height:0;border-radius:50%;background:#fff}.sld-ft-nav .selected a{background:#ff5000}.tmall-nav{position:absolute;top:29px;height:3px;line-height:0;width:520px;font-size:0}.tmall-nav li{display:inline-block;width:86px;height:3px;background:#ff1648;overflow:hidden;margin:0;line-height:0;font-size:0}.tmall-nav li:hover{cursor:pointer}.tmall-nav li:nth-child(1),.tmall-nav li:nth-child(2),.tmall-nav li:nth-child(3),.tmall-nav li:nth-child(4){width:87px}.tmall-nav .selected{background:#000}.qr{position:relative;top:0;z-index:2}.qr .qr-bd{position:relative;cursor:pointer;display:block;text-align:center;width:74px;height:88px;color:#666;border:1px solid #eee;background-color:#FFF}.qr .qr-bd span{line-height:20px;margin:4px auto 0;width:78px}.qr .qr-bd img{display:block;margin-left:6px;width:62px;height:62px}.qr .qr-ft{position:absolute;top:0;left:-16px;display:block;width:14px;height:14px;border:1px solid #eee}.qr .qr-ft s{width:14px;height:14px;text-align:center;line-height:14px;text-decoration:none;display:block;font-size:14px;color:#DDD}.qr .qr-ft s:hover{color:#CCC}.h{color:#ff5000!important}a.h:hover{color:#ff5000}.s1270 .play-11 .play-fix,.s1270 .play-11 .play-normal{right:120px}.s1190 .play-11 .play-normal{width:90px;height:90px;background-size:90px 90px}.play-11{position:absolute}.play-11 a,.play-11 img{display:block}.play-11 a{text-indent:-99999px;position:relative}.play-11 .play-normal{display:block;width:120px;height:120px;right:120px}.play-11 .play-fix{display:none;width:120px;height:45px;right:120px;top:-2px}.wrap-fixed .play-11 .play-normal{display:none}.wrap-fixed .play-11 .play-fix{display:block}.tbh-service{position:relative}.J_Service{height:522px;position:relative;font-size:14px;color:#fff;width:190px}.service-bd{border:1px solid #ff5000;border-top:none;padding-top:5px;padding-bottom:3px}.service-bd li{overflow:hidden;line-height:32px;height:32px;padding-left:25px;padding-right:19px;position:relative;font-size:14px;font-weight:400;width:145px;color:#666}.service-bd li .service-arrow{position:absolute;right:10px;font-size:12px}.service-bd li span{display:inline-block;line-height:32px;height:32px;overflow:hidden;width:134px;vertical-align:top}.service-bd li.on{background-color:#ffe4dc;color:#FF5000}.service-bd li.on a{color:#FF5000}.service-bd li.on .service-icons{color:#FF5000}.service-bd a{color:#666}.service-bd a:hover{color:#666;text-decoration:underline}.service-float{-webkit-transform:translateZ(0);-moz-transform:translateZ(0);-ms-transform:translateZ(0);-o-transform:translateZ(0);transform:translateZ(0);display:none;position:absolute;left:188px;top:0;padding:0 0 0 18px;width:692px;height:518px;border:2px solid #F94A14;box-shadow:2px 2px 0 #dcdadb;background-color:#FFF;color:#333;font-size:12px;z-index:22}.service-float-item{display:none}.service-fi-links{padding-top:10px;width:415px;height:490px;overflow:hidden;padding-right:12px;padding-left:10px;float:left}.service-panel{font-size:12px;margin-bottom:5px}.service-panel h5{position:relative;height:36px;line-height:36px;font-size:16px;color:#333}.service-panel h5 span{font-size:12px;right:-6px;position:absolute;font-weight:400;top:0}.service-panel h5 span .tb-ifont{position:relative;left:-4px;font-size:12px}.service-panel p{height:104px;overflow:hidden;padding-bottom:33px;line-height:26px}.service-panel p a{color:#666;display:inline-block;margin-right:12px;white-space:nowrap}.service-rmd{float:left;width:253px;border-left:1px solid #f4f4f4;position:relative;height:498px;padding-top:20px}.service-rmd h3{line-height:18px;color:#333;font-size:14px;text-align:center;font-weight:400}.service-rmd-list a{display:block;width:97px;height:143px;padding:10px 0 0 20px;overflow:hidden}.service-rmd-list a:hover h5{color:#ff5000}.service-rmd-list .img-wrapper{width:97px;height:97px;overflow:hidden}.service-rmd-list img{display:block;width:98px;height:97px}.service-rmd-list h5{height:26px;line-height:26px;font-size:12px;overflow:hidden;font-weight:400;color:#999}.promo{position:relative;width:520px;height:280px;overflow:hidden;*zoom:1}.promo:after,.promo:before{content:\" \";display:table}.promo:after{height:0;line-height:0;visibility:hidden;clear:both}.promo:hover .promo-ft .promo-opt{z-index:5;opacity:1;filter:alpha(opacity=100)}.promo .ad-tags{position:absolute;left:0;bottom:0;font-size:10px;color:#fff;background:#000;color:rgba(255,255,255,.6);background:rgba(0,0,0,.4);opacity:.4;height:14px;line-height:14px;width:24px;border-top-right-radius:4px}.promo-bd{position:relative}.promo-bd .mod{width:520px;height:280px;*zoom:1}.promo-bd .mod:after,.promo-bd .mod:before{content:\" \";display:table}.promo-bd .mod:after{height:0;line-height:0;visibility:hidden;clear:both}.promo-bd img{display:block}.promo-bd a{position:relative;display:block}.tb-conve{overflow:hidden}.conve{border-top:1px solid #f4f4f4;*overflow:hidden}.conve .mod{overflow:hidden}.conve .conve-float{overflow:visible}.conve-list{width:294px}.conve-list li{float:left;width:71px;height:75px;border:1px solid #f4f4f4;border-left-color:transparent;border-top-color:transparent}.conve-list li.min{width:70px}.conve-list a{padding-top:1px;text-align:center;display:block}.conve-list a .conve-item-icon{display:inline-block;width:24px;height:24px;margin-top:11px;background-repeat:no-repeat}.conve-list a p{color:#333;line-height:24px}.conve-list a:hover p{color:#F40}.conve_on{position:relative}.conve_on .conve-bd-box{top:76px;display:block;border-color:#F40;-webkit-transition:border-color .1s;-moz-transition:border-color .1s;-o-transition:border-color .1s;transition:border-color .1s;z-index:8;overflow:hidden}.conve_on li.selected{position:relative;border-color:#F40;z-index:11;-webkit-transition:border-color .1s;-moz-transition:border-color .1s;-o-transition:border-color .1s;transition:border-color .1s}.conve_on li.selected a{position:relative;z-index:11;background:#FFF;height:75px}.conve_on li.selected a p{-webkit-transition:color .1s;-moz-transition:color .1s;-o-transition:color .1s;transition:color .1s;color:#F40}.conve_on li.selected.conve-item-1 a{border-left-color:#f40}.conve_on li.selected.conve-item-4 a{border-right-color:#f40}.conve-bd-item{position:relative;padding-top:4px;z-index:2}.conve-bd-item .conve-bd-loading{height:150px}.conve-bd-item .new-service-module{padding:5px}.conve-bd-item div.conve-container{padding:0 5px}.conve-bd-box{position:absolute;z-index:-1;top:300px;left:0;width:288px;height:156px;background:#fff;border:1px solid #EAEAEA;outline:0;display:none}.conve-bd-box .tbr-input{overflow:visible}.conve-bd-box .conve-bd-box-close{display:block;z-index:5;position:absolute;top:1px;right:1px;width:18px;height:18px;line-height:18px;font-size:18px;text-align:center;font-style:normal;color:#999;background-color:#fff}.conve-bd-box .conve-bd-box-close:hover{color:#666;background-color:#EEE}.conve-bd-box .conve-tabs{margin-bottom:0!important}.tbh-focus{overflow:hidden;height:280px;background-color:#FFF}.screen-column{height:70px;margin-top:15px}.screen-column img{display:block;width:100%}.s1190 .screen-column{width:687px}.tbh-belt{margin-top:10px;height:166px;overflow:hidden}.belt-inner{background:#FFF}.belt-inner .belt-hd{margin-top:19px;height:24px}.belt-inner .belt-hd .tb-ifont{margin:0}.belt-inner .list{padding-left:20px}.belt-inner h4{color:#333}.belt-inner li{position:relative;float:left;width:194px;height:82px}.belt-inner li a{display:block}.belt-inner li:hover .wrap-img{border-color:#ff5000}.belt-inner li:hover h4{color:#ff5000}.belt-inner li .wrap-img{height:66px;width:66px;-webkit-transform:scale(1);-moz-transform:scale(1);-ms-transform:scale(1);-o-transform:scale(1);transform:scale(1);border:1px solid #13d0a1;-webkit-border-radius:100%;-webkit-background-clip:padding-box;-moz-border-radius:100%;-moz-background-clip:padding;border-radius:100%;background-clip:padding-box;float:left;padding:7px;overflow:hidden}.belt-inner li img{display:block;width:66px;height:66px}.belt-inner li:hover img{opacity:.8;filter:alpha(opacity=80)}.belt-inner li .right{margin-left:91px}.belt-inner li h4{height:24px;overflow:hidden;margin-top:6px;display:block;font-size:16px;font-weight:500}.belt-inner li .subtitle{overflow:hidden;height:22px;font-size:14px;line-height:22px;color:#999}.belt-inner li .extra{line-height:30px;height:30px;color:#999;font-size:12px;overflow:hidden}.belt-inner li .extra .tb-ifont{color:#13d0a1}.tbh-app{padding-top:1px}.apps{position:relative;height:110px}.apps h3{font-size:14px;padding-left:14px;height:30px;line-height:30px;position:relative;z-index:2}.apps .more{position:absolute;right:10px;font-size:12px;font-weight:400}.apps .more .tb-ifont{position:relative;left:-4px;font-size:12px}.apps-nav{padding-left:23px;position:relative;height:84px}.apps-nav li{-webkit-transition:all 0s;-moz-transition:all 0s;-o-transition:all 0s;transition:all 0s;position:relative;float:left;width:32px;height:32px;margin-right:21px;margin-bottom:8px}.apps-nav li a img{width:32px;height:32px}.apps-nav li:hover .app-qr{z-index:22;display:block}.apps-nav .app-qr{-ms-touch-action:none;touch-action:none;bottom:39px;left:-32px;width:90px;height:102px;background:#FFF;border:1px solid #dedede;text-align:center;display:none;position:absolute;z-index:-1}.apps-nav .app-qr p{position:absolute;bottom:3px;left:0;right:0;height:20px;line-height:20px;color:#666;overflow:hidden}.apps-nav .app-qr img{width:66px;height:66px;padding:12px}.apps-nav .app-qr:hover{display:none;z-index:-1}.tbh-member{background-size:290px 145px;background-repeat:no-repeat;background-position:0 0}.member{padding:3px 0 10px 0;height:132px;padding-right:inherit;text-align:center;background-repeat:no-repeat}.member .member-nick{font-weight:400}.member-bd{position:relative;height:91px}.member-bd .member-nick-info{display:block;line-height:17px;height:17px}.member-bd .avatar-wrapper{display:block;margin:0 auto;width:74px;height:56px}.member-bd .member-home{display:inline-block;border:3px solid #fff;-webkit-border-radius:50%;-webkit-background-clip:padding-box;-moz-border-radius:50%;-moz-background-clip:padding;border-radius:50%;background-clip:padding-box;width:50px;height:50px;line-height:50px;overflow:hidden}.member-bd .member-avatar{width:50px;height:50px}.member-ft{height:40px;overflow:hidden;margin-top:2px;padding-left:15px}.member-logout{height:25px;margin-top:8px}.member-logout a{float:left;line-height:25px;width:75px;margin-right:7px;text-align:center;color:#FFF;border-radius:1px;background-image:-webkit-linear-gradient(left,#ff5000 0,#ff6f06 100%);background-image:-o-linear-gradient(left,#ff5000 0,#ff6f06 100%);background-image:linear-gradient(to right,#ff5000 0,#ff6f06 100%);background-repeat:repeat-x;filter:progid:DXImageTransform.Microsoft.gradient(startColorstr='#ffff5000', endColorstr='#ffff6f06', GradientType=1);-webkit-border-radius:4px;-webkit-background-clip:padding-box;-moz-border-radius:4px;-moz-background-clip:padding;border-radius:4px;background-clip:padding-box;font-size:14px;font-weight:700}.member-logout a:hover{color:#fff}.member-logout .btn-login{width:92px}.member-logout .btn-login i{margin-right:5px;font-size:14px;position:relative;top:-2px}.member-login{display:none}.member-login a{float:left;margin-left:-1px;width:85px;text-align:center;border-left:1px solid #FFF}.member-login a strong{display:block;font-size:14px;color:#F40}.member-login .member-column-4 a{width:66px;_width:64px}.member-login .member-column-4 a strong{height:18px}.member-tjb{height:17px;line-height:17px}.member-tjb .h{display:inline-block;-webkit-border-radius:9px;-webkit-background-clip:padding-box;-moz-border-radius:9px;-moz-background-clip:padding;border-radius:9px;background-clip:padding-box;background:#ffe4db;padding:0 10px 0 20px;position:relative;border:none}.member-tjb .club{margin-left:2px}.member-tjb .tbh-icon{position:absolute;top:0;display:block;left:0;height:16px;width:16px;vertical-align:middle}.member-tjb-login .tb-icon{position:absolute;height:16px;width:16px;top:0;left:0;background-position:-4px -1px}.member-tjb-login .club .tb-icon{background-position:-93px -1px}.member-tjb-login a{position:relative;display:inline-block;padding:0 6px;border:1px solid #fff0e8;background:#fff0e8;-webkit-border-radius:2px;-moz-border-radius:2px;border-radius:2px}.member-tjb-login a:hover{transition:all .2s ease;background:#ffe4d5;border-color:#ffcfb6}.hide{display:none}.tbh-notice{height:98px;padding-top:10px;width:290px}.tbh-notice .notice-hd{position:relative;height:24px;margin-top:4px;overflow:hidden;margin-right:-2px;padding:0 8px}.tbh-notice .notice-hd li{float:left;*display:inline;line-height:20px;width:32px;text-align:center;margin:0 11px}.tbh-notice .notice-hd .selected{padding:0;font-weight:700;border-bottom:2px solid #F40}.tbh-notice .notice-bd .mod{margin:0 12px;height:50px;overflow:hidden;padding-top:9px;padding-bottom:6px}.tbh-notice .notice-bd .mod li{float:left;*display:inline;line-height:25px;height:25px;width:130px;overflow:hidden}.tbh-notice .first li:first-child{width:260px}.tbh-headline{width:890px;height:100px}.headline{position:relative;padding:14px 14px 12px 20px;margin-top:10px;background:#fff}.headline .more:hover{color:#ff5000}.headline h3{width:180px;height:73px;float:left}.headline h3 p{margin-top:42px}.headline .more{position:absolute;top:14px;right:16px;font-size:12px;line-height:20px;font-weight:400;z-index:1;background:#fff;color:#999;width:40px;text-align:right}.headline .more .tb-ifont{font-size:12px;float:right;width:12px;text-align:center;position:relative;top:1px}.headline-bd{overflow:hidden;position:relative;height:73px;margin-left:180px}.headline-bd a{display:block;height:73px}.headline-bd a:hover h4{color:#ff5000}.headline-bd .mod{height:73px;width:676px}.headline-bd .mod img{float:left;height:73px;width:130px}.headline-bd .mod h4{margin-top:2px;margin-left:144px;color:#333;height:28px;overflow:hidden;display:block;line-height:28px;font-size:16px;font-weight:500}.headline-bd .mod p{margin-left:144px;color:#999;height:36px;overflow:hidden;line-height:18px;font-size:14px}.headline-bd .mod:hover img{opacity:.8;filter:alpha(opacity=80)}.headline-bd .mod:hover em{color:#F40}.decorations-item{position:absolute;text-indent:-9999px}.decorations-box{background:#fff}.decorate{position:absolute}.have-fun,.tbh-discover-goods,.tbh-helper,.tbh-live{position:relative}.fixed-bottom{position:fixed;bottom:0}div.tbh-tanx{background-color:transparent;text-align:center}.J_TanxAd{display:none}.tbh-search{background-color:transparent}.tbh-search .search-panel{position:relative}.search-wrap{position:relative}.search-bd{z-index:30;position:relative;transform:translateZ(0)}.search-bd .search-triggers{height:22px;margin-left:17px}.search-bd .search-triggers li{color:#F40;text-align:center;float:left;width:36px;height:22px;line-height:22px;margin-right:4px;cursor:pointer}.search-bd .search-triggers li:hover{background-color:#FFEEE5;color:#FF5400}.search-bd .search-triggers .selected{color:#FFF;font-weight:700;background-image:-webkit-linear-gradient(left,#ff9000 0,#ff5000 100%);background-image:-o-linear-gradient(left,#ff9000 0,#ff5000 100%);background-image:linear-gradient(to right,#ff9000 0,#ff5000 100%);background-repeat:repeat-x;filter:progid:DXImageTransform.Microsoft.gradient(startColorstr='#ffff9000', endColorstr='#ffff5000', GradientType=1);border-top-right-radius:6px;border-top-left-radius:6px}.search-bd .search-triggers .selected:hover{color:#FFF;background-color:#FF5400;*background-color:#FF5400!important}.search-bd .search-panel .search-button{position:absolute;right:0;top:0;z-index:100;width:74px;height:40px;overflow:hidden;text-align:center;border-top-right-radius:20px;border-bottom-right-radius:20px}.search-bd .search-panel .search-button .btn-search{font-size:18px;font-weight:700;color:#FFF;background-color:#FF4200;cursor:pointer;height:100%;border:none;width:100%}.search-bd .search-panel .search-common-panel{margin-right:74px;border:2px solid #ff5000;border-top-left-radius:20px;border-bottom-left-radius:20px;border-right:none;overflow:hidden;height:36px}.search-bd .search-panel .search-common-panel:before{content:'';position:absolute;left:0;top:0;height:36px;border:2px solid #ff5000;border-top-left-radius:20px;border-bottom-left-radius:20px;width:20px;border-right:none}.search-bd .search-panel .search-common-panel label{z-index:2;position:absolute;top:11px;left:34px;color:#9C9C9C;cursor:text;touch-action:none;-ms-touch-action:none;pointer-events:none;-ms-pointer-events:none;-webkit-user-select:none}.search-bd .search-panel .search-common-panel #q{padding:6px 0;text-indent:10px;height:24px;line-height:24px;width:472px;border:none;outline:0;background:#FFF;*margin-top:-2px}.search-bd .search-panel .search-common-panel i{z-index:2;font-size:16px;position:absolute;top:9px;left:14px;color:#666}.search-bd .search-panel .search-common-panel .search-combobox-input-wrap{height:36px;overflow:hidden;width:472px}.search-ft{position:relative;float:left\\9;padding:5px 41px 0 0;height:20px;overflow:hidden;_width:600px}.search-ft .search-hots{position:relative;white-space:nowrap;zoom:1}.search-ft .search-hots a{float:left;margin-right:8px;color:#666}.search-ft .search-hots a:hover{color:#F40}.search-ft .search-hots .more{color:#666;position:absolute;top:0;right:-42px;margin-right:0;background:#FFF}.search-ft .search-hots .more i{font-size:12px;position:relative}.wrap-fixed{padding-top:164px}.wrap-fixed .top{z-index:1001;position:fixed;_position:absolute;top:0;left:0;width:100%;height:40px;padding:7px 0;background:#FFF;overflow:visible;-webkit-box-shadow:rgba(0,0,0,.1),0,1px,5px;-moz-box-shadow:rgba(0,0,0,.1),0,1px,5px;box-shadow:rgba(0,0,0,.1),0,1px,5px}.wrap-fixed .head-wrap{margin:0 auto;width:1190px}.wrap-fixed .head-wrap .qr{display:none}.wrap-fixed .logo{height:33px;background-position:0 -80px;width:100px;margin-top:0}.wrap-fixed .qr{display:none}.wrap-fixed .search-hd{display:none}.wrap-fixed .search-bd .search-triggers{border-top-left-radius:20px;border-bottom-left-radius:20px;margin-left:0;height:40px;overflow:hidden;background:#f4f4f4;width:74px;position:absolute;left:0;top:0;z-index:200}.wrap-fixed .search-bd .search-triggers.triggers-hover:after{position:absolute;bottom:43px;left:7px;content:'';width:60px;height:1px;background:#ffa4a4}.wrap-fixed .search-bd .search-triggers:before{position:absolute;top:0;left:0;width:72px;content:'';height:36px;border:2px solid #ff5000;border-right:none;border-top-left-radius:20px;border-bottom-left-radius:20px}.wrap-fixed .search-bd .search-triggers li{line-height:38px;height:38px;float:none;color:#3C3C3C;background-color:#f4f4f4!important;width:74px}.wrap-fixed .search-bd .search-triggers li:hover{color:#ff5000;font-weight:700}.wrap-fixed .search-bd .search-triggers .selected{color:#3C3C3C;font-weight:400;background-image:none;filter:none;border-top-right-radius:0}.wrap-fixed .search-bd .search-triggers .selected:hover{color:#3C3C3C;font-weight:400}.wrap-fixed .search-bd .search-tab-icon{position:absolute;top:14px;right:8px;padding:4px 3px 3px;width:6px;height:5px}.wrap-fixed .search-bd .search-tab-icon i{position:relative;position:absolute;width:6px;height:3px;-webkit-transition:.2s ease-in;-webkit-transform-origin:50% 60%;-moz-transition:.2s ease-in;-moz-transform-origin:50% 60%}.wrap-fixed .search-bd .search-tab-icon i em,.wrap-fixed .search-bd .search-tab-icon i span{position:absolute;top:0;left:0;width:0;height:0;font-size:0;line-height:0;border-color:transparent;border-style:solid}.wrap-fixed .search-bd .search-tab-icon i em,.wrap-fixed .search-bd .search-tab-icon i span{border-width:3px 3px 0}.wrap-fixed .search-bd .search-tab-icon i em{top:1px;border-top-color:#666}.wrap-fixed .search-bd .search-tab-icon i span{border-top-color:#f6f6f6}.wrap-fixed .search-bd .triggers-hover{height:auto;border-bottom-left-radius:6px;border-bottom-right-radius:6px}.wrap-fixed .search-bd .triggers-hover i{margin-left:0!important}.wrap-fixed .search-bd .search-panel .search-common-panel{height:36px}.wrap-fixed .search-bd .search-panel .search-common-panel label{top:12px;left:104px}.wrap-fixed .search-bd .search-panel .search-common-panel input{padding:5px 10px 5px 0;height:19px;line-height:19px}.wrap-fixed .search-bd .search-panel .search-common-panel i{position:absolute;left:84px}.wrap-fixed .search-bd .search-panel .search-common-panel .search-combobox-input-wrap{margin-left:73px;width:540px}.wrap-fixed .search-ft{display:none}.wrap-fixed .imgseach-pailitao-theme-queue{top:35px;z-index:700}.search-hots-lines{height:46px;position:relative;overflow:hidden}.search-hots-fline,.search-hots-sline{overflow:hidden;height:18px;line-height:18px;margin-bottom:5px}div.search-imgsearch-panel{position:absolute;top:2px;right:90px;display:none;height:36px}div.search-imgsearch-panel .tb-ifont{font-size:24px;color:#999}#J_IMGSeachUploadBtn{opacity:.01;filter:alpha(opacity=1)}div.imgseach-pailitao-theme-queue{top:65px;z-index:200;left:1px;width:100%!important}.tbh-banner{position:relative}.topBanner{overflow:hidden}.topBanner .banner-wrap{width:1190px;margin:0 auto}.topBanner .banner-wrap img{width:100%;display:block;margin:0 auto;position:relative;z-index:1}.logo{width:190px;height:80px;float:left;margin-top:8px}.logo h1{position:relative}.logo h1 .logo-bd{display:block;margin-left:22px;padding-top:58px;width:142px;height:0;overflow:hidden;text-indent:-9999px;background:url(//img.alicdn.com/tfs/TB1_uT8a5ERMeJjSspiXXbZLFXa-143-59.png) 0 0 no-repeat}.logo h1 img{display:block;width:230px;height:110px}.logo h2{display:none}.logo h2 a{display:block;padding-top:33px;width:80px;height:0;text-indent:-9999px;overflow:hidden;background:url(//img.alicdn.com/tfs/TB1TGfMcwMPMeJjy1XbXXcwxVXa-80-33.png) 0 0 no-repeat}.logo .logo-hover{position:absolute;z-index:30;top:-51px}.logo .logo-hover img{position:relative}.wrap-fixed .logo h1{display:none}.wrap-fixed .logo h2{display:block}@media only screen and (-webkit-min-device-pixel-ratio:1.5),only screen and (min--moz-device-pixel-ratio:1.5),only screen and (min-device-pixel-ratio:1.5){.logo h1 .logo-bd{background-image:url(//img.alicdn.com/tfs/TB1UDHOcwoQMeJjy0FoXXcShVXa-286-118.png);background-size:142px 58px}.logo h2 a{background-image:url(//img.alicdn.com/tfs/TB1WpjMcwMPMeJjy1XbXXcwxVXa-160-66.png);background-size:80px 33px}}.tbh-nav .nav{height:30px;line-height:30px;position:relative;color:#fff}.tbh-nav h2{float:left;width:190px;text-align:center;font-size:16px;background:#ff5000}.tbh-nav ul{position:relative;z-index:5}.tbh-nav li{float:left;*display:inline}.tbh-nav li a{color:inherit}.tbh-nav .nav-bd li,.tbh-nav .nav-hd li{position:relative}.tbh-nav .nav-bd a,.tbh-nav .nav-hd a{float:left;*display:inline;padding:0 5px;font-weight:700}.tbh-nav .nav-bd li.hover,.tbh-nav .nav-bd li:hover,.tbh-nav .nav-hd li.hover,.tbh-nav .nav-hd li:hover{border-radius:13px}.tbh-nav .nav-bd li.hover:before,.tbh-nav .nav-bd li:hover:before,.tbh-nav .nav-hd li.hover:before,.tbh-nav .nav-hd li:hover:before{content:'\\E606';font-family:iconfont;color:#ff5000;top:-19px;position:absolute;left:50%;font-size:12px;margin-left:-15px}.tbh-nav .nav-bd li.hover a,.tbh-nav .nav-bd li:hover a,.tbh-nav .nav-hd li.hover a,.tbh-nav .nav-hd li:hover a{color:#FFF}.tbh-nav .nav-hd{float:left;*display:inline;font-size:16px;font-weight:700}.tbh-nav .nav-hd li{margin:0 3px;text-align:center;padding:0 4px;cursor:pointer}.tbh-nav .nav-bd{float:left;*display:inline;font-size:14px}.tbh-nav .nav-bd li{margin-left:7px}.nav11 .nav-bd li{margin-left:0}.nav11 .countdown-wrapper:after,.nav11 .countdown-wrapper:before,.nav11 h2:after,.nav11 h2:before{position:absolute;content:'';width:4px;height:30px;background:#e24200;-webkit-transform:skewY(-45deg);-moz-transform:skewY(-45deg);-ms-transform:skewY(-45deg);-o-transform:skewY(-45deg);transform:skewY(-45deg);top:2px;left:-4px;z-index:2}.nav11 .countdown-wrapper:after,.nav11 h2:after{-webkit-transform:skewY(45deg);-moz-transform:skewY(45deg);-ms-transform:skewY(45deg);-o-transform:skewY(45deg);transform:skewY(45deg);right:-4px;left:auto;top:3px}.nav11 .countdown-wrapper .bar,.nav11 h2 .bar{position:absolute;top:30px;width:198px;height:5px;left:-4px;background:#f4f4f4;margin:0;padding:0;float:none}.nav11 .countdown-wrapper .bar:hover:before,.nav11 h2 .bar:hover:before{display:none}.nav11 .countdown-wrapper .lave,.nav11 h2 .lave{position:absolute;height:30px;width:31px;background:#ff5000;right:-35px;top:5px}.nav11 .countdown-wrapper .pipe,.nav11 h2 .pipe{display:inline}.nav11 .pipe{display:none}.nav11 .nav-bd{margin-left:4px}.nav11 .nav-bd.last{margin-left:0}.nav11 h2{position:relative;margin-left:4px;margin-top:-5px;width:182px;z-index:31;background:url(https://img.alicdn.com/tfs/TB1TfuYeb_I8KJjy1XaXXbsxpXa-182-30.png) 0 0 no-repeat #ff1152}.nav11 h2 .bar{width:188px;height:6px;left:-3px;background:#fff}.nav11 .nav-hd{margin-left:4px}.nav11 .countdown-wrapper{position:absolute;top:-5px;right:50px;text-align:center;width:181px;font-size:14px;background:url(https://img.alicdn.com/tfs/TB1U2uYeb_I8KJjy1XaXXbsxpXa-190-31.png) 0 0 no-repeat #ff1152}.nav11 .countdown-wrapper .countdown{margin-left:5px}.nav11 .countdown-wrapper .bg{padding:0 3px;font-size:15px;font-weight:700;line-height:20px;text-align:center;background:#6f161e;-webkit-border-radius:2px;-moz-border-radius:2px;border-radius:2px;font-family:Arial,microsoft yahei;-webkit-border-radius:3px;-webkit-background-clip:padding-box;-moz-border-radius:3px;-moz-background-clip:padding;border-radius:3px;background-clip:padding-box}.nav11 .countdown-wrapper .bg:nth-child(3),.nav11 .countdown-wrapper .bg:nth-child(5){margin-left:2px}.nav11 .countdown-wrapper .bg.unit{margin-right:2px;margin-left:2px}.tbh-tipoff a{position:relative;padding-left:82px;color:#f40;display:block;height:26px;line-height:26px;background:#ffe4dd;font-size:12px}.tbh-tipoff span{position:absolute;right:52px;top:9px;line-height:0;width:0;height:0;border-style:solid;margin-left:32px;border-width:5px 0 5px 7px;border-color:transparent transparent transparent #f40}.superbanner-inner{overflow:hidden;height:99px;width:1190px;margin:0 auto;min-width:1190px;position:relative}.tbh-superbanner{background-image:-webkit-linear-gradient(left,#ff5000 0,#ff0031 100%);background-image:-o-linear-gradient(left,#ff5000 0,#ff0031 100%);background-image:linear-gradient(to right,#ff5000 0,#ff0031 100%);background-repeat:repeat-x;filter:progid:DXImageTransform.Microsoft.gradient(startColorstr='#ffff5000', endColorstr='#ffff0031', GradientType=1)}.superbanner-inner .taobao1212{height:99px;width:119px}.superbanner-inner .taobao1212 img{width:auto;display:block}.superbanner-inner .item{background:url(//img.alicdn.com/tfs/TB11gmkmBfH8KJjy1XbXXbLdXXa-188-34.png) 0 0 no-repeat;background-size:192px 78px}.superbanner-inner .item-1{background-image:url(//img.alicdn.com/tfs/TB1ojy7mC_I8KJjy0FoXXaFnVXa-190-76.png)}.superbanner-inner .item-2{background-image:url(//img.alicdn.com/tfs/TB1fHjHmv6H8KJjy0FjXXaXepXa-190-76.png)}.superbanner-inner .item-3{background-image:url(//img.alicdn.com/tfs/TB1o6y7mC_I8KJjy0FoXXaFnVXa-190-76.png)}.superbanner-inner .item-4{background-image:url(//img.alicdn.com/tfs/TB1eYjHmv6H8KJjy0FjXXaXepXa-190-76.png)}.superbanner-inner .item-5{background-image:url(//img.alicdn.com/tfs/TB1mwUtmsLJ8KJjy0FnXXcFDpXa-190-76.png)}.superbanner-inner .list{margin-top:11px;margin-left:4px}.superbanner-inner .list a{width:190px;margin-left:7px;padding-left:10px;height:72px;padding-top:6px;position:relative}.superbanner-inner .list .desc-wrapper{margin-left:13px;margin-top:10px}.superbanner-inner .list .subtitle,.superbanner-inner .list .title{color:#fff;width:90px;overflow:hidden}.superbanner-inner .list .title{line-height:28px;height:28px;font-size:20px}.superbanner-inner .list .subtitle{line-height:16px;height:16px;font-size:14px}.superbanner-inner .list .img-outer{position:absolute;width:60px;height:60px;top:11px;right:23px;overflow:hidden;-webkit-border-radius:22px;-webkit-background-clip:padding-box;-moz-border-radius:22px;-moz-background-clip:padding;border-radius:22px;background-clip:padding-box;background:#fff}.superbanner-inner .list .img-outer img{display:block;margin-top:4px;margin-left:4px;width:52px;height:52px}.superbanner-inner .taobao-list desc-wrapper{margin-left:21px}.superbanner-inner h3{width:54px;height:16px;line-height:16px;text-align:center;color:#fff;-webkit-border-radius:7px;-webkit-background-clip:padding-box;-moz-border-radius:7px;-moz-background-clip:padding;border-radius:7px;background-clip:padding-box;background-image:-webkit-linear-gradient(left,#fad961 0,#f76b1c 100%);background-image:-o-linear-gradient(left,#fad961 0,#f76b1c 100%);background-image:linear-gradient(to right,#fad961 0,#f76b1c 100%);background-repeat:repeat-x;filter:progid:DXImageTransform.Microsoft.gradient(startColorstr='#fffad961', endColorstr='#fff76b1c', GradientType=1);margin-top:4px}.superbanner-inner .taobao11{width:47px;height:56px;margin-left:12px;padding:12px 13px 22px 13px}.superbanner-inner .taobao11 h3{margin-left:-3px}.superbanner-inner .taobao11 img{width:auto;height:47px;display:block}.superbanner-inner a.taobao-item{background:url(//img.alicdn.com/tfs/TB1kNy.cPihSKJjy0FeXXbJtpXa-434-194.png_220x220) 0 4px no-repeat;height:86px;width:214px}.superbanner-inner a.taobao-item .subtitle,.superbanner-inner a.taobao-item .title{color:#ff5000}.superbanner-inner a.taobao-item img{position:absolute;width:64px;height:64px;top:17px;right:24px}\n",
      "  </style>\n",
      "<base target=\"_blank\">\n",
      "<style>div.tbh-fixedtool .ft1190{margin-right:-633px}div.tbh-fixedtool .ft990{margin-right:-533px}div.tbh-fixedtool.left .ft1190{margin-left:-633px;margin-right:auto}div.tbh-fixedtool.left .ft990{margin-left:-533px;margin-right:auto}.fixedtool{display:none;position:absolute;z-index:4;top:837px;right:50%;width:50px;text-align:center;margin-right:-655px}.fixedtool .wangwang.tb-ifont{position:absolute;height:36px;width:50px;line-height:36px;text-align:center;font-size:32px;color:#ff7f13;top:-28px;right:0}.fixedtool.left{left:50%;right:auto;margin-right:auto;margin-left:-655px;top:auto;bottom:50px}.fixedtool a{display:block;height:44px;position:relative;text-decoration:none;padding:6px 8px 0;font-size:14px;line-height:40px;background:#fff}.fixedtool a:after{content:'';border-bottom:1px solid #efefef;width:34px;position:absolute;left:8px;bottom:-1px;z-index:1}.fixedtool a:last-child:after{border-bottom:none}.fixedtool a.fixedtool-1{-webkit-border-top-left-radius:8px;-moz-border-radius-topleft:8px;border-top-left-radius:8px;-webkit-border-top-right-radius:8px;-webkit-background-clip:padding-box;-moz-border-radius-topright:8px;-moz-background-clip:padding;border-top-right-radius:8px;background-clip:padding-box}.fixedtool a.fixedtool-9{-webkit-border-bottom-left-radius:8px;-moz-border-radius-bottomleft:8px;border-bottom-left-radius:8px;-webkit-border-bottom-right-radius:8px;-webkit-background-clip:padding-box;-moz-border-radius-bottomright:8px;-moz-background-clip:padding;border-bottom-right-radius:8px;background-clip:padding-box}.fixedtool a.fixedtool-8 i{font-size:12px}.fixedtool a i{font-style:normal;font-size:14px;display:block;line-height:40px}.fixedtool a.on,.fixedtool a:hover{z-index:2;text-decoration:none;color:#FFF;background-repeat:no-repeat;font-weight:700;background-repeat:repeat-x;background-image:-webkit-linear-gradient(135deg,#ff971b,#ff5000);background-image:-o-linear-gradient(135deg,#ff971b,#ff5000);background-image:linear-gradient(135deg,#ff971b,#ff5000);filter:progid:DXImageTransform.Microsoft.gradient(startColorstr='#ffff5000', endColorstr='#ffff6f06', GradientType=1)}.fixedtool a.on .tb-ifont,.fixedtool a:hover .tb-ifont{color:#FFF}.fixedtool a:focus{outline:0}.fixedtool a em{position:absolute;right:-30px;width:40px;height:40px;text-indent:-9999px;z-index:2;top:5px}.fixedtool .fixedtool-7 .tb-ifont{color:#999;position:relative;line-height:20px}a.fixedtool-1,a.fixedtool-3,a.fixedtool-4,a.fixedtool-5,a.fixedtool-6,a.fixedtool-7,a.fixedtool-9{line-height:17px;font-size:13px}a.fixedtool-7,a.fixedtool-8,a.fixedtool-9{font-size:12px}a.fixedtool-1{color:#F40;padding-top:10px;height:40px}a.fixedtool-1.on,a.fixedtool-1:hover{background-color:#F40}.fixedtool-3{color:#f05}.fixedtool-4{color:#8d7afb}.fixedtool-5{color:#A8C001}.fixedtool-2{color:#a2745b}a.fixedtool-6{color:#F40}.fixedtool-8 strong i,.fixedtool-9 strong i{font-size:12px}</style><script async=\"\" src=\"https://log.mmstat.com/eg.js\"></script></head>\n",
      "<body data-spm=\"2017\" class=\"taobao s1270 s1365 s1440\"><iframe style=\"width: 0px; height: 0px; display: none;\" src=\"https://phs.tanx.com/acbeacon4.html#mm_12852562_1778064_48868196\"></iframe><script id=\"tb-beacon-aplus\" src=\"//g.alicdn.com/alilog/mlog/aplus_v2.js\" exparams=\"category=&amp;userid=&amp;aplus&amp;yunid=&amp;&amp;asid=AQAAAAAx/3dazs7OGwAAAAAQI7l1jr6RsA==&amp;sidx=ZVAq3ofyDznTeQxeohxJ4brDZqtxn2QIQhZNcw2lfKGwh+nCrUbuRieU2vNS7/CCA1OChsyMFClTtvIAaZJ+X3OSxXikiFRoMtxPMXzprLSQBLTvdZNdnr0AU0ruAEwYxhIYUd4mDFaokQ7jPfPz6Cw5D63yziDK6/K+7GaJ5Os=\"></script><script>\n",
      "with(document)with(body)with(insertBefore(createElement(\"script\"),firstChild))setAttribute(\"exparams\",\"category=&userid=&aplus&yunid=&&asid=AQAAAAAx/3dazs7OGwAAAAAQI7l1jr6RsA==&sidx=ZVAq3ofyDznTeQxeohxJ4brDZqtxn2QIQhZNcw2lfKGwh+nCrUbuRieU2vNS7/CCA1OChsyMFClTtvIAaZJ+X3OSxXikiFRoMtxPMXzprLSQBLTvdZNdnr0AU0ruAEwYxhIYUd4mDFaokQ7jPfPz6Cw5D63yziDK6/K+7GaJ5Os=\",id=\"tb-beacon-aplus\",src=(location>\"https\"?\"//g\":\"//g\")+\".alicdn.com/alilog/mlog/aplus_v2.js\")\n",
      "</script>\n",
      "<div class=\"cover J_Cover\">\n",
      "<div class=\"site-nav site-nav-status-logout\" id=\"J_SiteNav\" data-component-config=\"{ &quot;cart&quot;: &quot;0.0.6&quot;,&quot;message&quot;: &quot;3.4.6&quot;,&quot;umpp&quot;: &quot;1.5.4&quot;,&quot;mini-login&quot;: &quot;6.3.8&quot;,&quot;tb-ie-updater&quot;: &quot;0.0.4&quot;,&quot;tbar&quot;: &quot;2.1.0&quot;,&quot;tb-footer&quot;: &quot;1.1.6&quot;,&quot;sidebar&quot;: &quot;1.0.10&quot; }\" data-tbar=\"{ &quot;show&quot;:true, &quot;miniCart&quot;: &quot;2.12.2&quot;,&quot;paramsBlackList&quot;: &quot;_wt,seeyouagain1722&quot;,&quot;my_activity&quot;: &quot;https://market.m.taobao.com/apps/abs/5/38/my12?psId=58386&amp;pcPsId=58388&quot;, &quot;venueUrl&quot;: &quot;https://1212.taobao.com?wh_weex=true&amp;data_prefetch=true&amp;wx_navbar_transparent=true&quot;, &quot;helpUrl&quot;: &quot;https://consumerservice.taobao.com/online-help&quot;, &quot;validTime&quot;:{&quot;startTime&quot;: 1512057599, &quot;endTime&quot;: 1513094400}, &quot;style&quot;: {&quot;name&quot;: &quot;171212&quot;, &quot;path&quot;: &quot;kg/sidebar-style-171212/0.0.5/&quot; }, &quot;page&quot;:[],&quot;blackList&quot;:[],&quot;navDataId&quot;:{&quot;tceSid&quot;:1182567,&quot;tceVid&quot;:0},&quot;pluginVersion&quot;:{ &quot;cart&quot;:&quot;0.2.0&quot;,&quot;history&quot;:&quot;0.2.0&quot;,&quot;redpaper&quot;:&quot;0.0.8&quot;,&quot;gotop&quot;:&quot;0.2.5&quot;,&quot;help&quot;:&quot;0.2.1&quot;,&quot;ww&quot;:&quot;0.0.3&quot;,&quot;pagenav&quot;:&quot;0.0.27&quot;,&quot;myasset&quot;:&quot;0.0.9&quot;,&quot;my1212&quot;:&quot;0.0.1&quot;,&quot;my1111&quot;:&quot;0.2.2&quot;}}\">\n",
      "<div class=\"site-nav-bd\" id=\"J_SiteNavBd\">\n",
      "<ul class=\"site-nav-bd-l\" id=\"J_SiteNavBdL\" data-spm-ab=\"1\"><li class=\"site-nav-menu site-nav-switch site-nav-multi-menu J_MultiMenu\" data-name=\"region\">\n",
      "      <div class=\"site-nav-menu-hd\">\n",
      "        <span class=\"site-nav-region\">中国大陆</span>\n",
      "        <span class=\"site-nav-arrow\"><span class=\"site-nav-icon\"></span></span>\n",
      "      </div>\n",
      "      <div class=\"site-nav-menu-bd site-nav-menu-list\">\n",
      "        <ul id=\"J_SiteNavRegionList\" class=\"site-nav-region-list site-nav-menu-bd-panel menu-bd-panel\" role=\"listbox\" aria-expanded=\"true\">\n",
      "        </ul>\n",
      "      </div>\n",
      "    </li>\n",
      "<li class=\"site-nav-menu site-nav-login\" id=\"J_SiteNavLogin\" data-name=\"login\" data-spm=\"754894437\"><div class=\"site-nav-menu-hd\">  <div class=\"site-nav-sign\">    <a href=\"https://login.taobao.com/member/login.jhtml?f=top&amp;redirectURL=https%3A%2F%2Fwww.taobao.com%2F\" target=\"_top\" class=\"h\">亲，请登录</a>    <a href=\"//reg.taobao.com/member/new_register.jhtml?from=tbtop&amp;ex_info=&amp;ex_sign=\" target=\"_top\">免费注册</a>  </div>  <div class=\"site-nav-user\">    <a href=\"//i.taobao.com/my_taobao.htm?ad_id=&amp;am_id=&amp;cm_id=&amp;pm_id=1501036000a02c5c3739\" target=\"_top\" class=\"site-nav-login-info-nick \"></a>    <span class=\"site-nav-arrow\"><span class=\"site-nav-icon\"></span></span>  </div></div><div class=\"site-nav-menu-bd\" id=\"J_SiteNavLoginPanel\"></div></li>\n",
      "<li id=\"J_Tmsg\" class=\"site-nav-tmsg tmsg site-nav-multi-menu J_MultiMenu\" data-name=\"tmsg\" data-spm=\"1997563201\">\n",
      "<div class=\"J_Menu site-nav-menu\">\n",
      "<div class=\"site-nav-menu-hd J_Tmsg_Basic tmsg_basic\">\n",
      "<span class=\"J_Tmsg_Logo tmsg_logo_area\" style=\"zoom:1;\">\n",
      "<span class=\"J_Tmsg_Logo_Loading tmsg_logo_loading\"></span>\n",
      "<span class=\"J_Tmsg_Logo_Icon tmsg_logo_icon site-nav-icon\" style=\"display:none\"></span>\n",
      "<span class=\"J_Tmsg_Logo_Text tmsg_logo_text\">消息</span>\n",
      "<span class=\"J_Tmsg_Logo_Unread tmsg_logo_unread\"></span>\n",
      "</span>\n",
      "<span class=\"site-nav-arrow\"><span class=\"site-nav-icon\"></span></span>\n",
      "</div>\n",
      "<div class=\"site-nav-menu-bd\">\n",
      "<div class=\"J_Tmsg_Panel_Apps tmsg_panel_apps\"></div>\n",
      "</div>\n",
      "</div>\n",
      "<div class=\"J_Tmsg_Panels tmsg_panels\">\n",
      "<div class=\"J_Tmsg_Panel_Detail tmsg_panel_detail\"></div>\n",
      "<div class=\"J_Tmsg_Panel_history tmsg_panel_history\"></div>\n",
      "<div class=\"J_Tmsg_Panel_Strong tmsg_panel_strong\"></div>\n",
      "<div class=\"J_Tmsg_Panel_Setting tmsg_panel_setting\"></div>\n",
      "</div>\n",
      "</li>\n",
      "<li class=\"site-nav-menu site-nav-mobile\" id=\"J_SiteNavMobile\" data-name=\"mobile\" data-spm=\"1997563273\">\n",
      "<div class=\"site-nav-menu-hd\">\n",
      "<a href=\"//www.taobao.com/m\" target=\"_top\">\n",
      "<span>手机逛淘宝</span>\n",
      "</a>\n",
      "</div>\n",
      "</li>\n",
      "<li class=\"site-nav-menu site-nav-weekend site-nav-multi-menu J_MultiMenu\" id=\"J_SiteNavWeekend\" data-name=\"weekend\" data-spm=\"201711111212\">\n",
      "</li>\n",
      "</ul>\n",
      "<ul class=\"site-nav-bd-r\" id=\"J_SiteNavBdR\" data-spm-ab=\"2\">\n",
      "<li class=\"site-nav-menu site-nav-home\" id=\"J_SiteNavHome\" data-name=\"home\" data-spm=\"1581860521\">\n",
      "<div class=\"site-nav-menu-hd\">\n",
      "<a href=\"//www.taobao.com/\" target=\"_top\">\n",
      "<span>淘宝网首页</span>\n",
      "</a>\n",
      "</div>\n",
      "</li>\n",
      "<li class=\"site-nav-menu site-nav-mytaobao site-nav-multi-menu J_MultiMenu\" id=\"J_SiteNavMytaobao\" data-name=\"mytaobao\" data-spm=\"1997525045\">\n",
      "<div class=\"site-nav-menu-hd\">\n",
      "<a href=\"//i.taobao.com/my_taobao.htm\" target=\"_top\">\n",
      "<span>我的淘宝</span>\n",
      "</a>\n",
      "<span class=\"site-nav-arrow\"><span class=\"site-nav-icon\"></span></span>\n",
      "</div>\n",
      "<div class=\"site-nav-menu-bd site-nav-menu-list\">\n",
      "<div class=\"site-nav-menu-bd-panel menu-bd-panel\">\n",
      "<a href=\"//trade.taobao.com/trade/itemlist/list_bought_items.htm\" target=\"_top\">已买到的宝贝</a>\n",
      "<a href=\"//www.taobao.com/markets/footmark/tbfoot\" target=\"_top\">我的足迹</a>\n",
      "</div>\n",
      "</div>\n",
      "</li>\n",
      "<li class=\"site-nav-menu site-nav-cart site-nav-menu-empty site-nav-multi-menu J_MultiMenu mini-cart menu\" id=\"J_MiniCart\" data-name=\"cart\" data-spm=\"1997525049\">\n",
      "<div class=\"site-nav-menu-hd\">\n",
      "<a href=\"//cart.taobao.com/cart.htm?from=mini&amp;ad_id=&amp;am_id=&amp;cm_id=&amp;pm_id=1501036000a02c5c3739\" target=\"_top\" id=\"mc-menu-hd\">\n",
      "<span class=\"site-nav-icon site-nav-icon-highlight\"></span>\n",
      "<span>购物车</span>\n",
      "<strong class=\"h\" id=\"J_MiniCartNum\">0</strong>\n",
      "</a>\n",
      "<span class=\"site-nav-arrow\"><span class=\"site-nav-icon\"></span></span>\n",
      "</div>\n",
      "<div class=\"site-nav-menu-bd\">\n",
      "<div class=\"site-nav-menu-bd-panel menu-bd-panel\">\n",
      "</div>\n",
      "</div>\n",
      "</li>\n",
      "<li class=\"site-nav-menu site-nav-favor site-nav-multi-menu J_MultiMenu\" id=\"J_SiteNavFavor\" data-name=\"favor\" data-spm=\"1997525053\">\n",
      "<div class=\"site-nav-menu-hd\">\n",
      "<a href=\"//shoucang.taobao.com/item_collect.htm\" target=\"_top\">\n",
      "<span class=\"site-nav-icon\"></span>\n",
      "<span>收藏夹</span>\n",
      "</a>\n",
      "<span class=\"site-nav-arrow\"><span class=\"site-nav-icon\"></span></span>\n",
      "</div>\n",
      "<div class=\"site-nav-menu-bd site-nav-menu-list\">\n",
      "<div class=\"site-nav-menu-bd-panel menu-bd-panel\">\n",
      "<a href=\"//shoucang.taobao.com/item_collect.htm\" target=\"_top\">收藏的宝贝</a>\n",
      "<a href=\"//shoucang.taobao.com/shop_collect_list.htm\" target=\"_top\">收藏的店铺</a>\n",
      "</div>\n",
      "</div>\n",
      "</li>\n",
      "<li class=\"site-nav-menu site-nav-catalog\" id=\"J_SiteNavCatalog\" data-name=\"catalog\" data-spm=\"1997563209\">\n",
      "<div class=\"site-nav-menu-hd\">\n",
      "<a href=\"//www.taobao.com/tbhome/page/market-list\" target=\"_top\">\n",
      "<span>商品分类</span>\n",
      "</a>\n",
      "</div>\n",
      "</li>\n",
      "<li class=\"site-nav-pipe\">|</li>\n",
      "<li class=\"site-nav-menu site-nav-seller site-nav-multi-menu J_MultiMenu\" id=\"J_SiteNavSeller\" data-name=\"seller\" data-spm=\"1997525073\">\n",
      "<div class=\"site-nav-menu-hd\">\n",
      "<a href=\"//mai.taobao.com/seller_admin.htm\" target=\"_top\">\n",
      "<span>卖家中心</span>\n",
      "</a>\n",
      "<span class=\"site-nav-arrow\"><span class=\"site-nav-icon\"></span></span>\n",
      "</div>\n",
      "<div class=\"site-nav-menu-bd site-nav-menu-list\">\n",
      "<div class=\"site-nav-menu-bd-panel menu-bd-panel\">\n",
      "<a href=\"//mai.taobao.com/seller_admin.htm\" target=\"_top\">免费开店</a>\n",
      "<a href=\"//trade.taobao.com/trade/itemlist/list_sold_items.htm\" target=\"_top\">已卖出的宝贝</a>\n",
      "<a href=\"//sell.taobao.com/auction/goods/goods_on_sale.htm\" target=\"_top\">出售中的宝贝</a>\n",
      "<a href=\"//fuwu.taobao.com/?tracelog=tbdd\" target=\"_top\">卖家服务市场</a>\n",
      "<a href=\"//daxue.taobao.com/\" target=\"_top\">卖家培训中心</a>\n",
      "<a href=\"//healthcenter.taobao.com/home/health_home.htm\" target=\"_top\">体检中心</a>\n",
      "<a href=\"//infob.taobao.com/help\" target=\"_top\">问商友</a>\n",
      "</div>\n",
      "</div>\n",
      "</li>\n",
      "<li class=\"site-nav-menu site-nav-service site-nav-multi-menu J_MultiMenu\" id=\"J_SiteNavService\" data-name=\"service\" data-spm=\"754895749\">\n",
      "<div class=\"site-nav-menu-hd\">\n",
      "<a href=\"https://consumerservice.taobao.com\" target=\"_top\">\n",
      "<span>联系客服</span>\n",
      "</a>\n",
      "<span class=\"site-nav-arrow\"><span class=\"site-nav-icon\"></span></span>\n",
      "</div>\n",
      "<div class=\"site-nav-menu-bd site-nav-menu-list\">\n",
      "<div class=\"site-nav-menu-bd-panel menu-bd-panel\">\n",
      "<a href=\"https://consumerservice.taobao.com/online-help\" target=\"_top\">消费者客服</a>\n",
      "<a href=\"//helpcenter.taobao.com/index?from=high\" target=\"_top\">卖家客服</a>\n",
      "</div>\n",
      "</div>\n",
      "</li>\n",
      "<li class=\"site-nav-menu site-nav-sitemap site-nav-multi-menu J_MultiMenu\" id=\"J_SiteNavSitemap\" data-name=\"sitemap\" data-spm=\"1997525077\">\n",
      "<div class=\"site-nav-menu-hd\">\n",
      "<a href=\"https://www.taobao.com/tbhome/page/sitemap\" target=\"_top\">\n",
      "<span class=\"site-nav-icon site-nav-icon-highlight\"></span>\n",
      "<span>网站导航</span>\n",
      "</a>\n",
      "<span class=\"site-nav-arrow\"><span class=\"site-nav-icon\"></span></span>\n",
      "</div>\n",
      "</li>\n",
      "</ul>\n",
      "</div>\n",
      "</div>\n",
      "<!--[if lt IE 8]>\n",
      "<style>html,body{overflow:hidden;height:100%}</style>\n",
      "<div class=\"tb-ie-updater-layer\"></div>\n",
      "<div class=\"tb-ie-updater-box\" data-spm=\"20161112\">\n",
      "  <a href=\"https://www.google.cn/intl/zh-CN/chrome/browser/desktop/\" class=\"tb-ie-updater-google\" target=\"_blank\" data-spm-click=\"gostr=/tbieupdate;locaid=d1;name=google\">谷歌 Chrome</a>\n",
      "  <a href=\"http://www.uc.cn/ucbrowser/download/\" class=\"tb-ie-updater-uc\" target=\"_blank\" data-spm-click=\"gostr=/tbieupdate20161112;locaid=d2;name=uc\">UC 浏览器</a>\"\n",
      "</div>\n",
      "<![endif]-->\n",
      "<div class=\"tbh-banner J_Module tb-pass\" data-name=\"banner\" data-spm=\"201855\">\n",
      "<style>.baping-page-peel-page-peel-box {display: none !important; height: 0; overflow: hidden;}\n",
      "    .tbh-ad-inner{display:none !important;}</style>\n",
      "<div id=\"J_Banner\" class=\"topBanner\" style=\"background-color: #fe2323;height: 70px;\">\n",
      "<div class=\"banner-wrap\">\n",
      "<a href=\"https://www.taobao.com/markets/headline/family?wh_ttid=pc\" target=\"_blank\">\n",
      "<img src=\"https://gw.alicdn.com/mt/TB1M.3Mo0bJ8KJjy1zjXXaqapXa-1190-70.jpg\" alt=\"春晚亲情号\" style=\"width:1190px;height:70px\">\n",
      "</a>\n",
      "</div>\n",
      "</div>\n",
      "</div>\n",
      "<div class=\"J_Module tbh-decorations\" data-name=\"decorations\">\n",
      "<div class=\"decorations-box\"></div>\n",
      "</div>\n",
      "</div>\n",
      "<div class=\"cup J_Cup\">\n",
      "<div class=\"top J_Top\">\n",
      "<div class=\"top-wrap clearfix\">\n",
      "<div class=\"tbh-logo J_Module tb-pass\" data-name=\"logo\" data-spm=\"201857\">\n",
      "<div class=\"logo\">\n",
      "<h1>\n",
      "<a href=\"//www.taobao.com\" style=\"display:none\" role=\"img\" class=\"logo-bd clearfix\">淘宝网</a>\n",
      "<style>\n",
      "      .logo-bd {visibility: hidden;}.tbh-ad-inner{display:none !important;}\n",
      "      .decorations-box{height: 10px;}.cup .top{padding-bottom: 9px;} body .logo .logo-hover{top: -42px} \n",
      "      </style>\n",
      "<a href=\"https://www.taobao.com/markets/headline/family?wh_ttid=pc\" target=\"_blank\" class=\"logo-hover\">\n",
      "<img src=\"https://img.alicdn.com/tfs/TB1a.X7XeuSBuNjy1XcXXcYjFXa-190-140.gif\" alt=\"\" style=\"width:190px;height:140px;left:px;top:0px;\"></a>\n",
      "</h1>\n",
      "<h2 aria-hidden=\"true\"><a class=\"clearfix\" href=\"//www.taobao.com\">淘宝网</a></h2>\n",
      "</div>\n",
      "</div>\n",
      "<div data-spm=\"201856\" class=\"tbh-search J_Module\" data-name=\"search\">\n",
      "<div class=\"search-wrap\">\n",
      "<div class=\"search-bd\">\n",
      "<div id=\"J_SearchTab\" class=\"search-triggers search-tab-header J_SearchTabBox\">\n",
      "<ul class=\"ks-switchable-nav\">\n",
      "<li class=\"J_SearchTab selected goods-search-tab\" data-searchtype=\"item\" data-defaultpage=\"nogo\" data-spm-click=\"gostr=/tbindex;locaid=d10;name=宝贝\">宝贝</li>\n",
      "<li class=\"J_SearchTab tmall-search-tab\" data-searchtype=\"tmall\" data-tmall=\"true\" data-spm-click=\"gostr=/tbindex;locaid=d11;name=天猫\" data-action=\"//list.tmall.com/search_product.htm\">天猫</li>\n",
      "<li class=\"J_SearchTab shop-search-tab\" data-searchtype=\"shop\" data-spm-click=\"gostr=/tbindex;locaid=d12;name=店铺\" data-action=\"//shopsearch.taobao.com/browse/shop_search.htm\">店铺</li>\n",
      "</ul>\n",
      "<div class=\"search-tab-icon\"><i><em></em><span></span></i></div>\n",
      "</div>\n",
      "<div class=\"search-panel search-hp-panel ks-switchable-content J_SearchPanel\">\n",
      "<form target=\"_top\" action=\"//s.taobao.com/search\" name=\"search\" id=\"J_TSearchForm\" class=\"search-panel-focused\">\n",
      "<div class=\"search-button\"><button class=\"btn-search tb-bg\" type=\"submit\" data-spm-click=\"gostr=/tbindex;locaid=d13\">搜索</button></div>\n",
      "<div class=\"search-panel-fields search-hp-fields search-common-panel\">\n",
      "<div class=\"J_TbSearchContent J_TbPlaceholder J_Placeholder\" id=\"tbSearchContent\">\n",
      "<label for=\"q\" data-searchtype-item=\"<span style='display:none;'>电子鼓</span>听说在家打鼓也不怕被投诉啦\" data-searchtype-shop=\"<span style='display:none;'></span>\" data-oeid=\"\" style=\"visibility: hidden;\"><span style=\"display:none;\">电子鼓</span>听说在家打鼓也不怕被投诉啦</label>\n",
      "</div>\n",
      "<div class=\"hidden J_TmallSearchContent J_Placeholder J_TmallPlaceholder\"><label for=\"q\"></label></div>\n",
      "<div class=\"search-combobox\" aria-pressed=\"false\">\n",
      "<div class=\"search-combobox-input-wrap\">\n",
      "<input id=\"q\" name=\"q\" aria-label=\"请输入搜索文字\" accesskey=\"s\" autofocus=\"autofocus\" autocomplete=\"off\" class=\"search-combobox-input\" aria-haspopup=\"true\" aria-combobox=\"list\" role=\"combobox\" x-webkit-grammar=\"builtin:translate\">\n",
      "</div>\n",
      "</div>\n",
      "<div class=\"search-imgsearch-panel\" id=\"J_UploaderPanel\">\n",
      "<span class=\"tb-ifont\"></span>\n",
      "<div class=\"search-imgsearch-upload\">\n",
      "<input trace=\"imgsearchbtn\" id=\"J_IMGSeachUploadBtn\" value=\"上传图片\" name=\"imgfile\" accept=\"image/*\" type=\"file\">\n",
      "</div>\n",
      "</div>\n",
      "<i class=\"tb-ifont J_SearchIcon\"></i>\n",
      "</div>\n",
      "<div class=\"search-imgsearch-message\" id=\"J_UploaderMessage\"></div>\n",
      "<input name=\"commend\" value=\"all\" type=\"hidden\">\n",
      "<input name=\"ssid\" value=\"s5-e\" autocomplete=\"off\" type=\"hidden\">\n",
      "<input name=\"search_type\" value=\"item\" autocomplete=\"off\" type=\"hidden\">\n",
      "<input name=\"sourceId\" value=\"tb.index\" type=\"hidden\">\n",
      "<input name=\"spm\" value=\"a21bo.2017.201856-taobao-item.2\" type=\"hidden\">\n",
      "<input name=\"ie\" value=\"utf8\" type=\"hidden\">\n",
      "<input name=\"initiative_id\" value=\"tbindexz_20170306\" type=\"hidden\">\n",
      "<!--[if lt IE 9]>\n",
      "          <s class=\"search-fix search-fix-panellt\"></s><s class=\"search-fix search-fix-panellb\"></s>\n",
      "          <![endif]-->\n",
      "</form>\n",
      "</div>\n",
      "</div>\n",
      "<div class=\"search-ft J_SearchFt clearfix\">\n",
      "<div class=\"J_TbSearchContent J_HotWord\">\n",
      "<div class=\"search-hots\">\n",
      "<div class=\"search-hots-lines\">\n",
      "<div class=\"search-hots-fline\" data-spm-ab=\"fline\">\n",
      "<a href=\"//s.taobao.com/search?spm=1.7274553.1997520241-2.2.TpEKPQ&amp;q=连衣裙&amp;refpid=420460_1006&amp;source=tbsy&amp;style=grid&amp;tab=all&amp;pvid=d0f2ec2810bcec0d5a16d5283ce59f66\">新款连衣裙</a>\n",
      "<a href=\"//s.taobao.com/search?spm=1.7274553.1997520241-2.2.TpEKPQ&amp;q=四件套&amp;refpid=420461_1006&amp;source=tbsy&amp;style=grid&amp;tab=all&amp;pvid=d0f2ec2810bcec0d5a16d5283ce59f67\">四件套</a>\n",
      "<a href=\"//s.taobao.com/search?spm=1.7274553.1997520241-2.2.TpEKPQ&amp;q=T恤&amp;refpid=420462_1006&amp;source=tbsy&amp;style=grid&amp;tab=all&amp;pvid=d0f2ec2810bcec0d5a16d5283ce59f67\" class=\"h\">潮流T恤</a>\n",
      "<a href=\"https://s.taobao.com/search?q=%E5%A5%B3%E9%9E%8B&amp;refpid=420466_1006&amp;source=tbsy&amp;style=grid&amp;tab=all&amp;pvid=d0f2ec2810bcec0d5a16d5283ce59f68\">时尚女鞋</a>\n",
      "<a href=\"//s.taobao.com/search?spm=1.7274553.1997520241-2.2.TpEKPQ&amp;q=短裤&amp;refpid=430145_1006&amp;source=tbsy&amp;style=grid&amp;tab=all&amp;pvid=d0f2ec2810bcec0d5a16d5283ce59f69\">短裤</a>\n",
      "<a href=\"//s.taobao.com/search?spm=1.7274553.1997520241-2.2.TpEKPQ&amp;q=半身裙&amp;refpid=430146_1006&amp;source=tbsy&amp;style=grid&amp;tab=all&amp;pvid=d0f2ec2810bcec0d5a16d5283ce59f70\">半身裙</a>\n",
      "<a href=\"//s.taobao.com/search?spm=1.7274553.1997520241-2.2.TpEKPQ&amp;q=男士外套&amp;refpid=430147_1006&amp;source=tbsy&amp;style=grid&amp;tab=all&amp;pvid=d0f2ec2810bcec0d5a16d5283ce59f70\">男士外套</a>\n",
      "<a href=\"https://s.taobao.com/search?q=墙纸&amp;refpid=430148_1006&amp;source=tbsy&amp;style=grid&amp;tab=all&amp;pvid=d0f2ec2810bcec0d5a16d5283ce59f70\">墙纸</a>\n",
      "<a href=\"//s.taobao.com/search?spm=1.7274553.1997520241-2.2.TpEKPQ&amp;q=行车记录仪&amp;refpid=420467_1006&amp;source=tbsy&amp;style=grid&amp;tab=all&amp;pvid=d0f2ec2810bcec0d5a16d5283ce59f69\">行车记录仪</a>\n",
      "<a href=\"//s.taobao.com/search?spm=1.7274553.1997520241-2.2.TpEKPQ&amp;q=男鞋&amp;refpid=430144_1006&amp;source=tbsy&amp;style=grid&amp;tab=all&amp;pvid=d0f2ec2810bcec0d5a16d5283ce59f69\">新款男鞋</a>\n",
      "<a href=\"//s.taobao.com/search?spm=1.7274553.1997520241-2.2.TpEKPQ&amp;q=耳机&amp;refpid=420463_1006&amp;source=tbsy&amp;style=grid&amp;tab=all&amp;pvid=d0f2ec2810bcec0d5a16d5283ce59f67\">耳机</a>\n",
      "<a href=\"//s.taobao.com/search?spm=1.7274553.1997520241-2.2.TpEKPQ&amp;q=女包&amp;refpid=420464_1006&amp;source=tbsy&amp;style=grid&amp;tab=all&amp;pvid=d0f2ec2810bcec0d5a16d5283ce59f68\">时尚女包</a>\n",
      "<a href=\"//s.taobao.com/search?spm=1.7274553.1997520241-2.2.TpEKPQ&amp;q=沙发&amp;refpid=420465_1006&amp;source=tbsy&amp;style=grid&amp;tab=all&amp;pvid=d0f2ec2810bcec0d5a16d5283ce59f68\">沙发</a>\n",
      "</div>\n",
      "<div class=\"search-hots-sline\" data-spm-ab=\"sline\">\n",
      "<a href=\"//s.taobao.com/search?spm=1.7274553.1997520241-2.2.TpEKPQ&amp;q=连衣裙&amp;refpid=420460_1006&amp;source=tbsy&amp;style=grid&amp;tab=all&amp;pvid=d0f2ec2810bcec0d5a16d5283ce59f66\">新款连衣裙</a>\n",
      "<a href=\"//s.taobao.com/search?spm=1.7274553.1997520241-2.2.TpEKPQ&amp;q=四件套&amp;refpid=420461_1006&amp;source=tbsy&amp;style=grid&amp;tab=all&amp;pvid=d0f2ec2810bcec0d5a16d5283ce59f67\">四件套</a>\n",
      "<a href=\"//s.taobao.com/search?spm=1.7274553.1997520241-2.2.TpEKPQ&amp;q=T恤&amp;refpid=420462_1006&amp;source=tbsy&amp;style=grid&amp;tab=all&amp;pvid=d0f2ec2810bcec0d5a16d5283ce59f67\" class=\"h\">潮流T恤</a>\n",
      "<a href=\"https://s.taobao.com/search?q=%E5%A5%B3%E9%9E%8B&amp;refpid=420466_1006&amp;source=tbsy&amp;style=grid&amp;tab=all&amp;pvid=d0f2ec2810bcec0d5a16d5283ce59f68\">时尚女鞋</a>\n",
      "<a href=\"//s.taobao.com/search?spm=1.7274553.1997520241-2.2.TpEKPQ&amp;q=短裤&amp;refpid=430145_1006&amp;source=tbsy&amp;style=grid&amp;tab=all&amp;pvid=d0f2ec2810bcec0d5a16d5283ce59f69\">短裤</a>\n",
      "<a href=\"//s.taobao.com/search?spm=1.7274553.1997520241-2.2.TpEKPQ&amp;q=半身裙&amp;refpid=430146_1006&amp;source=tbsy&amp;style=grid&amp;tab=all&amp;pvid=d0f2ec2810bcec0d5a16d5283ce59f70\">半身裙</a>\n",
      "<a href=\"//s.taobao.com/search?spm=1.7274553.1997520241-2.2.TpEKPQ&amp;q=男士外套&amp;refpid=430147_1006&amp;source=tbsy&amp;style=grid&amp;tab=all&amp;pvid=d0f2ec2810bcec0d5a16d5283ce59f70\">男士外套</a>\n",
      "<a href=\"https://s.taobao.com/search?q=墙纸&amp;refpid=430148_1006&amp;source=tbsy&amp;style=grid&amp;tab=all&amp;pvid=d0f2ec2810bcec0d5a16d5283ce59f70\">墙纸</a>\n",
      "<a href=\"//s.taobao.com/search?spm=1.7274553.1997520241-2.2.TpEKPQ&amp;q=行车记录仪&amp;refpid=420467_1006&amp;source=tbsy&amp;style=grid&amp;tab=all&amp;pvid=d0f2ec2810bcec0d5a16d5283ce59f69\">行车记录仪</a>\n",
      "<a href=\"//s.taobao.com/search?spm=1.7274553.1997520241-2.2.TpEKPQ&amp;q=男鞋&amp;refpid=430144_1006&amp;source=tbsy&amp;style=grid&amp;tab=all&amp;pvid=d0f2ec2810bcec0d5a16d5283ce59f69\">新款男鞋</a>\n",
      "<a href=\"//s.taobao.com/search?spm=1.7274553.1997520241-2.2.TpEKPQ&amp;q=耳机&amp;refpid=420463_1006&amp;source=tbsy&amp;style=grid&amp;tab=all&amp;pvid=d0f2ec2810bcec0d5a16d5283ce59f67\">耳机</a>\n",
      "<a href=\"//s.taobao.com/search?spm=1.7274553.1997520241-2.2.TpEKPQ&amp;q=女包&amp;refpid=420464_1006&amp;source=tbsy&amp;style=grid&amp;tab=all&amp;pvid=d0f2ec2810bcec0d5a16d5283ce59f68\">时尚女包</a>\n",
      "<a href=\"//s.taobao.com/search?spm=1.7274553.1997520241-2.2.TpEKPQ&amp;q=沙发&amp;refpid=420465_1006&amp;source=tbsy&amp;style=grid&amp;tab=all&amp;pvid=d0f2ec2810bcec0d5a16d5283ce59f68\">沙发</a>\n",
      "</div></div>\n",
      "<a class=\"more more-with-border\" href=\"//top.taobao.com/?topid=home\" data-spm-ab=\"more\">更多<i class=\"tb-ifont\"></i></a>\n",
      "</div>\n",
      "</div>\n",
      "<div class=\"J_TmallSearchContent J_HotWord J_TmallHotWord tmall-hot-word\" data-spm-ab=\"tmallHotWords\"></div>\n",
      "</div>\n",
      "</div>\n",
      "</div>\n",
      "<div class=\"tbh-qr-wrapper\">\n",
      "<div class=\"tbh-qr J_Module\" data-name=\"qr\" data-spm=\"201858\">\n",
      "<div class=\"qr\">\n",
      "<a href=\"https://www.taobao.com/m\" class=\"qr-bd clearfix\">\n",
      "<span id=\"mtb\" class=\"h\">手机淘宝</span>\n",
      "<img class=\"qrcode\" src=\"//img.alicdn.com/tfs/TB18W1cQFXXXXaWXXXXXXXXXXXX-160-160.png\" data-src=\"//img.alicdn.com/tfs/TB18W1cQFXXXXaWXXXXXXXXXXXX-160-160.png\" aria-labelledby=\"mtb\">\n",
      "</a>\n",
      "<a href=\"javascript:;\" target=\"_self\" class=\"J_QrFt qr-ft\" role=\"button\" aria-label=\"关闭二维码\" data-spm-click=\"gostr=/tbindex;locaid=d2016;name=二维码关闭按钮\">\n",
      "<s class=\"tb-ifont\"></s>\n",
      "</a>\n",
      "</div>\n",
      "</div>\n",
      "</div>\n",
      "</div>\n",
      "</div>\n",
      "</div>\n",
      "<div class=\"tbh-nav J_Module tb-pass  \" data-name=\"nav\" data-spm=\"201859\">\n",
      "<div class=\"nav J_Nav clearfix tb-bg\" role=\"navigation\">\n",
      "<h2>主题市场</h2>\n",
      "<ul class=\"nav-hd\">\n",
      "<li><a href=\"https://www.tmall.com\">天猫</a></li>\n",
      "<li><a href=\"https://ju.taobao.com\">聚划算</a></li>\n",
      "<li><a href=\"https://chaoshi.tmall.com\">天猫超市</a></li>\n",
      "</ul>\n",
      "<ul class=\"nav-bd\">\n",
      "<li class=\"pipe\">|</li>\n",
      "<li><a href=\"https://qiang.taobao.com\">淘抢购</a></li>\n",
      "<li><a href=\"https://3c.tmall.com\">电器城</a></li>\n",
      "<li><a href=\"https://sf.taobao.com\">司法拍卖</a></li>\n",
      "<li><a href=\"https://q.taobao.com\">中国质造</a></li>\n",
      "<li><a href=\"https://www.taobao.com/markets/xt/znfp\">兴农扶贫</a></li>\n",
      "</ul>\n",
      "<ul class=\"nav-bd last\">\n",
      "<li class=\"pipe\">|</li>\n",
      "<li><a href=\"https://www.fliggy.com/?spm=a21bo.50862.201859.9.28689e73wh3bzS\">飞猪旅行</a></li>\n",
      "<li><a href=\"https://yun.taobao.com\">智能生活</a></li>\n",
      "<li><a href=\"https://suning.tmall.com/\">苏宁易购</a></li>\n",
      "</ul>\n",
      "</div>\n",
      "</div>\n",
      "<div class=\"screen-outer clearfix\">\n",
      "<div class=\"main\" role=\"main\">\n",
      "<div class=\"main-inner clearfix\">\n",
      "<div class=\"tbh-service J_Module\" data-name=\"service\" data-spm=\"201867\">\n",
      "<div class=\"service J_Service\" data-spm-ab=\"main\">\n",
      "<ul class=\"service-bd\" role=\"menubar\">\n",
      "<li data-closeper=\"\" aria-label=\"查看更多\" role=\"menuitem\" aria-haspopup=\"true\" data-groupid=\"101\" class=\"J_Cat a-all\">\n",
      "<a href=\"https://www.taobao.com/markets/nvzhuang/taobaonvzhuang\" data-cid=\"1\" data-dataid=\"222887\">女装</a> /\n",
      "<a href=\"https://www.taobao.com/markets/nanzhuang/2017new\" data-cid=\"1\" data-dataid=\"222890\">男装</a> /\n",
      "<a href=\"https://neiyi.taobao.com\" data-cid=\"1\" data-dataid=\"222889\">内衣</a>\n",
      "\n",
      "<i aria-hidden=\"true\" class=\"tb-ifont service-arrow\"></i>\n",
      "</li>\n",
      "<li data-closeper=\"\" aria-label=\"查看更多\" role=\"menuitem\" aria-haspopup=\"true\" data-groupid=\"102\" class=\"J_Cat a-all\">\n",
      "<a href=\"https://www.taobao.com/markets/xie/nvxie/index\" data-cid=\"1\" data-dataid=\"222886\">鞋靴</a> /\n",
      "<a href=\"https://www.taobao.com/markets/bao/xiangbao\" data-cid=\"1\" data-dataid=\"222906\">箱包</a> /\n",
      "<a href=\"https://pei.taobao.com\" data-cid=\"1\" data-dataid=\"222898\">配件</a>\n",
      "\n",
      "<i aria-hidden=\"true\" class=\"tb-ifont service-arrow\"></i>\n",
      "</li>\n",
      "<li data-closeper=\"\" aria-label=\"查看更多\" role=\"menuitem\" aria-haspopup=\"true\" data-groupid=\"103\" class=\"J_Cat a-all\">\n",
      "<a href=\"https://www.taobao.com/markets/qbb/index?spm=a21bo.50862.201879-item-1008.5.YrbXb6&amp;pvid=b9f2df4c-6d60-4af4-b500-c5168009831f&amp;scm=1007.12802.34660.100200300000000\" data-cid=\"1\" data-dataid=\"222907\">童装玩具</a> /\n",
      "<a href=\"https://www.taobao.com/markets/qbb/index?spm=a21bo.50862.201867-main.8.mL7cax&amp;pvid=b9f2df4c-6d60-4af4-b500-c5168009831f&amp;scm=1007.12802.34660.100200300000000\" data-cid=\"1\" data-dataid=\"222885\">孕产</a> /\n",
      "<a href=\"https://www.taobao.com/markets/qbb/index?spm=a21bo.50862.201867-main.8&amp;pvid=b9f2df4c-6d60-4af4-b500-c5168009831f&amp;scm=1007.12802.34660.100200300000000\" data-cid=\"1\" data-dataid=\"222895\">用品</a>\n",
      "\n",
      "<i aria-hidden=\"true\" class=\"tb-ifont service-arrow\"></i>\n",
      "</li>\n",
      "<li data-closeper=\"\" aria-label=\"查看更多\" role=\"menuitem\" aria-haspopup=\"true\" data-groupid=\"104\" class=\"J_Cat a-all\">\n",
      "<a href=\"https://www.taobao.com/markets/3c/tbdc\" data-cid=\"1\" data-dataid=\"222878\">家电</a> /\n",
      "<a href=\"https://www.taobao.com/markets/3c/tbdc\" data-cid=\"1\" data-dataid=\"222908\">数码</a> /\n",
      "<a href=\"https://www.taobao.com/markets/3c/tbdc\" data-cid=\"1\" data-dataid=\"222879\">手机</a>\n",
      "\n",
      "<i aria-hidden=\"true\" class=\"tb-ifont service-arrow\"></i>\n",
      "</li>\n",
      "<li data-closeper=\"\" aria-label=\"查看更多\" role=\"menuitem\" aria-haspopup=\"true\" data-groupid=\"105\" class=\"J_Cat a-all\">\n",
      "<a href=\"//mei.taobao.com/\" data-cid=\"1\" data-dataid=\"222893\">美妆</a> /\n",
      "<a href=\"https://www.taobao.com/market/baihuo/xihuyongpin.php?spm=a217u.7383845.a214d5z-static.49.e8DQmz\" data-cid=\"1\" data-dataid=\"222896\">洗护</a> /\n",
      "<a href=\"//g.taobao.com/brand_detail.htm?navigator=all&amp;_input_charset=utf-8&amp;q=%E8%90%A5%E5%85%BB%E5%93%81&amp;spm=a21bo.50862.201867-links-4.54.oMw9IU\" data-cid=\"1\" data-dataid=\"222918\">保健品</a>\n",
      "\n",
      "<i aria-hidden=\"true\" class=\"tb-ifont service-arrow\"></i>\n",
      "</li>\n",
      "<li data-closeper=\"\" aria-label=\"查看更多\" role=\"menuitem\" aria-haspopup=\"true\" data-groupid=\"106\" class=\"J_Cat a-all\">\n",
      "<a href=\"https://www.taobao.com/market/peishi/zhubao.php\" data-cid=\"1\" data-dataid=\"222917\">珠宝</a> /\n",
      "<a href=\"https://www.taobao.com/market/peishi/yanjing.php?spm=a219r.lm5630.a214d69.14.CkLAJ7\" data-cid=\"1\" data-dataid=\"222888\">眼镜</a> /\n",
      "<a href=\"https://www.taobao.com/market/peishi/shoubiao.php\" data-cid=\"1\" data-dataid=\"222902\">手表</a>\n",
      "\n",
      "<i aria-hidden=\"true\" class=\"tb-ifont service-arrow\"></i>\n",
      "</li>\n",
      "<li data-closeper=\"\" aria-label=\"查看更多\" role=\"menuitem\" aria-haspopup=\"true\" data-groupid=\"107\" class=\"J_Cat a-all\">\n",
      "<a href=\"https://www.taobao.com/markets/coolcity/coolcityHome\" data-cid=\"1\" data-dataid=\"222880\">运动</a> /\n",
      "<a href=\"https://www.taobao.com/markets/coolcity/coolcityHome\" data-cid=\"1\" data-dataid=\"222913\">户外</a> /\n",
      "<a href=\"https://www.taobao.com/markets/amusement/home\" data-cid=\"1\" data-dataid=\"222910\">乐器</a>\n",
      "\n",
      "<i aria-hidden=\"true\" class=\"tb-ifont service-arrow\"></i>\n",
      "</li>\n",
      "<li data-closeper=\"\" aria-label=\"查看更多\" role=\"menuitem\" aria-haspopup=\"true\" data-groupid=\"108\" class=\"J_Cat a-all\">\n",
      "<a href=\"https://game.taobao.com\" data-cid=\"1\" data-dataid=\"222882\">游戏</a> /\n",
      "<a href=\"https://www.taobao.com/markets/acg/dongman\" data-cid=\"1\" data-dataid=\"222883\">动漫</a> /\n",
      "<a href=\"https://www.taobao.com/markets/acg/yingshi\" data-cid=\"1\" data-dataid=\"222921\">影视</a>\n",
      "\n",
      "<i aria-hidden=\"true\" class=\"tb-ifont service-arrow\"></i>\n",
      "</li>\n",
      "<li data-closeper=\"\" aria-label=\"查看更多\" role=\"menuitem\" aria-haspopup=\"true\" data-groupid=\"109\" class=\"J_Cat a-all\">\n",
      "<a href=\"//chi.taobao.com\" data-cid=\"1\" data-dataid=\"222899\">美食</a> /\n",
      "<a href=\"//chi.taobao.com\" data-cid=\"1\" data-dataid=\"222905\">生鲜</a> /\n",
      "<a href=\"//chi.taobao.com\" data-cid=\"1\" data-dataid=\"222881\">零食</a>\n",
      "\n",
      "<i aria-hidden=\"true\" class=\"tb-ifont service-arrow\"></i>\n",
      "</li>\n",
      "<li data-closeper=\"\" aria-label=\"查看更多\" role=\"menuitem\" aria-haspopup=\"true\" data-groupid=\"110\" class=\"J_Cat a-all\">\n",
      "<a href=\"https://s.taobao.com/search?q=%E5%9B%AD%E8%89%BA&amp;imgfile=&amp;commend=all&amp;ssid=s5-e&amp;search_type=item&amp;sourceId=tb.index&amp;spm=a21bo.50862.201856-taobao-item.1&amp;ie=utf8&amp;initiative_id=tbindexz_20170419\" data-cid=\"1\" data-dataid=\"222911\">鲜花</a> /\n",
      "<a href=\"https://s.taobao.com/search?ie=utf8&amp;initiative_id=staobaoz_20170419&amp;stats_click=search_radio_all%3A1&amp;js=1&amp;imgfile=&amp;q=%E8%BF%9B%E5%8F%A3%E7%8B%97%E7%B2%AE&amp;suggest=history_3&amp;_input_charset=utf-8&amp;wq=&amp;suggest_query=&amp;source=suggest\" data-cid=\"1\" data-dataid=\"222894\">宠物</a> /\n",
      "<a href=\"https://s.taobao.com/search?q=%E5%86%9C%E8%B5%84&amp;imgfile=&amp;commend=all&amp;ssid=s5-e&amp;search_type=item&amp;sourceId=tb.index&amp;spm=a21bo.50862.201856-taobao-item.1&amp;ie=utf8&amp;initiative_id=tbindexz_20170221\" data-cid=\"1\" data-dataid=\"222920\">农资</a>\n",
      "\n",
      "<i aria-hidden=\"true\" class=\"tb-ifont service-arrow\"></i>\n",
      "</li>\n",
      "<li data-closeper=\"\" aria-label=\"查看更多\" role=\"menuitem\" aria-haspopup=\"true\" data-groupid=\"111\" class=\"J_Cat a-all\">\n",
      "<a href=\"https://fang.taobao.com/\" data-cid=\"1\" data-dataid=\"222914\">房产</a> /\n",
      "<a href=\"https://s.taobao.com/list?spm=a21bo.50862.201867-links-10.27.iQWRJS&amp;source=youjia&amp;cat=50097129\" data-cid=\"1\" data-dataid=\"222877\">装修</a> /\n",
      "<a href=\"https://www.jiyoujia.com/markets/youjia/zhuangxiucailiao\" data-cid=\"1\" data-dataid=\"222919\">建材</a>\n",
      "\n",
      "<i aria-hidden=\"true\" class=\"tb-ifont service-arrow\"></i>\n",
      "</li>\n",
      "<li data-closeper=\"\" aria-label=\"查看更多\" role=\"menuitem\" aria-haspopup=\"true\" data-groupid=\"112\" class=\"J_Cat a-all\">\n",
      "<a href=\"https://s.taobao.com/list?spm=a21bo.7932212.202572.1.rtUtMQ&amp;source=youjia&amp;q=%E5%AE%B6%E5%85%B7\" data-cid=\"1\" data-dataid=\"222915\">家具</a> /\n",
      "<a href=\"https://s.taobao.com/list?source=youjia&amp;cat=50065206%2C50065205\" data-cid=\"1\" data-dataid=\"222922\">家饰</a> /\n",
      "<a href=\"https://s.taobao.com/list?spm=a21bo.50862.201867-links-11.80.K6jN68&amp;source=youjia&amp;cat=50008163&amp;bcoffset=0&amp;s=240\" data-cid=\"1\" data-dataid=\"222884\">家纺</a>\n",
      "\n",
      "<i aria-hidden=\"true\" class=\"tb-ifont service-arrow\"></i>\n",
      "</li>\n",
      "<li data-closeper=\"\" aria-label=\"查看更多\" role=\"menuitem\" aria-haspopup=\"true\" data-groupid=\"113\" class=\"J_Cat a-all\">\n",
      "<a href=\"https://car.tmall.com/wow/car/act/carfp\" data-cid=\"1\" data-dataid=\"222912\">汽车</a> /\n",
      "<a href=\"//2car.taobao.com/\" data-cid=\"1\" data-dataid=\"222892\">二手车</a> /\n",
      "<a href=\"https://car.tmall.com/wow/car/act/carfp\" data-cid=\"1\" data-dataid=\"222900\">用品</a>\n",
      "\n",
      "<i aria-hidden=\"true\" class=\"tb-ifont service-arrow\"></i>\n",
      "</li>\n",
      "<li data-closeper=\"\" aria-label=\"查看更多\" role=\"menuitem\" aria-haspopup=\"true\" data-groupid=\"114\" class=\"J_Cat a-all\">\n",
      "<a href=\"https://www.taobao.com/markets/bangong/pchome\" data-cid=\"1\" data-dataid=\"222923\">办公</a> /\n",
      "<a href=\"https://www.taobao.com/markets/dingzhi/home\" data-cid=\"1\" data-dataid=\"222909\">DIY</a> /\n",
      "<a href=\"https://wujin.taobao.com/\" data-cid=\"1\" data-dataid=\"222897\">五金电子</a>\n",
      "\n",
      "<i aria-hidden=\"true\" class=\"tb-ifont service-arrow\"></i>\n",
      "</li>\n",
      "<li data-closeper=\"\" aria-label=\"查看更多\" role=\"menuitem\" aria-haspopup=\"true\" data-groupid=\"115\" class=\"J_Cat a-all\">\n",
      "<a href=\"https://s.taobao.com/list?source=youjia&amp;q=%E7%99%BE%E8%B4%A7\" data-cid=\"1\" data-dataid=\"222891\">百货</a> /\n",
      "<a href=\"https://s.taobao.com/list?source=youjia&amp;cat=50035867&amp;bcoffset=0&amp;s=240\" data-cid=\"1\" data-dataid=\"222903\">餐厨</a> /\n",
      "<a href=\"https://www.taobao.com/market/jiadian/baojian.php?spm=a21bo.50862.201867-main.46.K6jN68\" data-cid=\"1\" data-dataid=\"222901\">家庭保健</a>\n",
      "\n",
      "<i aria-hidden=\"true\" class=\"tb-ifont service-arrow\"></i>\n",
      "</li>\n",
      "<li data-closeper=\"\" aria-label=\"查看更多\" role=\"menuitem\" aria-haspopup=\"true\" data-groupid=\"116\" class=\"J_Cat a-all\">\n",
      "<a href=\"https://xue.taobao.com\" data-cid=\"1\" data-dataid=\"222904\">学习</a> /\n",
      "<a href=\"//ka.taobao.com/\" data-cid=\"1\" data-dataid=\"222916\">卡券</a> /\n",
      "<a href=\"https://s.taobao.com/list?q=%E4%B8%8A%E9%97%A8%E6%9C%8D%E5%8A%A1&amp;cat=50097750\" data-cid=\"1\" data-dataid=\"222924\">本地服务</a>\n",
      "\n",
      "<i aria-hidden=\"true\" class=\"tb-ifont service-arrow\"></i>\n",
      "</li>\n",
      "</ul>\n",
      "<div class=\"service-float\"></div>\n",
      "</div>\n",
      "</div>\n",
      "<div class=\"core J_Core\">\n",
      "<div data-spm=\"201862/b\" data-abtest=\"true\" class=\"tbh-promo J_Module\" data-name=\"promo\">\n",
      "<div class=\"promo J_Promo tb-loading\">\n",
      "<div class=\"promo-bd\" data-index=\"\" style=\"width: 520px; overflow: hidden; height: 280px;\"><div style=\"position: absolute; overflow: hidden; width: 3640px; transition-duration: 0s; transform: translate3d(-520px, 0px, 0px); backface-visibility: hidden; left: 0px;\"><div class=\"J_Ald J_Ald_20140506002 mod\" data-id=\"20140506002\" data-spm-ab=\"5\" style=\"float: left; overflow: hidden; width: 520px; display: block;\">\n",
      "<a href=\"https://style.taobao.com\" target=\"_blank\" title=\"\" data-spm=\"d5\">\n",
      "<img src=\"//g.alicdn.com/s.gif\" data-src=\"//img.alicdn.com/tps/TB1ZUXnIpXXXXbWXFXXXXXXXXXX.jpg\" width=\"520px\" height=\"280px\" border=\"0\">\n",
      "</a>\n",
      "</div><div class=\"J_Ald_20140506001 mod\" data-id=\"20140506001\" data-spm-ab=\"1\" style=\"float: left; overflow: hidden; width: 520px; display: block; visibility: visible;\"><a href=\"https://www.taobao.com/markets/nanzhuang/nzcjcdgl?pos=1&amp;wh_ttid=pc&amp;acm=20140506001.1003.2.2940986&amp;scm=1003.2.20140506001.OTHER_1516847146736_2940986\" data-spm=\"d1\"><img src=\"//img.alicdn.com/tfs/TB1CdUrXgmTBuNjy1XbXXaMrVXa-520-280.jpg_q90\" alt=\"\"></a></div><div class=\"J_Tanx mod\" data-id=\"mm_12852562_1778064_13670999\" data-isope=\"0\" data-lazychance=\"1\" data-spm-ab=\"2\" style=\"float: left; overflow: hidden; width: 520px; display: block;\">\n",
      "<a id=\"tanx-a-mm_12852562_1778064_13670999\" class=\"hide\"></a>\n",
      "</div><div class=\"J_Tanx mod\" data-id=\"mm_12852562_1778064_13674396\" data-isope=\"0\" data-lazychance=\"1\" data-spm-ab=\"3\" style=\"float: left; overflow: hidden; width: 520px; display: block;\">\n",
      "<a id=\"tanx-a-mm_12852562_1778064_13674396\" class=\"hide\"></a>\n",
      "</div><div class=\"J_Tanx mod\" data-id=\"mm_12852562_1778064_13672849\" data-isope=\"0\" data-lazychance=\"1\" data-spm-ab=\"4\" style=\"float: left; overflow: hidden; width: 520px; display: block;\">\n",
      "<a id=\"tanx-a-mm_12852562_1778064_13672849\" class=\"hide\"></a>\n",
      "</div><div class=\"J_Ald J_Ald_20140506002 mod\" data-id=\"20140506002\" data-spm-ab=\"5\" style=\"float: left; overflow: hidden; width: 520px; display: block;\">\n",
      "<a href=\"https://style.taobao.com\" target=\"_blank\" title=\"\" data-spm=\"d5\">\n",
      "<img src=\"//g.alicdn.com/s.gif\" data-src=\"//img.alicdn.com/tps/TB1ZUXnIpXXXXbWXFXXXXXXXXXX.jpg\" width=\"520px\" height=\"280px\" border=\"0\">\n",
      "</a>\n",
      "</div><div class=\"J_Ald J_Ald_20140506001 mod\" data-id=\"20140506001\" data-spm-ab=\"1\" style=\"float: left; overflow: hidden; width: 520px; display: block; visibility: visible;\"><a href=\"https://www.taobao.com/markets/nanzhuang/nzcjcdgl?pos=1&amp;wh_ttid=pc&amp;acm=20140506001.1003.2.2940986&amp;scm=1003.2.20140506001.OTHER_1516847146736_2940986\" data-spm=\"d1\"><img src=\"//img.alicdn.com/tfs/TB1CdUrXgmTBuNjy1XbXXaMrVXa-520-280.jpg_q90\" alt=\"\"></a></div></div></div>\n",
      "<div class=\"promo-ft a-all\">\n",
      "<div class=\"promo-opt J_PromoOpt a-all sld-ft-opt\" style=\"display: none;\">\n",
      "<a href=\"javascript:;\" class=\"J_Prev prev a-all\" data-spm-click=\"gostr=/tbindex;locaid=d500;name=首焦prev按钮\">\n",
      "<i class=\"s-prev tb-ifont\"></i>\n",
      "</a>\n",
      "<a href=\"javascript:;\" class=\"J_Next next a-all\" data-spm-click=\"gostr=/tbindex;locaid=d600;name=首焦next按钮\">\n",
      "<i class=\"s-next tb-ifont\"></i>\n",
      "</a>\n",
      "</div>\n",
      "<ul class=\"promo-nav sld-ft-nav\"><li class=\"selected\"><a href=\"javascript:void(0);\">1</a></li><li class=\"\"><a href=\"javascript:void(0);\">2</a></li><li class=\"\"><a href=\"javascript:void(0);\">3</a></li><li class=\"\"><a href=\"javascript:void(0);\">4</a></li><li class=\"\"><a href=\"javascript:void(0);\">5</a></li></ul>\n",
      "</div>\n",
      "</div>\n",
      "</div>\n",
      "<div class=\"tbh-tmall J_Module\" data-name=\"tmall\" data-spm=\"201863\">\n",
      "<div class=\"tmall J_Tmall\">\n",
      "<div class=\"tmall-hd\">\n",
      "<div class=\"inner\">\n",
      "<span class=\"hd-bg\" style=\"background-image: url(&quot;//img.alicdn.com/tfs/TB1thpcbUgQMeJjy0FjXXaExFXa-122-22.png&quot;);\"></span><em>理想生活上天猫</em><strong><i>1</i>/6</strong>\n",
      "</div>\n",
      "</div>\n",
      "<div class=\"tmall-bd\" style=\"width: 520px; overflow: hidden; height: 201px;\"><div style=\"position: absolute; overflow: hidden; width: 4160px; transition-duration: 0s; transform: translate3d(-520px, 0px, 0px); backface-visibility: hidden; left: 0px;\"><div class=\"J_Ald mod J_Ald_201608180 mod-2\" data-id=\"201608180\" data-spm-ab=\"6\" style=\"float: left; overflow: hidden; width: 520px; display: block;\">\n",
      "</div><div class=\"mod J_Ald_201602246 mod-5 mod-6 mod-first mod-loaded\" data-id=\"201602246\" data-spm-ab=\"1\" style=\"float: left; overflow: hidden; width: 520px; display: block; visibility: visible;\"><a href=\"https://pages.tmall.com/wow/huanxin/act/refreshment-pc?pos=1&amp;acm=201602246-1.1003.2.837482&amp;scm=1003.2.201602246-1.OTHER_1509275436065_837482\" data-spm=\"d1\"><img src=\"//img.alicdn.com/tps/i2/TB1GinjJVXXXXasaXXXee.i.VXX-346-402.png_210x1000q90.jpg\" alt=\"\"></a><a href=\"https://pages.tmall.com/wow/huanxin/act/mustbuy?pos=2&amp;acm=201602246-2.1003.2.1376243&amp;scm=1003.2.201602246-2.OTHER_1506277521684_1376243\" data-spm=\"d2\"><img src=\"//img.alicdn.com/imgextra/i4/88/TB2igHicr5K.eBjy0FfXXbApVXa_!!88-0-yamato.jpg?activityId=1702&amp;appid=3362&amp;report_date=2016-11-10_210x1000q90.jpg\" alt=\"\"></a><a href=\"https://shouji.tmall.com/?pos=3&amp;acm=201602246-3.1003.2.1588785&amp;scm=1003.2.201602246-3.OTHER_1487648502406_1588785\" data-spm=\"d3\"><img src=\"//img.alicdn.com/imgextra/i3/47/TB2DBhcg3xlpuFjSszgXXcJdpXa_!!47-0-yamato.jpg?activityId=52469&amp;positionId=5&amp;appid=3362&amp;report_date=2017-03-07_210x1000q90.jpg\" alt=\"\"></a><a href=\"https://ku.tmall.com?pos=4&amp;acm=201602246-4.1003.2.1341508&amp;scm=1003.2.201602246-4.OTHER_1506189887423_1341508\" data-spm=\"d4\"><img src=\"//img.alicdn.com/imgextra/i4/5/TB2AZHNsXXXXXbmXXXXXXXXXXXX_!!5-0-yamato.jpg?activityId=1708&amp;appid=3362&amp;report_date=2016-11-01_210x1000q90.jpg\" alt=\"\"></a><a href=\"//miao.tmall.com/?pos=5&amp;acm=201602246-5.1003.2.1341520&amp;scm=1003.2.201602246-5.OTHER_1508491591824_1341520\" data-spm=\"d5\"><img src=\"//img.alicdn.com/imgextra/i2/156/TB2G9JLXgCN.eBjSZFoXXXj0FXa_!!156-0-yamato.jpg?activityId=18099&amp;appid=3362&amp;report_date=2016-10-10_210x1000q90.jpg\" alt=\"\"></a></div><div class=\"J_TanxWrapper mod  tanx-wrapper\" data-spm-ab=\"2\" style=\"float: left; overflow: hidden; width: 520px; display: block;\">\n",
      "<span class=\"J_Tanx\" id=\"tanx-a-mm_12852562_1778064_95126332\" data-id=\"mm_12852562_1778064_95126332\"></span>\n",
      "</div><div class=\"J_Ald mod J_Ald_07085 mod-4\" data-id=\"07085\" data-spm-ab=\"3\" data-share=\"1\" data-start=\"0\" data-len=\"4\" style=\"float: left; overflow: hidden; width: 520px; display: block;\">\n",
      "</div><div class=\"J_Ald mod J_Ald_07085 mod-4\" data-id=\"07085\" data-spm-ab=\"4\" data-share=\"1\" data-start=\"4\" data-len=\"4\" style=\"float: left; overflow: hidden; width: 520px; display: block;\">\n",
      "</div><div class=\"J_Ald mod J_Ald_03014 mod-12\" data-id=\"03014\" data-spm-ab=\"5\" style=\"float: left; overflow: hidden; width: 520px; display: block;\">\n",
      "</div><div class=\"J_Ald mod J_Ald_201608180 mod-2\" data-id=\"201608180\" data-spm-ab=\"6\" style=\"float: left; overflow: hidden; width: 520px; display: block;\">\n",
      "</div><div class=\"J_Ald mod J_Ald_201602246 mod-5 mod-6 mod-first\" data-id=\"201602246\" data-spm-ab=\"1\" style=\"float: left; overflow: hidden; width: 520px; display: block; visibility: visible;\"><a href=\"https://pages.tmall.com/wow/huanxin/act/refreshment-pc?pos=1&amp;acm=201602246-1.1003.2.837482&amp;scm=1003.2.201602246-1.OTHER_1509275436065_837482\" data-spm=\"d1\"><img src=\"//img.alicdn.com/tps/i2/TB1GinjJVXXXXasaXXXee.i.VXX-346-402.png_210x1000q90.jpg\" alt=\"\"></a><a href=\"https://pages.tmall.com/wow/huanxin/act/mustbuy?pos=2&amp;acm=201602246-2.1003.2.1376243&amp;scm=1003.2.201602246-2.OTHER_1506277521684_1376243\" data-spm=\"d2\"><img src=\"//img.alicdn.com/imgextra/i4/88/TB2igHicr5K.eBjy0FfXXbApVXa_!!88-0-yamato.jpg?activityId=1702&amp;appid=3362&amp;report_date=2016-11-10_210x1000q90.jpg\" alt=\"\"></a><a href=\"https://shouji.tmall.com/?pos=3&amp;acm=201602246-3.1003.2.1588785&amp;scm=1003.2.201602246-3.OTHER_1487648502406_1588785\" data-spm=\"d3\"><img src=\"//img.alicdn.com/imgextra/i3/47/TB2DBhcg3xlpuFjSszgXXcJdpXa_!!47-0-yamato.jpg?activityId=52469&amp;positionId=5&amp;appid=3362&amp;report_date=2017-03-07_210x1000q90.jpg\" alt=\"\"></a><a href=\"https://ku.tmall.com?pos=4&amp;acm=201602246-4.1003.2.1341508&amp;scm=1003.2.201602246-4.OTHER_1506189887423_1341508\" data-spm=\"d4\"><img src=\"//img.alicdn.com/imgextra/i4/5/TB2AZHNsXXXXXbmXXXXXXXXXXXX_!!5-0-yamato.jpg?activityId=1708&amp;appid=3362&amp;report_date=2016-11-01_210x1000q90.jpg\" alt=\"\"></a><a href=\"//miao.tmall.com/?pos=5&amp;acm=201602246-5.1003.2.1341520&amp;scm=1003.2.201602246-5.OTHER_1508491591824_1341520\" data-spm=\"d5\"><img src=\"//img.alicdn.com/imgextra/i2/156/TB2G9JLXgCN.eBjSZFoXXXj0FXa_!!156-0-yamato.jpg?activityId=18099&amp;appid=3362&amp;report_date=2016-10-10_210x1000q90.jpg\" alt=\"\"></a></div></div></div>\n",
      "<div class=\"tmall-ft\">\n",
      "<div class=\"tmall-opt J_TmallOpt a-all sld-ft-opt\">\n",
      "<a href=\"javascript:;\" class=\"J_Prev prev a-all\" role=\"button\" aria-label=\"前一帧\" data-spm-click=\"gostr=/tbindex;locaid=d500;name=天猫prev按钮\">\n",
      "<i class=\"s-prev tb-ifont\"></i>\n",
      "</a>\n",
      "<a href=\"javascript:; a-all\" class=\"J_Next next\" role=\"button\" aria-label=\"后一帧\" data-spm-click=\"gostr=/tbindex;locaid=d600;name=天猫next按钮\">\n",
      "<i class=\"s-next tb-ifont\"></i>\n",
      "</a>\n",
      "</div>\n",
      "<ul class=\"tmall-nav\"><li class=\"selected\"><a href=\"javascript:void(0);\">1</a></li><li class=\"\"><a href=\"javascript:void(0);\">2</a></li><li class=\"\"><a href=\"javascript:void(0);\">3</a></li><li class=\"\"><a href=\"javascript:void(0);\">4</a></li><li class=\"\"><a href=\"javascript:void(0);\">5</a></li><li class=\"\"><a href=\"javascript:void(0);\">6</a></li></ul>\n",
      "</div>\n",
      "<textarea style=\"display:none;\">[{\"isAld\":\"true\",\"alds\":[{\"img\":\"//img.alicdn.com/tps/i4/TB1pa4rMXXXXXbWaXXXee.i.VXX-346-402.png\",\"tce_rule_count\":\"1\",\"link\":\"https://pages.tmall.com/wow/huanxin/act/refreshment-pc\"},{\"img\":\"//img.alicdn.com/tps/i3/TB13LNGMXXXXXcBXpXXlkjU.VXX-346-200.jpg\",\"tce_rule_count\":\"1\",\"link\":\"https://pages.tmall.com/wow/huanxin/act/mustbuy\"},{\"img\":\"//img.alicdn.com/tps/i2/TB1TaNBMXXXXXcBXFXXlkjU.VXX-346-200.jpg\",\"tce_rule_count\":\"1\",\"link\":\"https://shouji.tmall.com/\"},{\"img\":\"//img.alicdn.com/tps/i4/TB1_1BLMXXXXXb3XXXXlkjU.VXX-346-200.jpg\",\"tce_rule_count\":\"1\",\"link\":\"https://ku.tmall.com/\"},{\"img\":\"//img.alicdn.com/tps/i3/TB1OK4CMXXXXXboXFXXlkjU.VXX-346-200.jpg\",\"tce_rule_count\":\"1\",\"link\":\"https://miao.m.tmall.com/\"}],\"isTanx\":\"false\",\"share\":\"false\",\"id\":\"201602246\",\"open\":\"false\",\"local\":\"false\"},{\"isAld\":\"false\",\"isTanx\":\"true\",\"share\":\"false\",\"id\":\"mm_12852562_1778064_95126332\",\"tanxs\":[{\"isope\":\"false\",\"tce_rule_count\":\"1\",\"id\":\"mm_12852562_1778064_48432768\"},{\"isope\":\"false\",\"tce_rule_count\":\"1\",\"id\":\"mm_12852562_1778064_48458242\"}],\"open\":\"false\",\"local\":\"false\"},{\"isAld\":\"true\",\"len\":\"4\",\"alds\":[{\"img\":\"https://gw.alicdn.com/imgextra/i3/92/TB2J9XZc71M.eBjSZFFXXc3vVXa_!!92-0-yamato.jpg\",\"bg\":\"https://img.alicdn.com/tfs/TB10WItgMMPMeJjy1XdXXasrXXa-130-199.png\",\"tce_rule_count\":\"1\",\"link\":\"https://pages.tmall.com/wow/chaoshi/act/cszs-11\"},{\"img\":\"https://gw.alicdn.com/imgextra/i3/35/TB2y5X0cxuI.eBjy0FdXXXgbVXa_!!35-0-yamato.jpg\",\"bg\":\"https://img.alicdn.com/tfs/TB1.j2ecPihSKJjy0FeXXbJtpXa-129-199.png\",\"tce_rule_count\":\"1\",\"link\":\"https://nanzhuang.tmall.com\"},{\"img\":\"https://gw.alicdn.com/imgextra/i3/193/TB2Eq69cV5N.eBjSZFmXXboSXXa_!!193-0-yamato.jpg\",\"bg\":\"https://img.alicdn.com/tfs/TB11aItgMMPMeJjy1XdXXasrXXa-129-199.png\",\"tce_rule_count\":\"1\",\"link\":\"https://nvxie.tmall.com\"},{\"img\":\"https://gw.alicdn.com/imgextra/i4/62/TB2sF9hcrmI.eBjy1zjXXaq5VXa_!!62-0-yamato.jpg\",\"bg\":\"https://img.alicdn.com/tfs/TB11GItgMMPMeJjy1XdXXasrXXa-129-199.png\",\"tce_rule_count\":\"1\",\"link\":\"https://nvzhuang.tmall.com/\"}],\"start\":\"0\",\"isTanx\":\"false\",\"share\":\"true\",\"id\":\"07085\",\"open\":\"false\",\"local\":\"false\"},{\"isAld\":\"true\",\"len\":\"4\",\"alds\":[{\"img\":\"https://gw.alicdn.com/imgextra/i2/146/TB2vB5Gc2SM.eBjSZFNXXbgYpXa_!!146-0-yamato.jpg\",\"bg\":\"https://img.alicdn.com/tfs/TB10WItgMMPMeJjy1XdXXasrXXa-130-199.png\",\"tce_rule_count\":\"1\",\"link\":\"https://bag.tmall.com\"},{\"img\":\"https://gw.alicdn.com/imgextra/i4/155/TB2yC4bcrWJ.eBjSspdXXXiXFXa_!!155-0-yamato.jpg\",\"bg\":\"https://img.alicdn.com/tfs/TB1.j2ecPihSKJjy0FeXXbJtpXa-129-199.png\",\"tce_rule_count\":\"1\",\"link\":\"https://3c.tmall.com\"},{\"img\":\"https://gw.alicdn.com/imgextra/i3/143/TB207eEc.OO.eBjSZFLXXcxmXXa_!!143-0-yamato.jpg\",\"bg\":\"https://img.alicdn.com/tfs/TB11aItgMMPMeJjy1XdXXasrXXa-129-199.png\",\"tce_rule_count\":\"1\",\"link\":\"https://watch.tmall.com/\"},{\"img\":\"https://gw.alicdn.com/imgextra/i4/57/TB23Ej8c71M.eBjSZFOXXc0rFXa_!!57-0-yamato.jpg\",\"bg\":\"https://img.alicdn.com/tfs/TB11GItgMMPMeJjy1XdXXasrXXa-129-199.png\",\"tce_rule_count\":\"1\",\"link\":\"https://mei.tmall.com/\"}],\"start\":\"4\",\"isTanx\":\"false\",\"share\":\"true\",\"id\":\"07085\",\"open\":\"false\",\"local\":\"false\"},{\"isAld\":\"true\",\"alds\":[{\"img\":\"//img.alicdn.com/bao/uploaded/TB1WgndFVXXXXc1XpXXwu0bFXXX.png\",\"tce_rule_count\":\"1\",\"link\":\"lenovo\",\"title\":\"联想\"},{\"img\":\"//img.alicdn.com/bao/uploaded/TB1rVLKHpXXXXafaXXXSutbFXXX.jpg\",\"tce_rule_count\":\"1\",\"link\":\"langsha\",\"title\":\"浪莎\"},{\"img\":\"//img.alicdn.com/bao/uploaded/TB1FsffHXXXXXbaXVXXSutbFXXX.jpg\",\"tce_rule_count\":\"1\",\"link\":\"newsmynsm\",\"title\":\"纽曼车品\"},{\"img\":\"//img.alicdn.com/bao/uploaded/i4/T1w8nUXn4aXXXQXDnq-90-45.png\",\"tce_rule_count\":\"1\",\"link\":\"sast\",\"title\":\"先科\"},{\"img\":\"//img.alicdn.com/bao/uploaded/T1NAeXFbBeXXb1upjX.jpg\",\"tce_rule_count\":\"1\",\"link\":\"kailide\",\"title\":\"凯立德\"},{\"img\":\"//img.alicdn.com/bao/uploaded/T1FPaZXCdeXXb1upjX.jpg\",\"tce_rule_count\":\"1\",\"link\":\"toshibacc\",\"title\":\"东芝\"},{\"img\":\"//img.alicdn.com/bao/uploaded/T1Z86AFXlbXXb1upjX.jpg\",\"tce_rule_count\":\"1\",\"link\":\"jado\",\"title\":\"捷渡车品\"},{\"img\":\"//img.alicdn.com/bao/uploaded/T1xKvZFj0cXXb1upjX.jpg\",\"tce_rule_count\":\"1\",\"link\":\"garminxhwy\",\"title\":\"星火伟业\"},{\"img\":\"//img.alicdn.com/bao/uploaded/T1x0imFvRjXXb1upjX.jpg\",\"tce_rule_count\":\"1\",\"link\":\"flyaudio\",\"title\":\"飞歌\"},{\"img\":\"//img.alicdn.com/bao/uploaded/T1utGfFf8gXXb1upjX.jpg\",\"tce_rule_count\":\"1\",\"link\":\"aimer\",\"title\":\"爱慕\"},{\"img\":\"//img.alicdn.com/bao/uploaded/i1/T1J51oXXVjXXXXXXXX-90-45.jpg\",\"tce_rule_count\":\"1\",\"link\":\"steelmate\",\"title\":\"铁将军\"},{\"img\":\"//img.alicdn.com/bao/uploaded/i1/T1_5.YXa0bXXXQXDnq-90-45.png\",\"tce_rule_count\":\"1\",\"link\":\"reebok\",\"title\":\"锐步\"}],\"isTanx\":\"false\",\"share\":\"false\",\"id\":\"03014\",\"open\":\"false\",\"local\":\"false\"},{\"isAld\":\"true\",\"alds\":[{\"img\":\"https://img.alicdn.com/tps/TB1qhWZNXXXXXb3XFXXXXXXXXXX-251-190.jpg\",\"tce_rule_count\":\"1\",\"link\":\"//ak47.tmall.com/campaign-3742-14.htm\"},{\"img\":\"https://img.alicdn.com/tps/TB1BBiZNXXXXXb4XFXXXXXXXXXX-251-190.jpg\",\"tce_rule_count\":\"1\",\"link\":\"//deejdyf.tmall.com\"}],\"isTanx\":\"false\",\"share\":\"false\",\"id\":\"201608180\",\"open\":\"false\",\"local\":\"false\"}]</textarea>\n",
      "</div>\n",
      "</div>\n",
      "</div>\n",
      "<div class=\"sub-column\">\n",
      "<div data-spm=\"201860\" class=\"tbh-focus J_Module\" data-name=\"focus\" tms-data=\"{&quot;moduleinfo&quot;:{&quot;screenImg&quot;:&quot;//img.alicdn.com/tps/TB1F9hVLVXXXXbfXVXXXXXXXXXX-880-70.jpg&quot;,&quot;list_count&quot;:[{&quot;count_phone&quot;:1,&quot;count&quot;:1}],&quot;closePer&quot;:false,&quot;bannerLink&quot;:&quot;https://guang.taobao.com/ifashion/qiangxin.htm&quot;,&quot;subjectImg&quot;:&quot;https://img.alicdn.com/tps/TB1PR4NNVXXXXX4aXXXXXXXXXXX-380-80.jpg&quot;,&quot;bannerImg&quot;:&quot;https://img.alicdn.com/tps/TB1tg5UNVXXXXciXpXXXXXXXXXX-160-280.png&quot;,&quot;screenLink&quot;:&quot;https://www.taobao.com/markets/qiangxin/nvzhuang&quot;,&quot;subjectLink&quot;:&quot;https://cdj.taobao.com/?acm=201602252.1003.2.718034&amp;aldid=xG2kp1Rh&amp;scm=1003.2.201602252.OTHER_1457795875317_718034&amp;pos=1&quot;},&quot;list&quot;:[{&quot;data_para&quot;:{&quot;tce_vid&quot;:&quot;0&quot;,&quot;tce_sid&quot;:1947787,&quot;env&quot;:&quot;online&quot;},&quot;tms_type&quot;:&quot;jsonp&quot;,&quot;data_type&quot;:&quot;tceonline&quot;}],&quot;countinfo&quot;:{&quot;list&quot;:{&quot;length_pc&quot;:3,&quot;length&quot;:0}}}\"><a href=\"https://market.fliggy.com/holiday2017/2018spring/main?scm=20140637.1.61252.219439&amp;hlreferid=360.082077\">\n",
      "  <img src=\"//img.alicdn.com/imgextra/i2/131/TB28T3JXgaTBuNjSszfXXXgfpXa_!!131-2-luban.png_290x290q90.jpg\" alt=\"飞猪春运大促\">\n",
      "</a></div>\n",
      "<div class=\"hd-tanx hb-tanx-down\">\n",
      "<h5>今日热卖</h5>\n",
      "<div data-spm=\"201861\" class=\"tanx J_Module\" tms=\"tanx/0.0.2\" tms-datakey=\"1016957\">\n",
      "<ins style=\"display:inline-block;padding:0;margin:0;width:160px;height:200px;*zoom:1;*display:inline; position:relative;\" id=\"tanxssp-outer-conmm_12852562_1778064_48868196\"><div id=\"tanxssp_con_mm_12852562_1778064_48868196\" style=\"overflow:hidden;display:inline-block;position:relative;width:160px;height:200px;*display:inline;*zoom:1;font:12px/1.5 tahoma,'Hiragino Sans GB','microsoft yahei',sans-serif;\"><a href=\"https://click.mz.simba.taobao.com/ecpm?e=FJkSfsW7Lwmm7JZHpWwQvxsQmLP5zomM17TrM0UOC9Z4FPufBxVdEXl1K30xdMa3uXrIKbeo7zYU4L7O%2Fkqhx%2BO%2FnVPcLfq6UK7RDtIZydUyXElRAMLwo%2FBM9Kfha8FCYM2eYTKZNeu4bW3kUqNDykw2bmrVnXERrglYNBo49geaz%2FpcJU%2BMOAS6Kgwm0sSXNJuooMqcVQ8qgcuL%2Bo8iUecueyirx4YZkMM7U7dpORfMn7dPUZMjvVxHq8RU5Zw7pRjN8oEGOpXsj6haDRIjJfyiAUbRHn0CM4XUgDWiOTw%3D&amp;u=https%3A%2F%2Falimarket.tmall.com%2Fmarkets%2Falimama%2Fmingdian&amp;k=301\" target=\"_blank\"><img src=\"https://aecpm.alicdn.com/simba/img/TB1j4LLKpXXXXcbaXXXSutbFXXX.jpg\" width=\"160px\" height=\"200px\" border=\"0\"></a></div></ins><a id=\"tanx-a-mm_12852562_1778064_48868196\" data-id=\"mm_12852562_1778064_48868196\" data-autolazy=\"0\" data-isope=\"0\" data-ahead=\"\" class=\"J_Tanx\">\n",
      "</a>\n",
      "</div>\n",
      "</div>\n",
      "</div>\n",
      "</div>\n",
      "<div data-spm=\"226762\" class=\"tbh-headline J_Module\" data-name=\"headline\" tms-data=\"{&quot;moduleinfo&quot;:{&quot;headlines_count&quot;:[{&quot;count_phone&quot;:3,&quot;count&quot;:3}],&quot;modules_count&quot;:[{&quot;count_phone&quot;:1,&quot;count&quot;:1}]},&quot;headlines&quot;:[{&quot;data_para&quot;:{&quot;tce_vid&quot;:&quot;2&quot;,&quot;tce_sid&quot;:1947681,&quot;env&quot;:&quot;online&quot;},&quot;tms_type&quot;:&quot;jsonp&quot;,&quot;data_type&quot;:&quot;tceonline&quot;}],&quot;modules&quot;:[{&quot;data_para&quot;:{&quot;tce_vid&quot;:&quot;2&quot;,&quot;tce_sid&quot;:1952112,&quot;env&quot;:&quot;online&quot;},&quot;tms_type&quot;:&quot;jsonp&quot;,&quot;data_type&quot;:&quot;tceonline&quot;}],&quot;countinfo&quot;:{&quot;headlines&quot;:{&quot;length_pc&quot;:0,&quot;length&quot;:0},&quot;modules&quot;:{&quot;length_pc&quot;:0,&quot;length&quot;:0}}}\">\n",
      "<div class=\"headline J_Headline tb-loading\"></div>\n",
      "</div>\n",
      "</div>\n",
      "<div class=\"col-right\" role=\"complementary\">\n",
      "<div data-spm=\"201864\" class=\"tbh-member J_Module\" data-name=\"member\" style=\"background-image: url(&quot;//img.alicdn.com/tfs/TB19tIiOFXXXXbmapXXXXXXXXXX-580-340.png&quot;);\">\n",
      "<div class=\"member\">\n",
      "<div class=\"member-bd\" data-spm-ab=\"1\">\n",
      "<div class=\"avatar-wrapper\">\n",
      "<a class=\"J_MemberHome member-home\" href=\"javascript:;\" target=\"_self\">\n",
      "<img class=\"J_MemberAvatar member-avatar\" src=\"//wwc.alicdn.com/avatar/getAvatar.do?userNick=&amp;width=50&amp;height=50&amp;type=sns&amp;_input_charset=UTF-8\">\n",
      "</a>\n",
      "</div>\n",
      "<span class=\"member-nick-info\">\n",
      "Hi! <strong class=\"J_MemberNick member-nick\">你好</strong>\n",
      "</span>\n",
      "<p class=\"member-tjb\">\n",
      "<a data-spm=\"d3\" href=\"//taojinbi.taobao.com/index.htm?auto_take=true\" class=\"J_MemberPunch h\">\n",
      "<span class=\"tbh-icon\"></span>领淘金币抵钱\n",
      "</a>\n",
      "<a class=\"J_MemberClub h club\" href=\"//vip.taobao.com\"><span class=\"tbh-icon\"></span>会员俱乐部</a>\n",
      "</p>\n",
      "</div>\n",
      "<div class=\"member-ft\">\n",
      "<div class=\"member-logout J_MemberLogout\" data-spm-ab=\"2\">\n",
      "<a href=\"//login.taobao.com/member/login.jhtml?f=top&amp;redirectURL=http%3A%2F%2Fwww.taobao.com%2F\" class=\"btn-login ml1 tb-bg weight\" data-spm-click=\"gostr=/tbindex;locaid=d1;name=登录\">登录</a>\n",
      "<a href=\"//reg.taobao.com/member/new_register.jhtml?from=index&amp;ex_info=&amp;ex_sign=\" class=\"ml2 tb-bg weight\" data-spm-click=\"gostr=/tbindex;locaid=d2;name=注册\">注册</a>\n",
      "<a href=\"//openshop.taobao.com/openshop/welcome.htm\" class=\"ml3 tb-bg weight\">开店</a>\n",
      "</div>\n",
      "<div class=\"member-login J_MemberLogin\" data-spm-ab=\"3\"></div>\n",
      "</div>\n",
      "</div>\n",
      "</div>\n",
      "<div class=\"tbh-tipoff\">\n",
      "<a href=\"http://report.12377.cn:13225/toreportinputNormal_anis.do\">网上有害信息举报专区<span class=\"triangle\"></span></a>\n",
      "</div>\n",
      "<div data-spm=\"201865\" data-kpm=\"notice\" data-name=\"notice\" class=\"J_Module tbh-notice\">\n",
      "<ul class=\"notice-hd\" data-spm-ab=\"nav\" role=\"tablist\">\n",
      "<li role=\"tab\" class=\"selected\" id=\"ntc-tab-0\" aria-controls=\"ntc-panel-0\">\n",
      "<a href=\"https://press.taobao.com/detail.html?spm=0.7696189.0.0.51e38eeeRSbo7m&amp;postId=8281751\">公告</a>\n",
      "</li>\n",
      "<li role=\"tab\" class=\"J_Enter\" id=\"ntc-tab-1\" aria-controls=\"ntc-panel-1\">\n",
      "<a href=\"https://rule.taobao.com/index.htm\">规则</a>\n",
      "</li>\n",
      "<li role=\"tab\" class=\"J_Enter\" id=\"ntc-tab-2\" aria-controls=\"ntc-panel-2\">\n",
      "<a href=\"https://index.bbs.taobao.com/home.html\">论坛</a>\n",
      "</li>\n",
      "<li role=\"tab\" class=\"J_Enter\" id=\"ntc-tab-3\" aria-controls=\"ntc-panel-3\">\n",
      "<a href=\"https://110.alibaba.com/policeHall/hallIndex.htm?spm=a21bo.7724922.8439-nav.4.1dq6d8&amp;from=taobaoshouye\">安全</a>\n",
      "</li>\n",
      "<li role=\"tab\" class=\"J_Enter\" id=\"ntc-tab-4\" aria-controls=\"ntc-panel-4\">\n",
      "<a href=\"https://gongyi.taobao.com/?spm=a21bo.7724922.8439-nav.5.1dq6d8\">公益</a>\n",
      "</li>\n",
      "</ul>\n",
      "<div class=\"notice-bd\">\n",
      "<ul class=\"mod first\" id=\"ntc-panel-0\" data-spm-ab=\"0\" role=\"tabpanel\" aria-labelledby=\"ntc-tab-0\">\n",
      "<li>\n",
      "<a href=\"https://press.taobao.com/detail.html?spm=0.7696189.0.0.dbf141dRuORmF&amp;postId=8400531\" class=\"h\">新零售全面爆发，阿里再度上调财年收入指引</a>\n",
      "</li>\n",
      "<li>\n",
      "<a href=\"https://press.taobao.com/detail.html?spm=0.7696189.0.0.5091f8573lwZ7O&amp;postId=8402600\">淘宝春晚达成互动合作</a>\n",
      "</li>\n",
      "<li>\n",
      "<a href=\"https://press.taobao.com/detail.html?spm=0.7696189.0.0.762a7f15pWBnEV&amp;postId=8400965\">北京中心聚力新零售</a>\n",
      "</li>\n",
      "</ul>\n",
      "<ul class=\"mod hide\" role=\"tabpanel\"></ul>\n",
      "<ul class=\"mod hide\" role=\"tabpanel\"></ul>\n",
      "<ul class=\"mod hide\" role=\"tabpanel\"></ul>\n",
      "<ul class=\"mod hide\" role=\"tabpanel\"></ul>\n",
      "</div>\n",
      "</div>\n",
      "<div data-spm=\"201866\" class=\"tbh-conve J_Module\" data-name=\"conve\">\n",
      "<div class=\"conve J_Conve clearfix\">\n",
      "<ul class=\"conve-list\">\n",
      "<li class=\"mod conve-float conve-item-1 min\" data-name=\"phone\">\n",
      "<a href=\"//wt.taobao.com/?ks-menu=cz\">\n",
      "<span class=\"conve-item-icon tbh-icon\"></span>\n",
      "<p>充话费</p>\n",
      "</a>\n",
      "</li>\n",
      "<li class=\"mod conve-float conve-item-2 \" data-name=\"trip\">\n",
      "<a href=\"//trip.taobao.com\">\n",
      "<span class=\"conve-item-icon tbh-icon\"></span>\n",
      "<p>旅行</p>\n",
      "</a>\n",
      "</li>\n",
      "<li class=\"mod conve-float conve-item-3 \" data-name=\"baoxian\">\n",
      "<a href=\"//baoxian.taobao.com/\">\n",
      "<span class=\"conve-item-icon tbh-icon\"></span>\n",
      "<p>车险</p>\n",
      "</a>\n",
      "</li>\n",
      "<li class=\"mod conve-item-4 min\">\n",
      "<a href=\"//game.taobao.com\">\n",
      "<span class=\"conve-item-icon tbh-icon\"></span>\n",
      "<p>游戏</p>\n",
      "</a>\n",
      "</li>\n",
      "<li class=\"mod conve-item-5 min\">\n",
      "<a href=\"//caipiao.taobao.com/?t=1&amp;ad_id=&amp;am_id=13010663204b41fb5276&amp;cm_id=&amp;pm_id=\">\n",
      "<span class=\"conve-item-icon tbh-icon\"></span>\n",
      "<p>彩票</p>\n",
      "</a>\n",
      "</li>\n",
      "<li class=\"mod conve-item-6 \">\n",
      "<a href=\"//dianying.taobao.com\">\n",
      "<span class=\"conve-item-icon tbh-icon\"></span>\n",
      "<p>电影</p>\n",
      "</a>\n",
      "</li>\n",
      "<li class=\"mod conve-item-7 \">\n",
      "<a href=\"https://www.alitrip.com/jiudian\">\n",
      "<span class=\"conve-item-icon tbh-icon\"></span>\n",
      "<p>酒店</p>\n",
      "</a>\n",
      "</li>\n",
      "<li class=\"mod conve-item-8 min\">\n",
      "<a href=\"https://yebprod.alipay.com/yeb/index.htm\">\n",
      "<span class=\"conve-item-icon tbh-icon\"></span>\n",
      "<p>理财</p>\n",
      "</a>\n",
      "</li>\n",
      "<li class=\"mod conve-item-9 min\">\n",
      "<a href=\"//life.taobao.com/\">\n",
      "<span class=\"conve-item-icon tbh-icon\"></span>\n",
      "<p>找服务</p>\n",
      "</a>\n",
      "</li>\n",
      "<li class=\"mod conve-item-10 \">\n",
      "<a href=\"https://damai.tmall.com/shop/view_shop.htm\">\n",
      "<span class=\"conve-item-icon tbh-icon\"></span>\n",
      "<p>演出</p>\n",
      "</a>\n",
      "</li>\n",
      "<li class=\"mod conve-item-11 \">\n",
      "<a href=\"//life.taobao.com/market/sdmjf2011.php\">\n",
      "<span class=\"conve-item-icon tbh-icon\"></span>\n",
      "<p>水电煤</p>\n",
      "</a>\n",
      "</li>\n",
      "<li class=\"mod conve-item-12 min\">\n",
      "<a href=\"https://www.alitrip.com/huochepiao\">\n",
      "<span class=\"conve-item-icon tbh-icon\"></span>\n",
      "<p>火车票</p>\n",
      "</a>\n",
      "</li>\n",
      "</ul>\n",
      "</div>\n",
      "</div> <div data-spm=\"201869\" class=\"tbh-app J_Module\" data-name=\"app\" tms-data=\"{&quot;moduleinfo&quot;:{&quot;head_count&quot;:[{&quot;count_phone&quot;:1,&quot;count&quot;:1}],&quot;apps_count&quot;:[{&quot;count_phone&quot;:15,&quot;count&quot;:15}]},&quot;head&quot;:[{&quot;data_para&quot;:{&quot;tce_vid&quot;:&quot;0&quot;,&quot;tce_sid&quot;:1947680,&quot;env&quot;:&quot;online&quot;},&quot;tms_type&quot;:&quot;jsonp&quot;,&quot;data_type&quot;:&quot;tceonline&quot;}],&quot;apps&quot;:[{&quot;data_para&quot;:{&quot;tce_vid&quot;:&quot;0&quot;,&quot;tce_sid&quot;:1947683,&quot;env&quot;:&quot;online&quot;},&quot;tms_type&quot;:&quot;jsonp&quot;,&quot;data_type&quot;:&quot;tceonline&quot;}],&quot;countinfo&quot;:{&quot;head&quot;:{&quot;length_pc&quot;:0,&quot;length&quot;:0},&quot;apps&quot;:{&quot;length_pc&quot;:0,&quot;length&quot;:0}}}\">\n",
      "<div class=\"apps J_Apps tb-loading\"></div>\n",
      "</div>\n",
      "</div>\n",
      "</div>\n",
      "<div class=\"layer clearfix\">\n",
      "<div data-spm=\"201868\" data-name=\"belt\" class=\"tbh-belt J_Module tb-loading\" tms-data=\"{&quot;moduleinfo&quot;:{&quot;list_count&quot;:[{&quot;count_phone&quot;:1,&quot;count&quot;:1}],&quot;belt_count&quot;:[{&quot;count_phone&quot;:6,&quot;count&quot;:6}],&quot;modules_count&quot;:[{&quot;count_phone&quot;:1,&quot;count&quot;:1}],&quot;controls_count&quot;:[{&quot;count_phone&quot;:1,&quot;count&quot;:1}]},&quot;modules&quot;:[{&quot;data_para&quot;:{&quot;tce_vid&quot;:&quot;2&quot;,&quot;tce_sid&quot;:1949463,&quot;env&quot;:&quot;online&quot;},&quot;tms_type&quot;:&quot;jsonp&quot;,&quot;data_type&quot;:&quot;tceonline&quot;}],&quot;belt&quot;:[{&quot;data_para&quot;:{&quot;tce_vid&quot;:&quot;2&quot;,&quot;tce_sid&quot;:1947691,&quot;env&quot;:&quot;online&quot;},&quot;tms_type&quot;:&quot;jsonp&quot;,&quot;data_type&quot;:&quot;tceonline&quot;}],&quot;list&quot;:[{&quot;data_para&quot;:{&quot;tce_vid&quot;:&quot;2&quot;,&quot;tce_sid&quot;:1949464,&quot;env&quot;:&quot;online&quot;},&quot;tms_type&quot;:&quot;jsonp&quot;,&quot;data_type&quot;:&quot;tceonline&quot;}],&quot;controls&quot;:[{&quot;data_para&quot;:{&quot;tce_vid&quot;:&quot;2&quot;,&quot;tce_sid&quot;:1947723,&quot;env&quot;:&quot;online&quot;},&quot;tms_type&quot;:&quot;jsonp&quot;,&quot;data_type&quot;:&quot;tceonline&quot;}],&quot;countinfo&quot;:{&quot;controls&quot;:{&quot;length_pc&quot;:0,&quot;length&quot;:0},&quot;belt&quot;:{&quot;length_pc&quot;:6,&quot;length&quot;:0},&quot;list&quot;:{&quot;length_pc&quot;:6,&quot;length&quot;:0},&quot;modules&quot;:{&quot;length_pc&quot;:0,&quot;length&quot;:0}}}\"></div>\n",
      "<div class=\"layer-inner clearfix\">\n",
      "<div data-spm=\"201870\" class=\"tbh-discover-goods J_Module tb-loading\" data-name=\"goods\" tms-data=\"{&quot;moduleinfo&quot;:{&quot;modules_count&quot;:[{&quot;count_phone&quot;:1,&quot;count&quot;:1}],&quot;result_count&quot;:[{&quot;count_phone&quot;:1,&quot;count&quot;:1}]},&quot;result&quot;:[{&quot;data_para&quot;:{&quot;tce_vid&quot;:&quot;1&quot;,&quot;tce_sid&quot;:1947676,&quot;env&quot;:&quot;online&quot;},&quot;tms_type&quot;:&quot;jsonp&quot;,&quot;data_type&quot;:&quot;tceonline&quot;}],&quot;modules&quot;:[{&quot;data_para&quot;:{&quot;tce_vid&quot;:&quot;1&quot;,&quot;tce_sid&quot;:1952113,&quot;env&quot;:&quot;online&quot;},&quot;tms_type&quot;:&quot;jsonp&quot;,&quot;data_type&quot;:&quot;tceonline&quot;}],&quot;countinfo&quot;:{&quot;result&quot;:{&quot;length_pc&quot;:10,&quot;length&quot;:0},&quot;modules&quot;:{&quot;length_pc&quot;:0,&quot;length&quot;:0}}}\"></div>\n",
      "<div class=\"tbh-shopping fl J_Module tb-loading\" data-name=\"shopping\" data-spm=\"2001\" tms-data=\"{&quot;moduleinfo&quot;:{&quot;list_count&quot;:[{&quot;count_phone&quot;:1,&quot;count&quot;:1}],&quot;modules_count&quot;:[{&quot;count_phone&quot;:1,&quot;count&quot;:1}]},&quot;modules&quot;:[{&quot;moreLink&quot;:&quot;https://guang.taobao.com/&quot;,&quot;name&quot;:&quot;爱逛街&quot;,&quot;link&quot;:&quot;https://guang.taobao.com/&quot;,&quot;switch&quot;:&quot;false&quot;}],&quot;list&quot;:[{&quot;data_para&quot;:{&quot;tce_vid&quot;:&quot;1&quot;,&quot;tce_sid&quot;:1952191,&quot;env&quot;:&quot;online&quot;},&quot;tms_type&quot;:&quot;jsonp&quot;,&quot;data_type&quot;:&quot;tceonline&quot;}],&quot;countinfo&quot;:{&quot;list&quot;:{&quot;length_pc&quot;:6,&quot;length&quot;:0},&quot;modules&quot;:{&quot;length_pc&quot;:0,&quot;length&quot;:0}}}\"></div>\n",
      "</div>\n",
      "</div>\n",
      "<div class=\"layer\">\n",
      "<div class=\"layer-inner clearfix\">\n",
      "<div class=\"tbh-qiang J_Module tb-loading\" data-name=\"qiang\" data-spm=\"2003\" tms-data=\"{&quot;moduleinfo&quot;:{&quot;list_count&quot;:[{&quot;count_phone&quot;:1,&quot;count&quot;:1}],&quot;modules_count&quot;:[{&quot;count_phone&quot;:1,&quot;count&quot;:1}]},&quot;modules&quot;:[{&quot;moreLink&quot;:&quot;https://qiang.taobao.com/&quot;,&quot;name&quot;:&quot;淘抢购&quot;,&quot;link&quot;:&quot;https://qiang.taobao.com/&quot;,&quot;switch&quot;:&quot;true&quot;}],&quot;list&quot;:[{&quot;data_para&quot;:{&quot;tce_vid&quot;:&quot;0&quot;,&quot;tce_sid&quot;:1966462,&quot;env&quot;:&quot;online&quot;},&quot;tms_type&quot;:&quot;jsonp&quot;,&quot;data_type&quot;:&quot;tceonline&quot;}],&quot;countinfo&quot;:{&quot;list&quot;:{&quot;length_pc&quot;:3,&quot;length&quot;:0},&quot;modules&quot;:{&quot;length_pc&quot;:0,&quot;length&quot;:0}}}\"></div>\n",
      "</div>\n",
      "</div>\n",
      "<div class=\"layer\">\n",
      "<div class=\"layer-inner clearfix\">\n",
      "<div data-spm=\"201880\" class=\"tanx J_Module seat-gg\" tms=\"tanx/0.0.2\" tms-datakey=\"1016956\">\n",
      "<a id=\"tanx-a-mm_12852562_1778064_131176478\" data-id=\"mm_12852562_1778064_131176478\" data-autolazy=\"1\" data-isope=\"0\" data-ahead=\"400\" class=\"J_Tanx\">\n",
      "</a>\n",
      "</div>\n",
      "</div>\n",
      "</div>\n",
      "<div class=\"layer\">\n",
      "<div class=\"layer-inner clearfix\">\n",
      "<div class=\"J_Module tbh-shop fl tb-loading\" data-name=\"shop\" data-spm=\"201872\" tms-data=\"{&quot;moduleinfo&quot;:{&quot;list_count&quot;:[{&quot;count_phone&quot;:5,&quot;count&quot;:5}],&quot;modules_count&quot;:[{&quot;count_phone&quot;:1,&quot;count&quot;:1}]},&quot;list&quot;:[{&quot;data_para&quot;:{&quot;tce_vid&quot;:&quot;1&quot;,&quot;tce_sid&quot;:1947675,&quot;env&quot;:&quot;online&quot;},&quot;tms_type&quot;:&quot;jsonp&quot;,&quot;data_type&quot;:&quot;tceonline&quot;}],&quot;modules&quot;:[{&quot;data_para&quot;:{&quot;tce_vid&quot;:&quot;1&quot;,&quot;tce_sid&quot;:1952109,&quot;env&quot;:&quot;online&quot;},&quot;tms_type&quot;:&quot;jsonp&quot;,&quot;data_type&quot;:&quot;tceonline&quot;}],&quot;countinfo&quot;:{&quot;list&quot;:{&quot;length_pc&quot;:5,&quot;length&quot;:0},&quot;modules&quot;:{&quot;length_pc&quot;:0,&quot;length&quot;:0}}}\"></div>\n",
      "<div class=\"J_Module tbh-live fl tb-loading\" data-name=\"live\" data-spm=\"523825\" tms-data=\"{&quot;moduleinfo&quot;:{&quot;list_count&quot;:[{&quot;count_phone&quot;:1,&quot;count&quot;:1}],&quot;modules_count&quot;:[{&quot;count_phone&quot;:1,&quot;count&quot;:1}]},&quot;list&quot;:[{&quot;data_para&quot;:{&quot;tce_vid&quot;:&quot;2&quot;,&quot;tce_sid&quot;:2316013,&quot;env&quot;:&quot;online&quot;},&quot;tms_type&quot;:&quot;jsonp&quot;,&quot;data_type&quot;:&quot;tceonline&quot;}],&quot;modules&quot;:[{&quot;subtitle&quot;:&quot;你的爱豆直播等你哟！&quot;,&quot;switch&quot;:&quot;false&quot;}],&quot;countinfo&quot;:{&quot;list&quot;:{&quot;length_pc&quot;:4,&quot;length&quot;:0},&quot;modules&quot;:{&quot;length_pc&quot;:0,&quot;length&quot;:0}}}\"></div>\n",
      "</div>\n",
      "</div>\n",
      "<div class=\"layer\">\n",
      "<div class=\"layer-inner clearfix\">\n",
      "<div class=\"J_Module tbh-fashion tb-loading\" data-name=\"fashion\" data-spm=\"2005\" tms-data=\"{&quot;moduleinfo&quot;:{&quot;list_count&quot;:[{&quot;count_phone&quot;:1,&quot;count&quot;:1}],&quot;modules_count&quot;:[{&quot;count_phone&quot;:1,&quot;count&quot;:1}]},&quot;modules&quot;:[{&quot;switch&quot;:&quot;false&quot;}],&quot;list&quot;:[{&quot;data_para&quot;:{&quot;tce_vid&quot;:&quot;1&quot;,&quot;tce_sid&quot;:1952103,&quot;env&quot;:&quot;online&quot;},&quot;tms_type&quot;:&quot;jsonp&quot;,&quot;data_type&quot;:&quot;tceonline&quot;}],&quot;countinfo&quot;:{&quot;list&quot;:{&quot;length_pc&quot;:3,&quot;length&quot;:0},&quot;modules&quot;:{&quot;length_pc&quot;:0,&quot;length&quot;:0}}}\"></div>\n",
      "<div class=\"tb-tanx-wrapper\">\n",
      "<div data-spm=\"201880\" class=\"tanx J_Module\" tms=\"tanx/0.0.2\" tms-datakey=\"1016955\">\n",
      "<a id=\"tanx-a-mm_12852562_1778064_10263209\" data-id=\"mm_12852562_1778064_10263209\" data-autolazy=\"0\" data-isope=\"0\" data-ahead=\"1000\" class=\"J_Tanx\">\n",
      "</a>\n",
      "</div>\n",
      "</div>\n",
      "</div>\n",
      "</div>\n",
      "<div class=\"layer\">\n",
      "<div class=\"layer-inner clearfix\">\n",
      "<div class=\"J_Module tbh-quality tb-loading\" data-name=\"quality\" data-spm=\"2006\" tms-data=\"{&quot;moduleinfo&quot;:{&quot;list_count&quot;:[{&quot;count_phone&quot;:1,&quot;count&quot;:1}],&quot;modules_count&quot;:[{&quot;count_phone&quot;:1,&quot;count&quot;:1}]},&quot;modules&quot;:[{&quot;switch&quot;:&quot;false&quot;}],&quot;list&quot;:[{&quot;data_para&quot;:{&quot;tce_vid&quot;:&quot;1&quot;,&quot;tce_sid&quot;:1952108,&quot;env&quot;:&quot;online&quot;},&quot;tms_type&quot;:&quot;jsonp&quot;,&quot;data_type&quot;:&quot;tceonline&quot;}],&quot;countinfo&quot;:{&quot;list&quot;:{&quot;length_pc&quot;:7,&quot;length&quot;:0},&quot;modules&quot;:{&quot;length_pc&quot;:0,&quot;length&quot;:0}}}\"></div>\n",
      "<div class=\"J_Module tbh-quality special tb-loading\" data-name=\"special\" data-spm=\"2007\" tms-data=\"{&quot;moduleinfo&quot;:{&quot;list_count&quot;:[{&quot;count_phone&quot;:1,&quot;count&quot;:1}],&quot;modules_count&quot;:[{&quot;count_phone&quot;:1,&quot;count&quot;:1}]},&quot;modules&quot;:[{&quot;switch&quot;:&quot;false&quot;}],&quot;list&quot;:[{&quot;data_para&quot;:{&quot;tce_vid&quot;:&quot;1&quot;,&quot;tce_sid&quot;:1952107,&quot;env&quot;:&quot;online&quot;},&quot;tms_type&quot;:&quot;jsonp&quot;,&quot;data_type&quot;:&quot;tceonline&quot;}],&quot;countinfo&quot;:{&quot;list&quot;:{&quot;length_pc&quot;:7,&quot;length&quot;:0},&quot;modules&quot;:{&quot;length_pc&quot;:0,&quot;length&quot;:0}}}\"></div>\n",
      "</div>\n",
      "</div>\n",
      "<div class=\"layer\">\n",
      "<div class=\"layer-inner clearfix\">\n",
      "<div class=\"J_Module tbh-afford tb-loading\" data-name=\"afford\" data-spm=\"2008\" tms-data=\"{&quot;moduleinfo&quot;:{&quot;list_count&quot;:[{&quot;count_phone&quot;:1,&quot;count&quot;:1}],&quot;modules_count&quot;:[{&quot;count_phone&quot;:1,&quot;count&quot;:1}]},&quot;modules&quot;:[{&quot;switch&quot;:&quot;false&quot;}],&quot;list&quot;:[{&quot;data_para&quot;:{&quot;tce_vid&quot;:&quot;1&quot;,&quot;tce_sid&quot;:1952106,&quot;env&quot;:&quot;online&quot;},&quot;tms_type&quot;:&quot;jsonp&quot;,&quot;data_type&quot;:&quot;tceonline&quot;}],&quot;countinfo&quot;:{&quot;list&quot;:{&quot;length_pc&quot;:5,&quot;length&quot;:0},&quot;modules&quot;:{&quot;length_pc&quot;:0,&quot;length&quot;:0}}}\"></div>\n",
      "</div>\n",
      "</div>\n",
      "<div class=\"layer\">\n",
      "<div class=\"layer-inner clearfix\">\n",
      "<div class=\"tbh-sale J_Module\" data-name=\"sale\" data-spm=\"201874\">\n",
      "<div id=\"J_Sale\" class=\"sale tb-loading\">\n",
      "<div class=\"sale-hd\">\n",
      "<div id=\"J_SaleP4p\" class=\"sale-p4p\" data-spm-ab=\"p4p\"></div>\n",
      "</div>\n",
      "<ul id=\"J_SaleBd\" class=\"sale-bd\" data-use=\"/mm/taobao-remai/0.4.3/index\" data-spm-ab=\"sales\"></ul>\n",
      "</div>\n",
      "</div>\n",
      "</div>\n",
      "</div>\n",
      "<div class=\"layer\">\n",
      "<div class=\"layer-inner clearfix\">\n",
      "<div class=\"J_Module tbh-hotsale\" data-name=\"hotsale\" data-spm=\"201876\" tms-data=\"{&quot;moduleinfo&quot;:{&quot;name&quot;:&quot;猜你喜欢&quot;,&quot;map_count&quot;:[{&quot;count_phone&quot;:4,&quot;count&quot;:4},{&quot;start_time&quot;:&quot;2017-01-05 00:00&quot;,&quot;count_phone&quot;:6,&quot;count&quot;:6},{&quot;start_time&quot;:&quot;2017-01-12 00:00&quot;,&quot;count_phone&quot;:4,&quot;count&quot;:4},{&quot;start_time&quot;:&quot;2017-03-03 00:00&quot;,&quot;count_phone&quot;:5,&quot;count&quot;:5},{&quot;start_time&quot;:&quot;2017-03-09 00:00&quot;,&quot;count_phone&quot;:4,&quot;count&quot;:4}],&quot;on&quot;:true},&quot;map&quot;:[{&quot;data_para&quot;:{&quot;tce_vid&quot;:&quot;1&quot;,&quot;tce_sid&quot;:1947682,&quot;env&quot;:&quot;online&quot;},&quot;tms_type&quot;:&quot;jsonp&quot;,&quot;data_type&quot;:&quot;tceonline&quot;}],&quot;modules&quot;:[{&quot;data_para&quot;:{&quot;tce_vid&quot;:&quot;1&quot;,&quot;tce_sid&quot;:1952114,&quot;env&quot;:&quot;online&quot;},&quot;tms_type&quot;:&quot;jsonp&quot;,&quot;data_type&quot;:&quot;tceonline&quot;}],&quot;countinfo&quot;:{&quot;map&quot;:{&quot;length_pc&quot;:0,&quot;length&quot;:0},&quot;modules&quot;:{&quot;length_pc&quot;:1,&quot;length&quot;:1}}}\">\n",
      "<div class=\"tb-loading hotsale-loading\"></div>\n",
      "</div>\n",
      "</div>\n",
      "</div>\n",
      "<div class=\"layer\">\n",
      "<div class=\"layer-inner\">\n",
      "<div data-spm=\"201876\" class=\"tbh-helper J_Module\" data-name=\"helper\" tms-data=\"{&quot;moduleinfo&quot;:{&quot;helpers_count&quot;:[{&quot;count_phone&quot;:4,&quot;count&quot;:4}]},&quot;helpers&quot;:[{&quot;data_para&quot;:{&quot;tce_vid&quot;:&quot;0&quot;,&quot;tce_sid&quot;:1948817,&quot;env&quot;:&quot;online&quot;},&quot;tms_type&quot;:&quot;jsonp&quot;,&quot;data_type&quot;:&quot;tceonline&quot;}],&quot;countinfo&quot;:{&quot;helpers&quot;:{&quot;length_pc&quot;:0,&quot;length&quot;:0}}}\">\n",
      "<div class=\"helper J_Helper tb-loading\"></div>\n",
      "</div>\n",
      "</div>\n",
      "</div>\n",
      "<div class=\"tbh-corner J_Module\" data-name=\"corner\">\n",
      "<div class=\"corner-inner\" data-path=\"/mm/tb-page-peel/0.0.5/index\" data-title=\"\"></div>\n",
      "</div>\n",
      "<div class=\"tbh-fixedtool J_Module\" data-name=\"fixedtool\" data-spm=\"202138\">\n",
      "<div class=\"fixedtool a-all J_FixedTool \" data-feedback=\"1\" data-version=\"0.1.33\">\n",
      "</div>\n",
      "</div>\n",
      "<script>\n",
      "  if('undefined'===typeof console) {window.console = undefined;}\n",
      "  window.g_config = window.g_config || {};\n",
      "  window.g_config.appId = 6;\n",
      "  window.g_config.startDate = new Date();\n",
      "  window.g_config.webww = false;\n",
      "  window.g_config.weekend = false;\n",
      "  window.g_config.region = true;\n",
      "  window.g_config.jstracker2 = window.g_config.jstracker2 || {};\n",
      "  window.g_config.jstracker2.url = 'http://jstracker.www.taobao.com/2017';\n",
      "</script>\n",
      "<div class=\"J_Module tbh-inject tb-pass\" data-name=\"injectBefore\">\n",
      "</div>\n",
      "<script src=\"//g.alicdn.com/??kissy/k/6.2.4/seed-min.js,kg/global-util/1.0.5/index-min.js,tb/tracker/4.2.1/p/index/index.js,kg/tb-nav/2.5.3/index-min.js,secdev/sufei_data/3.0.8/index.js\"></script>\n",
      "<script>KISSY.use('kg/global-util/1.0.5/',{sync:true});KISSY.config({modules: {'kg/tb-nav':{alias:'kg/tb-nav/2.5.3/',requires:['kg/global-util/1.0.5/']}}});KISSY.ready(function(){KISSY.use('kg/tb-nav')});</script>\n",
      "<script>\n",
      "  // 搜索模块的版本号\n",
      "  window.suggestModuleVersion = '6.3.1';\n",
      "  KISSY.config({\n",
      "    combine: true,\n",
      "    packages: [{\n",
      "      name: 'kg',\n",
      "      base:  '//g.alicdn.com/kg/',\n",
      "      ignorePackageNameInUri: true,\n",
      "      combine: true\n",
      "    },{\n",
      "      name: 'p',\n",
      "      base: '//g.alicdn.com/tbh/backup/1.0.1',\n",
      "      combine: false,\n",
      "      debug: true\n",
      "    }],\n",
      "    modules: {\n",
      "      combobox: {\n",
      "        alias: ['kg/combobox/0.0.2/index']\n",
      "      },\n",
      "      'mini-login': {\n",
      "        alias: ['kg/mini-login/6.3.7/index']\n",
      "      },\n",
      "      xtemplate: {\n",
      "        alias: ['kg/xtemplate/4.3.0/index']\n",
      "      },\n",
      "      'attr-anim': {\n",
      "        alias: ['kg/attr-anim/6.0.3/index']\n",
      "      }\n",
      "    }\n",
      "  });\n",
      "</script>\n",
      "<script src=\"//g.alicdn.com/??kissy/k/6.2.4/event-custom-min.js,kissy/k/6.2.4/event-base-min.js,kissy/k/6.2.4/io-min.js,kissy/k/6.2.4/io-extra-min.js,kissy/k/6.2.4/io-base-min.js,kissy/k/6.2.4/promise-min.js,kissy/k/6.2.4/dom-base-min.js,kissy/k/6.2.4/query-selector-base-min.js,kissy/k/6.2.4/dom-extra-min.js,kissy/k/6.2.4/io-form-min.js,kissy/k/6.2.4/node-min.js,kissy/k/6.2.4/node-base-min.js,kissy/k/6.2.4/node-event-min.js,kissy/k/6.2.4/event-dom-base-min.js,kissy/k/6.2.4/event-dom-extra-min.js,kissy/k/6.2.4/event-gesture-min.js,kissy/k/6.2.4/event-touch-min.js,kissy/k/6.2.4/node-anim-min.js,kissy/k/6.2.4/anim-transition-min.js,kissy/k/6.2.4/anim-base-min.js,kissy/k/6.2.4/cookie-min.js,kissy/k/6.2.4/event-min.js,kissy/k/6.2.4/base-min.js,kissy/k/6.2.4/attribute-min.js,kissy/k/6.2.4/json-base-min.js,kg/attr-anim/6.0.6/index-min.js,kg/xctrl/7.2.1/xctrl-kissy-min.js,sd/sufei/0.2.4/app/common/sufei-kissy.js,kg/offline/7.0.1/index-min.js,kg/session/0.0.1/index-min.js,kg/slide/6.0.8/index-min.js,kg/straw/1.0.2/index-min.js,kg/datalazyload/6.0.10/index-min.js,kg/route-map-http/0.0.3/index.js\"></script>\n",
      "<script src=\"//g.alicdn.com/??kg/home-2017/1.2.3/index.js,kg/pattern/2.1.3/index-min.js,kg/pattern/2.1.3/lib/image-min.js,kg/pattern/2.1.3/lib/reporter-min.js,kg/pattern/2.1.3/lib/io-min.js,kg/home-2017/1.2.3/c/fixedtool/index.css.js,kg/pattern/2.1.3/lib/event-min.js\"></script>\n",
      "<input id=\"J_TBBucket\" data-version=\"1.2.3\" class=\"\" value=\"3\" data-container=\"\" data-stop=\"1\" type=\"hidden\">\n",
      "<script>KISSY.use('kg/home-2017/1.2.3/index');</script>\n",
      "<div class=\"J_Module tbh-inject tb-pass\" data-name=\"injectAfter\">\n",
      "</div>\n",
      "\n",
      "\n",
      "<div id=\"J_SiteFooter\" style=\"min-height: 150px\"></div></body></html>\n"
     ]
    }
   ],
   "source": [
    "browser = webdriver.Firefox()\n",
    "browser.get('https://www.taobao.com')\n",
    "print(browser.page_source)\n",
    "browser.close()"
   ]
  },
  {
   "cell_type": "markdown",
   "metadata": {},
   "source": [
    "# 查找元素\n",
    "- 单个元素 find_element"
   ]
  },
  {
   "cell_type": "code",
   "execution_count": 15,
   "metadata": {
    "collapsed": true
   },
   "outputs": [],
   "source": [
    "from selenium import webdriver"
   ]
  },
  {
   "cell_type": "code",
   "execution_count": 16,
   "metadata": {},
   "outputs": [
    {
     "name": "stdout",
     "output_type": "stream",
     "text": [
      "<selenium.webdriver.firefox.webelement.FirefoxWebElement (session=\"aed4c2bc-c3ff-4ac2-8a1a-8bec76bb5dcd\", element=\"09f27984-49a2-4621-866b-0e704f32eac8\")> <selenium.webdriver.firefox.webelement.FirefoxWebElement (session=\"aed4c2bc-c3ff-4ac2-8a1a-8bec76bb5dcd\", element=\"09f27984-49a2-4621-866b-0e704f32eac8\")> <selenium.webdriver.firefox.webelement.FirefoxWebElement (session=\"aed4c2bc-c3ff-4ac2-8a1a-8bec76bb5dcd\", element=\"09f27984-49a2-4621-866b-0e704f32eac8\")>\n"
     ]
    }
   ],
   "source": [
    "browser = webdriver.Firefox()\n",
    "browser.get('https://www.taobao.com')\n",
    "input_first = browser.find_element_by_id('q')\n",
    "input_second = browser.find_element_by_css_selector('#q')\n",
    "input_third = browser.find_element_by_xpath('//*[@id=\"q\"]')\n",
    "print(input_first, input_second, input_third)\n",
    "browser.close()"
   ]
  },
  {
   "cell_type": "markdown",
   "metadata": {},
   "source": [
    "   - find_element_by_name\n",
    "   - find_element_by_xpath\n",
    "   - find_element_by_link_text\n",
    "   - find_element_by_partial_link_text\n",
    "   - find_element_by_tag_name\n",
    "   - find_element_by_class_name\n",
    "   - find_element_by_css_selector"
   ]
  },
  {
   "cell_type": "code",
   "execution_count": 17,
   "metadata": {},
   "outputs": [
    {
     "name": "stdout",
     "output_type": "stream",
     "text": [
      "<selenium.webdriver.firefox.webelement.FirefoxWebElement (session=\"3ad6fade-be15-4759-8956-60a1c58e5574\", element=\"cdcb001b-2d70-4a27-9286-0a86025fd08f\")>\n"
     ]
    }
   ],
   "source": [
    "from selenium import webdriver\n",
    "from selenium.webdriver.common.by import By\n",
    "\n",
    "browser = webdriver.Firefox()\n",
    "browser.get('https://www.taobao.com')\n",
    "input_first = browser.find_element(By.ID, 'q')\n",
    "print(input_first)\n",
    "browser.close()"
   ]
  },
  {
   "cell_type": "markdown",
   "metadata": {},
   "source": [
    "# 多个元素\n",
    "- find_elements"
   ]
  },
  {
   "cell_type": "code",
   "execution_count": 19,
   "metadata": {},
   "outputs": [
    {
     "name": "stdout",
     "output_type": "stream",
     "text": [
      "[<selenium.webdriver.firefox.webelement.FirefoxWebElement (session=\"59358fa1-9e39-4ffe-a3ea-a638dd117c39\", element=\"ddaa0157-b0e3-48b7-8daa-db869dc6c3af\")>, <selenium.webdriver.firefox.webelement.FirefoxWebElement (session=\"59358fa1-9e39-4ffe-a3ea-a638dd117c39\", element=\"238cb300-6b4f-4347-822b-abb6715eb456\")>, <selenium.webdriver.firefox.webelement.FirefoxWebElement (session=\"59358fa1-9e39-4ffe-a3ea-a638dd117c39\", element=\"e455f4f0-20e7-49f7-9d1f-a907162b1ac9\")>, <selenium.webdriver.firefox.webelement.FirefoxWebElement (session=\"59358fa1-9e39-4ffe-a3ea-a638dd117c39\", element=\"3bef8e13-db81-457e-a083-c0a579eff9ef\")>, <selenium.webdriver.firefox.webelement.FirefoxWebElement (session=\"59358fa1-9e39-4ffe-a3ea-a638dd117c39\", element=\"cd144f14-2792-43de-bd92-d334ad4cc606\")>, <selenium.webdriver.firefox.webelement.FirefoxWebElement (session=\"59358fa1-9e39-4ffe-a3ea-a638dd117c39\", element=\"33c9929b-4b20-4041-a6c6-a4a28906b13a\")>, <selenium.webdriver.firefox.webelement.FirefoxWebElement (session=\"59358fa1-9e39-4ffe-a3ea-a638dd117c39\", element=\"194e9da9-301b-4d3e-abca-f01d3ad89c98\")>, <selenium.webdriver.firefox.webelement.FirefoxWebElement (session=\"59358fa1-9e39-4ffe-a3ea-a638dd117c39\", element=\"f0bc841c-94a5-4356-a398-3c4beb2ac3d4\")>, <selenium.webdriver.firefox.webelement.FirefoxWebElement (session=\"59358fa1-9e39-4ffe-a3ea-a638dd117c39\", element=\"2b8c1aac-bc08-460f-a1e3-cd6c4d2ce8a4\")>, <selenium.webdriver.firefox.webelement.FirefoxWebElement (session=\"59358fa1-9e39-4ffe-a3ea-a638dd117c39\", element=\"2e42beac-ba13-460e-9046-409f3dfd8326\")>, <selenium.webdriver.firefox.webelement.FirefoxWebElement (session=\"59358fa1-9e39-4ffe-a3ea-a638dd117c39\", element=\"2e0ff6fb-f233-4998-acea-553b3413b949\")>, <selenium.webdriver.firefox.webelement.FirefoxWebElement (session=\"59358fa1-9e39-4ffe-a3ea-a638dd117c39\", element=\"d2b9f5bb-7ef0-4b80-af0c-3cd5ac0e00c8\")>, <selenium.webdriver.firefox.webelement.FirefoxWebElement (session=\"59358fa1-9e39-4ffe-a3ea-a638dd117c39\", element=\"c563dbfd-cac6-4196-bc86-c7276226c63f\")>, <selenium.webdriver.firefox.webelement.FirefoxWebElement (session=\"59358fa1-9e39-4ffe-a3ea-a638dd117c39\", element=\"3e2e4311-5889-4815-9448-542377e22cc1\")>, <selenium.webdriver.firefox.webelement.FirefoxWebElement (session=\"59358fa1-9e39-4ffe-a3ea-a638dd117c39\", element=\"de1342d8-e46c-4f92-846a-5ffb678cd8f0\")>, <selenium.webdriver.firefox.webelement.FirefoxWebElement (session=\"59358fa1-9e39-4ffe-a3ea-a638dd117c39\", element=\"ada85cf8-946e-4182-bc64-cc1a8443f6e0\")>]\n"
     ]
    }
   ],
   "source": [
    "from selenium import webdriver\n",
    "\n",
    "browser = webdriver.Firefox()\n",
    "browser.get('https://www.taobao.com')\n",
    "lis = browser.find_elements_by_css_selector('.service-bd li')\n",
    "print(lis)\n",
    "browser.close()"
   ]
  },
  {
   "cell_type": "code",
   "execution_count": 20,
   "metadata": {},
   "outputs": [
    {
     "name": "stdout",
     "output_type": "stream",
     "text": [
      "[<selenium.webdriver.firefox.webelement.FirefoxWebElement (session=\"3b6d28f5-fde5-4c30-9dea-cfbbdd20ce09\", element=\"2101d465-0f53-40e3-adc0-a2e6bf5bf766\")>, <selenium.webdriver.firefox.webelement.FirefoxWebElement (session=\"3b6d28f5-fde5-4c30-9dea-cfbbdd20ce09\", element=\"7045bbeb-d29d-4e28-b7e8-3db9f072f4e2\")>, <selenium.webdriver.firefox.webelement.FirefoxWebElement (session=\"3b6d28f5-fde5-4c30-9dea-cfbbdd20ce09\", element=\"12f03c0c-4f35-40ee-8381-43317ed76358\")>, <selenium.webdriver.firefox.webelement.FirefoxWebElement (session=\"3b6d28f5-fde5-4c30-9dea-cfbbdd20ce09\", element=\"451cc767-c2da-4805-a31a-1721cae21ea0\")>, <selenium.webdriver.firefox.webelement.FirefoxWebElement (session=\"3b6d28f5-fde5-4c30-9dea-cfbbdd20ce09\", element=\"496475be-03b9-47e9-9aa4-f6d68f12d535\")>, <selenium.webdriver.firefox.webelement.FirefoxWebElement (session=\"3b6d28f5-fde5-4c30-9dea-cfbbdd20ce09\", element=\"7d0bb18a-ea58-430b-8e35-ad3fc169dcbf\")>, <selenium.webdriver.firefox.webelement.FirefoxWebElement (session=\"3b6d28f5-fde5-4c30-9dea-cfbbdd20ce09\", element=\"c17d5a9a-c02a-4a17-b60d-eb21f1b783ca\")>, <selenium.webdriver.firefox.webelement.FirefoxWebElement (session=\"3b6d28f5-fde5-4c30-9dea-cfbbdd20ce09\", element=\"4a13bc8b-e7d0-40f6-a742-6c44b2aeb7b9\")>, <selenium.webdriver.firefox.webelement.FirefoxWebElement (session=\"3b6d28f5-fde5-4c30-9dea-cfbbdd20ce09\", element=\"8e8d916d-da2d-47e4-8109-1eb7de255634\")>, <selenium.webdriver.firefox.webelement.FirefoxWebElement (session=\"3b6d28f5-fde5-4c30-9dea-cfbbdd20ce09\", element=\"c8567d9b-a226-43e6-9922-9d91022a5d90\")>, <selenium.webdriver.firefox.webelement.FirefoxWebElement (session=\"3b6d28f5-fde5-4c30-9dea-cfbbdd20ce09\", element=\"e09e7491-67c3-4a57-bdfb-8019008fc08b\")>, <selenium.webdriver.firefox.webelement.FirefoxWebElement (session=\"3b6d28f5-fde5-4c30-9dea-cfbbdd20ce09\", element=\"09261932-ca56-4b25-9c8f-708e1d6cdd0c\")>, <selenium.webdriver.firefox.webelement.FirefoxWebElement (session=\"3b6d28f5-fde5-4c30-9dea-cfbbdd20ce09\", element=\"8a29b5f0-2454-4a2f-8b08-f78094817e31\")>, <selenium.webdriver.firefox.webelement.FirefoxWebElement (session=\"3b6d28f5-fde5-4c30-9dea-cfbbdd20ce09\", element=\"b2efd656-cac9-4c4e-9e2b-f4ea1fe97b97\")>, <selenium.webdriver.firefox.webelement.FirefoxWebElement (session=\"3b6d28f5-fde5-4c30-9dea-cfbbdd20ce09\", element=\"48f775c8-6186-496d-af98-857cb968970d\")>, <selenium.webdriver.firefox.webelement.FirefoxWebElement (session=\"3b6d28f5-fde5-4c30-9dea-cfbbdd20ce09\", element=\"3f07f607-02e8-4cc8-99ba-c32fbd8ab35a\")>]\n"
     ]
    }
   ],
   "source": [
    "from selenium import webdriver\n",
    "from selenium.webdriver.common.by import By\n",
    "\n",
    "browser = webdriver.Firefox()\n",
    "browser.get('https://www.taobao.com')\n",
    "lis = browser.find_elements(By.CSS_SELECTOR, '.service-bd li')\n",
    "print(lis)\n",
    "browser.close()"
   ]
  },
  {
   "cell_type": "markdown",
   "metadata": {},
   "source": [
    "* find_elements_by_name\n",
    "* find_elements_by_xpath\n",
    "* find_elements_by_link_text\n",
    "* find_elements_by_partial_link_text\n",
    "* find_elements_by_tag_name\n",
    "* find_elements_by_class_name\n",
    "* find_elements_by_css_selector"
   ]
  },
  {
   "cell_type": "markdown",
   "metadata": {},
   "source": [
    "## 元素交互操作"
   ]
  },
  {
   "cell_type": "markdown",
   "metadata": {},
   "source": [
    "对获取的元素调用交互方法"
   ]
  },
  {
   "cell_type": "code",
   "execution_count": 25,
   "metadata": {
    "collapsed": true
   },
   "outputs": [],
   "source": [
    "from selenium import webdriver\n",
    "import time\n",
    "\n",
    "browser = webdriver.Firefox()\n",
    "browser.get('https://www.taobao.com')\n",
    "input = browser.find_element_by_id('q')\n",
    "input.send_keys('iPhone')\n",
    "time.sleep(1)\n",
    "input.clear()\n",
    "input.send_keys('iPad')\n",
    "button = browser.find_element_by_class_name('btn-search')\n",
    "button.click()"
   ]
  },
  {
   "cell_type": "markdown",
   "metadata": {},
   "source": [
    "更多操作: http://selenium-python.readthedocs.io/api.html#module-selenium.webdriver.remote.webelement"
   ]
  },
  {
   "cell_type": "markdown",
   "metadata": {},
   "source": [
    "## 交互动作"
   ]
  },
  {
   "cell_type": "markdown",
   "metadata": {},
   "source": [
    "将动作附加到动作链中串行执行"
   ]
  },
  {
   "cell_type": "code",
   "execution_count": 26,
   "metadata": {
    "collapsed": true
   },
   "outputs": [],
   "source": [
    "from selenium import webdriver\n",
    "from selenium.webdriver import ActionChains\n",
    "\n",
    "browser = webdriver.Firefox()\n",
    "url = 'http://www.runoob.com/try/try.php?filename=jqueryui-api-droppable'\n",
    "browser.get(url)\n",
    "browser.switch_to.frame('iframeResult')\n",
    "source = browser.find_element_by_css_selector('#draggable')\n",
    "target = browser.find_element_by_css_selector('#droppable')\n",
    "actions = ActionChains(browser)\n",
    "actions.drag_and_drop(source, target)\n",
    "actions.perform()"
   ]
  },
  {
   "cell_type": "markdown",
   "metadata": {},
   "source": [
    "更多操作: http://selenium-python.readthedocs.io/api.html#module-selenium.webdriver.common.action_chains"
   ]
  },
  {
   "cell_type": "markdown",
   "metadata": {},
   "source": [
    "## 执行JavaScript"
   ]
  },
  {
   "cell_type": "code",
   "execution_count": 28,
   "metadata": {
    "collapsed": true
   },
   "outputs": [],
   "source": [
    "from selenium import webdriver\n",
    "\n",
    "browser = webdriver.Firefox()\n",
    "browser.get('https://www.zhihu.com/explore')\n",
    "browser.execute_script('window.scrollTo(0, document.body.scrollHeight)')\n",
    "browser.execute_script('alert(\"To Bottom\")')"
   ]
  },
  {
   "cell_type": "markdown",
   "metadata": {},
   "source": [
    "## 获取元素信息"
   ]
  },
  {
   "cell_type": "markdown",
   "metadata": {},
   "source": [
    "### 获取属性"
   ]
  },
  {
   "cell_type": "code",
   "execution_count": 31,
   "metadata": {},
   "outputs": [
    {
     "name": "stdout",
     "output_type": "stream",
     "text": [
      "<selenium.webdriver.firefox.webelement.FirefoxWebElement (session=\"6b77001c-c403-470b-8dee-2243cafcca55\", element=\"9c938869-7f62-4a3a-9121-8226e7b65445\")>\n",
      "zu-top-link-logo\n"
     ]
    }
   ],
   "source": [
    "from selenium import webdriver\n",
    "from selenium.webdriver import ActionChains\n",
    "\n",
    "browser = webdriver.Firefox()\n",
    "url = 'https://www.zhihu.com/explore'\n",
    "browser.get(url)\n",
    "logo = browser.find_element_by_id('zh-top-link-logo')\n",
    "print(logo)\n",
    "print(logo.get_attribute('class'))"
   ]
  },
  {
   "cell_type": "markdown",
   "metadata": {},
   "source": [
    "## 获取文本值"
   ]
  },
  {
   "cell_type": "code",
   "execution_count": 33,
   "metadata": {},
   "outputs": [
    {
     "name": "stdout",
     "output_type": "stream",
     "text": [
      "提问\n"
     ]
    }
   ],
   "source": [
    "from selenium import webdriver\n",
    "\n",
    "browser = webdriver.Firefox()\n",
    "url = 'https://www.zhihu.com/explore'\n",
    "browser.get(url)\n",
    "input = browser.find_element_by_class_name('zu-top-add-question')\n",
    "print(input.text)"
   ]
  },
  {
   "cell_type": "markdown",
   "metadata": {},
   "source": [
    "## 获取ID、位置、标签名、大小"
   ]
  },
  {
   "cell_type": "code",
   "execution_count": 34,
   "metadata": {},
   "outputs": [
    {
     "name": "stdout",
     "output_type": "stream",
     "text": [
      "c65d15f7-812d-405a-82d2-280c1720a561\n",
      "{'x': 875, 'y': 7}\n",
      "button\n",
      "{'height': 32.0, 'width': 66.0}\n"
     ]
    }
   ],
   "source": [
    "from selenium import webdriver\n",
    "\n",
    "browser = webdriver.Firefox()\n",
    "url = 'https://www.zhihu.com/explore'\n",
    "browser.get(url)\n",
    "input = browser.find_element_by_class_name('zu-top-add-question')\n",
    "print(input.id)\n",
    "print(input.location)\n",
    "print(input.tag_name)\n",
    "print(input.size)"
   ]
  },
  {
   "cell_type": "markdown",
   "metadata": {},
   "source": [
    "## Frame"
   ]
  },
  {
   "cell_type": "code",
   "execution_count": 35,
   "metadata": {},
   "outputs": [
    {
     "name": "stdout",
     "output_type": "stream",
     "text": [
      "<selenium.webdriver.firefox.webelement.FirefoxWebElement (session=\"9e013dda-75d7-4253-ab02-f27056562b70\", element=\"5a4c5cd9-e600-40a5-b4f4-bb2930dcdc75\")>\n",
      "NO LOGO\n",
      "<selenium.webdriver.firefox.webelement.FirefoxWebElement (session=\"9e013dda-75d7-4253-ab02-f27056562b70\", element=\"2b2e8ea2-f232-4f36-9c14-919229914756\")>\n",
      "RUNOOB.COM\n"
     ]
    }
   ],
   "source": [
    "import time\n",
    "from selenium import webdriver\n",
    "from selenium.common.exceptions import NoSuchElementException\n",
    "\n",
    "browser = webdriver.Firefox()\n",
    "url = 'http://www.runoob.com/try/try.php?filename=jqueryui-api-droppable'\n",
    "browser.get(url)\n",
    "browser.switch_to.frame('iframeResult')\n",
    "source = browser.find_element_by_css_selector('#draggable')\n",
    "print(source)\n",
    "try:\n",
    "    logo = browser.find_element_by_class_name('logo')\n",
    "except NoSuchElementException:\n",
    "    print('NO LOGO')\n",
    "browser.switch_to.parent_frame()\n",
    "logo = browser.find_element_by_class_name('logo')\n",
    "print(logo)\n",
    "print(logo.text)"
   ]
  },
  {
   "cell_type": "markdown",
   "metadata": {},
   "source": [
    "## 等待\n",
    "* 等某些ajax完全加载"
   ]
  },
  {
   "cell_type": "markdown",
   "metadata": {},
   "source": [
    "### 隐式等待"
   ]
  },
  {
   "cell_type": "markdown",
   "metadata": {},
   "source": [
    "当使用了隐式等待执行测试的时候，如果 WebDriver没有在 DOM中找到元素，将继续等待，超出设定时间后则抛出找不到元素的异常, 换句话说，当查找元素或元素并没有立即出现的时候，隐式等待将等待一段时间再查找 DOM，默认的时间是0"
   ]
  },
  {
   "cell_type": "code",
   "execution_count": 37,
   "metadata": {},
   "outputs": [
    {
     "name": "stdout",
     "output_type": "stream",
     "text": [
      "<selenium.webdriver.firefox.webelement.FirefoxWebElement (session=\"a798e64d-c51f-4558-b894-33ac3b529372\", element=\"3e9de4cf-2154-4dc6-bca1-2c19b7c52c3e\")>\n"
     ]
    }
   ],
   "source": [
    "from selenium import webdriver\n",
    "\n",
    "browser = webdriver.Firefox()\n",
    "browser.implicitly_wait(10)\n",
    "browser.get('https://www.zhihu.com/explore')\n",
    "input = browser.find_element_by_class_name('zu-top-add-question')\n",
    "print(input)"
   ]
  },
  {
   "cell_type": "markdown",
   "metadata": {},
   "source": [
    "## 显式等待"
   ]
  },
  {
   "cell_type": "code",
   "execution_count": 38,
   "metadata": {},
   "outputs": [
    {
     "name": "stdout",
     "output_type": "stream",
     "text": [
      "<selenium.webdriver.firefox.webelement.FirefoxWebElement (session=\"e07e0f2a-a2fa-4283-8787-f092487fb500\", element=\"da8ebc83-15e6-48a9-b235-83d8b791c0cb\")> <selenium.webdriver.firefox.webelement.FirefoxWebElement (session=\"e07e0f2a-a2fa-4283-8787-f092487fb500\", element=\"322f6046-1936-425a-9ff8-d87382940b0b\")>\n"
     ]
    }
   ],
   "source": [
    "from selenium import webdriver\n",
    "from selenium.webdriver.common.by import By\n",
    "from selenium.webdriver.support.ui import WebDriverWait\n",
    "from selenium.webdriver.support import expected_conditions as EC\n",
    "\n",
    "browser = webdriver.Firefox()\n",
    "browser.get('https://www.taobao.com/')\n",
    "wait = WebDriverWait(browser, 10)\n",
    "input = wait.until(EC.presence_of_element_located((By.ID, 'q')))\n",
    "button = wait.until(EC.element_to_be_clickable((By.CSS_SELECTOR, '.btn-search')))\n",
    "print(input, button)"
   ]
  },
  {
   "cell_type": "markdown",
   "metadata": {},
   "source": [
    "* title_is 标题是某内容\n",
    "* title_contains  标题包含某内容\n",
    "* presence_of_element_located 元素加载出，传入定位元组，如(By.ID, 'p')\n",
    "* visibility_of_element_located  元素可见，传入定位元组\n",
    "* visibility_of 可见，传入元素对象\n",
    "* presence_of_all_elements_located 所有元素加载出\n",
    "* text_to_be_present_in_element 某个元素文本包含某文字\n",
    "* text_to_be_present_in_element_value  某个元素值包含某文字\n",
    "* frame_to_be_available_and_switch_to_it  frame加载并切换\n",
    "* invisibility_of_element_located 元素不可见\n",
    "* element_to_be_clickable  元素可点击\n",
    "* staleness_of  判断一个元素是否仍在DOM，可判断页面是否已经刷新\n",
    "* element_to_be_selected  元素可选择，传元素对象\n",
    "* element_located_to_be_selected  元素可选择，传入定位元组\n",
    "* element_selection_state_to_be  传入元素对象以及状态，相等返回True，否则返回False\n",
    "* element_located_selection_state_to_be  传入定位元组以及状态，相等返回True，否则返回False\n",
    "* alert_is_present 是否出现Alert"
   ]
  },
  {
   "cell_type": "markdown",
   "metadata": {},
   "source": [
    "详细内容：http://selenium-python.readthedocs.io/api.html#module-selenium.webdriver.support.expected_conditions"
   ]
  },
  {
   "cell_type": "markdown",
   "metadata": {},
   "source": [
    "## 前进后退"
   ]
  },
  {
   "cell_type": "code",
   "execution_count": 40,
   "metadata": {
    "collapsed": true
   },
   "outputs": [],
   "source": [
    "import time\n",
    "from selenium import webdriver\n",
    "\n",
    "browser = webdriver.Firefox()\n",
    "browser.get('https://www.baidu.com/')\n",
    "browser.get('https://www.taobao.com/')\n",
    "browser.get('https://www.python.org/')\n",
    "browser.back()\n",
    "time.sleep(1)\n",
    "browser.forward()\n",
    "browser.close()"
   ]
  },
  {
   "cell_type": "markdown",
   "metadata": {
    "collapsed": true
   },
   "source": [
    "## Cookies"
   ]
  },
  {
   "cell_type": "code",
   "execution_count": 1,
   "metadata": {},
   "outputs": [
    {
     "name": "stdout",
     "output_type": "stream",
     "text": [
      "[{'name': 'aliyungf_tc', 'value': 'AQAAAN/II0agDAsAadV4agL7hXYiKUWU', 'path': '/', 'domain': 'www.zhihu.com', 'expiry': None, 'secure': False, 'httpOnly': True}, {'name': 'l_n_c', 'value': '1', 'path': '/', 'domain': '.zhihu.com', 'expiry': None, 'secure': False, 'httpOnly': False}, {'name': 'q_c1', 'value': '3b5cfe7d543a4152be213fb7e6bf4f20|1517878746000|1517878746000', 'path': '/', 'domain': '.zhihu.com', 'expiry': 1612486746, 'secure': False, 'httpOnly': False}, {'name': '_xsrf', 'value': 'ab9661f04e1dd0033815c4cfdf336bfb', 'path': '/', 'domain': 'www.zhihu.com', 'expiry': None, 'secure': False, 'httpOnly': False}, {'name': 'r_cap_id', 'value': '\"MWVlZjcyZmZiYTdlNDA1M2EzNWVkYjkxNjg3OGIzMGY=|1517878746|0c1b7981e6a6f73db109f21faed10104a5c97b53\"', 'path': '/', 'domain': '.zhihu.com', 'expiry': 1520470746, 'secure': False, 'httpOnly': False}, {'name': 'cap_id', 'value': '\"ZDE3MTI4ZWYzMDAwNGQyMmIwMjI0ZTdmYmQ5YzVkMGE=|1517878746|ede20a0a9fa483a4814c4adde4b9f8e4d3659ecd\"', 'path': '/', 'domain': '.zhihu.com', 'expiry': 1520470746, 'secure': False, 'httpOnly': False}, {'name': 'l_cap_id', 'value': '\"YjZjYjU1NDc0OWI4NDEwMWI4MjlkMTUzOTY3ZjVlYTk=|1517878746|ef740c8c37e657d4e60171e197d420563278edbf\"', 'path': '/', 'domain': '.zhihu.com', 'expiry': 1520470746, 'secure': False, 'httpOnly': False}, {'name': 'n_c', 'value': '1', 'path': '/', 'domain': '.zhihu.com', 'expiry': None, 'secure': False, 'httpOnly': False}, {'name': 'd_c0', 'value': '\"AEBr5ZQ7Gg2PTv9MFgyK965xQ82SkXIl55E=|1517878748\"', 'path': '/', 'domain': '.zhihu.com', 'expiry': 1612486748, 'secure': False, 'httpOnly': False}, {'name': '_zap', 'value': '34fa8e0b-0070-4ece-bafe-44e909856215', 'path': '/', 'domain': '.zhihu.com', 'expiry': 1580950747, 'secure': False, 'httpOnly': False}, {'name': '__utma', 'value': '51854390.1391156651.1517878750.1517878750.1517878750.1', 'path': '/', 'domain': '.zhihu.com', 'expiry': 1580950750, 'secure': False, 'httpOnly': False}, {'name': '__utmb', 'value': '51854390.0.10.1517878750', 'path': '/', 'domain': '.zhihu.com', 'expiry': 1517880550, 'secure': False, 'httpOnly': False}, {'name': '__utmc', 'value': '51854390', 'path': '/', 'domain': '.zhihu.com', 'expiry': None, 'secure': False, 'httpOnly': False}, {'name': '__utmz', 'value': '51854390.1517878750.1.1.utmcsr=(direct)|utmccn=(direct)|utmcmd=(none)', 'path': '/', 'domain': '.zhihu.com', 'expiry': 1533646750, 'secure': False, 'httpOnly': False}, {'name': '__utmv', 'value': '51854390.000--|3=entry_date=20180206=1', 'path': '/', 'domain': '.zhihu.com', 'expiry': 1580950750, 'secure': False, 'httpOnly': False}]\n",
      "[{'name': 'aliyungf_tc', 'value': 'AQAAAN/II0agDAsAadV4agL7hXYiKUWU', 'path': '/', 'domain': 'www.zhihu.com', 'expiry': None, 'secure': False, 'httpOnly': True}, {'name': 'l_n_c', 'value': '1', 'path': '/', 'domain': '.zhihu.com', 'expiry': None, 'secure': False, 'httpOnly': False}, {'name': 'q_c1', 'value': '3b5cfe7d543a4152be213fb7e6bf4f20|1517878746000|1517878746000', 'path': '/', 'domain': '.zhihu.com', 'expiry': 1612486746, 'secure': False, 'httpOnly': False}, {'name': '_xsrf', 'value': 'ab9661f04e1dd0033815c4cfdf336bfb', 'path': '/', 'domain': 'www.zhihu.com', 'expiry': None, 'secure': False, 'httpOnly': False}, {'name': 'r_cap_id', 'value': '\"MWVlZjcyZmZiYTdlNDA1M2EzNWVkYjkxNjg3OGIzMGY=|1517878746|0c1b7981e6a6f73db109f21faed10104a5c97b53\"', 'path': '/', 'domain': '.zhihu.com', 'expiry': 1520470746, 'secure': False, 'httpOnly': False}, {'name': 'cap_id', 'value': '\"ZDE3MTI4ZWYzMDAwNGQyMmIwMjI0ZTdmYmQ5YzVkMGE=|1517878746|ede20a0a9fa483a4814c4adde4b9f8e4d3659ecd\"', 'path': '/', 'domain': '.zhihu.com', 'expiry': 1520470746, 'secure': False, 'httpOnly': False}, {'name': 'l_cap_id', 'value': '\"YjZjYjU1NDc0OWI4NDEwMWI4MjlkMTUzOTY3ZjVlYTk=|1517878746|ef740c8c37e657d4e60171e197d420563278edbf\"', 'path': '/', 'domain': '.zhihu.com', 'expiry': 1520470746, 'secure': False, 'httpOnly': False}, {'name': 'n_c', 'value': '1', 'path': '/', 'domain': '.zhihu.com', 'expiry': None, 'secure': False, 'httpOnly': False}, {'name': 'd_c0', 'value': '\"AEBr5ZQ7Gg2PTv9MFgyK965xQ82SkXIl55E=|1517878748\"', 'path': '/', 'domain': '.zhihu.com', 'expiry': 1612486748, 'secure': False, 'httpOnly': False}, {'name': '_zap', 'value': '34fa8e0b-0070-4ece-bafe-44e909856215', 'path': '/', 'domain': '.zhihu.com', 'expiry': 1580950747, 'secure': False, 'httpOnly': False}, {'name': '__utma', 'value': '51854390.1391156651.1517878750.1517878750.1517878750.1', 'path': '/', 'domain': '.zhihu.com', 'expiry': 1580950750, 'secure': False, 'httpOnly': False}, {'name': '__utmb', 'value': '51854390.0.10.1517878750', 'path': '/', 'domain': '.zhihu.com', 'expiry': 1517880550, 'secure': False, 'httpOnly': False}, {'name': '__utmc', 'value': '51854390', 'path': '/', 'domain': '.zhihu.com', 'expiry': None, 'secure': False, 'httpOnly': False}, {'name': '__utmz', 'value': '51854390.1517878750.1.1.utmcsr=(direct)|utmccn=(direct)|utmcmd=(none)', 'path': '/', 'domain': '.zhihu.com', 'expiry': 1533646750, 'secure': False, 'httpOnly': False}, {'name': '__utmv', 'value': '51854390.000--|3=entry_date=20180206=1', 'path': '/', 'domain': '.zhihu.com', 'expiry': 1580950750, 'secure': False, 'httpOnly': False}, {'name': 'name', 'value': 'germey', 'path': '/', 'domain': '.www.zhihu.com', 'expiry': None, 'secure': False, 'httpOnly': False}]\n",
      "[]\n"
     ]
    }
   ],
   "source": [
    "from selenium import webdriver\n",
    "\n",
    "browser = webdriver.Firefox()\n",
    "browser.get('https://www.zhihu.com/explore')\n",
    "print(browser.get_cookies())\n",
    "browser.add_cookie({'name': 'name', 'domain': 'www.zhihu.com', 'value': 'germey'})\n",
    "print(browser.get_cookies())\n",
    "browser.delete_all_cookies()\n",
    "print(browser.get_cookies())"
   ]
  },
  {
   "cell_type": "markdown",
   "metadata": {
    "collapsed": true
   },
   "source": [
    "## 选项卡管理"
   ]
  },
  {
   "cell_type": "code",
   "execution_count": 4,
   "metadata": {},
   "outputs": [
    {
     "name": "stdout",
     "output_type": "stream",
     "text": [
      "['4294967297', '4294967301']\n"
     ]
    }
   ],
   "source": [
    "import time\n",
    "from selenium import webdriver\n",
    "\n",
    "browser = webdriver.Firefox()\n",
    "browser.get('https://www.baidu.com')\n",
    "browser.execute_script('window.open()')\n",
    "print(browser.window_handles)\n",
    "browser.switch_to_window(browser.window_handles[1])\n",
    "browser.get('https://www.taobao.com')\n",
    "time.sleep(1)\n",
    "browser.switch_to_window(browser.window_handles[0])\n",
    "browser.get('https://python.org')"
   ]
  },
  {
   "cell_type": "markdown",
   "metadata": {},
   "source": [
    "## 异常处理"
   ]
  },
  {
   "cell_type": "code",
   "execution_count": 5,
   "metadata": {},
   "outputs": [
    {
     "ename": "NoSuchElementException",
     "evalue": "Message: Unable to locate element: [id=\"hello\"]\n",
     "output_type": "error",
     "traceback": [
      "\u001b[1;31m---------------------------------------------------------------------------\u001b[0m",
      "\u001b[1;31mNoSuchElementException\u001b[0m                    Traceback (most recent call last)",
      "\u001b[1;32m<ipython-input-5-8ac48e14e07f>\u001b[0m in \u001b[0;36m<module>\u001b[1;34m()\u001b[0m\n\u001b[0;32m      3\u001b[0m \u001b[0mbrowser\u001b[0m \u001b[1;33m=\u001b[0m \u001b[0mwebdriver\u001b[0m\u001b[1;33m.\u001b[0m\u001b[0mFirefox\u001b[0m\u001b[1;33m(\u001b[0m\u001b[1;33m)\u001b[0m\u001b[1;33m\u001b[0m\u001b[0m\n\u001b[0;32m      4\u001b[0m \u001b[0mbrowser\u001b[0m\u001b[1;33m.\u001b[0m\u001b[0mget\u001b[0m\u001b[1;33m(\u001b[0m\u001b[1;34m'https://www.baidu.com'\u001b[0m\u001b[1;33m)\u001b[0m\u001b[1;33m\u001b[0m\u001b[0m\n\u001b[1;32m----> 5\u001b[1;33m \u001b[0mbrowser\u001b[0m\u001b[1;33m.\u001b[0m\u001b[0mfind_element_by_id\u001b[0m\u001b[1;33m(\u001b[0m\u001b[1;34m'hello'\u001b[0m\u001b[1;33m)\u001b[0m\u001b[1;33m\u001b[0m\u001b[0m\n\u001b[0m",
      "\u001b[1;32m~\\Anaconda3\\lib\\site-packages\\selenium\\webdriver\\remote\\webdriver.py\u001b[0m in \u001b[0;36mfind_element_by_id\u001b[1;34m(self, id_)\u001b[0m\n\u001b[0;32m    349\u001b[0m             \u001b[0melement\u001b[0m \u001b[1;33m=\u001b[0m \u001b[0mdriver\u001b[0m\u001b[1;33m.\u001b[0m\u001b[0mfind_element_by_id\u001b[0m\u001b[1;33m(\u001b[0m\u001b[1;34m'foo'\u001b[0m\u001b[1;33m)\u001b[0m\u001b[1;33m\u001b[0m\u001b[0m\n\u001b[0;32m    350\u001b[0m         \"\"\"\n\u001b[1;32m--> 351\u001b[1;33m         \u001b[1;32mreturn\u001b[0m \u001b[0mself\u001b[0m\u001b[1;33m.\u001b[0m\u001b[0mfind_element\u001b[0m\u001b[1;33m(\u001b[0m\u001b[0mby\u001b[0m\u001b[1;33m=\u001b[0m\u001b[0mBy\u001b[0m\u001b[1;33m.\u001b[0m\u001b[0mID\u001b[0m\u001b[1;33m,\u001b[0m \u001b[0mvalue\u001b[0m\u001b[1;33m=\u001b[0m\u001b[0mid_\u001b[0m\u001b[1;33m)\u001b[0m\u001b[1;33m\u001b[0m\u001b[0m\n\u001b[0m\u001b[0;32m    352\u001b[0m \u001b[1;33m\u001b[0m\u001b[0m\n\u001b[0;32m    353\u001b[0m     \u001b[1;32mdef\u001b[0m \u001b[0mfind_elements_by_id\u001b[0m\u001b[1;33m(\u001b[0m\u001b[0mself\u001b[0m\u001b[1;33m,\u001b[0m \u001b[0mid_\u001b[0m\u001b[1;33m)\u001b[0m\u001b[1;33m:\u001b[0m\u001b[1;33m\u001b[0m\u001b[0m\n",
      "\u001b[1;32m~\\Anaconda3\\lib\\site-packages\\selenium\\webdriver\\remote\\webdriver.py\u001b[0m in \u001b[0;36mfind_element\u001b[1;34m(self, by, value)\u001b[0m\n\u001b[0;32m    953\u001b[0m         return self.execute(Command.FIND_ELEMENT, {\n\u001b[0;32m    954\u001b[0m             \u001b[1;34m'using'\u001b[0m\u001b[1;33m:\u001b[0m \u001b[0mby\u001b[0m\u001b[1;33m,\u001b[0m\u001b[1;33m\u001b[0m\u001b[0m\n\u001b[1;32m--> 955\u001b[1;33m             'value': value})['value']\n\u001b[0m\u001b[0;32m    956\u001b[0m \u001b[1;33m\u001b[0m\u001b[0m\n\u001b[0;32m    957\u001b[0m     \u001b[1;32mdef\u001b[0m \u001b[0mfind_elements\u001b[0m\u001b[1;33m(\u001b[0m\u001b[0mself\u001b[0m\u001b[1;33m,\u001b[0m \u001b[0mby\u001b[0m\u001b[1;33m=\u001b[0m\u001b[0mBy\u001b[0m\u001b[1;33m.\u001b[0m\u001b[0mID\u001b[0m\u001b[1;33m,\u001b[0m \u001b[0mvalue\u001b[0m\u001b[1;33m=\u001b[0m\u001b[1;32mNone\u001b[0m\u001b[1;33m)\u001b[0m\u001b[1;33m:\u001b[0m\u001b[1;33m\u001b[0m\u001b[0m\n",
      "\u001b[1;32m~\\Anaconda3\\lib\\site-packages\\selenium\\webdriver\\remote\\webdriver.py\u001b[0m in \u001b[0;36mexecute\u001b[1;34m(self, driver_command, params)\u001b[0m\n\u001b[0;32m    310\u001b[0m         \u001b[0mresponse\u001b[0m \u001b[1;33m=\u001b[0m \u001b[0mself\u001b[0m\u001b[1;33m.\u001b[0m\u001b[0mcommand_executor\u001b[0m\u001b[1;33m.\u001b[0m\u001b[0mexecute\u001b[0m\u001b[1;33m(\u001b[0m\u001b[0mdriver_command\u001b[0m\u001b[1;33m,\u001b[0m \u001b[0mparams\u001b[0m\u001b[1;33m)\u001b[0m\u001b[1;33m\u001b[0m\u001b[0m\n\u001b[0;32m    311\u001b[0m         \u001b[1;32mif\u001b[0m \u001b[0mresponse\u001b[0m\u001b[1;33m:\u001b[0m\u001b[1;33m\u001b[0m\u001b[0m\n\u001b[1;32m--> 312\u001b[1;33m             \u001b[0mself\u001b[0m\u001b[1;33m.\u001b[0m\u001b[0merror_handler\u001b[0m\u001b[1;33m.\u001b[0m\u001b[0mcheck_response\u001b[0m\u001b[1;33m(\u001b[0m\u001b[0mresponse\u001b[0m\u001b[1;33m)\u001b[0m\u001b[1;33m\u001b[0m\u001b[0m\n\u001b[0m\u001b[0;32m    313\u001b[0m             response['value'] = self._unwrap_value(\n\u001b[0;32m    314\u001b[0m                 response.get('value', None))\n",
      "\u001b[1;32m~\\Anaconda3\\lib\\site-packages\\selenium\\webdriver\\remote\\errorhandler.py\u001b[0m in \u001b[0;36mcheck_response\u001b[1;34m(self, response)\u001b[0m\n\u001b[0;32m    235\u001b[0m         \u001b[1;32melif\u001b[0m \u001b[0mexception_class\u001b[0m \u001b[1;33m==\u001b[0m \u001b[0mUnexpectedAlertPresentException\u001b[0m \u001b[1;32mand\u001b[0m \u001b[1;34m'alert'\u001b[0m \u001b[1;32min\u001b[0m \u001b[0mvalue\u001b[0m\u001b[1;33m:\u001b[0m\u001b[1;33m\u001b[0m\u001b[0m\n\u001b[0;32m    236\u001b[0m             \u001b[1;32mraise\u001b[0m \u001b[0mexception_class\u001b[0m\u001b[1;33m(\u001b[0m\u001b[0mmessage\u001b[0m\u001b[1;33m,\u001b[0m \u001b[0mscreen\u001b[0m\u001b[1;33m,\u001b[0m \u001b[0mstacktrace\u001b[0m\u001b[1;33m,\u001b[0m \u001b[0mvalue\u001b[0m\u001b[1;33m[\u001b[0m\u001b[1;34m'alert'\u001b[0m\u001b[1;33m]\u001b[0m\u001b[1;33m.\u001b[0m\u001b[0mget\u001b[0m\u001b[1;33m(\u001b[0m\u001b[1;34m'text'\u001b[0m\u001b[1;33m)\u001b[0m\u001b[1;33m)\u001b[0m\u001b[1;33m\u001b[0m\u001b[0m\n\u001b[1;32m--> 237\u001b[1;33m         \u001b[1;32mraise\u001b[0m \u001b[0mexception_class\u001b[0m\u001b[1;33m(\u001b[0m\u001b[0mmessage\u001b[0m\u001b[1;33m,\u001b[0m \u001b[0mscreen\u001b[0m\u001b[1;33m,\u001b[0m \u001b[0mstacktrace\u001b[0m\u001b[1;33m)\u001b[0m\u001b[1;33m\u001b[0m\u001b[0m\n\u001b[0m\u001b[0;32m    238\u001b[0m \u001b[1;33m\u001b[0m\u001b[0m\n\u001b[0;32m    239\u001b[0m     \u001b[1;32mdef\u001b[0m \u001b[0m_value_or_default\u001b[0m\u001b[1;33m(\u001b[0m\u001b[0mself\u001b[0m\u001b[1;33m,\u001b[0m \u001b[0mobj\u001b[0m\u001b[1;33m,\u001b[0m \u001b[0mkey\u001b[0m\u001b[1;33m,\u001b[0m \u001b[0mdefault\u001b[0m\u001b[1;33m)\u001b[0m\u001b[1;33m:\u001b[0m\u001b[1;33m\u001b[0m\u001b[0m\n",
      "\u001b[1;31mNoSuchElementException\u001b[0m: Message: Unable to locate element: [id=\"hello\"]\n"
     ]
    }
   ],
   "source": [
    "from selenium import webdriver\n",
    "\n",
    "browser = webdriver.Firefox()\n",
    "browser.get('https://www.baidu.com')\n",
    "browser.find_element_by_id('hello')"
   ]
  },
  {
   "cell_type": "code",
   "execution_count": 6,
   "metadata": {},
   "outputs": [
    {
     "name": "stdout",
     "output_type": "stream",
     "text": [
      "No Element\n"
     ]
    }
   ],
   "source": [
    "from selenium import webdriver\n",
    "from selenium.common.exceptions import TimeoutException, NoSuchElementException\n",
    "\n",
    "browser = webdriver.Firefox()\n",
    "try:\n",
    "    browser.get('https://www.baidu.com')\n",
    "except TimeoutException:\n",
    "    print('Time Out')\n",
    "try:\n",
    "    browser.find_element_by_id('hello')\n",
    "except NoSuchElementException:\n",
    "    print('No Element')\n",
    "finally:\n",
    "    browser.close()"
   ]
  },
  {
   "cell_type": "markdown",
   "metadata": {},
   "source": [
    "详细文档：http://selenium-python.readthedocs.io/api.html#module-selenium.common.exceptions"
   ]
  }
 ],
 "metadata": {
  "kernelspec": {
   "display_name": "Python 3",
   "language": "python",
   "name": "python3"
  },
  "language_info": {
   "codemirror_mode": {
    "name": "ipython",
    "version": 3
   },
   "file_extension": ".py",
   "mimetype": "text/x-python",
   "name": "python",
   "nbconvert_exporter": "python",
   "pygments_lexer": "ipython3",
   "version": "3.6.3"
  }
 },
 "nbformat": 4,
 "nbformat_minor": 2
}
