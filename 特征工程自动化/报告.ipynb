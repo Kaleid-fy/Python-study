{
 "cells": [
  {
   "cell_type": "markdown",
   "metadata": {
    "slideshow": {
     "slide_type": "fragment"
    }
   },
   "source": [
    "# 利用神经网络进行特征工程自动化"
   ]
  },
  {
   "cell_type": "markdown",
   "metadata": {},
   "source": [
    "### 分工：\n",
    "* 搜集资料：王梦天、徐晗辉、付宇\n",
    "* 实验一：付宇\n",
    "* 实验二：王梦天\n",
    "* 报告撰写：徐晗辉"
   ]
  },
  {
   "cell_type": "markdown",
   "metadata": {},
   "source": [
    "#### 一、背景"
   ]
  },
  {
   "cell_type": "markdown",
   "metadata": {},
   "source": [
    "        特征是数据抽取出来的对结果预测有帮助的信息；特征工程是为了使特征在机器学习算法和模型上发挥更优效果的过程，该过程往往需要数据科学家人工地找出最佳的特征组合，但在效果及效率上有一定的局限性。在图像识别领域，深度学习通过神经网络层次化的特征表示及组合，获得了远超人类手工特征工程的效果。"
   ]
  },
  {
   "cell_type": "markdown",
   "metadata": {},
   "source": [
    "#### 二、原理"
   ]
  },
  {
   "cell_type": "markdown",
   "metadata": {},
   "source": [
    "        Autoencoder 简单来说就是将有很多Feature的数据进行压缩，之后再进行解压的过程。而在神经网络中，前一层的输出是后一层的输入，因此，前一层的输出也可以看做是后一层的输入特征。神经网络的一层可以看做是对输入特征的编码（解码），编码可以看做对关键信息的提取和浓缩。利用自编码器Autoencoder可以实现对自动提取图片中关键特征。自编码器的结构一般如下："
   ]
  },
  {
   "cell_type": "markdown",
   "metadata": {},
   "source": [
    "<img src='1.jpg'>"
   ]
  },
  {
   "cell_type": "markdown",
   "metadata": {},
   "source": [
    "        由上面的图片能够看到，第一部分是编码器（encoder），第二部分是解码器（decoder），编码器和解码器都可以是任意的模型，通常我们可以使用神经网络作为我们的编码器和解码器，输入的数据经过神经网络降维到一个编码，然后又通过另一个神经网络解码得到一个与原始数据一模一样的生成数据，通过比较原始数据和生成数据，希望他们尽可能接近，所以最小化他们之间的差异来训练网络中编码器和解码器的参数。\n",
    "        当训练完成之后，如何生成数据呢？非常简单，只需要拿出解码器的部分，然后随机传入code，就可以通过解码器生成各种各样的数据。"
   ]
  },
  {
   "cell_type": "markdown",
   "metadata": {},
   "source": [
    "<img src='2.jpg'>"
   ]
  },
  {
   "cell_type": "markdown",
   "metadata": {},
   "source": [
    "#### 实验数据"
   ]
  },
  {
   "cell_type": "markdown",
   "metadata": {},
   "source": [
    "        使用python自带的经典MNIST手写数据集。该数据集包含60000个训练样本及10000个测试样本。数据集中的数字（0-9）已经规范为固定28x28 pixels的像素大小。 为了方便建模处理，每张图片被拉直为长为784=28*28的一维数组。"
   ]
  },
  {
   "cell_type": "markdown",
   "metadata": {},
   "source": [
    "#### 实验工具"
   ]
  },
  {
   "cell_type": "markdown",
   "metadata": {},
   "source": [
    "        Python、TensorFlow"
   ]
  },
  {
   "cell_type": "markdown",
   "metadata": {},
   "source": [
    "#### 实验设计"
   ]
  },
  {
   "cell_type": "markdown",
   "metadata": {},
   "source": [
    "##### 实验一 ：解码后的数据与原数据对比"
   ]
  },
  {
   "cell_type": "markdown",
   "metadata": {},
   "source": [
    "        建立包含两个隐层的神经网络，第一个隐层包含256个神经元，第二个隐层包含128个神经元。利用神经网络，先将原包含784维特征的数据编码压缩为128维（会损失一部分信息），然后将这128维数据解压缩为784维数据，以28*28pixels的形式展示，和原来的图片对比。"
   ]
  },
  {
   "cell_type": "markdown",
   "metadata": {},
   "source": [
    "##### 实验二：自编码结果可视化"
   ]
  },
  {
   "cell_type": "markdown",
   "metadata": {},
   "source": [
    "        建立包含四个隐层的神经网络，第一个隐层包含128个神经元，第二个隐层包含64个神经元，第三个包含10个神经元，第四个包含2个神经元。将数据最终压缩为2维，方便可视化。"
   ]
  },
  {
   "cell_type": "markdown",
   "metadata": {},
   "source": [
    "#### 实验结果"
   ]
  },
  {
   "cell_type": "markdown",
   "metadata": {},
   "source": [
    "##### 实验一"
   ]
  },
  {
   "cell_type": "markdown",
   "metadata": {},
   "source": [
    "<img src='3.png'>"
   ]
  },
  {
   "cell_type": "markdown",
   "metadata": {},
   "source": [
    "        上面一行是原始图片，下面一行是经过压缩、解压缩后的图片。可以发现，结果压缩、解压缩后，虽然图片的清晰度有所降低，但是依旧可以通过轮廓判断出具体的数值。"
   ]
  },
  {
   "cell_type": "markdown",
   "metadata": {},
   "source": [
    "##### 实验二"
   ]
  },
  {
   "cell_type": "markdown",
   "metadata": {},
   "source": [
    "<img src='4.png'>"
   ]
  },
  {
   "cell_type": "markdown",
   "metadata": {},
   "source": [
    "        颜色表示类别（不同的数值）。可以看出，尽管有很大程度的混杂，但是还是有一定区分度的。"
   ]
  },
  {
   "cell_type": "code",
   "execution_count": null,
   "metadata": {
    "collapsed": true
   },
   "outputs": [],
   "source": []
  }
 ],
 "metadata": {
  "kernelspec": {
   "display_name": "Python 3",
   "language": "python",
   "name": "python3"
  },
  "language_info": {
   "codemirror_mode": {
    "name": "ipython",
    "version": 3
   },
   "file_extension": ".py",
   "mimetype": "text/x-python",
   "name": "python",
   "nbconvert_exporter": "python",
   "pygments_lexer": "ipython3",
   "version": "3.6.3"
  },
  "toc": {
   "base_numbering": 1,
   "nav_menu": {
    "height": "84px",
    "width": "175px"
   },
   "number_sections": true,
   "sideBar": true,
   "skip_h1_title": false,
   "title_cell": "Table of Contents",
   "title_sidebar": "Contents",
   "toc_cell": false,
   "toc_position": {},
   "toc_section_display": true,
   "toc_window_display": false
  }
 },
 "nbformat": 4,
 "nbformat_minor": 2
}
