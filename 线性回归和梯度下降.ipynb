{
 "cells": [
  {
   "cell_type": "markdown",
   "metadata": {},
   "source": [
    "# 线性回归和梯度下降"
   ]
  },
  {
   "cell_type": "markdown",
   "metadata": {},
   "source": [
    "数据是来自 斯坦福的数据 ，50个样本点，x为50个2到8岁小朋友年龄（有小数），y为50个小朋友对应的身高（有小数），然后根据这50个样本，估计3.5岁到7岁孩子的身高"
   ]
  },
  {
   "cell_type": "code",
   "execution_count": 1,
   "metadata": {
    "collapsed": true
   },
   "outputs": [],
   "source": [
    "import numpy as np\n",
    "from numpy import *\n",
    "import matplotlib.pyplot as plt"
   ]
  },
  {
   "cell_type": "code",
   "execution_count": 8,
   "metadata": {
    "collapsed": true
   },
   "outputs": [],
   "source": [
    "\n",
    "def toFloat(array):\n",
    "    array = mat(array)\n",
    "    m,n = shape(array)\n",
    "    newArray = zeros((m,n))\n",
    "    for i in range(m):\n",
    "        for j in range(n):\n",
    "            newArray[i,j] =  float(array[i,j])\n",
    "    print(newArray)    \n",
    "    print(\"==========\")\n",
    "    return newArray\n",
    "\n"
   ]
  },
  {
   "cell_type": "code",
   "execution_count": 3,
   "metadata": {
    "collapsed": true
   },
   "outputs": [],
   "source": [
    "def getThetaUseNormal_Equations(xInput,yInput):\n",
    "    x = toFloat(loadtxt(xInput))\n",
    "    y = toFloat(loadtxt(yInput))\n",
    "    m,n = shape(y)\n",
    "    a = np.ones(n,dtype = np.float)#一行 n 列 float类型\n",
    "    x = np.row_stack((a,x)) #将x 增加一行\n",
    "    if not isinstance(x,matrix): #不是向量 转化为向量\n",
    "        x = mat(x.T)#读取数据的时为行向量，一般书中没有说明，默认为列向量，在此处转化为列向量\n",
    "    if not isinstance(y,matrix):\n",
    "        y=mat(y.T)\n",
    "    thta = (x.T*x)**-1 * x.T * y #直接用的是最小二乘解的形式\n",
    "    print(thta)\n",
    "\n",
    "\n"
   ]
  },
  {
   "cell_type": "code",
   "execution_count": 4,
   "metadata": {
    "collapsed": true
   },
   "outputs": [],
   "source": [
    "def getThetaUseGradient_descent(xInput,yInput):\n",
    "    x = toFloat(loadtxt(xInput))\n",
    "    y = toFloat(loadtxt(yInput))\n",
    "    x = x.T #转化为列向量\n",
    "    y = y.T\n",
    "    m,n = shape(x)\n",
    "    a = np.ones((m,1),dtype=np.float)# 将x0 置为1 便于写成向量的乘积 theta*X\n",
    "    x = np.column_stack((a,x))# 维度50*2\n",
    "    theta = np.zeros((1,size(x[0,:])),dtype=float) # theta 1*2\n",
    "    MAX_ITR = 1500#迭代次数\n",
    "    alpha = 0.07#学习率\n",
    "#'''\n",
    "#迭代1500次达到最优，其实次数不定，可以设一个变量，监控theta，例如theta变化小于某一个很小的数的时候停止迭代。\n",
    "#学习率0.07也可以改变，刚开始设为大一点，然后学习率依次减小\n",
    "#'''\n",
    "    for i in range(0,MAX_ITR):\n",
    "        t1 = np.dot(x,theta.T) - y #x(50*2),theta.T(2*1) y(50*1),,t1(50*1)\n",
    "        t2 = np.dot(t1.T,x)/m #t1.T(1,50),x(50,2)  t2（1*2)\n",
    "        theta = theta - alpha * t2#theta(1*2) ,t2(1*2)\n",
    "    print(theta)"
   ]
  },
  {
   "cell_type": "code",
   "execution_count": 11,
   "metadata": {},
   "outputs": [
    {
     "name": "stdout",
     "output_type": "stream",
     "text": [
      "[[ 2.0658746  2.3684087  2.5399929  2.5420804  2.549079   2.7866882\n",
      "   2.9116825  3.035627   3.1146696  3.1582389  3.3275944  3.3793165\n",
      "   3.4122006  3.4215823  3.5315732  3.6393002  3.6732537  3.9256462\n",
      "   4.0498646  4.2483348  4.3440052  4.3826531  4.4230602  4.6102443\n",
      "   4.6881183  4.9777333  5.0359967  5.0684536  5.4161491  5.4395623\n",
      "   5.4563207  5.5698458  5.6015729  5.6877617  5.7215602  5.8538914\n",
      "   6.1978026  6.3510941  6.4797033  6.7383791  6.8637686  7.0223387\n",
      "   7.0782373  7.1514232  7.4664023  7.5973874  7.7440717  7.7729662\n",
      "   7.8264514  7.9306356]]\n",
      "==========\n",
      "[[ 0.77918926  0.91596757  0.90538354  0.90566138  0.9389889   0.9668474\n",
      "   0.96436824  0.91445939  0.93933944  0.96074971  0.89837094  0.91209739\n",
      "   0.94238499  0.96624578  1.05265     1.0143791   0.95969426  0.96853716\n",
      "   1.0766065   1.1454978   1.0340625   1.0070009   0.96683648  1.0895919\n",
      "   1.0634462   1.1237239   1.0323374   1.0874452   1.0702988   1.1606493\n",
      "   1.0778037   1.1069758   1.0971875   1.1648603   1.1411796   1.0844156\n",
      "   1.1252493   1.1168341   1.1970789   1.2069462   1.1251046   1.1235672\n",
      "   1.2132829   1.2522652   1.2497065   1.1799706   1.1897299   1.3029934\n",
      "   1.2601134   1.2562267 ]]\n",
      "==========\n",
      "[[ 0.75016254]\n",
      " [ 0.06388117]]\n",
      "[[ 2.0658746  2.3684087  2.5399929  2.5420804  2.549079   2.7866882\n",
      "   2.9116825  3.035627   3.1146696  3.1582389  3.3275944  3.3793165\n",
      "   3.4122006  3.4215823  3.5315732  3.6393002  3.6732537  3.9256462\n",
      "   4.0498646  4.2483348  4.3440052  4.3826531  4.4230602  4.6102443\n",
      "   4.6881183  4.9777333  5.0359967  5.0684536  5.4161491  5.4395623\n",
      "   5.4563207  5.5698458  5.6015729  5.6877617  5.7215602  5.8538914\n",
      "   6.1978026  6.3510941  6.4797033  6.7383791  6.8637686  7.0223387\n",
      "   7.0782373  7.1514232  7.4664023  7.5973874  7.7440717  7.7729662\n",
      "   7.8264514  7.9306356]]\n",
      "==========\n",
      "[[ 0.77918926  0.91596757  0.90538354  0.90566138  0.9389889   0.9668474\n",
      "   0.96436824  0.91445939  0.93933944  0.96074971  0.89837094  0.91209739\n",
      "   0.94238499  0.96624578  1.05265     1.0143791   0.95969426  0.96853716\n",
      "   1.0766065   1.1454978   1.0340625   1.0070009   0.96683648  1.0895919\n",
      "   1.0634462   1.1237239   1.0323374   1.0874452   1.0702988   1.1606493\n",
      "   1.0778037   1.1069758   1.0971875   1.1648603   1.1411796   1.0844156\n",
      "   1.1252493   1.1168341   1.1970789   1.2069462   1.1251046   1.1235672\n",
      "   1.2132829   1.2522652   1.2497065   1.1799706   1.1897299   1.3029934\n",
      "   1.2601134   1.2562267 ]]\n",
      "==========\n",
      "[[ 0.75015039  0.06388338]]\n"
     ]
    }
   ],
   "source": [
    "\n",
    "getThetaUseNormal_Equations(\"C:/Users/dell/我/Data/ex2x.dat\",\"C:/Users/dell/我/Data/ex2y.dat\")\n",
    "getThetaUseGradient_descent(\"C:/Users/dell/我/Data/ex2x.dat\",\"C:/Users/dell/我/Data/ex2y.dat\")\n"
   ]
  }
 ],
 "metadata": {
  "kernelspec": {
   "display_name": "Python 3",
   "language": "python",
   "name": "python3"
  },
  "language_info": {
   "codemirror_mode": {
    "name": "ipython",
    "version": 3
   },
   "file_extension": ".py",
   "mimetype": "text/x-python",
   "name": "python",
   "nbconvert_exporter": "python",
   "pygments_lexer": "ipython3",
   "version": "3.6.1"
  }
 },
 "nbformat": 4,
 "nbformat_minor": 2
}
