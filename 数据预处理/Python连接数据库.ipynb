{
 "cells": [
  {
   "cell_type": "markdown",
   "metadata": {},
   "source": [
    "# 1、Python连接MySQL"
   ]
  },
  {
   "cell_type": "markdown",
   "metadata": {},
   "source": [
    "参考：http://mp.weixin.qq.com/s/7DjlE6rBxH2AGiWQeoLXow"
   ]
  },
  {
   "cell_type": "code",
   "execution_count": 2,
   "metadata": {},
   "outputs": [
    {
     "ename": "ModuleNotFoundError",
     "evalue": "No module named 'pymysql'",
     "output_type": "error",
     "traceback": [
      "\u001b[1;31m---------------------------------------------------------------------------\u001b[0m",
      "\u001b[1;31mModuleNotFoundError\u001b[0m                       Traceback (most recent call last)",
      "\u001b[1;32m<ipython-input-2-a4103d9b2333>\u001b[0m in \u001b[0;36m<module>\u001b[1;34m()\u001b[0m\n\u001b[1;32m----> 1\u001b[1;33m \u001b[1;32mimport\u001b[0m \u001b[0mpymysql\u001b[0m\u001b[1;33m\u001b[0m\u001b[0m\n\u001b[0m",
      "\u001b[1;31mModuleNotFoundError\u001b[0m: No module named 'pymysql'"
     ]
    }
   ],
   "source": [
    "import pymysql"
   ]
  },
  {
   "cell_type": "code",
   "execution_count": 5,
   "metadata": {
    "collapsed": true
   },
   "outputs": [],
   "source": [
    "pymysql.install_as_MySQLdb()#伪装为MySQLdb模块"
   ]
  },
  {
   "cell_type": "code",
   "execution_count": 6,
   "metadata": {
    "collapsed": true
   },
   "outputs": [],
   "source": [
    "import MySQLdb"
   ]
  },
  {
   "cell_type": "code",
   "execution_count": 12,
   "metadata": {
    "collapsed": true
   },
   "outputs": [],
   "source": [
    "conn = MySQLdb.Connection(\n",
    "    host = 'localhost',user = 'root', password = '', port = 3306 ,database = 'samples1', charset='gbk')"
   ]
  },
  {
   "cell_type": "code",
   "execution_count": 13,
   "metadata": {
    "collapsed": true
   },
   "outputs": [],
   "source": [
    "cursor = conn.cursor()"
   ]
  },
  {
   "cell_type": "code",
   "execution_count": 14,
   "metadata": {
    "collapsed": true
   },
   "outputs": [],
   "source": [
    "sql = 'select * from authors'"
   ]
  },
  {
   "cell_type": "code",
   "execution_count": 15,
   "metadata": {},
   "outputs": [
    {
     "data": {
      "text/plain": [
       "7"
      ]
     },
     "execution_count": 15,
     "metadata": {},
     "output_type": "execute_result"
    }
   ],
   "source": [
    "cursor.execute(sql)"
   ]
  },
  {
   "cell_type": "code",
   "execution_count": 16,
   "metadata": {
    "collapsed": true
   },
   "outputs": [],
   "source": [
    "data = cursor.fetchall()"
   ]
  },
  {
   "cell_type": "code",
   "execution_count": 17,
   "metadata": {},
   "outputs": [
    {
     "data": {
      "text/plain": [
       "(('A01',\n",
       "  'Sarah',\n",
       "  'Buchman',\n",
       "  '718-496-7223',\n",
       "  '75 West 205 St',\n",
       "  'Bronx',\n",
       "  'NY',\n",
       "  '10468'),\n",
       " ('A02',\n",
       "  'Wendy',\n",
       "  'Heydemark',\n",
       "  '303-986-7020',\n",
       "  '2922 Baseline Rd',\n",
       "  'Boulder',\n",
       "  'CO',\n",
       "  '80303'),\n",
       " ('A03',\n",
       "  'Hallie',\n",
       "  'Hull',\n",
       "  '415-549-4278',\n",
       "  '3800 Waldo Ave, #14F',\n",
       "  'San Francisco',\n",
       "  'CA',\n",
       "  '94123'),\n",
       " ('A04',\n",
       "  'Klee',\n",
       "  'Hull',\n",
       "  '415-549-4278',\n",
       "  '3800 Waldo Ave, #14F',\n",
       "  'San Francisco',\n",
       "  'CA',\n",
       "  '94123'),\n",
       " ('A05',\n",
       "  'Christian',\n",
       "  'Kells',\n",
       "  '212-771-4680',\n",
       "  '114 Horatio St',\n",
       "  'New York',\n",
       "  'NY',\n",
       "  '10014'),\n",
       " ('A06',\n",
       "  '',\n",
       "  'Kellsey',\n",
       "  '650-836-7128',\n",
       "  '390 Serra Mall',\n",
       "  'Palo Alto',\n",
       "  'CA',\n",
       "  '94305'),\n",
       " ('A07',\n",
       "  'Paddy',\n",
       "  \"O'Furniture\",\n",
       "  '941-925-0752',\n",
       "  '1442 Main St',\n",
       "  'Sarasota',\n",
       "  'FL',\n",
       "  '34236'))"
      ]
     },
     "execution_count": 17,
     "metadata": {},
     "output_type": "execute_result"
    }
   ],
   "source": [
    "data"
   ]
  },
  {
   "cell_type": "code",
   "execution_count": 19,
   "metadata": {},
   "outputs": [
    {
     "data": {
      "text/plain": [
       "[('A01',\n",
       "  'Sarah',\n",
       "  'Buchman',\n",
       "  '718-496-7223',\n",
       "  '75 West 205 St',\n",
       "  'Bronx',\n",
       "  'NY',\n",
       "  '10468'),\n",
       " ('A02',\n",
       "  'Wendy',\n",
       "  'Heydemark',\n",
       "  '303-986-7020',\n",
       "  '2922 Baseline Rd',\n",
       "  'Boulder',\n",
       "  'CO',\n",
       "  '80303'),\n",
       " ('A03',\n",
       "  'Hallie',\n",
       "  'Hull',\n",
       "  '415-549-4278',\n",
       "  '3800 Waldo Ave, #14F',\n",
       "  'San Francisco',\n",
       "  'CA',\n",
       "  '94123'),\n",
       " ('A04',\n",
       "  'Klee',\n",
       "  'Hull',\n",
       "  '415-549-4278',\n",
       "  '3800 Waldo Ave, #14F',\n",
       "  'San Francisco',\n",
       "  'CA',\n",
       "  '94123'),\n",
       " ('A05',\n",
       "  'Christian',\n",
       "  'Kells',\n",
       "  '212-771-4680',\n",
       "  '114 Horatio St',\n",
       "  'New York',\n",
       "  'NY',\n",
       "  '10014'),\n",
       " ('A06',\n",
       "  '',\n",
       "  'Kellsey',\n",
       "  '650-836-7128',\n",
       "  '390 Serra Mall',\n",
       "  'Palo Alto',\n",
       "  'CA',\n",
       "  '94305'),\n",
       " ('A07',\n",
       "  'Paddy',\n",
       "  \"O'Furniture\",\n",
       "  '941-925-0752',\n",
       "  '1442 Main St',\n",
       "  'Sarasota',\n",
       "  'FL',\n",
       "  '34236')]"
      ]
     },
     "execution_count": 19,
     "metadata": {},
     "output_type": "execute_result"
    }
   ],
   "source": [
    "#使用list函数就可以快速的将元组数据转换为列表格式的数据\n",
    "data = list(data)\n",
    "data"
   ]
  },
  {
   "cell_type": "code",
   "execution_count": 20,
   "metadata": {
    "collapsed": true
   },
   "outputs": [],
   "source": [
    "import pandas as pd"
   ]
  },
  {
   "cell_type": "code",
   "execution_count": 21,
   "metadata": {
    "collapsed": true
   },
   "outputs": [],
   "source": [
    "mydata = pd.DataFrame(data, columns = ['au_id','au_fname','au_lname','phone','address','city','state','zip'])"
   ]
  },
  {
   "cell_type": "code",
   "execution_count": 22,
   "metadata": {},
   "outputs": [
    {
     "data": {
      "text/html": [
       "<div>\n",
       "<style>\n",
       "    .dataframe thead tr:only-child th {\n",
       "        text-align: right;\n",
       "    }\n",
       "\n",
       "    .dataframe thead th {\n",
       "        text-align: left;\n",
       "    }\n",
       "\n",
       "    .dataframe tbody tr th {\n",
       "        vertical-align: top;\n",
       "    }\n",
       "</style>\n",
       "<table border=\"1\" class=\"dataframe\">\n",
       "  <thead>\n",
       "    <tr style=\"text-align: right;\">\n",
       "      <th></th>\n",
       "      <th>au_id</th>\n",
       "      <th>au_fname</th>\n",
       "      <th>au_lname</th>\n",
       "      <th>phone</th>\n",
       "      <th>address</th>\n",
       "      <th>city</th>\n",
       "      <th>state</th>\n",
       "      <th>zip</th>\n",
       "    </tr>\n",
       "  </thead>\n",
       "  <tbody>\n",
       "    <tr>\n",
       "      <th>0</th>\n",
       "      <td>A01</td>\n",
       "      <td>Sarah</td>\n",
       "      <td>Buchman</td>\n",
       "      <td>718-496-7223</td>\n",
       "      <td>75 West 205 St</td>\n",
       "      <td>Bronx</td>\n",
       "      <td>NY</td>\n",
       "      <td>10468</td>\n",
       "    </tr>\n",
       "    <tr>\n",
       "      <th>1</th>\n",
       "      <td>A02</td>\n",
       "      <td>Wendy</td>\n",
       "      <td>Heydemark</td>\n",
       "      <td>303-986-7020</td>\n",
       "      <td>2922 Baseline Rd</td>\n",
       "      <td>Boulder</td>\n",
       "      <td>CO</td>\n",
       "      <td>80303</td>\n",
       "    </tr>\n",
       "    <tr>\n",
       "      <th>2</th>\n",
       "      <td>A03</td>\n",
       "      <td>Hallie</td>\n",
       "      <td>Hull</td>\n",
       "      <td>415-549-4278</td>\n",
       "      <td>3800 Waldo Ave, #14F</td>\n",
       "      <td>San Francisco</td>\n",
       "      <td>CA</td>\n",
       "      <td>94123</td>\n",
       "    </tr>\n",
       "    <tr>\n",
       "      <th>3</th>\n",
       "      <td>A04</td>\n",
       "      <td>Klee</td>\n",
       "      <td>Hull</td>\n",
       "      <td>415-549-4278</td>\n",
       "      <td>3800 Waldo Ave, #14F</td>\n",
       "      <td>San Francisco</td>\n",
       "      <td>CA</td>\n",
       "      <td>94123</td>\n",
       "    </tr>\n",
       "    <tr>\n",
       "      <th>4</th>\n",
       "      <td>A05</td>\n",
       "      <td>Christian</td>\n",
       "      <td>Kells</td>\n",
       "      <td>212-771-4680</td>\n",
       "      <td>114 Horatio St</td>\n",
       "      <td>New York</td>\n",
       "      <td>NY</td>\n",
       "      <td>10014</td>\n",
       "    </tr>\n",
       "    <tr>\n",
       "      <th>5</th>\n",
       "      <td>A06</td>\n",
       "      <td></td>\n",
       "      <td>Kellsey</td>\n",
       "      <td>650-836-7128</td>\n",
       "      <td>390 Serra Mall</td>\n",
       "      <td>Palo Alto</td>\n",
       "      <td>CA</td>\n",
       "      <td>94305</td>\n",
       "    </tr>\n",
       "    <tr>\n",
       "      <th>6</th>\n",
       "      <td>A07</td>\n",
       "      <td>Paddy</td>\n",
       "      <td>O'Furniture</td>\n",
       "      <td>941-925-0752</td>\n",
       "      <td>1442 Main St</td>\n",
       "      <td>Sarasota</td>\n",
       "      <td>FL</td>\n",
       "      <td>34236</td>\n",
       "    </tr>\n",
       "  </tbody>\n",
       "</table>\n",
       "</div>"
      ],
      "text/plain": [
       "  au_id   au_fname     au_lname         phone               address  \\\n",
       "0   A01      Sarah      Buchman  718-496-7223        75 West 205 St   \n",
       "1   A02      Wendy    Heydemark  303-986-7020      2922 Baseline Rd   \n",
       "2   A03     Hallie         Hull  415-549-4278  3800 Waldo Ave, #14F   \n",
       "3   A04       Klee         Hull  415-549-4278  3800 Waldo Ave, #14F   \n",
       "4   A05  Christian        Kells  212-771-4680        114 Horatio St   \n",
       "5   A06                 Kellsey  650-836-7128        390 Serra Mall   \n",
       "6   A07      Paddy  O'Furniture  941-925-0752          1442 Main St   \n",
       "\n",
       "            city state    zip  \n",
       "0          Bronx    NY  10468  \n",
       "1        Boulder    CO  80303  \n",
       "2  San Francisco    CA  94123  \n",
       "3  San Francisco    CA  94123  \n",
       "4       New York    NY  10014  \n",
       "5      Palo Alto    CA  94305  \n",
       "6       Sarasota    FL  34236  "
      ]
     },
     "execution_count": 22,
     "metadata": {},
     "output_type": "execute_result"
    }
   ],
   "source": [
    "mydata"
   ]
  },
  {
   "cell_type": "code",
   "execution_count": 23,
   "metadata": {
    "collapsed": true
   },
   "outputs": [],
   "source": [
    "##最后千万千万注意的是，当你的数据读取完之后一定要记得关闭游标和连接，因为不关闭会导致电脑资源的浪费。\n",
    "cursor.close()"
   ]
  },
  {
   "cell_type": "code",
   "execution_count": null,
   "metadata": {
    "collapsed": true
   },
   "outputs": [],
   "source": [
    "conn.close()"
   ]
  },
  {
   "cell_type": "markdown",
   "metadata": {},
   "source": [
    "# 2.Python连接SQL Server"
   ]
  },
  {
   "cell_type": "code",
   "execution_count": 3,
   "metadata": {},
   "outputs": [],
   "source": [
    "import pymssql"
   ]
  }
 ],
 "metadata": {
  "kernelspec": {
   "display_name": "Python 3",
   "language": "python",
   "name": "python3"
  },
  "language_info": {
   "codemirror_mode": {
    "name": "ipython",
    "version": 3
   },
   "file_extension": ".py",
   "mimetype": "text/x-python",
   "name": "python",
   "nbconvert_exporter": "python",
   "pygments_lexer": "ipython3",
   "version": "3.6.3"
  }
 },
 "nbformat": 4,
 "nbformat_minor": 2
}
