{
 "cells": [
  {
   "cell_type": "markdown",
   "metadata": {},
   "source": [
    "# 处理CSV, Excel格式资料"
   ]
  },
  {
   "cell_type": "code",
   "execution_count": 2,
   "metadata": {},
   "outputs": [
    {
     "data": {
      "text/plain": [
       "'C:\\\\Users\\\\dell\\\\我\\\\数据预处理'"
      ]
     },
     "execution_count": 2,
     "metadata": {},
     "output_type": "execute_result"
    }
   ],
   "source": [
    "import os\n",
    "os.getcwd()"
   ]
  },
  {
   "cell_type": "code",
   "execution_count": 3,
   "metadata": {
    "collapsed": true
   },
   "outputs": [],
   "source": [
    "os.chdir('C:\\\\Users\\\\dell\\\\我')"
   ]
  },
  {
   "cell_type": "code",
   "execution_count": 4,
   "metadata": {},
   "outputs": [
    {
     "name": "stdout",
     "output_type": "stream",
     "text": [
      "﻿指标,2015年,2014年,2013年,2012年,2011年,2010年,2009年,2008年,2007年,2006年\n",
      "\n",
      "年末总人口(万人),137462,136782,136072,135404,134735,134091,133450,132802,132129,131448\n",
      "\n",
      "男性人口(万人),70414,70079,69728,69395,69068,68748,68647,68357,68048,67728\n",
      "\n",
      "女性人口(万人),67048,66703,66344,66009,65667,65343,64803,64445,64081,63720\n",
      "\n",
      "城镇人口(万人),77116,74916,73111,71182,69079,66978,64512,62403,60633,58288\n",
      "\n",
      "乡村人口(万人),60346,61866,62961,64222,65656,67113,68938,70399,71496,73160\n"
     ]
    }
   ],
   "source": [
    "with open('Data\\Population.csv', 'r', encoding='UTF-8') as f:\n",
    "    for line in f.readlines():\n",
    "        print(line)"
   ]
  },
  {
   "cell_type": "code",
   "execution_count": 5,
   "metadata": {},
   "outputs": [
    {
     "name": "stdout",
     "output_type": "stream",
     "text": [
      "Requirement already satisfied: pandas in c:\\users\\dell\\anaconda3\\lib\\site-packages\n",
      "Requirement already satisfied: python-dateutil>=2 in c:\\users\\dell\\anaconda3\\lib\\site-packages (from pandas)\n",
      "Requirement already satisfied: pytz>=2011k in c:\\users\\dell\\anaconda3\\lib\\site-packages (from pandas)\n",
      "Requirement already satisfied: numpy>=1.7.0 in c:\\users\\dell\\anaconda3\\lib\\site-packages (from pandas)\n",
      "Requirement already satisfied: six>=1.5 in c:\\users\\dell\\anaconda3\\lib\\site-packages (from python-dateutil>=2->pandas)\n"
     ]
    }
   ],
   "source": [
    "!pip install pandas"
   ]
  },
  {
   "cell_type": "code",
   "execution_count": 6,
   "metadata": {},
   "outputs": [
    {
     "data": {
      "text/html": [
       "<div>\n",
       "<style>\n",
       "    .dataframe thead tr:only-child th {\n",
       "        text-align: right;\n",
       "    }\n",
       "\n",
       "    .dataframe thead th {\n",
       "        text-align: left;\n",
       "    }\n",
       "\n",
       "    .dataframe tbody tr th {\n",
       "        vertical-align: top;\n",
       "    }\n",
       "</style>\n",
       "<table border=\"1\" class=\"dataframe\">\n",
       "  <thead>\n",
       "    <tr style=\"text-align: right;\">\n",
       "      <th></th>\n",
       "      <th>指标</th>\n",
       "      <th>2015年</th>\n",
       "      <th>2014年</th>\n",
       "      <th>2013年</th>\n",
       "      <th>2012年</th>\n",
       "      <th>2011年</th>\n",
       "      <th>2010年</th>\n",
       "      <th>2009年</th>\n",
       "      <th>2008年</th>\n",
       "      <th>2007年</th>\n",
       "      <th>2006年</th>\n",
       "    </tr>\n",
       "  </thead>\n",
       "  <tbody>\n",
       "    <tr>\n",
       "      <th>0</th>\n",
       "      <td>年末总人口(万人)</td>\n",
       "      <td>137462</td>\n",
       "      <td>136782</td>\n",
       "      <td>136072</td>\n",
       "      <td>135404</td>\n",
       "      <td>134735</td>\n",
       "      <td>134091</td>\n",
       "      <td>133450</td>\n",
       "      <td>132802</td>\n",
       "      <td>132129</td>\n",
       "      <td>131448</td>\n",
       "    </tr>\n",
       "    <tr>\n",
       "      <th>1</th>\n",
       "      <td>男性人口(万人)</td>\n",
       "      <td>70414</td>\n",
       "      <td>70079</td>\n",
       "      <td>69728</td>\n",
       "      <td>69395</td>\n",
       "      <td>69068</td>\n",
       "      <td>68748</td>\n",
       "      <td>68647</td>\n",
       "      <td>68357</td>\n",
       "      <td>68048</td>\n",
       "      <td>67728</td>\n",
       "    </tr>\n",
       "    <tr>\n",
       "      <th>2</th>\n",
       "      <td>女性人口(万人)</td>\n",
       "      <td>67048</td>\n",
       "      <td>66703</td>\n",
       "      <td>66344</td>\n",
       "      <td>66009</td>\n",
       "      <td>65667</td>\n",
       "      <td>65343</td>\n",
       "      <td>64803</td>\n",
       "      <td>64445</td>\n",
       "      <td>64081</td>\n",
       "      <td>63720</td>\n",
       "    </tr>\n",
       "    <tr>\n",
       "      <th>3</th>\n",
       "      <td>城镇人口(万人)</td>\n",
       "      <td>77116</td>\n",
       "      <td>74916</td>\n",
       "      <td>73111</td>\n",
       "      <td>71182</td>\n",
       "      <td>69079</td>\n",
       "      <td>66978</td>\n",
       "      <td>64512</td>\n",
       "      <td>62403</td>\n",
       "      <td>60633</td>\n",
       "      <td>58288</td>\n",
       "    </tr>\n",
       "    <tr>\n",
       "      <th>4</th>\n",
       "      <td>乡村人口(万人)</td>\n",
       "      <td>60346</td>\n",
       "      <td>61866</td>\n",
       "      <td>62961</td>\n",
       "      <td>64222</td>\n",
       "      <td>65656</td>\n",
       "      <td>67113</td>\n",
       "      <td>68938</td>\n",
       "      <td>70399</td>\n",
       "      <td>71496</td>\n",
       "      <td>73160</td>\n",
       "    </tr>\n",
       "  </tbody>\n",
       "</table>\n",
       "</div>"
      ],
      "text/plain": [
       "          指标   2015年   2014年   2013年   2012年   2011年   2010年   2009年   2008年  \\\n",
       "0  年末总人口(万人)  137462  136782  136072  135404  134735  134091  133450  132802   \n",
       "1   男性人口(万人)   70414   70079   69728   69395   69068   68748   68647   68357   \n",
       "2   女性人口(万人)   67048   66703   66344   66009   65667   65343   64803   64445   \n",
       "3   城镇人口(万人)   77116   74916   73111   71182   69079   66978   64512   62403   \n",
       "4   乡村人口(万人)   60346   61866   62961   64222   65656   67113   68938   70399   \n",
       "\n",
       "    2007年   2006年  \n",
       "0  132129  131448  \n",
       "1   68048   67728  \n",
       "2   64081   63720  \n",
       "3   60633   58288  \n",
       "4   71496   73160  "
      ]
     },
     "execution_count": 6,
     "metadata": {},
     "output_type": "execute_result"
    }
   ],
   "source": [
    "import pandas\n",
    "df = pandas.read_csv('Data/Population.csv')\n",
    "df"
   ]
  },
  {
   "cell_type": "code",
   "execution_count": 7,
   "metadata": {},
   "outputs": [
    {
     "data": {
      "text/plain": [
       "pandas.core.frame.DataFrame"
      ]
     },
     "execution_count": 7,
     "metadata": {},
     "output_type": "execute_result"
    }
   ],
   "source": [
    "type(df)"
   ]
  },
  {
   "cell_type": "code",
   "execution_count": 8,
   "metadata": {},
   "outputs": [
    {
     "data": {
      "text/html": [
       "<div>\n",
       "<style>\n",
       "    .dataframe thead tr:only-child th {\n",
       "        text-align: right;\n",
       "    }\n",
       "\n",
       "    .dataframe thead th {\n",
       "        text-align: left;\n",
       "    }\n",
       "\n",
       "    .dataframe tbody tr th {\n",
       "        vertical-align: top;\n",
       "    }\n",
       "</style>\n",
       "<table border=\"1\" class=\"dataframe\">\n",
       "  <thead>\n",
       "    <tr style=\"text-align: right;\">\n",
       "      <th></th>\n",
       "      <th>指标</th>\n",
       "      <th>2015年</th>\n",
       "      <th>2014年</th>\n",
       "      <th>2013年</th>\n",
       "      <th>2012年</th>\n",
       "      <th>2011年</th>\n",
       "      <th>2010年</th>\n",
       "      <th>2009年</th>\n",
       "      <th>2008年</th>\n",
       "      <th>2007年</th>\n",
       "      <th>2006年</th>\n",
       "    </tr>\n",
       "  </thead>\n",
       "  <tbody>\n",
       "    <tr>\n",
       "      <th>0</th>\n",
       "      <td>国民总收入(亿元)</td>\n",
       "      <td>686181.5</td>\n",
       "      <td>644791.1</td>\n",
       "      <td>590422.4</td>\n",
       "      <td>539116.5</td>\n",
       "      <td>484753.2</td>\n",
       "      <td>411265.2</td>\n",
       "      <td>348498.5</td>\n",
       "      <td>321500.5</td>\n",
       "      <td>270844.0</td>\n",
       "      <td>219028.5</td>\n",
       "    </tr>\n",
       "    <tr>\n",
       "      <th>1</th>\n",
       "      <td>国内生产总值(亿元)</td>\n",
       "      <td>689052.1</td>\n",
       "      <td>643974.0</td>\n",
       "      <td>595244.4</td>\n",
       "      <td>540367.4</td>\n",
       "      <td>489300.6</td>\n",
       "      <td>413030.3</td>\n",
       "      <td>349081.4</td>\n",
       "      <td>319515.5</td>\n",
       "      <td>270232.3</td>\n",
       "      <td>219438.5</td>\n",
       "    </tr>\n",
       "    <tr>\n",
       "      <th>2</th>\n",
       "      <td>第一产业增加值(亿元)</td>\n",
       "      <td>60862.1</td>\n",
       "      <td>58343.5</td>\n",
       "      <td>55329.1</td>\n",
       "      <td>50902.3</td>\n",
       "      <td>46163.1</td>\n",
       "      <td>39362.6</td>\n",
       "      <td>34161.8</td>\n",
       "      <td>32753.2</td>\n",
       "      <td>27788.0</td>\n",
       "      <td>23317.0</td>\n",
       "    </tr>\n",
       "    <tr>\n",
       "      <th>3</th>\n",
       "      <td>第二产业增加值(亿元)</td>\n",
       "      <td>282040.3</td>\n",
       "      <td>277571.8</td>\n",
       "      <td>261956.1</td>\n",
       "      <td>244643.3</td>\n",
       "      <td>227038.8</td>\n",
       "      <td>191629.8</td>\n",
       "      <td>160171.7</td>\n",
       "      <td>149956.6</td>\n",
       "      <td>126633.6</td>\n",
       "      <td>104361.8</td>\n",
       "    </tr>\n",
       "    <tr>\n",
       "      <th>4</th>\n",
       "      <td>第三产业增加值(亿元)</td>\n",
       "      <td>346149.7</td>\n",
       "      <td>308058.6</td>\n",
       "      <td>277959.3</td>\n",
       "      <td>244821.9</td>\n",
       "      <td>216098.6</td>\n",
       "      <td>182038.0</td>\n",
       "      <td>154747.9</td>\n",
       "      <td>136805.8</td>\n",
       "      <td>115810.7</td>\n",
       "      <td>91759.7</td>\n",
       "    </tr>\n",
       "    <tr>\n",
       "      <th>5</th>\n",
       "      <td>人均国内生产总值(元)</td>\n",
       "      <td>50251.0</td>\n",
       "      <td>47203.0</td>\n",
       "      <td>43852.0</td>\n",
       "      <td>40007.0</td>\n",
       "      <td>36403.0</td>\n",
       "      <td>30876.0</td>\n",
       "      <td>26222.0</td>\n",
       "      <td>24121.0</td>\n",
       "      <td>20505.0</td>\n",
       "      <td>16738.0</td>\n",
       "    </tr>\n",
       "  </tbody>\n",
       "</table>\n",
       "</div>"
      ],
      "text/plain": [
       "            指标     2015年     2014年     2013年     2012年     2011年     2010年  \\\n",
       "0    国民总收入(亿元)  686181.5  644791.1  590422.4  539116.5  484753.2  411265.2   \n",
       "1   国内生产总值(亿元)  689052.1  643974.0  595244.4  540367.4  489300.6  413030.3   \n",
       "2  第一产业增加值(亿元)   60862.1   58343.5   55329.1   50902.3   46163.1   39362.6   \n",
       "3  第二产业增加值(亿元)  282040.3  277571.8  261956.1  244643.3  227038.8  191629.8   \n",
       "4  第三产业增加值(亿元)  346149.7  308058.6  277959.3  244821.9  216098.6  182038.0   \n",
       "5  人均国内生产总值(元)   50251.0   47203.0   43852.0   40007.0   36403.0   30876.0   \n",
       "\n",
       "      2009年     2008年     2007年     2006年  \n",
       "0  348498.5  321500.5  270844.0  219028.5  \n",
       "1  349081.4  319515.5  270232.3  219438.5  \n",
       "2   34161.8   32753.2   27788.0   23317.0  \n",
       "3  160171.7  149956.6  126633.6  104361.8  \n",
       "4  154747.9  136805.8  115810.7   91759.7  \n",
       "5   26222.0   24121.0   20505.0   16738.0  "
      ]
     },
     "execution_count": 8,
     "metadata": {},
     "output_type": "execute_result"
    }
   ],
   "source": [
    "import pandas\n",
    "df = pandas.read_excel('Data/GDP.xls')\n",
    "df"
   ]
  },
  {
   "cell_type": "code",
   "execution_count": 9,
   "metadata": {},
   "outputs": [
    {
     "data": {
      "text/plain": [
       "pandas.core.frame.DataFrame"
      ]
     },
     "execution_count": 9,
     "metadata": {},
     "output_type": "execute_result"
    }
   ],
   "source": [
    "type(df)"
   ]
  }
 ],
 "metadata": {
  "kernelspec": {
   "display_name": "Python 3",
   "language": "python",
   "name": "python3"
  },
  "language_info": {
   "codemirror_mode": {
    "name": "ipython",
    "version": 3
   },
   "file_extension": ".py",
   "mimetype": "text/x-python",
   "name": "python",
   "nbconvert_exporter": "python",
   "pygments_lexer": "ipython3",
   "version": "3.6.3"
  }
 },
 "nbformat": 4,
 "nbformat_minor": 2
}
