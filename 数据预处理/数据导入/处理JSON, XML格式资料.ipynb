{
 "cells": [
  {
   "cell_type": "markdown",
   "metadata": {
    "collapsed": true
   },
   "source": [
    "# 处理JSON, XML格式资料"
   ]
  },
  {
   "cell_type": "code",
   "execution_count": 1,
   "metadata": {
    "collapsed": true
   },
   "outputs": [],
   "source": [
    "import os\n",
    "os.chdir('C:\\\\Users\\\\dell\\\\我')"
   ]
  },
  {
   "cell_type": "code",
   "execution_count": 2,
   "metadata": {
    "collapsed": true
   },
   "outputs": [],
   "source": [
    "with open('Data/jd.json', 'r') as f:\n",
    "    jd = f.read()"
   ]
  },
  {
   "cell_type": "code",
   "execution_count": 3,
   "metadata": {},
   "outputs": [
    {
     "data": {
      "text/plain": [
       "'[{\"shop_id\": 1000004259, \"shop_name\": \"\\\\u534e\\\\u4e3a\\\\u5b98\\\\u65b9\\\\u65d7\\\\u8230\\\\u5e97\", \"shop_brief\": \"\\\\u534e\\\\u4e3a\\\\u5b98\\\\u65b9\\\\u65d7\\\\u8230\\\\u5e97\", \"shop_logo\": \"//img30.360buyimg.com/popshop/jfs/t1630/279/556645620/9702/375b1235/5595eb88N0f86a9de.jpg\", \"shop_type\": 28, \"vender_id\": 1000004259, \"vender_type\": 1, \"cid1\": 9987, \"business_category\": \"\\\\u8f66\\\\u8f7d\\\\u914d\\\\u4ef6 \\\\u7535\\\\u8111\\\\u3001\\\\u529e\\\\u516c \\\\u8def\\\\u7531\\\\u5668 \\\\u624b\\\\u673a\\\\u914d\\\\u4ef6 \\\\u624b\\\\u673a\\\\u4fdd\\\\u62a4\\\\u5957 \\\\u7535\\\\u8111\\\\u6574\\\\u673a \\\\u84dd\\\\u7259\\\\u8033\\\\u673a \\\\u4ea4\\\\u6362\\\\u673a \\\\u624b\\\\u673a\\\\u5b58\\\\u50a8\\\\u5361 \\\\u667a\\\\u80fd\\\\u624b\\\\u8868 \\\\u624b\\\\u673a\\\\u8033\\\\u673a \\\\u6570\\\\u7801 \\\\u7f51\\\\u5361 \\\\u5145\\\\u7535\\\\u5668/\\\\u6570\\\\u636e\\\\u7ebf \\\\u5145\\\\u7535\\\\u5668 \\\\u62cd\\\\u7167\\\\u914d\\\\u4ef6 \\\\u624b\\\\u673a\\\\u901a\\\\u8baf \\\\u7f51\\\\u7edc\\\\u914d\\\\u4ef6 \\\\u5bf9\\\\u8bb2\\\\u673a \\\\u82f9\\\\u679c\\\\u5468\\\\u8fb9 \\\\u5e73\\\\u677f\\\\u7535\\\\u8111 \\\\u7f51\\\\u7edc\\\\u4ea7\\\\u54c1 \\\\u624b\\\\u673a\\\\u9970\\\\u54c1 \\\\u667a\\\\u80fd\\\\u8bbe\\\\u5907 \\\\u667a\\\\u80fd\\\\u624b\\\\u73af \\\\u4fbf\\\\u643a/\\\\u65e0\\\\u7ebf\\\\u97f3\\\\u54cd 4G/3G\\\\u4e0a\\\\u7f51 \\\\u521b\\\\u610f\\\\u914d\\\\u4ef6 \\\\u6570\\\\u636e\\\\u7ebf \\\\u7535\\\\u6c60/\\\\u79fb\\\\u52a8\\\\u7535\\\\u6e90 \\\\u624b\\\\u673a\\\\u7535\\\\u6c60 \\\\u624b\\\\u673a\\\\u652f\\\\u67b6 iPhone \\\\u914d\\\\u4ef6 \\\\u7f51\\\\u7edc\\\\u76d2\\\\u5b50 \\\\u7279\\\\u6b8a\\\\u5546\\\\u54c1 \\\\u624b\\\\u673a \\\\u79fb\\\\u52a8\\\\u7535\\\\u6e90 \\\\u5e73\\\\u677f\\\\u7535\\\\u8111\\\\u914d\\\\u4ef6 \\\\u624b\\\\u673a\\\\u8d34\\\\u819c\", \"main_brand\": \"\\\\u534e\\\\u4e3a\\\\uff08HUAWEI\\\\uff09\", \"vender_total_score\": 1000, \"vender_ware_score\": 1000, \"vender_service_score\": 1000, \"vender_effective_score\": 1000, \"pic_url\": \"\", \"summary\": \"\", \"shop_score\": 651, \"txt_weight\": 0, \"weight\": 0, \"icon\": 0, \"industry_service_score\": 971, \"industry_effective_score\": 963, \"industry_total_score\": 974}, {\"shop_id\": 178287, \"shop_name\": \"\\\\u7267\\\\u7533\\\\u624b\\\\u673a\\\\u65d7\\\\u8230\\\\u5e97\", \"shop_brief\": \"\\\\u5b98\\\\u65b9\\\\u6b63\\\\u54c1\\\\uff1b\\\\u552e\\\\u540e\\\\u65e0\\\\u5fe7\\\\uff1b\\\\u826f\\\\u5fc3\\\\u7ecf\\\\u8425\\\\uff01\", \"shop_logo\": \"//img30.360buyimg.com/popshop/jfs/t3199/339/4755058705/11859/63126d1a/58539572N0c79f7dd.jpg\", \"shop_type\": 11, \"vender_id\": 174907, \"vender_type\": 0, \"cid1\": 9987, \"business_category\": \"\\\\u624b\\\\u673a\\\\u901a\\\\u8baf \\\\u624b\\\\u673a\\\\u914d\\\\u4ef6 \\\\u521b\\\\u610f\\\\u914d\\\\u4ef6 \\\\u624b\\\\u673a\", \"main_brand\": \"\\\\u6469\\\\u6258\\\\u7f57\\\\u62c9\\\\uff08Motorola\\\\uff09 \\\\u9177\\\\u6d3e\\\\uff08Coolpad\\\\uff09 HALOVE SHARP \\\\u7ebd\\\\u66fc\\\\uff08Newman\\\\uff09 \\\\u8bfa\\\\u57fa\\\\u4e9a\\\\uff08NOKIA\\\\uff09 \\\\u4e09\\\\u661f\\\\uff08SAMSUNG\\\\uff09 \\\\u4f18\\\\u5b83\\\\uff08YOTAPHONE\\\\uff09 Letv qiku TCL \\\\u534e\\\\u7855 OPPO \\\\u4f18\\\\u601d\\\\uff08Uniscope\\\\uff09 \\\\u9524\\\\u5b50\\\\uff08smartisan\\\\uff09 \\\\u91d1\\\\u7acb\\\\uff08GiONEE\\\\uff09 VILOVO \\\\u8054\\\\u60f3\\\\uff08LENOVO\\\\uff09 PPTV Hisense ZUK \\\\u5168\\\\u666e\\\\uff08QUALPER\\\\uff09 \\\\u5c0f\\\\u8fa3\\\\u6912 \\\\u9b45\\\\u65cf\\\\uff08MEIZU\\\\uff09 \\\\u5947\\\\u9177\\\\uff08qiku\\\\uff09 \\\\u9752\\\\u6a59\\\\uff08GreenOrange\\\\uff09 HTC \\\\u7f8e\\\\u56fe\\\\uff08meitu\\\\uff09 YotaPhone XPELL Apple \\\\u575a\\\\u679c \\\\u6735\\\\u552f\\\\uff08DOOV\\\\uff09 Microsoft \\\\u98de\\\\u5229\\\\u6d66\\\\uff08PHILIPS\\\\uff09 Uniscope \\\\u56fd...\", \"vender_total_score\": 944, \"vender_ware_score\": 948, \"vender_service_score\": 943, \"vender_effective_score\": 936, \"pic_url\": \"\", \"summary\": \"\", \"shop_score\": 462, \"txt_weight\": 0, \"weight\": 0, \"icon\": 0, \"industry_service_score\": 954, \"industry_effective_score\": 954, \"industry_total_score\": 954}, {\"shop_id\": 179483, \"shop_name\": \"\\\\u65b0\\\\u677e\\\\u8054\\\\u624b\\\\u673a\\\\u65d7\\\\u8230\\\\u5e97\", \"shop_brief\": \"\\\\u6b63\\\\u54c1\\\\u884c\\\\u8d27  \\\\u5168\\\\u56fd\\\\u8054\\\\u4fdd \\\\u5168\\\\u56fd\\\\u5305\\\\u90ae\", \"shop_logo\": \"//img30.360buyimg.com/popshop/jfs/t2398/53/1223647493/6551/e9e97104/568c8bbdN73133364.jpg\", \"shop_type\": 11, \"vender_id\": 185259, \"vender_type\": 0, \"cid1\": 9987, \"business_category\": \"\\\\u624b\\\\u673a\\\\u901a\\\\u8baf \\\\u624b\\\\u673a\\\\u914d\\\\u4ef6 \\\\u521b\\\\u610f\\\\u914d\\\\u4ef6 \\\\u624b\\\\u673a\", \"main_brand\": \"\\\\u6469\\\\u6258\\\\u7f57\\\\u62c9\\\\uff08Motorola\\\\uff09 \\\\u9177\\\\u6d3e\\\\uff08Coolpad\\\\uff09 SHARP HALOVE \\\\u8bfa\\\\u57fa\\\\u4e9a\\\\uff08NOKIA\\\\uff09 \\\\u4e09\\\\u661f\\\\uff08SAMSUNG\\\\uff09 360 \\\\u9524\\\\u5b50\\\\uff08smartisan\\\\uff09 \\\\u5c0f\\\\u8fa3\\\\u6912 \\\\u9b45\\\\u65cf\\\\uff08MEIZU\\\\uff09 \\\\u5168\\\\u666e\\\\uff08QUALPER\\\\uff09 HTC HUAWEI \\\\u9752\\\\u6a59\\\\uff08GreenOrange\\\\uff09 \\\\u7f8e\\\\u56fe\\\\uff08meitu\\\\uff09 \\\\u8054\\\\u60f3\\\\uff08Lenovo\\\\uff09 Apple \\\\u6735\\\\u552f\\\\uff08DOOV\\\\uff09 \\\\u98de\\\\u5229\\\\u6d66\\\\uff08PHILIPS\\\\uff09 \\\\u4e50\\\\u89c6\\\\uff08Letv\\\\uff09 MEIZU \\\\u52aa\\\\u6bd4\\\\u4e9a\\\\uff08nubia\\\\uff09 \\\\u4e2d\\\\u5174\\\\uff08ZTE\\\\uff09 \\\\u5c0f\\\\u7c73\\\\uff08MI\\\\uff09 \\\\u534e\\\\u4e3a\\\\uff08HUAWEI\\\\uff09\", \"vender_total_score\": 955, \"vender_ware_score\": 954, \"vender_service_score\": 953, \"vender_effective_score\": 949, \"pic_url\": \"\", \"summary\": \"\", \"shop_score\": 454, \"txt_weight\": 0, \"weight\": 0, \"icon\": 0, \"industry_service_score\": 954, \"industry_effective_score\": 954, \"industry_total_score\": 954}, {\"shop_id\": 178637, \"shop_name\": \"\\\\u7231\\\\u4f18\\\\u521b\\\\u6770\\\\u624b\\\\u673a\\\\u4e13\\\\u8425\\\\u5e97\", \"shop_brief\": \"\\\\u7231\\\\u4f18\\\\u521b\\\\u6770\\\\u53ea\\\\u552e\\\\u6b63\\\\u54c1\\\\u884c\\\\u8d27\\\\uff0c\\\\u652f\\\\u6301\\\\u5b98\\\\u65b9\\\\u6e20\\\\u9053\\\\u9a8c\\\\u8d27\", \"shop_logo\": \"//img30.360buyimg.com/popshop/jfs/t2698/194/3092681397/27508/b500a705/577e2256Na4f7dee1.jpg\", \"shop_type\": 24, \"vender_id\": 185329, \"vender_type\": 0, \"cid1\": 9987, \"business_category\": \"\\\\u624b\\\\u673a\\\\u901a\\\\u8baf \\\\u624b\\\\u673a\\\\u914d\\\\u4ef6 \\\\u521b\\\\u610f\\\\u914d\\\\u4ef6 \\\\u624b\\\\u673a\", \"main_brand\": \"\\\\u9177\\\\u6d3e\\\\uff08Coolpad\\\\uff09 HALOVE \\\\u8bfa\\\\u57fa\\\\u4e9a\\\\uff08NOKIA\\\\uff09 \\\\u4e09\\\\u661f\\\\uff08SAMSUNG\\\\uff09 ivvi 360 \\\\u9524\\\\u5b50\\\\uff08smartisan\\\\uff09 SUGAR ZUK \\\\u5168\\\\u666e\\\\uff08QUALPER\\\\uff09 \\\\u5947\\\\u9177\\\\uff08qiku\\\\uff09 \\\\u9b45\\\\u65cf\\\\uff08MEIZU\\\\uff09 \\\\u5c0f\\\\u8fa3\\\\u6912 HTC \\\\u7ea2\\\\u6d3e\\\\uff08REDPI\\\\uff09 \\\\u7f8e\\\\u56fe\\\\uff08meitu\\\\uff09 \\\\u8054\\\\u60f3\\\\uff08Lenovo\\\\uff09 \\\\u82f9\\\\u679c\\\\uff08Apple\\\\uff09 Apple huawei \\\\u98de\\\\u5229\\\\u6d66\\\\uff08PHILIPS\\\\uff09 \\\\u4e50\\\\u89c6\\\\uff08Letv\\\\uff09 APPLE MOTOROLA \\\\u91d1\\\\u7acb\\\\uff08Gionee\\\\uff09 \\\\u52aa\\\\u6bd4\\\\u4e9a\\\\uff08nubia\\\\uff09 \\\\u4e2d\\\\u5174\\\\uff08ZTE\\\\uff09 \\\\u5c0f\\\\u7c73\\\\uff08MI\\\\uff09 \\\\u534e\\\\u4e3a\\\\uff08HUAWEI\\\\uff09\", \"vender_total_score\": 945, \"vender_ware_score\": 948, \"vender_service_score\": 942, \"vender_effective_score\": 935, \"pic_url\": \"\", \"summary\": \"\", \"shop_score\": 380, \"txt_weight\": 0, \"weight\": 0, \"icon\": 0, \"industry_service_score\": 954, \"industry_effective_score\": 954, \"industry_total_score\": 954}, {\"shop_id\": 113406, \"shop_name\": \"\\\\u4f73\\\\u6caa\\\\u6570\\\\u7801\\\\u624b\\\\u673a\\\\u65d7\\\\u8230\\\\u5e97\", \"shop_brief\": \"\\\\u5b98\\\\u65b9\\\\u6b63\\\\u54c1\\\\u4e28\\\\u8d27\\\\u7968\\\\u540c\\\\u884c\\\\u4e28\\\\u5feb\\\\u901f\\\\u7269\\\\u6d41\\\\u4e28\\\\u65e0\\\\u5fe7\\\\u552e\\\\u540e\", \"shop_logo\": \"//img30.360buyimg.com/popshop/jfs/t2647/93/2701310852/18005/dc6d3a0f/57720ee7N7facae60.jpg\", \"shop_type\": 11, \"vender_id\": 116240, \"vender_type\": 0, \"cid1\": 9987, \"business_category\": \"\\\\u624b\\\\u673a\\\\u901a\\\\u8baf \\\\u5bf9\\\\u8bb2\\\\u673a \\\\u624b\\\\u673a\\\\u914d\\\\u4ef6 \\\\u521b\\\\u610f\\\\u914d\\\\u4ef6 \\\\u7279\\\\u6b8a\\\\u5546\\\\u54c1 \\\\u624b\\\\u673a\", \"main_brand\": \"\\\\u9177\\\\u6d3e\\\\uff08Coolpad\\\\uff09 \\\\u4f20\\\\u5947\\\\uff08SAGA\\\\uff09 HALOVE \\\\u534e\\\\u661f \\\\u4e09\\\\u661f\\\\uff08SAMSUNG\\\\uff09 TCL 360\\\\uff08S\\\\uff09 PPTV ZUK \\\\u5c0f\\\\u8fa3\\\\u6912 \\\\u5168\\\\u666e\\\\uff08QUALPER\\\\uff09 HTC \\\\u9752\\\\u6a59\\\\uff08GreenOrange\\\\uff09 \\\\u6c83\\\\u666e\\\\u4e30\\\\uff08well phone\\\\uff09 \\\\u7f8e\\\\u56fe\\\\uff08meitu\\\\uff09 \\\\u9752\\\\u6a59\\\\uff08VOGA\\\\uff09 \\\\u6d1b\\\\u514b\\\\uff08ROCK\\\\uff09 Apple \\\\u4f9d\\\\u89c6\\\\u8def \\\\u6735\\\\u552f\\\\uff08DOOV\\\\uff09 \\\\u98de\\\\u5229\\\\u6d66\\\\uff08PHILIPS\\\\uff09 \\\\u4e50\\\\u89c6\\\\uff08Letv\\\\uff09 \\\\u4f20\\\\u5947\\\\u6570\\\\u7801\\\\uff08SAGA\\\\uff09 \\\\u6d77\\\\u4fe1\\\\uff08Hisense\\\\uff09 \\\\u5929\\\\u8bed\\\\uff08K-TOUCH\\\\uff09 InFocus NOKIA BROR \\\\u534e\\\\u7855\\\\uff08ASUS\\\\uff09 \\\\u7ebd\\\\u66fc\\\\uff08Newman\\\\uff09 \\\\u8bfa\\\\u57fa\\\\u4e9a\\\\uff08NOKIA\\\\uff09 Guoguo 360 \\\\u74e6\\\\u6208\\\\uff08ivargo\\\\uff09 \\\\u9524\\\\u5b50\\\\uff08smartisa...\", \"vender_total_score\": 946, \"vender_ware_score\": 946, \"vender_service_score\": 946, \"vender_effective_score\": 943, \"pic_url\": \"http://img11.360buyimg.com/cms/jfs/t1591/100/323975409/54578/90c2a5f3/557551dbN31b65823.jpg\", \"summary\": \"\\\\u5b98\\\\u65b9\\\\u6b63\\\\u54c1\\\\u4fdd\\\\u969c\\\\uff0c\\\\u8d27\\\\u7968\\\\u540c\\\\u884c\\\\u65e0\\\\u5fe7\\\\u3002\", \"shop_score\": 493, \"txt_weight\": 0, \"weight\": 0, \"icon\": 0, \"industry_service_score\": 954, \"industry_effective_score\": 954, \"industry_total_score\": 954}, {\"shop_id\": 121932, \"shop_name\": \"\\\\u4e2d\\\\u6052\\\\u56fd\\\\u4fe1\\\\u624b\\\\u673a\\\\u65d7\\\\u8230\\\\u5e97\", \"shop_brief\": \"\\\\u6b63\\\\u54c1\\\\u4fdd\\\\u969c\\\\u00b7\\\\u5168\\\\u56fd\\\\u8054\\\\u4fdd\\\\u00b7\\\\u6b63\\\\u89c4\\\\u53d1\\\\u7968\", \"shop_logo\": \"//img30.360buyimg.com/popshop/jfs/t1318/350/294942422/25722/388560eb/55643fbeNe66190a6.jpg\", \"shop_type\": 11, \"vender_id\": 124424, \"vender_type\": 0, \"cid1\": 9987, \"business_category\": \"\\\\u5145\\\\u7535\\\\u5668/\\\\u6570\\\\u636e\\\\u7ebf \\\\u5145\\\\u7535\\\\u5668 \\\\u8f66\\\\u8f7d\\\\u914d\\\\u4ef6 \\\\u62cd\\\\u7167\\\\u914d\\\\u4ef6 \\\\u624b\\\\u673a\\\\u901a\\\\u8baf \\\\u624b\\\\u673a\\\\u914d\\\\u4ef6 \\\\u624b\\\\u673a\\\\u4fdd\\\\u62a4\\\\u5957 \\\\u82f9\\\\u679c\\\\u5468\\\\u8fb9 \\\\u624b\\\\u673a\\\\u9970\\\\u54c1 \\\\u84dd\\\\u7259\\\\u8033\\\\u673a \\\\u4fbf\\\\u643a/\\\\u65e0\\\\u7ebf\\\\u97f3\\\\u54cd \\\\u624b\\\\u673a\\\\u5b58\\\\u50a8\\\\u5361 \\\\u624b\\\\u673a\\\\u8033\\\\u673a \\\\u521b\\\\u610f\\\\u914d\\\\u4ef6 \\\\u6570\\\\u636e\\\\u7ebf \\\\u7535\\\\u6c60/\\\\u79fb\\\\u52a8\\\\u7535\\\\u6e90 \\\\u624b\\\\u673a\\\\u7535\\\\u6c60 iPhone \\\\u914d\\\\u4ef6 \\\\u624b\\\\u673a\\\\u652f\\\\u67b6 \\\\u7279\\\\u6b8a\\\\u5546\\\\u54c1 \\\\u624b\\\\u673a \\\\u79fb\\\\u52a8\\\\u7535\\\\u6e90 \\\\u624b\\\\u673a\\\\u8d34\\\\u819c\", \"main_brand\": \"UBTEL \\\\u521b\\\\u5ba2\\\\uff08CKCOM\\\\uff09 \\\\u590f\\\\u666e\\\\uff08SHARP\\\\uff09 \\\\u9177\\\\u6d3e\\\\uff08Coolpad\\\\uff09 HALOVE \\\\u5bcc\\\\u53ef\\\\u89c6\\\\uff08InFocus\\\\uff09 \\\\u4e09\\\\u661f\\\\uff08SAMSUNG\\\\uff09 uimi TCL ZUK \\\\u5168\\\\u666e\\\\uff08QUALPER\\\\uff09 \\\\u5c0f\\\\u8fa3\\\\u6912 HTC \\\\u7d22\\\\u5c3c \\\\u7f8e\\\\u56fe\\\\uff08meitu\\\\uff09 \\\\u8a79\\\\u59c6\\\\u58eb\\\\uff08GEMRY\\\\uff09 \\\\u6b27\\\\u73c0\\\\uff08OPPO\\\\uff09 \\\\u82f9\\\\u679c/Apple Apple \\\\u6735\\\\u552f\\\\uff08DOOV\\\\uff09 \\\\u98de\\\\u5229\\\\u6d66\\\\uff08PHILIPS\\\\uff09 Microsoft \\\\u4e50\\\\u89c6\\\\uff08Letv\\\\uff09 \\\\u7ef4\\\\u56fe\\\\u4f20\\\\u627f \\\\u6d77\\\\u4fe1\\\\uff08Hisense\\\\uff09 \\\\u91d1\\\\u7acb\\\\uff08Gionee\\\\uff09 InFocus \\\\u6469\\\\u6258\\\\u7f57\\\\u62c9\\\\uff08Motorola\\\\uff09 \\\\u534e\\\\u7855\\\\uff08ASUS\\\\uff09 \\\\u8bfa\\\\u57fa\\\\u4e9a\\\\uff08NOKIA\\\\uff09 \\\\u7ebd\\\\u66fc\\\\uff08Newman\\\\uff09 Letv 360 \\\\u9524\\\\u5b50\\\\uff08smartisan\\\\uff09 VETAS ...\", \"vender_total_score\": 942, \"vender_ware_score\": 945, \"vender_service_score\": 942, \"vender_effective_score\": 935, \"pic_url\": \"http://img11.360buyimg.com/cms/jfs/t1702/54/11256163/48878/d5d73df8/5565333fNfe7f9f64.jpg\", \"summary\": \"\\\\u4e2d\\\\u6052\\\\u56fd\\\\u4fe1\\\\u624b\\\\u673a\\\\u65d7\\\\u8230\\\\u5e97\", \"shop_score\": 448, \"txt_weight\": 0, \"weight\": 0, \"icon\": 0, \"industry_service_score\": 954, \"industry_effective_score\": 954, \"industry_total_score\": 954}, {\"shop_id\": 182802, \"shop_name\": \"\\\\u4f17\\\\u76db\\\\u624b\\\\u673a\\\\u4e13\\\\u8425\\\\u5e97\", \"shop_brief\": \"\\\\u8bda\\\\u4fe1\\\\uff0c\\\\u52a1\\\\u5b9e\\\\uff0c\\\\u4ee5\\\\u987e\\\\u5ba2\\\\u4e3a\\\\u672c\\\\uff0c\\\\u670d\\\\u52a1\\\\u9020\\\\u5c31\\\\u672a\\\\u6765\\\\u3002\", \"shop_logo\": \"//img30.360buyimg.com/popshop/jfs/t4060/74/872778219/28403/639a68f4/5860dc2eNbd1b5bec.jpg\", \"shop_type\": 24, \"vender_id\": 187278, \"vender_type\": 0, \"cid1\": 9987, \"business_category\": \"\\\\u624b\\\\u673a\\\\u901a\\\\u8baf \\\\u624b\\\\u673a\", \"main_brand\": \"NOKIA \\\\u798f\\\\u4e2d\\\\u798f\\\\uff08F-FOOK\\\\uff09 \\\\u7231\\\\u6765\\\\u798f\\\\uff08ailyfu\\\\uff09 \\\\u9177\\\\u6d3e\\\\uff08Coolpad\\\\uff09 \\\\u8bfa\\\\u57fa\\\\u4e9a\\\\uff08NOKIA\\\\uff09 \\\\u7ebd\\\\u66fc\\\\uff08Newman\\\\uff09 \\\\u4e1c\\\\u4fe1 360 \\\\u950b\\\\u8fbe\\\\u901a\\\\uff08Fadar\\\\uff09 \\\\u5c0f\\\\u7c73 TCL \\\\u4f18\\\\u601d\\\\uff08Uniscope\\\\uff09 \\\\u6d77\\\\u5c14\\\\uff08Haier\\\\uff09 \\\\u9b45\\\\u65cf\\\\uff08MEIZU\\\\uff09 \\\\u5c0f\\\\u8fa3\\\\u6912 \\\\u4e50\\\\u4e30\\\\uff08lephone\\\\uff09 \\\\u4eac\\\\u7acb\\\\uff08Gineek\\\\uff09 \\\\u5929\\\\u8bed\\\\uff08K-Touch\\\\uff09 \\\\u7f8e\\\\u56fe\\\\uff08meitu\\\\uff09 \\\\u8054\\\\u60f3\\\\uff08Lenovo\\\\uff09 PHILIPS XPELL \\\\u7ebd\\\\u66fc \\\\u6735\\\\u552f\\\\uff08DOOV\\\\uff09 \\\\u98de\\\\u5229\\\\u6d66\\\\uff08PHILIPS\\\\uff09 \\\\u4e50\\\\u89c6\\\\uff08Letv\\\\uff09 21KE \\\\u6d77\\\\u4fe1\\\\uff08Hisense\\\\uff09 \\\\u5927\\\\u663e\\\\uff08DaXian\\\\uff09 \\\\u52aa\\\\u6bd4\\\\u4e9a\\\\uff08nubia\\\\uff09 SAGA \\\\u5eb7\\\\u4f73\\\\uff08KONKA\\\\uff09 \\\\u5c0f\\\\u7c73\\\\uff08MI\\\\uff09 \\\\u6bd4...\", \"vender_total_score\": 962, \"vender_ware_score\": 957, \"vender_service_score\": 957, \"vender_effective_score\": 966, \"pic_url\": \"\", \"summary\": \"\", \"shop_score\": 393, \"txt_weight\": 0, \"weight\": 0, \"icon\": 0, \"industry_service_score\": 954, \"industry_effective_score\": 954, \"industry_total_score\": 954}, {\"shop_id\": 197290, \"shop_name\": \"\\\\u73af\\\\u7403\\\\u540d\\\\u54c1\\\\u6d77\\\\u5916\\\\u4e13\\\\u8425\\\\u5e97\", \"shop_brief\": \"\\\\u9999\\\\u6e2f\\\\u5009\\\\u5132\\\\uff0c\\\\u5883\\\\u5916\\\\u76f4\\\\u90f5\\\\uff0c\\\\u8aa0\\\\u4fe1\\\\u7d93\\\\u71df\\\\uff0c\\\\u6b63\\\\u54c1\\\\u4fdd\\\\u8b49\", \"shop_logo\": \"//img30.360buyimg.com/popshop/jfs/t2134/35/2703874254/24980/24b70a14/56e8d2abN759e8fe7.jpg\", \"shop_type\": 24, \"vender_id\": 206245, \"vender_type\": 0, \"cid1\": 9987, \"business_category\": \"\\\\u7535\\\\u8bdd\\\\u673a \\\\u71c3\\\\u6c14\\\\u70ed\\\\u6c34\\\\u5668 \\\\u9879\\\\u94fe/\\\\u540a\\\\u5760 \\\\u9f99\\\\u5934 \\\\u624b\\\\u67c4/\\\\u65b9\\\\u5411\\\\u76d8 \\\\u5988\\\\u54aa\\\\u5305 \\\\u94c2\\\\u91d1 \\\\u793c\\\\u54c1\\\\u7bb1\\\\u5305 \\\\u5e94\\\\u6025\\\\u6551\\\\u63f4 \\\\u8840\\\\u7cd6\\\\u4eea \\\\u6696\\\\u5976\\\\u6d88\\\\u6bd2 \\\\u5507\\\\u90e8 \\\\u8f6e\\\\u6ed1\\\\u6ed1\\\\u677f \\\\u996e\\\\u6c34\\\\u673a \\\\u516c\\\\u8def\\\\u8f66 \\\\u6e38\\\\u620f\\\\u673a \\\\u5176\\\\u4ed6\\\\u914d\\\\u4ef6 \\\\u6444\\\\u5f71\\\\u914d\\\\u4ef6 \\\\u536b\\\\u751f\\\\u5dfe \\\\u50a8\\\\u7269\\\\u7bb1 \\\\u9ec4\\\\u91d1\\\\u8033\\\\u9970 \\\\u5496\\\\u5561\\\\u673a \\\\u5b89\\\\u5168\\\\u9884\\\\u8b66\\\\u4eea \\\\u9879\\\\u94fe \\\\u548c\\\\u9762\\\\u673a \\\\u6570\\\\u7801\\\\u76f8\\\\u673a \\\\u95e8\\\\u94c3 \\\\u9ec4\\\\u91d1\\\\u9879\\\\u94fe \\\\u718f\\\\u9999 \\\\u9006\\\\u53d8\\\\u5668 MP3/MP4\\\\u914d\\\\u4ef6 \\\\u6570\\\\u636e\\\\u7ebf \\\\u7259\\\\u5237/\\\\u7259\\\\u7ebf \\\\u5176\\\\u5b83\\\\u62a4\\\\u7406\\\\u7535\\\\u5668 U\\\\u76d8 \\\\u5176\\\\u5b83\\\\u53a8\\\\u623f\\\\u7535\\\\u5668 \\\\u7b14\\\\u8bb0\\\\u672c\\\\u914d\\\\u4ef6 \\\\u5ef6\\\\u4fdd\\\\u670d\\\\u52a1 \\\\u5ea7\\\\u5957 \\\\u955c\\\\u5934 \\\\u7cd6\\\\u679c/\\\\u5de7\\\\u514b\\\\u529b \\\\u955c\\\\u5934\\\\u9644\\\\u4ef6 \\\\u7b14\\\\u8bb0\\\\u672c \\\\u6e38\\\\u620f\\\\u8bbe\\\\u5907 \\\\u6d17\\\\u8f66\\\\u6c34\\\\u67aa \\\\u9f20\\\\u6807 \\\\u5c0f\\\\u53f6\\\\u7d2b\\\\u6a80 \\\\u88c5\\\\u9970\\\\u706f \\\\u6b27\\\\u7f8e\\\\u8868 ...\", \"main_brand\": \"\\\\u590f\\\\u666e\\\\uff08SHARP\\\\uff09 \\\\u5927\\\\u7586\\\\uff08DJI\\\\uff09 PRGR \\\\u8d1d\\\\u5370\\\\uff08KAI\\\\uff09 Kindle \\\\u827e\\\\u7f57\\\\u4f2f\\\\u7279\\\\uff08iRobot\\\\uff09 \\\\u6377\\\\u6ce2\\\\u6717\\\\uff08Jabra\\\\uff09 \\\\u4f50\\\\u85e4\\\\u5236\\\\u836f\\\\uff08sato\\\\uff09 Kiss me \\\\u6c60\\\\u7530\\\\u6a21\\\\u8303\\\\u5802\\\\uff08MUHI\\\\uff09 \\\\u4e09\\\\u661f\\\\uff08SAMSUNG\\\\uff09 \\\\u6811\\\\u4e4b\\\\u60e0\\\\uff08kinomegumi\\\\uff09 \\\\u5c0f\\\\u7c73 \\\\u535a\\\\u6717\\\\uff08Braun\\\\uff09 \\\\u4e50\\\\u89c6TV\\\\uff08Letv\\\\uff09 titleist \\\\u9ad8\\\\u4e1d\\\\uff08kose\\\\uff09 \\\\u7d22\\\\u5c3c \\\\u8a79\\\\u59c6\\\\u58eb\\\\uff08GEMRY\\\\uff09 \\\\u54c8\\\\u66fc\\\\u5361\\\\u987f\\\\uff08Harman/Kardon\\\\uff09 \\\\u7f8e\\\\u56fe\\\\uff08meitu\\\\uff09 \\\\u96f7\\\\u67cf Apple \\\\u8d1d\\\\u4eb2 \\\\u98de\\\\u5229\\\\u6d66\\\\uff08PHILIPS\\\\uff09 \\\\u5916\\\\u661f\\\\u4eba\\\\uff08Alienware\\\\uff09 \\\\u4f51\\\\u5929\\\\u5170\\\\uff08utena\\\\uff09 \\\\u970d\\\\u5c3c\\\\u97e6\\\\u5c14\\\\uff08Honeywell\\\\uff09 \\\\u548c\\\\u5149\\\\u5802\\\\uff08Wakodo\\\\uff09 GoPr...\", \"vender_total_score\": 958, \"vender_ware_score\": 969, \"vender_service_score\": 967, \"vender_effective_score\": 954, \"pic_url\": \"\", \"summary\": \"\", \"shop_score\": 272, \"txt_weight\": 0, \"weight\": 0, \"icon\": 0, \"industry_service_score\": 954, \"industry_effective_score\": 954, \"industry_total_score\": 954}, {\"shop_id\": 595861, \"shop_name\": \"\\\\u57f9\\\\u65b0\\\\u6570\\\\u7801\\\\u624b\\\\u673a\\\\u4e13\\\\u8425\\\\u5e97\", \"shop_brief\": \"\\\\u5168\\\\u65b0\\\\u56fd\\\\u884c\\\\uff01\\\\u5168\\\\u56fd\\\\u8054\\\\u4fdd\\\\uff01\", \"shop_logo\": \"//img30.360buyimg.com/popshop/jfs/t3133/333/1913448024/12017/d06eb191/57d7b49fNab0eed74.jpg\", \"shop_type\": 24, \"vender_id\": 602142, \"vender_type\": 0, \"cid1\": 9987, \"business_category\": \"\\\\u624b\\\\u673a\\\\u901a\\\\u8baf \\\\u624b\\\\u673a\\\\u914d\\\\u4ef6 \\\\u521b\\\\u610f\\\\u914d\\\\u4ef6 \\\\u624b\\\\u673a\", \"main_brand\": \"\\\\u7f8e\\\\u56fe\\\\uff08meitu\\\\uff09 \\\\u957f\\\\u8679\\\\uff08CHANGHONG\\\\uff09 \\\\u7231\\\\u6765\\\\u798f\\\\uff08ailyfu\\\\uff09 \\\\u9177\\\\u6d3e\\\\uff08Coolpad\\\\uff09 \\\\u8054\\\\u60f3\\\\uff08Lenovo\\\\uff09 HALOVE Apple \\\\u7ebd\\\\u66fc\\\\uff08Newman\\\\uff09 \\\\u4e09\\\\u661f\\\\uff08SAMSUNG\\\\uff09 \\\\u6ce2\\\\u5bfc\\\\uff08BiRD\\\\uff09 360 \\\\u4e50\\\\u89c6\\\\uff08Letv\\\\uff09 CAPPU \\\\u52aa\\\\u6bd4\\\\u4e9a\\\\uff08nubia\\\\uff09 \\\\u96c6\\\\u6021\\\\u5609\\\\uff08Gigaset\\\\uff09 \\\\u4e2d\\\\u5174\\\\uff08ZTE\\\\uff09 \\\\u5c0f\\\\u7c73\\\\uff08MI\\\\uff09 \\\\u5929\\\\u8bed\\\\uff08K-TOUCH\\\\uff09 \\\\u534e\\\\u4e3a\\\\uff08HUAWEI\\\\uff09 \\\\u5168\\\\u666e\\\\uff08QUALPER\\\\uff09 \\\\u5c0f\\\\u8fa3\\\\u6912 \\\\u9b45\\\\u65cf\\\\uff08MEIZU\\\\uff09\", \"vender_total_score\": 942, \"vender_ware_score\": 947, \"vender_service_score\": 940, \"vender_effective_score\": 934, \"pic_url\": \"\", \"summary\": \"\", \"shop_score\": 417, \"txt_weight\": 0, \"weight\": 0, \"icon\": 0, \"industry_service_score\": 954, \"industry_effective_score\": 954, \"industry_total_score\": 954}, {\"shop_id\": 168617, \"shop_name\": \"GIT\\\\u901a\\\\u8baf\\\\u6570\\\\u7801\\\\u65d7\\\\u8230\\\\u5e97\", \"shop_brief\": \"GIT\\\\u5168\\\\u7403\\\\u8d2d\\\\uff0c\\\\u6e2f\\\\u884c\\\\u6b63\\\\u54c1\\\\uff0c\\\\u54c1\\\\u8d28\\\\u4fdd\\\\u969c\\\\u3002\", \"shop_logo\": \"//img30.360buyimg.com/popshop/jfs/t1981/110/1880002681/5027/222b2fe2/56909fb2N0e570820.jpg\", \"shop_type\": 10, \"vender_id\": 174546, \"vender_type\": 0, \"cid1\": 9987, \"business_category\": \"\\\\u7535\\\\u8bdd\\\\u673a \\\\u9664\\\\u6e7f\\\\u673a \\\\u663e\\\\u5361 \\\\u624b\\\\u67c4/\\\\u65b9\\\\u5411\\\\u76d8 \\\\u8def\\\\u7531\\\\u5668 \\\\u793c\\\\u54c1\\\\u7bb1\\\\u5305 \\\\u8840\\\\u7cd6\\\\u4eea \\\\u6696\\\\u5976\\\\u6d88\\\\u6bd2 \\\\u6444\\\\u50cf\\\\u673a \\\\u6e38\\\\u620f\\\\u5468\\\\u8fb9 MP3/MP4 \\\\u996e\\\\u6c34\\\\u673a \\\\u5bb6\\\\u7535\\\\u914d\\\\u4ef6 \\\\u7535\\\\u8111\\\\u5de5\\\\u5177 \\\\u6e38\\\\u620f\\\\u673a \\\\u6444\\\\u5f71\\\\u914d\\\\u4ef6 \\\\u5176\\\\u4ed6\\\\u914d\\\\u4ef6 \\\\u7535\\\\u98ce\\\\u6247 \\\\u62cd\\\\u7167\\\\u914d\\\\u4ef6 \\\\u5496\\\\u5561\\\\u673a \\\\u8272\\\\u5e26 \\\\u6570\\\\u7801\\\\u76f8\\\\u673a \\\\u667a\\\\u80fd\\\\u8bbe\\\\u5907 \\\\u667a\\\\u80fd\\\\u773c\\\\u955c MP3/MP4\\\\u914d\\\\u4ef6 \\\\u540d\\\\u54c1\\\\u8155\\\\u8868 \\\\u5355\\\\u53cd\\\\u914d\\\\u4ef6 \\\\u6570\\\\u636e\\\\u7ebf \\\\u6563\\\\u70ed\\\\u5668 \\\\u5176\\\\u5b83\\\\u62a4\\\\u7406\\\\u7535\\\\u5668 U\\\\u76d8 \\\\u8bfb\\\\u5361\\\\u5668 \\\\u6ee4\\\\u955c \\\\u7b14\\\\u8bb0\\\\u672c\\\\u914d\\\\u4ef6 \\\\u5176\\\\u5b83\\\\u53a8\\\\u623f\\\\u7535\\\\u5668 \\\\u624b\\\\u673a\\\\u8d34\\\\u819c \\\\u5ef6\\\\u4fdd\\\\u670d\\\\u52a1 \\\\u751f\\\\u6d3b\\\\u7535\\\\u5668\\\\u914d\\\\u4ef6 \\\\u7535\\\\u70ed\\\\u996d\\\\u76d2 \\\\u955c\\\\u5934 \\\\u955c\\\\u5934\\\\u9644\\\\u4ef6 \\\\u7b14\\\\u8bb0\\\\u672c SSD\\\\u56fa\\\\u6001\\\\u786c\\\\u76d8 \\\\u6e38\\\\u620f\\\\u8bbe\\\\u5907 \\\\u5ea7\\\\u949f\\\\u6302\\\\u949f \\\\u7535\\\\u7eb8\\\\u4e66 \\\\u9f20\\\\u6807 \\\\u7f51\\\\u5361...\", \"main_brand\": \"\\\\u5b8f\\\\u7881\\\\uff08acer\\\\uff09 \\\\u4e50\\\\u89c6 \\\\u5fae\\\\u661f\\\\uff08MSI\\\\uff09 \\\\u68ee\\\\u6d77\\\\u585e\\\\u5c14\\\\uff08Sennheiser\\\\uff09 \\\\u5361\\\\u897f\\\\u6b27\\\\uff08Casio\\\\uff09 \\\\u96f7\\\\u67cf\\\\uff08Rapoo\\\\uff09 \\\\u957f\\\\u8679\\\\uff08CHANGHONG\\\\uff09 \\\\u6770\\\\u4f1f\\\\u4e16\\\\uff08JVC\\\\uff09 \\\\u96f7\\\\u670b\\\\uff08Ray.Ban\\\\uff09 \\\\u7f57\\\\u6280\\\\uff08Logitech\\\\uff09 dyson \\\\u6c5f\\\\u8bd7\\\\u4e39\\\\u987f\\\\uff08Vacheron Constantin\\\\uff09 \\\\u677e\\\\u4e0b\\\\uff08panasonic\\\\uff09 \\\\u60e0\\\\u666e\\\\uff08HP\\\\uff09 \\\\u4e09\\\\u661f\\\\uff08SAMSUNG\\\\uff09 \\\\u683c\\\\u62c9\\\\u82cf\\\\u8482\\\\uff08Glash\\\\u00fctte Original\\\\uff09 \\\\u5c0f\\\\u7c73 \\\\u79ef\\\\u5bb6\\\\uff08Jaeger\\\\uff09 OPPO B&O ZUK HTC \\\\u672a\\\\u6765\\\\u4eba\\\\u7c7b\\\\uff08Terrans Force\\\\uff09 \\\\u7f8e\\\\u56fe\\\\uff08meitu\\\\uff09 \\\\u54c8\\\\u66fc\\\\u5361\\\\u987f\\\\uff08Harman/Kardon\\\\uff09 \\\\u5929\\\\u68ad\\\\uff08TISSOT\\\\uff09 \\\\u6cd5\\\\u62c9\\\\u5229\\\\uff08Ferrari...\", \"vender_total_score\": 947, \"vender_ware_score\": 952, \"vender_service_score\": 947, \"vender_effective_score\": 948, \"pic_url\": \"\", \"summary\": \"\", \"shop_score\": 338, \"txt_weight\": 0, \"weight\": 0, \"icon\": 0, \"industry_service_score\": 954, \"industry_effective_score\": 954, \"industry_total_score\": 954}, {\"shop_id\": 607243, \"shop_name\": \"\\\\u9ea6\\\\u8003\\\\u5229\\\\u624b\\\\u673a\\\\u4e13\\\\u8425\\\\u5e97\", \"shop_brief\": \"\\\\u5168\\\\u56fd\\\\u8054\\\\u4fdd\\\\u00b7\\\\u6b63\\\\u54c1\\\\u4fdd\\\\u969c\\\\u00b7\\\\u6b63\\\\u89c4\\\\u53d1\\\\u7968\", \"shop_logo\": \"//img30.360buyimg.com/popshop/jfs/t3277/250/4716962464/1242/e1bd3031/5851fc6dNff7f07b5.png\", \"shop_type\": 24, \"vender_id\": 606086, \"vender_type\": 0, \"cid1\": 9987, \"business_category\": \"\\\\u624b\\\\u673a\\\\u901a\\\\u8baf \\\\u624b\\\\u673a\\\\u914d\\\\u4ef6 \\\\u521b\\\\u610f\\\\u914d\\\\u4ef6 \\\\u624b\\\\u673a\", \"main_brand\": \"\\\\u52aa\\\\u6bd4\\\\u4e9a\\\\uff08nubia\\\\uff09 \\\\u82f9\\\\u679c\\\\uff08Apple\\\\uff09 \\\\u5c0f\\\\u7c73\\\\uff08MI\\\\uff09 \\\\u4e2d\\\\u5174\\\\uff08ZTE\\\\uff09 \\\\u5929\\\\u8bed\\\\uff08K-TOUCH\\\\uff09 Apple \\\\u534e\\\\u4e3a\\\\uff08HUAWEI\\\\uff09 \\\\u8bfa\\\\u57fa\\\\u4e9a\\\\uff08NOKIA\\\\uff09 \\\\u9b45\\\\u65cf\\\\uff08MEIZU\\\\uff09 HUAWEI HTC 360\", \"vender_total_score\": 948, \"vender_ware_score\": 956, \"vender_service_score\": 943, \"vender_effective_score\": 937, \"pic_url\": \"\", \"summary\": \"\", \"shop_score\": 379, \"txt_weight\": 0, \"weight\": 0, \"icon\": 0, \"industry_service_score\": 954, \"industry_effective_score\": 954, \"industry_total_score\": 954}]'"
      ]
     },
     "execution_count": 3,
     "metadata": {},
     "output_type": "execute_result"
    }
   ],
   "source": [
    "jd"
   ]
  },
  {
   "cell_type": "code",
   "execution_count": 4,
   "metadata": {},
   "outputs": [
    {
     "name": "stdout",
     "output_type": "stream",
     "text": [
      "[{'shop_id': 1000004259, 'shop_name': '华为官方旗舰店', 'shop_brief': '华为官方旗舰店', 'shop_logo': '//img30.360buyimg.com/popshop/jfs/t1630/279/556645620/9702/375b1235/5595eb88N0f86a9de.jpg', 'shop_type': 28, 'vender_id': 1000004259, 'vender_type': 1, 'cid1': 9987, 'business_category': '车载配件 电脑、办公 路由器 手机配件 手机保护套 电脑整机 蓝牙耳机 交换机 手机存储卡 智能手表 手机耳机 数码 网卡 充电器/数据线 充电器 拍照配件 手机通讯 网络配件 对讲机 苹果周边 平板电脑 网络产品 手机饰品 智能设备 智能手环 便携/无线音响 4G/3G上网 创意配件 数据线 电池/移动电源 手机电池 手机支架 iPhone 配件 网络盒子 特殊商品 手机 移动电源 平板电脑配件 手机贴膜', 'main_brand': '华为（HUAWEI）', 'vender_total_score': 1000, 'vender_ware_score': 1000, 'vender_service_score': 1000, 'vender_effective_score': 1000, 'pic_url': '', 'summary': '', 'shop_score': 651, 'txt_weight': 0, 'weight': 0, 'icon': 0, 'industry_service_score': 971, 'industry_effective_score': 963, 'industry_total_score': 974}, {'shop_id': 178287, 'shop_name': '牧申手机旗舰店', 'shop_brief': '官方正品；售后无忧；良心经营！', 'shop_logo': '//img30.360buyimg.com/popshop/jfs/t3199/339/4755058705/11859/63126d1a/58539572N0c79f7dd.jpg', 'shop_type': 11, 'vender_id': 174907, 'vender_type': 0, 'cid1': 9987, 'business_category': '手机通讯 手机配件 创意配件 手机', 'main_brand': '摩托罗拉（Motorola） 酷派（Coolpad） HALOVE SHARP 纽曼（Newman） 诺基亚（NOKIA） 三星（SAMSUNG） 优它（YOTAPHONE） Letv qiku TCL 华硕 OPPO 优思（Uniscope） 锤子（smartisan） 金立（GiONEE） VILOVO 联想（LENOVO） PPTV Hisense ZUK 全普（QUALPER） 小辣椒 魅族（MEIZU） 奇酷（qiku） 青橙（GreenOrange） HTC 美图（meitu） YotaPhone XPELL Apple 坚果 朵唯（DOOV） Microsoft 飞利浦（PHILIPS） Uniscope 国...', 'vender_total_score': 944, 'vender_ware_score': 948, 'vender_service_score': 943, 'vender_effective_score': 936, 'pic_url': '', 'summary': '', 'shop_score': 462, 'txt_weight': 0, 'weight': 0, 'icon': 0, 'industry_service_score': 954, 'industry_effective_score': 954, 'industry_total_score': 954}, {'shop_id': 179483, 'shop_name': '新松联手机旗舰店', 'shop_brief': '正品行货  全国联保 全国包邮', 'shop_logo': '//img30.360buyimg.com/popshop/jfs/t2398/53/1223647493/6551/e9e97104/568c8bbdN73133364.jpg', 'shop_type': 11, 'vender_id': 185259, 'vender_type': 0, 'cid1': 9987, 'business_category': '手机通讯 手机配件 创意配件 手机', 'main_brand': '摩托罗拉（Motorola） 酷派（Coolpad） SHARP HALOVE 诺基亚（NOKIA） 三星（SAMSUNG） 360 锤子（smartisan） 小辣椒 魅族（MEIZU） 全普（QUALPER） HTC HUAWEI 青橙（GreenOrange） 美图（meitu） 联想（Lenovo） Apple 朵唯（DOOV） 飞利浦（PHILIPS） 乐视（Letv） MEIZU 努比亚（nubia） 中兴（ZTE） 小米（MI） 华为（HUAWEI）', 'vender_total_score': 955, 'vender_ware_score': 954, 'vender_service_score': 953, 'vender_effective_score': 949, 'pic_url': '', 'summary': '', 'shop_score': 454, 'txt_weight': 0, 'weight': 0, 'icon': 0, 'industry_service_score': 954, 'industry_effective_score': 954, 'industry_total_score': 954}, {'shop_id': 178637, 'shop_name': '爱优创杰手机专营店', 'shop_brief': '爱优创杰只售正品行货，支持官方渠道验货', 'shop_logo': '//img30.360buyimg.com/popshop/jfs/t2698/194/3092681397/27508/b500a705/577e2256Na4f7dee1.jpg', 'shop_type': 24, 'vender_id': 185329, 'vender_type': 0, 'cid1': 9987, 'business_category': '手机通讯 手机配件 创意配件 手机', 'main_brand': '酷派（Coolpad） HALOVE 诺基亚（NOKIA） 三星（SAMSUNG） ivvi 360 锤子（smartisan） SUGAR ZUK 全普（QUALPER） 奇酷（qiku） 魅族（MEIZU） 小辣椒 HTC 红派（REDPI） 美图（meitu） 联想（Lenovo） 苹果（Apple） Apple huawei 飞利浦（PHILIPS） 乐视（Letv） APPLE MOTOROLA 金立（Gionee） 努比亚（nubia） 中兴（ZTE） 小米（MI） 华为（HUAWEI）', 'vender_total_score': 945, 'vender_ware_score': 948, 'vender_service_score': 942, 'vender_effective_score': 935, 'pic_url': '', 'summary': '', 'shop_score': 380, 'txt_weight': 0, 'weight': 0, 'icon': 0, 'industry_service_score': 954, 'industry_effective_score': 954, 'industry_total_score': 954}, {'shop_id': 113406, 'shop_name': '佳沪数码手机旗舰店', 'shop_brief': '官方正品丨货票同行丨快速物流丨无忧售后', 'shop_logo': '//img30.360buyimg.com/popshop/jfs/t2647/93/2701310852/18005/dc6d3a0f/57720ee7N7facae60.jpg', 'shop_type': 11, 'vender_id': 116240, 'vender_type': 0, 'cid1': 9987, 'business_category': '手机通讯 对讲机 手机配件 创意配件 特殊商品 手机', 'main_brand': '酷派（Coolpad） 传奇（SAGA） HALOVE 华星 三星（SAMSUNG） TCL 360（S） PPTV ZUK 小辣椒 全普（QUALPER） HTC 青橙（GreenOrange） 沃普丰（well phone） 美图（meitu） 青橙（VOGA） 洛克（ROCK） Apple 依视路 朵唯（DOOV） 飞利浦（PHILIPS） 乐视（Letv） 传奇数码（SAGA） 海信（Hisense） 天语（K-TOUCH） InFocus NOKIA BROR 华硕（ASUS） 纽曼（Newman） 诺基亚（NOKIA） Guoguo 360 瓦戈（ivargo） 锤子（smartisa...', 'vender_total_score': 946, 'vender_ware_score': 946, 'vender_service_score': 946, 'vender_effective_score': 943, 'pic_url': 'http://img11.360buyimg.com/cms/jfs/t1591/100/323975409/54578/90c2a5f3/557551dbN31b65823.jpg', 'summary': '官方正品保障，货票同行无忧。', 'shop_score': 493, 'txt_weight': 0, 'weight': 0, 'icon': 0, 'industry_service_score': 954, 'industry_effective_score': 954, 'industry_total_score': 954}, {'shop_id': 121932, 'shop_name': '中恒国信手机旗舰店', 'shop_brief': '正品保障·全国联保·正规发票', 'shop_logo': '//img30.360buyimg.com/popshop/jfs/t1318/350/294942422/25722/388560eb/55643fbeNe66190a6.jpg', 'shop_type': 11, 'vender_id': 124424, 'vender_type': 0, 'cid1': 9987, 'business_category': '充电器/数据线 充电器 车载配件 拍照配件 手机通讯 手机配件 手机保护套 苹果周边 手机饰品 蓝牙耳机 便携/无线音响 手机存储卡 手机耳机 创意配件 数据线 电池/移动电源 手机电池 iPhone 配件 手机支架 特殊商品 手机 移动电源 手机贴膜', 'main_brand': 'UBTEL 创客（CKCOM） 夏普（SHARP） 酷派（Coolpad） HALOVE 富可视（InFocus） 三星（SAMSUNG） uimi TCL ZUK 全普（QUALPER） 小辣椒 HTC 索尼 美图（meitu） 詹姆士（GEMRY） 欧珀（OPPO） 苹果/Apple Apple 朵唯（DOOV） 飞利浦（PHILIPS） Microsoft 乐视（Letv） 维图传承 海信（Hisense） 金立（Gionee） InFocus 摩托罗拉（Motorola） 华硕（ASUS） 诺基亚（NOKIA） 纽曼（Newman） Letv 360 锤子（smartisan） VETAS ...', 'vender_total_score': 942, 'vender_ware_score': 945, 'vender_service_score': 942, 'vender_effective_score': 935, 'pic_url': 'http://img11.360buyimg.com/cms/jfs/t1702/54/11256163/48878/d5d73df8/5565333fNfe7f9f64.jpg', 'summary': '中恒国信手机旗舰店', 'shop_score': 448, 'txt_weight': 0, 'weight': 0, 'icon': 0, 'industry_service_score': 954, 'industry_effective_score': 954, 'industry_total_score': 954}, {'shop_id': 182802, 'shop_name': '众盛手机专营店', 'shop_brief': '诚信，务实，以顾客为本，服务造就未来。', 'shop_logo': '//img30.360buyimg.com/popshop/jfs/t4060/74/872778219/28403/639a68f4/5860dc2eNbd1b5bec.jpg', 'shop_type': 24, 'vender_id': 187278, 'vender_type': 0, 'cid1': 9987, 'business_category': '手机通讯 手机', 'main_brand': 'NOKIA 福中福（F-FOOK） 爱来福（ailyfu） 酷派（Coolpad） 诺基亚（NOKIA） 纽曼（Newman） 东信 360 锋达通（Fadar） 小米 TCL 优思（Uniscope） 海尔（Haier） 魅族（MEIZU） 小辣椒 乐丰（lephone） 京立（Gineek） 天语（K-Touch） 美图（meitu） 联想（Lenovo） PHILIPS XPELL 纽曼 朵唯（DOOV） 飞利浦（PHILIPS） 乐视（Letv） 21KE 海信（Hisense） 大显（DaXian） 努比亚（nubia） SAGA 康佳（KONKA） 小米（MI） 比...', 'vender_total_score': 962, 'vender_ware_score': 957, 'vender_service_score': 957, 'vender_effective_score': 966, 'pic_url': '', 'summary': '', 'shop_score': 393, 'txt_weight': 0, 'weight': 0, 'icon': 0, 'industry_service_score': 954, 'industry_effective_score': 954, 'industry_total_score': 954}, {'shop_id': 197290, 'shop_name': '环球名品海外专营店', 'shop_brief': '香港倉儲，境外直郵，誠信經營，正品保證', 'shop_logo': '//img30.360buyimg.com/popshop/jfs/t2134/35/2703874254/24980/24b70a14/56e8d2abN759e8fe7.jpg', 'shop_type': 24, 'vender_id': 206245, 'vender_type': 0, 'cid1': 9987, 'business_category': '电话机 燃气热水器 项链/吊坠 龙头 手柄/方向盘 妈咪包 铂金 礼品箱包 应急救援 血糖仪 暖奶消毒 唇部 轮滑滑板 饮水机 公路车 游戏机 其他配件 摄影配件 卫生巾 储物箱 黄金耳饰 咖啡机 安全预警仪 项链 和面机 数码相机 门铃 黄金项链 熏香 逆变器 MP3/MP4配件 数据线 牙刷/牙线 其它护理电器 U盘 其它厨房电器 笔记本配件 延保服务 座套 镜头 糖果/巧克力 镜头附件 笔记本 游戏设备 洗车水枪 鼠标 小叶紫檀 装饰灯 欧美表 ...', 'main_brand': '夏普（SHARP） 大疆（DJI） PRGR 贝印（KAI） Kindle 艾罗伯特（iRobot） 捷波朗（Jabra） 佐藤制药（sato） Kiss me 池田模范堂（MUHI） 三星（SAMSUNG） 树之惠（kinomegumi） 小米 博朗（Braun） 乐视TV（Letv） titleist 高丝（kose） 索尼 詹姆士（GEMRY） 哈曼卡顿（Harman/Kardon） 美图（meitu） 雷柏 Apple 贝亲 飞利浦（PHILIPS） 外星人（Alienware） 佑天兰（utena） 霍尼韦尔（Honeywell） 和光堂（Wakodo） GoPr...', 'vender_total_score': 958, 'vender_ware_score': 969, 'vender_service_score': 967, 'vender_effective_score': 954, 'pic_url': '', 'summary': '', 'shop_score': 272, 'txt_weight': 0, 'weight': 0, 'icon': 0, 'industry_service_score': 954, 'industry_effective_score': 954, 'industry_total_score': 954}, {'shop_id': 595861, 'shop_name': '培新数码手机专营店', 'shop_brief': '全新国行！全国联保！', 'shop_logo': '//img30.360buyimg.com/popshop/jfs/t3133/333/1913448024/12017/d06eb191/57d7b49fNab0eed74.jpg', 'shop_type': 24, 'vender_id': 602142, 'vender_type': 0, 'cid1': 9987, 'business_category': '手机通讯 手机配件 创意配件 手机', 'main_brand': '美图（meitu） 长虹（CHANGHONG） 爱来福（ailyfu） 酷派（Coolpad） 联想（Lenovo） HALOVE Apple 纽曼（Newman） 三星（SAMSUNG） 波导（BiRD） 360 乐视（Letv） CAPPU 努比亚（nubia） 集怡嘉（Gigaset） 中兴（ZTE） 小米（MI） 天语（K-TOUCH） 华为（HUAWEI） 全普（QUALPER） 小辣椒 魅族（MEIZU）', 'vender_total_score': 942, 'vender_ware_score': 947, 'vender_service_score': 940, 'vender_effective_score': 934, 'pic_url': '', 'summary': '', 'shop_score': 417, 'txt_weight': 0, 'weight': 0, 'icon': 0, 'industry_service_score': 954, 'industry_effective_score': 954, 'industry_total_score': 954}, {'shop_id': 168617, 'shop_name': 'GIT通讯数码旗舰店', 'shop_brief': 'GIT全球购，港行正品，品质保障。', 'shop_logo': '//img30.360buyimg.com/popshop/jfs/t1981/110/1880002681/5027/222b2fe2/56909fb2N0e570820.jpg', 'shop_type': 10, 'vender_id': 174546, 'vender_type': 0, 'cid1': 9987, 'business_category': '电话机 除湿机 显卡 手柄/方向盘 路由器 礼品箱包 血糖仪 暖奶消毒 摄像机 游戏周边 MP3/MP4 饮水机 家电配件 电脑工具 游戏机 摄影配件 其他配件 电风扇 拍照配件 咖啡机 色带 数码相机 智能设备 智能眼镜 MP3/MP4配件 名品腕表 单反配件 数据线 散热器 其它护理电器 U盘 读卡器 滤镜 笔记本配件 其它厨房电器 手机贴膜 延保服务 生活电器配件 电热饭盒 镜头 镜头附件 笔记本 SSD固态硬盘 游戏设备 座钟挂钟 电纸书 鼠标 网卡...', 'main_brand': '宏碁（acer） 乐视 微星（MSI） 森海塞尔（Sennheiser） 卡西欧（Casio） 雷柏（Rapoo） 长虹（CHANGHONG） 杰伟世（JVC） 雷朋（Ray.Ban） 罗技（Logitech） dyson 江诗丹顿（Vacheron Constantin） 松下（panasonic） 惠普（HP） 三星（SAMSUNG） 格拉苏蒂（Glashütte Original） 小米 积家（Jaeger） OPPO B&O ZUK HTC 未来人类（Terrans Force） 美图（meitu） 哈曼卡顿（Harman/Kardon） 天梭（TISSOT） 法拉利（Ferrari...', 'vender_total_score': 947, 'vender_ware_score': 952, 'vender_service_score': 947, 'vender_effective_score': 948, 'pic_url': '', 'summary': '', 'shop_score': 338, 'txt_weight': 0, 'weight': 0, 'icon': 0, 'industry_service_score': 954, 'industry_effective_score': 954, 'industry_total_score': 954}, {'shop_id': 607243, 'shop_name': '麦考利手机专营店', 'shop_brief': '全国联保·正品保障·正规发票', 'shop_logo': '//img30.360buyimg.com/popshop/jfs/t3277/250/4716962464/1242/e1bd3031/5851fc6dNff7f07b5.png', 'shop_type': 24, 'vender_id': 606086, 'vender_type': 0, 'cid1': 9987, 'business_category': '手机通讯 手机配件 创意配件 手机', 'main_brand': '努比亚（nubia） 苹果（Apple） 小米（MI） 中兴（ZTE） 天语（K-TOUCH） Apple 华为（HUAWEI） 诺基亚（NOKIA） 魅族（MEIZU） HUAWEI HTC 360', 'vender_total_score': 948, 'vender_ware_score': 956, 'vender_service_score': 943, 'vender_effective_score': 937, 'pic_url': '', 'summary': '', 'shop_score': 379, 'txt_weight': 0, 'weight': 0, 'icon': 0, 'industry_service_score': 954, 'industry_effective_score': 954, 'industry_total_score': 954}]\n",
      "华为官方旗舰店 华为官方旗舰店\n",
      "牧申手机旗舰店 官方正品；售后无忧；良心经营！\n",
      "新松联手机旗舰店 正品行货  全国联保 全国包邮\n",
      "爱优创杰手机专营店 爱优创杰只售正品行货，支持官方渠道验货\n",
      "佳沪数码手机旗舰店 官方正品丨货票同行丨快速物流丨无忧售后\n",
      "中恒国信手机旗舰店 正品保障·全国联保·正规发票\n",
      "众盛手机专营店 诚信，务实，以顾客为本，服务造就未来。\n",
      "环球名品海外专营店 香港倉儲，境外直郵，誠信經營，正品保證\n",
      "培新数码手机专营店 全新国行！全国联保！\n",
      "GIT通讯数码旗舰店 GIT全球购，港行正品，品质保障。\n",
      "麦考利手机专营店 全国联保·正品保障·正规发票\n"
     ]
    }
   ],
   "source": [
    "import json\n",
    "dic = json.loads(jd) #将Jason格式变成字典dic类型\n",
    "print(dic)\n",
    "for shop in dic:\n",
    "    print(shop.get('shop_name'), shop.get('shop_brief'))"
   ]
  },
  {
   "cell_type": "code",
   "execution_count": 5,
   "metadata": {},
   "outputs": [
    {
     "data": {
      "text/plain": [
       "'[{\"shop_id\": 1000004259, \"shop_name\": \"\\\\u534e\\\\u4e3a\\\\u5b98\\\\u65b9\\\\u65d7\\\\u8230\\\\u5e97\", \"shop_brief\": \"\\\\u534e\\\\u4e3a\\\\u5b98\\\\u65b9\\\\u65d7\\\\u8230\\\\u5e97\", \"shop_logo\": \"//img30.360buyimg.com/popshop/jfs/t1630/279/556645620/9702/375b1235/5595eb88N0f86a9de.jpg\", \"shop_type\": 28, \"vender_id\": 1000004259, \"vender_type\": 1, \"cid1\": 9987, \"business_category\": \"\\\\u8f66\\\\u8f7d\\\\u914d\\\\u4ef6 \\\\u7535\\\\u8111\\\\u3001\\\\u529e\\\\u516c \\\\u8def\\\\u7531\\\\u5668 \\\\u624b\\\\u673a\\\\u914d\\\\u4ef6 \\\\u624b\\\\u673a\\\\u4fdd\\\\u62a4\\\\u5957 \\\\u7535\\\\u8111\\\\u6574\\\\u673a \\\\u84dd\\\\u7259\\\\u8033\\\\u673a \\\\u4ea4\\\\u6362\\\\u673a \\\\u624b\\\\u673a\\\\u5b58\\\\u50a8\\\\u5361 \\\\u667a\\\\u80fd\\\\u624b\\\\u8868 \\\\u624b\\\\u673a\\\\u8033\\\\u673a \\\\u6570\\\\u7801 \\\\u7f51\\\\u5361 \\\\u5145\\\\u7535\\\\u5668/\\\\u6570\\\\u636e\\\\u7ebf \\\\u5145\\\\u7535\\\\u5668 \\\\u62cd\\\\u7167\\\\u914d\\\\u4ef6 \\\\u624b\\\\u673a\\\\u901a\\\\u8baf \\\\u7f51\\\\u7edc\\\\u914d\\\\u4ef6 \\\\u5bf9\\\\u8bb2\\\\u673a \\\\u82f9\\\\u679c\\\\u5468\\\\u8fb9 \\\\u5e73\\\\u677f\\\\u7535\\\\u8111 \\\\u7f51\\\\u7edc\\\\u4ea7\\\\u54c1 \\\\u624b\\\\u673a\\\\u9970\\\\u54c1 \\\\u667a\\\\u80fd\\\\u8bbe\\\\u5907 \\\\u667a\\\\u80fd\\\\u624b\\\\u73af \\\\u4fbf\\\\u643a/\\\\u65e0\\\\u7ebf\\\\u97f3\\\\u54cd 4G/3G\\\\u4e0a\\\\u7f51 \\\\u521b\\\\u610f\\\\u914d\\\\u4ef6 \\\\u6570\\\\u636e\\\\u7ebf \\\\u7535\\\\u6c60/\\\\u79fb\\\\u52a8\\\\u7535\\\\u6e90 \\\\u624b\\\\u673a\\\\u7535\\\\u6c60 \\\\u624b\\\\u673a\\\\u652f\\\\u67b6 iPhone \\\\u914d\\\\u4ef6 \\\\u7f51\\\\u7edc\\\\u76d2\\\\u5b50 \\\\u7279\\\\u6b8a\\\\u5546\\\\u54c1 \\\\u624b\\\\u673a \\\\u79fb\\\\u52a8\\\\u7535\\\\u6e90 \\\\u5e73\\\\u677f\\\\u7535\\\\u8111\\\\u914d\\\\u4ef6 \\\\u624b\\\\u673a\\\\u8d34\\\\u819c\", \"main_brand\": \"\\\\u534e\\\\u4e3a\\\\uff08HUAWEI\\\\uff09\", \"vender_total_score\": 1000, \"vender_ware_score\": 1000, \"vender_service_score\": 1000, \"vender_effective_score\": 1000, \"pic_url\": \"\", \"summary\": \"\", \"shop_score\": 651, \"txt_weight\": 0, \"weight\": 0, \"icon\": 0, \"industry_service_score\": 971, \"industry_effective_score\": 963, \"industry_total_score\": 974}, {\"shop_id\": 178287, \"shop_name\": \"\\\\u7267\\\\u7533\\\\u624b\\\\u673a\\\\u65d7\\\\u8230\\\\u5e97\", \"shop_brief\": \"\\\\u5b98\\\\u65b9\\\\u6b63\\\\u54c1\\\\uff1b\\\\u552e\\\\u540e\\\\u65e0\\\\u5fe7\\\\uff1b\\\\u826f\\\\u5fc3\\\\u7ecf\\\\u8425\\\\uff01\", \"shop_logo\": \"//img30.360buyimg.com/popshop/jfs/t3199/339/4755058705/11859/63126d1a/58539572N0c79f7dd.jpg\", \"shop_type\": 11, \"vender_id\": 174907, \"vender_type\": 0, \"cid1\": 9987, \"business_category\": \"\\\\u624b\\\\u673a\\\\u901a\\\\u8baf \\\\u624b\\\\u673a\\\\u914d\\\\u4ef6 \\\\u521b\\\\u610f\\\\u914d\\\\u4ef6 \\\\u624b\\\\u673a\", \"main_brand\": \"\\\\u6469\\\\u6258\\\\u7f57\\\\u62c9\\\\uff08Motorola\\\\uff09 \\\\u9177\\\\u6d3e\\\\uff08Coolpad\\\\uff09 HALOVE SHARP \\\\u7ebd\\\\u66fc\\\\uff08Newman\\\\uff09 \\\\u8bfa\\\\u57fa\\\\u4e9a\\\\uff08NOKIA\\\\uff09 \\\\u4e09\\\\u661f\\\\uff08SAMSUNG\\\\uff09 \\\\u4f18\\\\u5b83\\\\uff08YOTAPHONE\\\\uff09 Letv qiku TCL \\\\u534e\\\\u7855 OPPO \\\\u4f18\\\\u601d\\\\uff08Uniscope\\\\uff09 \\\\u9524\\\\u5b50\\\\uff08smartisan\\\\uff09 \\\\u91d1\\\\u7acb\\\\uff08GiONEE\\\\uff09 VILOVO \\\\u8054\\\\u60f3\\\\uff08LENOVO\\\\uff09 PPTV Hisense ZUK \\\\u5168\\\\u666e\\\\uff08QUALPER\\\\uff09 \\\\u5c0f\\\\u8fa3\\\\u6912 \\\\u9b45\\\\u65cf\\\\uff08MEIZU\\\\uff09 \\\\u5947\\\\u9177\\\\uff08qiku\\\\uff09 \\\\u9752\\\\u6a59\\\\uff08GreenOrange\\\\uff09 HTC \\\\u7f8e\\\\u56fe\\\\uff08meitu\\\\uff09 YotaPhone XPELL Apple \\\\u575a\\\\u679c \\\\u6735\\\\u552f\\\\uff08DOOV\\\\uff09 Microsoft \\\\u98de\\\\u5229\\\\u6d66\\\\uff08PHILIPS\\\\uff09 Uniscope \\\\u56fd...\", \"vender_total_score\": 944, \"vender_ware_score\": 948, \"vender_service_score\": 943, \"vender_effective_score\": 936, \"pic_url\": \"\", \"summary\": \"\", \"shop_score\": 462, \"txt_weight\": 0, \"weight\": 0, \"icon\": 0, \"industry_service_score\": 954, \"industry_effective_score\": 954, \"industry_total_score\": 954}, {\"shop_id\": 179483, \"shop_name\": \"\\\\u65b0\\\\u677e\\\\u8054\\\\u624b\\\\u673a\\\\u65d7\\\\u8230\\\\u5e97\", \"shop_brief\": \"\\\\u6b63\\\\u54c1\\\\u884c\\\\u8d27  \\\\u5168\\\\u56fd\\\\u8054\\\\u4fdd \\\\u5168\\\\u56fd\\\\u5305\\\\u90ae\", \"shop_logo\": \"//img30.360buyimg.com/popshop/jfs/t2398/53/1223647493/6551/e9e97104/568c8bbdN73133364.jpg\", \"shop_type\": 11, \"vender_id\": 185259, \"vender_type\": 0, \"cid1\": 9987, \"business_category\": \"\\\\u624b\\\\u673a\\\\u901a\\\\u8baf \\\\u624b\\\\u673a\\\\u914d\\\\u4ef6 \\\\u521b\\\\u610f\\\\u914d\\\\u4ef6 \\\\u624b\\\\u673a\", \"main_brand\": \"\\\\u6469\\\\u6258\\\\u7f57\\\\u62c9\\\\uff08Motorola\\\\uff09 \\\\u9177\\\\u6d3e\\\\uff08Coolpad\\\\uff09 SHARP HALOVE \\\\u8bfa\\\\u57fa\\\\u4e9a\\\\uff08NOKIA\\\\uff09 \\\\u4e09\\\\u661f\\\\uff08SAMSUNG\\\\uff09 360 \\\\u9524\\\\u5b50\\\\uff08smartisan\\\\uff09 \\\\u5c0f\\\\u8fa3\\\\u6912 \\\\u9b45\\\\u65cf\\\\uff08MEIZU\\\\uff09 \\\\u5168\\\\u666e\\\\uff08QUALPER\\\\uff09 HTC HUAWEI \\\\u9752\\\\u6a59\\\\uff08GreenOrange\\\\uff09 \\\\u7f8e\\\\u56fe\\\\uff08meitu\\\\uff09 \\\\u8054\\\\u60f3\\\\uff08Lenovo\\\\uff09 Apple \\\\u6735\\\\u552f\\\\uff08DOOV\\\\uff09 \\\\u98de\\\\u5229\\\\u6d66\\\\uff08PHILIPS\\\\uff09 \\\\u4e50\\\\u89c6\\\\uff08Letv\\\\uff09 MEIZU \\\\u52aa\\\\u6bd4\\\\u4e9a\\\\uff08nubia\\\\uff09 \\\\u4e2d\\\\u5174\\\\uff08ZTE\\\\uff09 \\\\u5c0f\\\\u7c73\\\\uff08MI\\\\uff09 \\\\u534e\\\\u4e3a\\\\uff08HUAWEI\\\\uff09\", \"vender_total_score\": 955, \"vender_ware_score\": 954, \"vender_service_score\": 953, \"vender_effective_score\": 949, \"pic_url\": \"\", \"summary\": \"\", \"shop_score\": 454, \"txt_weight\": 0, \"weight\": 0, \"icon\": 0, \"industry_service_score\": 954, \"industry_effective_score\": 954, \"industry_total_score\": 954}, {\"shop_id\": 178637, \"shop_name\": \"\\\\u7231\\\\u4f18\\\\u521b\\\\u6770\\\\u624b\\\\u673a\\\\u4e13\\\\u8425\\\\u5e97\", \"shop_brief\": \"\\\\u7231\\\\u4f18\\\\u521b\\\\u6770\\\\u53ea\\\\u552e\\\\u6b63\\\\u54c1\\\\u884c\\\\u8d27\\\\uff0c\\\\u652f\\\\u6301\\\\u5b98\\\\u65b9\\\\u6e20\\\\u9053\\\\u9a8c\\\\u8d27\", \"shop_logo\": \"//img30.360buyimg.com/popshop/jfs/t2698/194/3092681397/27508/b500a705/577e2256Na4f7dee1.jpg\", \"shop_type\": 24, \"vender_id\": 185329, \"vender_type\": 0, \"cid1\": 9987, \"business_category\": \"\\\\u624b\\\\u673a\\\\u901a\\\\u8baf \\\\u624b\\\\u673a\\\\u914d\\\\u4ef6 \\\\u521b\\\\u610f\\\\u914d\\\\u4ef6 \\\\u624b\\\\u673a\", \"main_brand\": \"\\\\u9177\\\\u6d3e\\\\uff08Coolpad\\\\uff09 HALOVE \\\\u8bfa\\\\u57fa\\\\u4e9a\\\\uff08NOKIA\\\\uff09 \\\\u4e09\\\\u661f\\\\uff08SAMSUNG\\\\uff09 ivvi 360 \\\\u9524\\\\u5b50\\\\uff08smartisan\\\\uff09 SUGAR ZUK \\\\u5168\\\\u666e\\\\uff08QUALPER\\\\uff09 \\\\u5947\\\\u9177\\\\uff08qiku\\\\uff09 \\\\u9b45\\\\u65cf\\\\uff08MEIZU\\\\uff09 \\\\u5c0f\\\\u8fa3\\\\u6912 HTC \\\\u7ea2\\\\u6d3e\\\\uff08REDPI\\\\uff09 \\\\u7f8e\\\\u56fe\\\\uff08meitu\\\\uff09 \\\\u8054\\\\u60f3\\\\uff08Lenovo\\\\uff09 \\\\u82f9\\\\u679c\\\\uff08Apple\\\\uff09 Apple huawei \\\\u98de\\\\u5229\\\\u6d66\\\\uff08PHILIPS\\\\uff09 \\\\u4e50\\\\u89c6\\\\uff08Letv\\\\uff09 APPLE MOTOROLA \\\\u91d1\\\\u7acb\\\\uff08Gionee\\\\uff09 \\\\u52aa\\\\u6bd4\\\\u4e9a\\\\uff08nubia\\\\uff09 \\\\u4e2d\\\\u5174\\\\uff08ZTE\\\\uff09 \\\\u5c0f\\\\u7c73\\\\uff08MI\\\\uff09 \\\\u534e\\\\u4e3a\\\\uff08HUAWEI\\\\uff09\", \"vender_total_score\": 945, \"vender_ware_score\": 948, \"vender_service_score\": 942, \"vender_effective_score\": 935, \"pic_url\": \"\", \"summary\": \"\", \"shop_score\": 380, \"txt_weight\": 0, \"weight\": 0, \"icon\": 0, \"industry_service_score\": 954, \"industry_effective_score\": 954, \"industry_total_score\": 954}, {\"shop_id\": 113406, \"shop_name\": \"\\\\u4f73\\\\u6caa\\\\u6570\\\\u7801\\\\u624b\\\\u673a\\\\u65d7\\\\u8230\\\\u5e97\", \"shop_brief\": \"\\\\u5b98\\\\u65b9\\\\u6b63\\\\u54c1\\\\u4e28\\\\u8d27\\\\u7968\\\\u540c\\\\u884c\\\\u4e28\\\\u5feb\\\\u901f\\\\u7269\\\\u6d41\\\\u4e28\\\\u65e0\\\\u5fe7\\\\u552e\\\\u540e\", \"shop_logo\": \"//img30.360buyimg.com/popshop/jfs/t2647/93/2701310852/18005/dc6d3a0f/57720ee7N7facae60.jpg\", \"shop_type\": 11, \"vender_id\": 116240, \"vender_type\": 0, \"cid1\": 9987, \"business_category\": \"\\\\u624b\\\\u673a\\\\u901a\\\\u8baf \\\\u5bf9\\\\u8bb2\\\\u673a \\\\u624b\\\\u673a\\\\u914d\\\\u4ef6 \\\\u521b\\\\u610f\\\\u914d\\\\u4ef6 \\\\u7279\\\\u6b8a\\\\u5546\\\\u54c1 \\\\u624b\\\\u673a\", \"main_brand\": \"\\\\u9177\\\\u6d3e\\\\uff08Coolpad\\\\uff09 \\\\u4f20\\\\u5947\\\\uff08SAGA\\\\uff09 HALOVE \\\\u534e\\\\u661f \\\\u4e09\\\\u661f\\\\uff08SAMSUNG\\\\uff09 TCL 360\\\\uff08S\\\\uff09 PPTV ZUK \\\\u5c0f\\\\u8fa3\\\\u6912 \\\\u5168\\\\u666e\\\\uff08QUALPER\\\\uff09 HTC \\\\u9752\\\\u6a59\\\\uff08GreenOrange\\\\uff09 \\\\u6c83\\\\u666e\\\\u4e30\\\\uff08well phone\\\\uff09 \\\\u7f8e\\\\u56fe\\\\uff08meitu\\\\uff09 \\\\u9752\\\\u6a59\\\\uff08VOGA\\\\uff09 \\\\u6d1b\\\\u514b\\\\uff08ROCK\\\\uff09 Apple \\\\u4f9d\\\\u89c6\\\\u8def \\\\u6735\\\\u552f\\\\uff08DOOV\\\\uff09 \\\\u98de\\\\u5229\\\\u6d66\\\\uff08PHILIPS\\\\uff09 \\\\u4e50\\\\u89c6\\\\uff08Letv\\\\uff09 \\\\u4f20\\\\u5947\\\\u6570\\\\u7801\\\\uff08SAGA\\\\uff09 \\\\u6d77\\\\u4fe1\\\\uff08Hisense\\\\uff09 \\\\u5929\\\\u8bed\\\\uff08K-TOUCH\\\\uff09 InFocus NOKIA BROR \\\\u534e\\\\u7855\\\\uff08ASUS\\\\uff09 \\\\u7ebd\\\\u66fc\\\\uff08Newman\\\\uff09 \\\\u8bfa\\\\u57fa\\\\u4e9a\\\\uff08NOKIA\\\\uff09 Guoguo 360 \\\\u74e6\\\\u6208\\\\uff08ivargo\\\\uff09 \\\\u9524\\\\u5b50\\\\uff08smartisa...\", \"vender_total_score\": 946, \"vender_ware_score\": 946, \"vender_service_score\": 946, \"vender_effective_score\": 943, \"pic_url\": \"http://img11.360buyimg.com/cms/jfs/t1591/100/323975409/54578/90c2a5f3/557551dbN31b65823.jpg\", \"summary\": \"\\\\u5b98\\\\u65b9\\\\u6b63\\\\u54c1\\\\u4fdd\\\\u969c\\\\uff0c\\\\u8d27\\\\u7968\\\\u540c\\\\u884c\\\\u65e0\\\\u5fe7\\\\u3002\", \"shop_score\": 493, \"txt_weight\": 0, \"weight\": 0, \"icon\": 0, \"industry_service_score\": 954, \"industry_effective_score\": 954, \"industry_total_score\": 954}, {\"shop_id\": 121932, \"shop_name\": \"\\\\u4e2d\\\\u6052\\\\u56fd\\\\u4fe1\\\\u624b\\\\u673a\\\\u65d7\\\\u8230\\\\u5e97\", \"shop_brief\": \"\\\\u6b63\\\\u54c1\\\\u4fdd\\\\u969c\\\\u00b7\\\\u5168\\\\u56fd\\\\u8054\\\\u4fdd\\\\u00b7\\\\u6b63\\\\u89c4\\\\u53d1\\\\u7968\", \"shop_logo\": \"//img30.360buyimg.com/popshop/jfs/t1318/350/294942422/25722/388560eb/55643fbeNe66190a6.jpg\", \"shop_type\": 11, \"vender_id\": 124424, \"vender_type\": 0, \"cid1\": 9987, \"business_category\": \"\\\\u5145\\\\u7535\\\\u5668/\\\\u6570\\\\u636e\\\\u7ebf \\\\u5145\\\\u7535\\\\u5668 \\\\u8f66\\\\u8f7d\\\\u914d\\\\u4ef6 \\\\u62cd\\\\u7167\\\\u914d\\\\u4ef6 \\\\u624b\\\\u673a\\\\u901a\\\\u8baf \\\\u624b\\\\u673a\\\\u914d\\\\u4ef6 \\\\u624b\\\\u673a\\\\u4fdd\\\\u62a4\\\\u5957 \\\\u82f9\\\\u679c\\\\u5468\\\\u8fb9 \\\\u624b\\\\u673a\\\\u9970\\\\u54c1 \\\\u84dd\\\\u7259\\\\u8033\\\\u673a \\\\u4fbf\\\\u643a/\\\\u65e0\\\\u7ebf\\\\u97f3\\\\u54cd \\\\u624b\\\\u673a\\\\u5b58\\\\u50a8\\\\u5361 \\\\u624b\\\\u673a\\\\u8033\\\\u673a \\\\u521b\\\\u610f\\\\u914d\\\\u4ef6 \\\\u6570\\\\u636e\\\\u7ebf \\\\u7535\\\\u6c60/\\\\u79fb\\\\u52a8\\\\u7535\\\\u6e90 \\\\u624b\\\\u673a\\\\u7535\\\\u6c60 iPhone \\\\u914d\\\\u4ef6 \\\\u624b\\\\u673a\\\\u652f\\\\u67b6 \\\\u7279\\\\u6b8a\\\\u5546\\\\u54c1 \\\\u624b\\\\u673a \\\\u79fb\\\\u52a8\\\\u7535\\\\u6e90 \\\\u624b\\\\u673a\\\\u8d34\\\\u819c\", \"main_brand\": \"UBTEL \\\\u521b\\\\u5ba2\\\\uff08CKCOM\\\\uff09 \\\\u590f\\\\u666e\\\\uff08SHARP\\\\uff09 \\\\u9177\\\\u6d3e\\\\uff08Coolpad\\\\uff09 HALOVE \\\\u5bcc\\\\u53ef\\\\u89c6\\\\uff08InFocus\\\\uff09 \\\\u4e09\\\\u661f\\\\uff08SAMSUNG\\\\uff09 uimi TCL ZUK \\\\u5168\\\\u666e\\\\uff08QUALPER\\\\uff09 \\\\u5c0f\\\\u8fa3\\\\u6912 HTC \\\\u7d22\\\\u5c3c \\\\u7f8e\\\\u56fe\\\\uff08meitu\\\\uff09 \\\\u8a79\\\\u59c6\\\\u58eb\\\\uff08GEMRY\\\\uff09 \\\\u6b27\\\\u73c0\\\\uff08OPPO\\\\uff09 \\\\u82f9\\\\u679c/Apple Apple \\\\u6735\\\\u552f\\\\uff08DOOV\\\\uff09 \\\\u98de\\\\u5229\\\\u6d66\\\\uff08PHILIPS\\\\uff09 Microsoft \\\\u4e50\\\\u89c6\\\\uff08Letv\\\\uff09 \\\\u7ef4\\\\u56fe\\\\u4f20\\\\u627f \\\\u6d77\\\\u4fe1\\\\uff08Hisense\\\\uff09 \\\\u91d1\\\\u7acb\\\\uff08Gionee\\\\uff09 InFocus \\\\u6469\\\\u6258\\\\u7f57\\\\u62c9\\\\uff08Motorola\\\\uff09 \\\\u534e\\\\u7855\\\\uff08ASUS\\\\uff09 \\\\u8bfa\\\\u57fa\\\\u4e9a\\\\uff08NOKIA\\\\uff09 \\\\u7ebd\\\\u66fc\\\\uff08Newman\\\\uff09 Letv 360 \\\\u9524\\\\u5b50\\\\uff08smartisan\\\\uff09 VETAS ...\", \"vender_total_score\": 942, \"vender_ware_score\": 945, \"vender_service_score\": 942, \"vender_effective_score\": 935, \"pic_url\": \"http://img11.360buyimg.com/cms/jfs/t1702/54/11256163/48878/d5d73df8/5565333fNfe7f9f64.jpg\", \"summary\": \"\\\\u4e2d\\\\u6052\\\\u56fd\\\\u4fe1\\\\u624b\\\\u673a\\\\u65d7\\\\u8230\\\\u5e97\", \"shop_score\": 448, \"txt_weight\": 0, \"weight\": 0, \"icon\": 0, \"industry_service_score\": 954, \"industry_effective_score\": 954, \"industry_total_score\": 954}, {\"shop_id\": 182802, \"shop_name\": \"\\\\u4f17\\\\u76db\\\\u624b\\\\u673a\\\\u4e13\\\\u8425\\\\u5e97\", \"shop_brief\": \"\\\\u8bda\\\\u4fe1\\\\uff0c\\\\u52a1\\\\u5b9e\\\\uff0c\\\\u4ee5\\\\u987e\\\\u5ba2\\\\u4e3a\\\\u672c\\\\uff0c\\\\u670d\\\\u52a1\\\\u9020\\\\u5c31\\\\u672a\\\\u6765\\\\u3002\", \"shop_logo\": \"//img30.360buyimg.com/popshop/jfs/t4060/74/872778219/28403/639a68f4/5860dc2eNbd1b5bec.jpg\", \"shop_type\": 24, \"vender_id\": 187278, \"vender_type\": 0, \"cid1\": 9987, \"business_category\": \"\\\\u624b\\\\u673a\\\\u901a\\\\u8baf \\\\u624b\\\\u673a\", \"main_brand\": \"NOKIA \\\\u798f\\\\u4e2d\\\\u798f\\\\uff08F-FOOK\\\\uff09 \\\\u7231\\\\u6765\\\\u798f\\\\uff08ailyfu\\\\uff09 \\\\u9177\\\\u6d3e\\\\uff08Coolpad\\\\uff09 \\\\u8bfa\\\\u57fa\\\\u4e9a\\\\uff08NOKIA\\\\uff09 \\\\u7ebd\\\\u66fc\\\\uff08Newman\\\\uff09 \\\\u4e1c\\\\u4fe1 360 \\\\u950b\\\\u8fbe\\\\u901a\\\\uff08Fadar\\\\uff09 \\\\u5c0f\\\\u7c73 TCL \\\\u4f18\\\\u601d\\\\uff08Uniscope\\\\uff09 \\\\u6d77\\\\u5c14\\\\uff08Haier\\\\uff09 \\\\u9b45\\\\u65cf\\\\uff08MEIZU\\\\uff09 \\\\u5c0f\\\\u8fa3\\\\u6912 \\\\u4e50\\\\u4e30\\\\uff08lephone\\\\uff09 \\\\u4eac\\\\u7acb\\\\uff08Gineek\\\\uff09 \\\\u5929\\\\u8bed\\\\uff08K-Touch\\\\uff09 \\\\u7f8e\\\\u56fe\\\\uff08meitu\\\\uff09 \\\\u8054\\\\u60f3\\\\uff08Lenovo\\\\uff09 PHILIPS XPELL \\\\u7ebd\\\\u66fc \\\\u6735\\\\u552f\\\\uff08DOOV\\\\uff09 \\\\u98de\\\\u5229\\\\u6d66\\\\uff08PHILIPS\\\\uff09 \\\\u4e50\\\\u89c6\\\\uff08Letv\\\\uff09 21KE \\\\u6d77\\\\u4fe1\\\\uff08Hisense\\\\uff09 \\\\u5927\\\\u663e\\\\uff08DaXian\\\\uff09 \\\\u52aa\\\\u6bd4\\\\u4e9a\\\\uff08nubia\\\\uff09 SAGA \\\\u5eb7\\\\u4f73\\\\uff08KONKA\\\\uff09 \\\\u5c0f\\\\u7c73\\\\uff08MI\\\\uff09 \\\\u6bd4...\", \"vender_total_score\": 962, \"vender_ware_score\": 957, \"vender_service_score\": 957, \"vender_effective_score\": 966, \"pic_url\": \"\", \"summary\": \"\", \"shop_score\": 393, \"txt_weight\": 0, \"weight\": 0, \"icon\": 0, \"industry_service_score\": 954, \"industry_effective_score\": 954, \"industry_total_score\": 954}, {\"shop_id\": 197290, \"shop_name\": \"\\\\u73af\\\\u7403\\\\u540d\\\\u54c1\\\\u6d77\\\\u5916\\\\u4e13\\\\u8425\\\\u5e97\", \"shop_brief\": \"\\\\u9999\\\\u6e2f\\\\u5009\\\\u5132\\\\uff0c\\\\u5883\\\\u5916\\\\u76f4\\\\u90f5\\\\uff0c\\\\u8aa0\\\\u4fe1\\\\u7d93\\\\u71df\\\\uff0c\\\\u6b63\\\\u54c1\\\\u4fdd\\\\u8b49\", \"shop_logo\": \"//img30.360buyimg.com/popshop/jfs/t2134/35/2703874254/24980/24b70a14/56e8d2abN759e8fe7.jpg\", \"shop_type\": 24, \"vender_id\": 206245, \"vender_type\": 0, \"cid1\": 9987, \"business_category\": \"\\\\u7535\\\\u8bdd\\\\u673a \\\\u71c3\\\\u6c14\\\\u70ed\\\\u6c34\\\\u5668 \\\\u9879\\\\u94fe/\\\\u540a\\\\u5760 \\\\u9f99\\\\u5934 \\\\u624b\\\\u67c4/\\\\u65b9\\\\u5411\\\\u76d8 \\\\u5988\\\\u54aa\\\\u5305 \\\\u94c2\\\\u91d1 \\\\u793c\\\\u54c1\\\\u7bb1\\\\u5305 \\\\u5e94\\\\u6025\\\\u6551\\\\u63f4 \\\\u8840\\\\u7cd6\\\\u4eea \\\\u6696\\\\u5976\\\\u6d88\\\\u6bd2 \\\\u5507\\\\u90e8 \\\\u8f6e\\\\u6ed1\\\\u6ed1\\\\u677f \\\\u996e\\\\u6c34\\\\u673a \\\\u516c\\\\u8def\\\\u8f66 \\\\u6e38\\\\u620f\\\\u673a \\\\u5176\\\\u4ed6\\\\u914d\\\\u4ef6 \\\\u6444\\\\u5f71\\\\u914d\\\\u4ef6 \\\\u536b\\\\u751f\\\\u5dfe \\\\u50a8\\\\u7269\\\\u7bb1 \\\\u9ec4\\\\u91d1\\\\u8033\\\\u9970 \\\\u5496\\\\u5561\\\\u673a \\\\u5b89\\\\u5168\\\\u9884\\\\u8b66\\\\u4eea \\\\u9879\\\\u94fe \\\\u548c\\\\u9762\\\\u673a \\\\u6570\\\\u7801\\\\u76f8\\\\u673a \\\\u95e8\\\\u94c3 \\\\u9ec4\\\\u91d1\\\\u9879\\\\u94fe \\\\u718f\\\\u9999 \\\\u9006\\\\u53d8\\\\u5668 MP3/MP4\\\\u914d\\\\u4ef6 \\\\u6570\\\\u636e\\\\u7ebf \\\\u7259\\\\u5237/\\\\u7259\\\\u7ebf \\\\u5176\\\\u5b83\\\\u62a4\\\\u7406\\\\u7535\\\\u5668 U\\\\u76d8 \\\\u5176\\\\u5b83\\\\u53a8\\\\u623f\\\\u7535\\\\u5668 \\\\u7b14\\\\u8bb0\\\\u672c\\\\u914d\\\\u4ef6 \\\\u5ef6\\\\u4fdd\\\\u670d\\\\u52a1 \\\\u5ea7\\\\u5957 \\\\u955c\\\\u5934 \\\\u7cd6\\\\u679c/\\\\u5de7\\\\u514b\\\\u529b \\\\u955c\\\\u5934\\\\u9644\\\\u4ef6 \\\\u7b14\\\\u8bb0\\\\u672c \\\\u6e38\\\\u620f\\\\u8bbe\\\\u5907 \\\\u6d17\\\\u8f66\\\\u6c34\\\\u67aa \\\\u9f20\\\\u6807 \\\\u5c0f\\\\u53f6\\\\u7d2b\\\\u6a80 \\\\u88c5\\\\u9970\\\\u706f \\\\u6b27\\\\u7f8e\\\\u8868 ...\", \"main_brand\": \"\\\\u590f\\\\u666e\\\\uff08SHARP\\\\uff09 \\\\u5927\\\\u7586\\\\uff08DJI\\\\uff09 PRGR \\\\u8d1d\\\\u5370\\\\uff08KAI\\\\uff09 Kindle \\\\u827e\\\\u7f57\\\\u4f2f\\\\u7279\\\\uff08iRobot\\\\uff09 \\\\u6377\\\\u6ce2\\\\u6717\\\\uff08Jabra\\\\uff09 \\\\u4f50\\\\u85e4\\\\u5236\\\\u836f\\\\uff08sato\\\\uff09 Kiss me \\\\u6c60\\\\u7530\\\\u6a21\\\\u8303\\\\u5802\\\\uff08MUHI\\\\uff09 \\\\u4e09\\\\u661f\\\\uff08SAMSUNG\\\\uff09 \\\\u6811\\\\u4e4b\\\\u60e0\\\\uff08kinomegumi\\\\uff09 \\\\u5c0f\\\\u7c73 \\\\u535a\\\\u6717\\\\uff08Braun\\\\uff09 \\\\u4e50\\\\u89c6TV\\\\uff08Letv\\\\uff09 titleist \\\\u9ad8\\\\u4e1d\\\\uff08kose\\\\uff09 \\\\u7d22\\\\u5c3c \\\\u8a79\\\\u59c6\\\\u58eb\\\\uff08GEMRY\\\\uff09 \\\\u54c8\\\\u66fc\\\\u5361\\\\u987f\\\\uff08Harman/Kardon\\\\uff09 \\\\u7f8e\\\\u56fe\\\\uff08meitu\\\\uff09 \\\\u96f7\\\\u67cf Apple \\\\u8d1d\\\\u4eb2 \\\\u98de\\\\u5229\\\\u6d66\\\\uff08PHILIPS\\\\uff09 \\\\u5916\\\\u661f\\\\u4eba\\\\uff08Alienware\\\\uff09 \\\\u4f51\\\\u5929\\\\u5170\\\\uff08utena\\\\uff09 \\\\u970d\\\\u5c3c\\\\u97e6\\\\u5c14\\\\uff08Honeywell\\\\uff09 \\\\u548c\\\\u5149\\\\u5802\\\\uff08Wakodo\\\\uff09 GoPr...\", \"vender_total_score\": 958, \"vender_ware_score\": 969, \"vender_service_score\": 967, \"vender_effective_score\": 954, \"pic_url\": \"\", \"summary\": \"\", \"shop_score\": 272, \"txt_weight\": 0, \"weight\": 0, \"icon\": 0, \"industry_service_score\": 954, \"industry_effective_score\": 954, \"industry_total_score\": 954}, {\"shop_id\": 595861, \"shop_name\": \"\\\\u57f9\\\\u65b0\\\\u6570\\\\u7801\\\\u624b\\\\u673a\\\\u4e13\\\\u8425\\\\u5e97\", \"shop_brief\": \"\\\\u5168\\\\u65b0\\\\u56fd\\\\u884c\\\\uff01\\\\u5168\\\\u56fd\\\\u8054\\\\u4fdd\\\\uff01\", \"shop_logo\": \"//img30.360buyimg.com/popshop/jfs/t3133/333/1913448024/12017/d06eb191/57d7b49fNab0eed74.jpg\", \"shop_type\": 24, \"vender_id\": 602142, \"vender_type\": 0, \"cid1\": 9987, \"business_category\": \"\\\\u624b\\\\u673a\\\\u901a\\\\u8baf \\\\u624b\\\\u673a\\\\u914d\\\\u4ef6 \\\\u521b\\\\u610f\\\\u914d\\\\u4ef6 \\\\u624b\\\\u673a\", \"main_brand\": \"\\\\u7f8e\\\\u56fe\\\\uff08meitu\\\\uff09 \\\\u957f\\\\u8679\\\\uff08CHANGHONG\\\\uff09 \\\\u7231\\\\u6765\\\\u798f\\\\uff08ailyfu\\\\uff09 \\\\u9177\\\\u6d3e\\\\uff08Coolpad\\\\uff09 \\\\u8054\\\\u60f3\\\\uff08Lenovo\\\\uff09 HALOVE Apple \\\\u7ebd\\\\u66fc\\\\uff08Newman\\\\uff09 \\\\u4e09\\\\u661f\\\\uff08SAMSUNG\\\\uff09 \\\\u6ce2\\\\u5bfc\\\\uff08BiRD\\\\uff09 360 \\\\u4e50\\\\u89c6\\\\uff08Letv\\\\uff09 CAPPU \\\\u52aa\\\\u6bd4\\\\u4e9a\\\\uff08nubia\\\\uff09 \\\\u96c6\\\\u6021\\\\u5609\\\\uff08Gigaset\\\\uff09 \\\\u4e2d\\\\u5174\\\\uff08ZTE\\\\uff09 \\\\u5c0f\\\\u7c73\\\\uff08MI\\\\uff09 \\\\u5929\\\\u8bed\\\\uff08K-TOUCH\\\\uff09 \\\\u534e\\\\u4e3a\\\\uff08HUAWEI\\\\uff09 \\\\u5168\\\\u666e\\\\uff08QUALPER\\\\uff09 \\\\u5c0f\\\\u8fa3\\\\u6912 \\\\u9b45\\\\u65cf\\\\uff08MEIZU\\\\uff09\", \"vender_total_score\": 942, \"vender_ware_score\": 947, \"vender_service_score\": 940, \"vender_effective_score\": 934, \"pic_url\": \"\", \"summary\": \"\", \"shop_score\": 417, \"txt_weight\": 0, \"weight\": 0, \"icon\": 0, \"industry_service_score\": 954, \"industry_effective_score\": 954, \"industry_total_score\": 954}, {\"shop_id\": 168617, \"shop_name\": \"GIT\\\\u901a\\\\u8baf\\\\u6570\\\\u7801\\\\u65d7\\\\u8230\\\\u5e97\", \"shop_brief\": \"GIT\\\\u5168\\\\u7403\\\\u8d2d\\\\uff0c\\\\u6e2f\\\\u884c\\\\u6b63\\\\u54c1\\\\uff0c\\\\u54c1\\\\u8d28\\\\u4fdd\\\\u969c\\\\u3002\", \"shop_logo\": \"//img30.360buyimg.com/popshop/jfs/t1981/110/1880002681/5027/222b2fe2/56909fb2N0e570820.jpg\", \"shop_type\": 10, \"vender_id\": 174546, \"vender_type\": 0, \"cid1\": 9987, \"business_category\": \"\\\\u7535\\\\u8bdd\\\\u673a \\\\u9664\\\\u6e7f\\\\u673a \\\\u663e\\\\u5361 \\\\u624b\\\\u67c4/\\\\u65b9\\\\u5411\\\\u76d8 \\\\u8def\\\\u7531\\\\u5668 \\\\u793c\\\\u54c1\\\\u7bb1\\\\u5305 \\\\u8840\\\\u7cd6\\\\u4eea \\\\u6696\\\\u5976\\\\u6d88\\\\u6bd2 \\\\u6444\\\\u50cf\\\\u673a \\\\u6e38\\\\u620f\\\\u5468\\\\u8fb9 MP3/MP4 \\\\u996e\\\\u6c34\\\\u673a \\\\u5bb6\\\\u7535\\\\u914d\\\\u4ef6 \\\\u7535\\\\u8111\\\\u5de5\\\\u5177 \\\\u6e38\\\\u620f\\\\u673a \\\\u6444\\\\u5f71\\\\u914d\\\\u4ef6 \\\\u5176\\\\u4ed6\\\\u914d\\\\u4ef6 \\\\u7535\\\\u98ce\\\\u6247 \\\\u62cd\\\\u7167\\\\u914d\\\\u4ef6 \\\\u5496\\\\u5561\\\\u673a \\\\u8272\\\\u5e26 \\\\u6570\\\\u7801\\\\u76f8\\\\u673a \\\\u667a\\\\u80fd\\\\u8bbe\\\\u5907 \\\\u667a\\\\u80fd\\\\u773c\\\\u955c MP3/MP4\\\\u914d\\\\u4ef6 \\\\u540d\\\\u54c1\\\\u8155\\\\u8868 \\\\u5355\\\\u53cd\\\\u914d\\\\u4ef6 \\\\u6570\\\\u636e\\\\u7ebf \\\\u6563\\\\u70ed\\\\u5668 \\\\u5176\\\\u5b83\\\\u62a4\\\\u7406\\\\u7535\\\\u5668 U\\\\u76d8 \\\\u8bfb\\\\u5361\\\\u5668 \\\\u6ee4\\\\u955c \\\\u7b14\\\\u8bb0\\\\u672c\\\\u914d\\\\u4ef6 \\\\u5176\\\\u5b83\\\\u53a8\\\\u623f\\\\u7535\\\\u5668 \\\\u624b\\\\u673a\\\\u8d34\\\\u819c \\\\u5ef6\\\\u4fdd\\\\u670d\\\\u52a1 \\\\u751f\\\\u6d3b\\\\u7535\\\\u5668\\\\u914d\\\\u4ef6 \\\\u7535\\\\u70ed\\\\u996d\\\\u76d2 \\\\u955c\\\\u5934 \\\\u955c\\\\u5934\\\\u9644\\\\u4ef6 \\\\u7b14\\\\u8bb0\\\\u672c SSD\\\\u56fa\\\\u6001\\\\u786c\\\\u76d8 \\\\u6e38\\\\u620f\\\\u8bbe\\\\u5907 \\\\u5ea7\\\\u949f\\\\u6302\\\\u949f \\\\u7535\\\\u7eb8\\\\u4e66 \\\\u9f20\\\\u6807 \\\\u7f51\\\\u5361...\", \"main_brand\": \"\\\\u5b8f\\\\u7881\\\\uff08acer\\\\uff09 \\\\u4e50\\\\u89c6 \\\\u5fae\\\\u661f\\\\uff08MSI\\\\uff09 \\\\u68ee\\\\u6d77\\\\u585e\\\\u5c14\\\\uff08Sennheiser\\\\uff09 \\\\u5361\\\\u897f\\\\u6b27\\\\uff08Casio\\\\uff09 \\\\u96f7\\\\u67cf\\\\uff08Rapoo\\\\uff09 \\\\u957f\\\\u8679\\\\uff08CHANGHONG\\\\uff09 \\\\u6770\\\\u4f1f\\\\u4e16\\\\uff08JVC\\\\uff09 \\\\u96f7\\\\u670b\\\\uff08Ray.Ban\\\\uff09 \\\\u7f57\\\\u6280\\\\uff08Logitech\\\\uff09 dyson \\\\u6c5f\\\\u8bd7\\\\u4e39\\\\u987f\\\\uff08Vacheron Constantin\\\\uff09 \\\\u677e\\\\u4e0b\\\\uff08panasonic\\\\uff09 \\\\u60e0\\\\u666e\\\\uff08HP\\\\uff09 \\\\u4e09\\\\u661f\\\\uff08SAMSUNG\\\\uff09 \\\\u683c\\\\u62c9\\\\u82cf\\\\u8482\\\\uff08Glash\\\\u00fctte Original\\\\uff09 \\\\u5c0f\\\\u7c73 \\\\u79ef\\\\u5bb6\\\\uff08Jaeger\\\\uff09 OPPO B&O ZUK HTC \\\\u672a\\\\u6765\\\\u4eba\\\\u7c7b\\\\uff08Terrans Force\\\\uff09 \\\\u7f8e\\\\u56fe\\\\uff08meitu\\\\uff09 \\\\u54c8\\\\u66fc\\\\u5361\\\\u987f\\\\uff08Harman/Kardon\\\\uff09 \\\\u5929\\\\u68ad\\\\uff08TISSOT\\\\uff09 \\\\u6cd5\\\\u62c9\\\\u5229\\\\uff08Ferrari...\", \"vender_total_score\": 947, \"vender_ware_score\": 952, \"vender_service_score\": 947, \"vender_effective_score\": 948, \"pic_url\": \"\", \"summary\": \"\", \"shop_score\": 338, \"txt_weight\": 0, \"weight\": 0, \"icon\": 0, \"industry_service_score\": 954, \"industry_effective_score\": 954, \"industry_total_score\": 954}, {\"shop_id\": 607243, \"shop_name\": \"\\\\u9ea6\\\\u8003\\\\u5229\\\\u624b\\\\u673a\\\\u4e13\\\\u8425\\\\u5e97\", \"shop_brief\": \"\\\\u5168\\\\u56fd\\\\u8054\\\\u4fdd\\\\u00b7\\\\u6b63\\\\u54c1\\\\u4fdd\\\\u969c\\\\u00b7\\\\u6b63\\\\u89c4\\\\u53d1\\\\u7968\", \"shop_logo\": \"//img30.360buyimg.com/popshop/jfs/t3277/250/4716962464/1242/e1bd3031/5851fc6dNff7f07b5.png\", \"shop_type\": 24, \"vender_id\": 606086, \"vender_type\": 0, \"cid1\": 9987, \"business_category\": \"\\\\u624b\\\\u673a\\\\u901a\\\\u8baf \\\\u624b\\\\u673a\\\\u914d\\\\u4ef6 \\\\u521b\\\\u610f\\\\u914d\\\\u4ef6 \\\\u624b\\\\u673a\", \"main_brand\": \"\\\\u52aa\\\\u6bd4\\\\u4e9a\\\\uff08nubia\\\\uff09 \\\\u82f9\\\\u679c\\\\uff08Apple\\\\uff09 \\\\u5c0f\\\\u7c73\\\\uff08MI\\\\uff09 \\\\u4e2d\\\\u5174\\\\uff08ZTE\\\\uff09 \\\\u5929\\\\u8bed\\\\uff08K-TOUCH\\\\uff09 Apple \\\\u534e\\\\u4e3a\\\\uff08HUAWEI\\\\uff09 \\\\u8bfa\\\\u57fa\\\\u4e9a\\\\uff08NOKIA\\\\uff09 \\\\u9b45\\\\u65cf\\\\uff08MEIZU\\\\uff09 HUAWEI HTC 360\", \"vender_total_score\": 948, \"vender_ware_score\": 956, \"vender_service_score\": 943, \"vender_effective_score\": 937, \"pic_url\": \"\", \"summary\": \"\", \"shop_score\": 379, \"txt_weight\": 0, \"weight\": 0, \"icon\": 0, \"industry_service_score\": 954, \"industry_effective_score\": 954, \"industry_total_score\": 954}]'"
      ]
     },
     "execution_count": 5,
     "metadata": {},
     "output_type": "execute_result"
    }
   ],
   "source": [
    "json.dumps(dic)"
   ]
  },
  {
   "cell_type": "code",
   "execution_count": 6,
   "metadata": {},
   "outputs": [
    {
     "data": {
      "text/html": [
       "<div>\n",
       "<style>\n",
       "    .dataframe thead tr:only-child th {\n",
       "        text-align: right;\n",
       "    }\n",
       "\n",
       "    .dataframe thead th {\n",
       "        text-align: left;\n",
       "    }\n",
       "\n",
       "    .dataframe tbody tr th {\n",
       "        vertical-align: top;\n",
       "    }\n",
       "</style>\n",
       "<table border=\"1\" class=\"dataframe\">\n",
       "  <thead>\n",
       "    <tr style=\"text-align: right;\">\n",
       "      <th></th>\n",
       "      <th>business_category</th>\n",
       "      <th>cid1</th>\n",
       "      <th>icon</th>\n",
       "      <th>industry_effective_score</th>\n",
       "      <th>industry_service_score</th>\n",
       "      <th>industry_total_score</th>\n",
       "      <th>main_brand</th>\n",
       "      <th>pic_url</th>\n",
       "      <th>shop_brief</th>\n",
       "      <th>shop_id</th>\n",
       "      <th>...</th>\n",
       "      <th>shop_type</th>\n",
       "      <th>summary</th>\n",
       "      <th>txt_weight</th>\n",
       "      <th>vender_effective_score</th>\n",
       "      <th>vender_id</th>\n",
       "      <th>vender_service_score</th>\n",
       "      <th>vender_total_score</th>\n",
       "      <th>vender_type</th>\n",
       "      <th>vender_ware_score</th>\n",
       "      <th>weight</th>\n",
       "    </tr>\n",
       "  </thead>\n",
       "  <tbody>\n",
       "    <tr>\n",
       "      <th>0</th>\n",
       "      <td>车载配件 电脑、办公 路由器 手机配件 手机保护套 电脑整机 蓝牙耳机 交换机 手机存储卡 ...</td>\n",
       "      <td>9987</td>\n",
       "      <td>0</td>\n",
       "      <td>963</td>\n",
       "      <td>971</td>\n",
       "      <td>974</td>\n",
       "      <td>华为（HUAWEI）</td>\n",
       "      <td></td>\n",
       "      <td>华为官方旗舰店</td>\n",
       "      <td>1000004259</td>\n",
       "      <td>...</td>\n",
       "      <td>28</td>\n",
       "      <td></td>\n",
       "      <td>0</td>\n",
       "      <td>1000</td>\n",
       "      <td>1000004259</td>\n",
       "      <td>1000</td>\n",
       "      <td>1000</td>\n",
       "      <td>1</td>\n",
       "      <td>1000</td>\n",
       "      <td>0</td>\n",
       "    </tr>\n",
       "    <tr>\n",
       "      <th>1</th>\n",
       "      <td>手机通讯 手机配件 创意配件 手机</td>\n",
       "      <td>9987</td>\n",
       "      <td>0</td>\n",
       "      <td>954</td>\n",
       "      <td>954</td>\n",
       "      <td>954</td>\n",
       "      <td>摩托罗拉（Motorola） 酷派（Coolpad） HALOVE SHARP 纽曼（New...</td>\n",
       "      <td></td>\n",
       "      <td>官方正品；售后无忧；良心经营！</td>\n",
       "      <td>178287</td>\n",
       "      <td>...</td>\n",
       "      <td>11</td>\n",
       "      <td></td>\n",
       "      <td>0</td>\n",
       "      <td>936</td>\n",
       "      <td>174907</td>\n",
       "      <td>943</td>\n",
       "      <td>944</td>\n",
       "      <td>0</td>\n",
       "      <td>948</td>\n",
       "      <td>0</td>\n",
       "    </tr>\n",
       "    <tr>\n",
       "      <th>2</th>\n",
       "      <td>手机通讯 手机配件 创意配件 手机</td>\n",
       "      <td>9987</td>\n",
       "      <td>0</td>\n",
       "      <td>954</td>\n",
       "      <td>954</td>\n",
       "      <td>954</td>\n",
       "      <td>摩托罗拉（Motorola） 酷派（Coolpad） SHARP HALOVE 诺基亚（NO...</td>\n",
       "      <td></td>\n",
       "      <td>正品行货  全国联保 全国包邮</td>\n",
       "      <td>179483</td>\n",
       "      <td>...</td>\n",
       "      <td>11</td>\n",
       "      <td></td>\n",
       "      <td>0</td>\n",
       "      <td>949</td>\n",
       "      <td>185259</td>\n",
       "      <td>953</td>\n",
       "      <td>955</td>\n",
       "      <td>0</td>\n",
       "      <td>954</td>\n",
       "      <td>0</td>\n",
       "    </tr>\n",
       "    <tr>\n",
       "      <th>3</th>\n",
       "      <td>手机通讯 手机配件 创意配件 手机</td>\n",
       "      <td>9987</td>\n",
       "      <td>0</td>\n",
       "      <td>954</td>\n",
       "      <td>954</td>\n",
       "      <td>954</td>\n",
       "      <td>酷派（Coolpad） HALOVE 诺基亚（NOKIA） 三星（SAMSUNG） ivvi...</td>\n",
       "      <td></td>\n",
       "      <td>爱优创杰只售正品行货，支持官方渠道验货</td>\n",
       "      <td>178637</td>\n",
       "      <td>...</td>\n",
       "      <td>24</td>\n",
       "      <td></td>\n",
       "      <td>0</td>\n",
       "      <td>935</td>\n",
       "      <td>185329</td>\n",
       "      <td>942</td>\n",
       "      <td>945</td>\n",
       "      <td>0</td>\n",
       "      <td>948</td>\n",
       "      <td>0</td>\n",
       "    </tr>\n",
       "    <tr>\n",
       "      <th>4</th>\n",
       "      <td>手机通讯 对讲机 手机配件 创意配件 特殊商品 手机</td>\n",
       "      <td>9987</td>\n",
       "      <td>0</td>\n",
       "      <td>954</td>\n",
       "      <td>954</td>\n",
       "      <td>954</td>\n",
       "      <td>酷派（Coolpad） 传奇（SAGA） HALOVE 华星 三星（SAMSUNG） TCL...</td>\n",
       "      <td>http://img11.360buyimg.com/cms/jfs/t1591/100/3...</td>\n",
       "      <td>官方正品丨货票同行丨快速物流丨无忧售后</td>\n",
       "      <td>113406</td>\n",
       "      <td>...</td>\n",
       "      <td>11</td>\n",
       "      <td>官方正品保障，货票同行无忧。</td>\n",
       "      <td>0</td>\n",
       "      <td>943</td>\n",
       "      <td>116240</td>\n",
       "      <td>946</td>\n",
       "      <td>946</td>\n",
       "      <td>0</td>\n",
       "      <td>946</td>\n",
       "      <td>0</td>\n",
       "    </tr>\n",
       "  </tbody>\n",
       "</table>\n",
       "<p>5 rows × 23 columns</p>\n",
       "</div>"
      ],
      "text/plain": [
       "                                   business_category  cid1  icon  \\\n",
       "0  车载配件 电脑、办公 路由器 手机配件 手机保护套 电脑整机 蓝牙耳机 交换机 手机存储卡 ...  9987     0   \n",
       "1                                  手机通讯 手机配件 创意配件 手机  9987     0   \n",
       "2                                  手机通讯 手机配件 创意配件 手机  9987     0   \n",
       "3                                  手机通讯 手机配件 创意配件 手机  9987     0   \n",
       "4                         手机通讯 对讲机 手机配件 创意配件 特殊商品 手机  9987     0   \n",
       "\n",
       "   industry_effective_score  industry_service_score  industry_total_score  \\\n",
       "0                       963                     971                   974   \n",
       "1                       954                     954                   954   \n",
       "2                       954                     954                   954   \n",
       "3                       954                     954                   954   \n",
       "4                       954                     954                   954   \n",
       "\n",
       "                                          main_brand  \\\n",
       "0                                         华为（HUAWEI）   \n",
       "1  摩托罗拉（Motorola） 酷派（Coolpad） HALOVE SHARP 纽曼（New...   \n",
       "2  摩托罗拉（Motorola） 酷派（Coolpad） SHARP HALOVE 诺基亚（NO...   \n",
       "3  酷派（Coolpad） HALOVE 诺基亚（NOKIA） 三星（SAMSUNG） ivvi...   \n",
       "4  酷派（Coolpad） 传奇（SAGA） HALOVE 华星 三星（SAMSUNG） TCL...   \n",
       "\n",
       "                                             pic_url           shop_brief  \\\n",
       "0                                                                 华为官方旗舰店   \n",
       "1                                                         官方正品；售后无忧；良心经营！   \n",
       "2                                                         正品行货  全国联保 全国包邮   \n",
       "3                                                     爱优创杰只售正品行货，支持官方渠道验货   \n",
       "4  http://img11.360buyimg.com/cms/jfs/t1591/100/3...  官方正品丨货票同行丨快速物流丨无忧售后   \n",
       "\n",
       "      shop_id   ...   shop_type         summary  txt_weight  \\\n",
       "0  1000004259   ...          28                           0   \n",
       "1      178287   ...          11                           0   \n",
       "2      179483   ...          11                           0   \n",
       "3      178637   ...          24                           0   \n",
       "4      113406   ...          11  官方正品保障，货票同行无忧。           0   \n",
       "\n",
       "   vender_effective_score   vender_id  vender_service_score  \\\n",
       "0                    1000  1000004259                  1000   \n",
       "1                     936      174907                   943   \n",
       "2                     949      185259                   953   \n",
       "3                     935      185329                   942   \n",
       "4                     943      116240                   946   \n",
       "\n",
       "   vender_total_score  vender_type  vender_ware_score  weight  \n",
       "0                1000            1               1000       0  \n",
       "1                 944            0                948       0  \n",
       "2                 955            0                954       0  \n",
       "3                 945            0                948       0  \n",
       "4                 946            0                946       0  \n",
       "\n",
       "[5 rows x 23 columns]"
      ]
     },
     "execution_count": 6,
     "metadata": {},
     "output_type": "execute_result"
    }
   ],
   "source": [
    "import pandas\n",
    "df = pandas.read_json('Data/jd.json')\n",
    "df.head()"
   ]
  },
  {
   "cell_type": "code",
   "execution_count": 7,
   "metadata": {
    "collapsed": true
   },
   "outputs": [],
   "source": [
    "import xml.etree.ElementTree as ET\n",
    "tree = ET.parse('Data\\weather.xml')"
   ]
  },
  {
   "cell_type": "code",
   "execution_count": 8,
   "metadata": {},
   "outputs": [
    {
     "data": {
      "text/plain": [
       "<Element 'china' at 0x00000188D4932AE8>"
      ]
     },
     "execution_count": 8,
     "metadata": {},
     "output_type": "execute_result"
    }
   ],
   "source": [
    "root = tree.getroot()\n",
    "root"
   ]
  },
  {
   "cell_type": "code",
   "execution_count": null,
   "metadata": {
    "collapsed": true
   },
   "outputs": [],
   "source": []
  },
  {
   "cell_type": "code",
   "execution_count": 9,
   "metadata": {},
   "outputs": [
    {
     "name": "stdout",
     "output_type": "stream",
     "text": [
      "哈尔滨 7\n",
      "长春 9\n",
      "沈阳 8\n",
      "海口 19\n",
      "呼和浩特 7\n",
      "乌鲁木齐 2\n",
      "拉萨 2\n",
      "西宁 0\n",
      "银川 8\n",
      "兰州 7\n",
      "石家庄 12\n",
      "郑州 13\n",
      "武汉 16\n",
      "长沙 18\n",
      "济南 14\n",
      "南京 13\n",
      "合肥 14\n",
      "太原 10\n",
      "西安 11\n",
      "成都 12\n",
      "昆明 11\n",
      "贵阳 14\n",
      "杭州 12\n",
      "福州 12\n",
      "南昌 15\n",
      "广州 16\n",
      "南宁 19\n",
      "北京 12\n",
      "天津 14\n",
      "上海 13\n",
      "重庆 17\n",
      "香港 18\n",
      "澳门 18\n",
      "台北 17\n",
      "西沙 24\n",
      "南沙 25\n",
      "钓鱼岛 18\n"
     ]
    }
   ],
   "source": [
    "for city in root.iter('city'):\n",
    "    print(city.get('cityname'), city.get('tem1'))"
   ]
  },
  {
   "cell_type": "code",
   "execution_count": null,
   "metadata": {
    "collapsed": true
   },
   "outputs": [],
   "source": []
  },
  {
   "cell_type": "code",
   "execution_count": null,
   "metadata": {
    "collapsed": true
   },
   "outputs": [],
   "source": []
  }
 ],
 "metadata": {
  "kernelspec": {
   "display_name": "Python 3",
   "language": "python",
   "name": "python3"
  },
  "language_info": {
   "codemirror_mode": {
    "name": "ipython",
    "version": 3
   },
   "file_extension": ".py",
   "mimetype": "text/x-python",
   "name": "python",
   "nbconvert_exporter": "python",
   "pygments_lexer": "ipython3",
   "version": "3.6.1"
  }
 },
 "nbformat": 4,
 "nbformat_minor": 2
}
